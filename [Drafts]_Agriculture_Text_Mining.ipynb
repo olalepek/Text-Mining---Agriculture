{
  "nbformat": 4,
  "nbformat_minor": 0,
  "metadata": {
    "colab": {
      "provenance": [],
      "authorship_tag": "ABX9TyOqSKjFXtqrWNnwkkDCMP9z",
      "include_colab_link": true
    },
    "kernelspec": {
      "name": "python3",
      "display_name": "Python 3"
    },
    "language_info": {
      "name": "python"
    }
  },
  "cells": [
    {
      "cell_type": "markdown",
      "metadata": {
        "id": "view-in-github",
        "colab_type": "text"
      },
      "source": [
        "<a href=\"https://colab.research.google.com/github/olalepek/Text-Mining---Agriculture/blob/main/%5BDrafts%5D_Agriculture_Text_Mining.ipynb\" target=\"_parent\"><img src=\"https://colab.research.google.com/assets/colab-badge.svg\" alt=\"Open In Colab\"/></a>"
      ]
    },
    {
      "cell_type": "code",
      "execution_count": null,
      "metadata": {
        "id": "5gEEHz2OgS4J"
      },
      "outputs": [],
      "source": []
    },
    {
      "cell_type": "markdown",
      "metadata": {
        "id": "EQ9BuoLF-2Fm"
      },
      "source": [
        "# [DRAFT] Other analysis & redundant code"
      ]
    },
    {
      "cell_type": "markdown",
      "source": [
        "### Identyfing Increase/Decrease patern in abstracts."
      ],
      "metadata": {
        "id": "FFgGKVuiNysw"
      }
    },
    {
      "cell_type": "code",
      "source": [
        "\n",
        "\n",
        "increase_pattern = r\"\\b(?:increase|raise|enhance|boost)\\b\"\n",
        "decrease_pattern = r\"\\b(?:decrease|drop|reduce|lower|diminish)\\b\"\n",
        "\n",
        "def find_matches(text, pattern):\n",
        "    matches = re.findall(pattern, text)\n",
        "    return \"; \".join(matches) if matches else None\n",
        "\n",
        "# Apply the increase and decrease patterns to the 'abstracts' column\n",
        "dataset['Increase_RegEx'] = dataset['lemmatized_text'].apply(lambda x: find_matches(x, increase_pattern))\n",
        "dataset['Decrease_RegEx'] = dataset['lemmatized_text'].apply(lambda x: find_matches(x, decrease_pattern))\n",
        "\n",
        "dataset.head()"
      ],
      "metadata": {
        "colab": {
          "base_uri": "https://localhost:8080/",
          "height": 678
        },
        "id": "86QGCHk-eebA",
        "outputId": "061943b0-a435-4bf6-e637-01c0269369ce"
      },
      "execution_count": null,
      "outputs": [
        {
          "output_type": "execute_result",
          "data": {
            "text/plain": [
              "                                               title  \\\n",
              "0  Differences in Herbicide Adsorption on Soil Us...   \n",
              "1  Agroforestry on alkali soil: effect of plantin...   \n",
              "2  Fertilizer requirement of rice-wheat and maize...   \n",
              "3  Effects of different levels of chemical Nitrog...   \n",
              "4    Correlation of several soil N indices for wheat   \n",
              "\n",
              "                                    alternate_title1  year  \\\n",
              "0  J. Environ. Sci. Health Part B Pestic. Food Co...  1988   \n",
              "1                                    Agroforest Syst  1988   \n",
              "2                                Fertilizer Research  1988   \n",
              "3                                Fertilizer Research  1988   \n",
              "4                      Commun. Soil Sci. Plant Anal.  1988   \n",
              "\n",
              "                                             authors  \\\n",
              "0  ['Clay, S.A.', 'Koskinen, W.C.', 'Allmaras, R....   \n",
              "1       ['Singh, G.', 'Abrol, I.P.', 'Cheema, S.S.']   \n",
              "2  ['Maskina, M.S.', 'Bijay-Singh', 'Yadvinder-Si...   \n",
              "3         ['Singh, A.L.', 'Singh, P.K.', 'Lata, P.']   \n",
              "4  ['Gelderman, R.H.', 'Dahnke, W.C.', 'Swenson, ...   \n",
              "\n",
              "                                            abstract  \\\n",
              "0  Effects of soil pH on weak acid and weak base ...   \n",
              "1  Growth responses of mesquite (Prosopis juliflo...   \n",
              "2  Field experiments with rice-wheat rotation wer...   \n",
              "3  Application of higher levels (60 and 90 kg N h...   \n",
              "4  A study relating N uptake by wheat to several ...   \n",
              "\n",
              "                                            keywords  \\\n",
              "0  ['soil', 'ph', 'adsorption', 'compare', 'solut...   \n",
              "1   ['plant', 'grass', 'soil', 'mesquite', 'gypsum']   \n",
              "2              ['soil', 'rice', 'ha', 'kg', 'yield']   \n",
              "3              ['bga', 'rice', 'azolla', 'kg', 'ha']   \n",
              "4                  ['n', 'r', 'soil', 'year', 'use']   \n",
              "\n",
              "                                     secondary_title  \\\n",
              "0  Journal of Environmental Science and Health, P...   \n",
              "1                               Agroforestry Systems   \n",
              "2                                Fertilizer Research   \n",
              "3                                Fertilizer Research   \n",
              "4  Communications in Soil Science and Plant Analysis   \n",
              "\n",
              "                                               notes type_of_work  \\\n",
              "0     ['Cited By :19', 'Export Date: 30 April 2020']      Article   \n",
              "1  ['Cited By :18', 'Export Date: 30 April 2020',...      Article   \n",
              "2  ['Cited By :24', 'Export Date: 30 April 2020',...      Article   \n",
              "3  ['Cited By :4', 'Export Date: 30 April 2020', ...      Article   \n",
              "4     ['Cited By :11', 'Export Date: 30 April 2020']      Article   \n",
              "\n",
              "                                           processed  \\\n",
              "0  effect soil ph weak acid weak base herbicid ad...   \n",
              "1  growth respons mesquit prosopi juliflora sw dc...   \n",
              "2  field experi rice wheat rotat conduct five con...   \n",
              "3  applic higher level kg n ha nitrogen fertil ur...   \n",
              "4  studi relat n uptak wheat sever n soil test co...   \n",
              "\n",
              "                                     lemmatized_text  \\\n",
              "0  effect of soil ph on weak acid and weak base h...   \n",
              "1  growth response of mesquite ( Prosopis juliflo...   \n",
              "2  field experiment with rice - wheat rotation be...   \n",
              "3  application of high level ( 60 and 90 kg N ha-...   \n",
              "4  a study relate N uptake by wheat to several n ...   \n",
              "\n",
              "                                processed_lemmatized  \\\n",
              "0  effect soil ph weak acid weak base herbicide a...   \n",
              "1  growth response mesquite prosopis juliflora sw...   \n",
              "2  field experiment rice wheat rotation conduct f...   \n",
              "3  application high level kg n ha nitrogen fertil...   \n",
              "4  study relate n uptake wheat several n soil tes...   \n",
              "\n",
              "                          abstract_tokens_lemmatized  dominant_topic  \\\n",
              "0  ['effect', 'soil', 'ph', 'weak', 'acid', 'weak...               7   \n",
              "1  ['growth', 'response', 'mesquite', 'prosopis',...               4   \n",
              "2  ['field', 'experiment', 'rice', 'wheat', 'rota...              12   \n",
              "3  ['application', 'high', 'level', 'kg', 'n', 'h...              12   \n",
              "4  ['study', 'relate', 'n', 'uptake', 'wheat', 's...               6   \n",
              "\n",
              "                                                ents  \\\n",
              "0  [('amendment', 'ORGANIC FERTILISATION'), ('HC1...   \n",
              "1  [('SW', 'GPE'), ('amendment', 'ORGANIC FERTILI...   \n",
              "2  [('five consecutive year', 'DATE'), ('12', 'CA...   \n",
              "3  [('60 and 90 kg', 'QUANTITY'), ('Azolla', 'ORG...   \n",
              "4  [('North and South Dakota', 'GPE'), ('sixty ni...   \n",
              "\n",
              "                               Increase_RegEx              Decrease_RegEx  \n",
              "0  raise; increase; increase; increase; raise  decrease; decrease; reduce  \n",
              "1                                        None            decrease; reduce  \n",
              "2                          increase; increase                      reduce  \n",
              "3                increase; increase; increase                        None  \n",
              "4                                        None                        None  "
            ],
            "text/html": [
              "\n",
              "  <div id=\"df-c8b7e650-60c4-436f-9efe-a4953e3fbbc3\" class=\"colab-df-container\">\n",
              "    <div>\n",
              "<style scoped>\n",
              "    .dataframe tbody tr th:only-of-type {\n",
              "        vertical-align: middle;\n",
              "    }\n",
              "\n",
              "    .dataframe tbody tr th {\n",
              "        vertical-align: top;\n",
              "    }\n",
              "\n",
              "    .dataframe thead th {\n",
              "        text-align: right;\n",
              "    }\n",
              "</style>\n",
              "<table border=\"1\" class=\"dataframe\">\n",
              "  <thead>\n",
              "    <tr style=\"text-align: right;\">\n",
              "      <th></th>\n",
              "      <th>title</th>\n",
              "      <th>alternate_title1</th>\n",
              "      <th>year</th>\n",
              "      <th>authors</th>\n",
              "      <th>abstract</th>\n",
              "      <th>keywords</th>\n",
              "      <th>secondary_title</th>\n",
              "      <th>notes</th>\n",
              "      <th>type_of_work</th>\n",
              "      <th>processed</th>\n",
              "      <th>lemmatized_text</th>\n",
              "      <th>processed_lemmatized</th>\n",
              "      <th>abstract_tokens_lemmatized</th>\n",
              "      <th>dominant_topic</th>\n",
              "      <th>ents</th>\n",
              "      <th>Increase_RegEx</th>\n",
              "      <th>Decrease_RegEx</th>\n",
              "    </tr>\n",
              "  </thead>\n",
              "  <tbody>\n",
              "    <tr>\n",
              "      <th>0</th>\n",
              "      <td>Differences in Herbicide Adsorption on Soil Us...</td>\n",
              "      <td>J. Environ. Sci. Health Part B Pestic. Food Co...</td>\n",
              "      <td>1988</td>\n",
              "      <td>['Clay, S.A.', 'Koskinen, W.C.', 'Allmaras, R....</td>\n",
              "      <td>Effects of soil pH on weak acid and weak base ...</td>\n",
              "      <td>['soil', 'ph', 'adsorption', 'compare', 'solut...</td>\n",
              "      <td>Journal of Environmental Science and Health, P...</td>\n",
              "      <td>['Cited By :19', 'Export Date: 30 April 2020']</td>\n",
              "      <td>Article</td>\n",
              "      <td>effect soil ph weak acid weak base herbicid ad...</td>\n",
              "      <td>effect of soil ph on weak acid and weak base h...</td>\n",
              "      <td>effect soil ph weak acid weak base herbicide a...</td>\n",
              "      <td>['effect', 'soil', 'ph', 'weak', 'acid', 'weak...</td>\n",
              "      <td>7</td>\n",
              "      <td>[('amendment', 'ORGANIC FERTILISATION'), ('HC1...</td>\n",
              "      <td>raise; increase; increase; increase; raise</td>\n",
              "      <td>decrease; decrease; reduce</td>\n",
              "    </tr>\n",
              "    <tr>\n",
              "      <th>1</th>\n",
              "      <td>Agroforestry on alkali soil: effect of plantin...</td>\n",
              "      <td>Agroforest Syst</td>\n",
              "      <td>1988</td>\n",
              "      <td>['Singh, G.', 'Abrol, I.P.', 'Cheema, S.S.']</td>\n",
              "      <td>Growth responses of mesquite (Prosopis juliflo...</td>\n",
              "      <td>['plant', 'grass', 'soil', 'mesquite', 'gypsum']</td>\n",
              "      <td>Agroforestry Systems</td>\n",
              "      <td>['Cited By :18', 'Export Date: 30 April 2020',...</td>\n",
              "      <td>Article</td>\n",
              "      <td>growth respons mesquit prosopi juliflora sw dc...</td>\n",
              "      <td>growth response of mesquite ( Prosopis juliflo...</td>\n",
              "      <td>growth response mesquite prosopis juliflora sw...</td>\n",
              "      <td>['growth', 'response', 'mesquite', 'prosopis',...</td>\n",
              "      <td>4</td>\n",
              "      <td>[('SW', 'GPE'), ('amendment', 'ORGANIC FERTILI...</td>\n",
              "      <td>None</td>\n",
              "      <td>decrease; reduce</td>\n",
              "    </tr>\n",
              "    <tr>\n",
              "      <th>2</th>\n",
              "      <td>Fertilizer requirement of rice-wheat and maize...</td>\n",
              "      <td>Fertilizer Research</td>\n",
              "      <td>1988</td>\n",
              "      <td>['Maskina, M.S.', 'Bijay-Singh', 'Yadvinder-Si...</td>\n",
              "      <td>Field experiments with rice-wheat rotation wer...</td>\n",
              "      <td>['soil', 'rice', 'ha', 'kg', 'yield']</td>\n",
              "      <td>Fertilizer Research</td>\n",
              "      <td>['Cited By :24', 'Export Date: 30 April 2020',...</td>\n",
              "      <td>Article</td>\n",
              "      <td>field experi rice wheat rotat conduct five con...</td>\n",
              "      <td>field experiment with rice - wheat rotation be...</td>\n",
              "      <td>field experiment rice wheat rotation conduct f...</td>\n",
              "      <td>['field', 'experiment', 'rice', 'wheat', 'rota...</td>\n",
              "      <td>12</td>\n",
              "      <td>[('five consecutive year', 'DATE'), ('12', 'CA...</td>\n",
              "      <td>increase; increase</td>\n",
              "      <td>reduce</td>\n",
              "    </tr>\n",
              "    <tr>\n",
              "      <th>3</th>\n",
              "      <td>Effects of different levels of chemical Nitrog...</td>\n",
              "      <td>Fertilizer Research</td>\n",
              "      <td>1988</td>\n",
              "      <td>['Singh, A.L.', 'Singh, P.K.', 'Lata, P.']</td>\n",
              "      <td>Application of higher levels (60 and 90 kg N h...</td>\n",
              "      <td>['bga', 'rice', 'azolla', 'kg', 'ha']</td>\n",
              "      <td>Fertilizer Research</td>\n",
              "      <td>['Cited By :4', 'Export Date: 30 April 2020', ...</td>\n",
              "      <td>Article</td>\n",
              "      <td>applic higher level kg n ha nitrogen fertil ur...</td>\n",
              "      <td>application of high level ( 60 and 90 kg N ha-...</td>\n",
              "      <td>application high level kg n ha nitrogen fertil...</td>\n",
              "      <td>['application', 'high', 'level', 'kg', 'n', 'h...</td>\n",
              "      <td>12</td>\n",
              "      <td>[('60 and 90 kg', 'QUANTITY'), ('Azolla', 'ORG...</td>\n",
              "      <td>increase; increase; increase</td>\n",
              "      <td>None</td>\n",
              "    </tr>\n",
              "    <tr>\n",
              "      <th>4</th>\n",
              "      <td>Correlation of several soil N indices for wheat</td>\n",
              "      <td>Commun. Soil Sci. Plant Anal.</td>\n",
              "      <td>1988</td>\n",
              "      <td>['Gelderman, R.H.', 'Dahnke, W.C.', 'Swenson, ...</td>\n",
              "      <td>A study relating N uptake by wheat to several ...</td>\n",
              "      <td>['n', 'r', 'soil', 'year', 'use']</td>\n",
              "      <td>Communications in Soil Science and Plant Analysis</td>\n",
              "      <td>['Cited By :11', 'Export Date: 30 April 2020']</td>\n",
              "      <td>Article</td>\n",
              "      <td>studi relat n uptak wheat sever n soil test co...</td>\n",
              "      <td>a study relate N uptake by wheat to several n ...</td>\n",
              "      <td>study relate n uptake wheat several n soil tes...</td>\n",
              "      <td>['study', 'relate', 'n', 'uptake', 'wheat', 's...</td>\n",
              "      <td>6</td>\n",
              "      <td>[('North and South Dakota', 'GPE'), ('sixty ni...</td>\n",
              "      <td>None</td>\n",
              "      <td>None</td>\n",
              "    </tr>\n",
              "  </tbody>\n",
              "</table>\n",
              "</div>\n",
              "    <div class=\"colab-df-buttons\">\n",
              "\n",
              "  <div class=\"colab-df-container\">\n",
              "    <button class=\"colab-df-convert\" onclick=\"convertToInteractive('df-c8b7e650-60c4-436f-9efe-a4953e3fbbc3')\"\n",
              "            title=\"Convert this dataframe to an interactive table.\"\n",
              "            style=\"display:none;\">\n",
              "\n",
              "  <svg xmlns=\"http://www.w3.org/2000/svg\" height=\"24px\" viewBox=\"0 -960 960 960\">\n",
              "    <path d=\"M120-120v-720h720v720H120Zm60-500h600v-160H180v160Zm220 220h160v-160H400v160Zm0 220h160v-160H400v160ZM180-400h160v-160H180v160Zm440 0h160v-160H620v160ZM180-180h160v-160H180v160Zm440 0h160v-160H620v160Z\"/>\n",
              "  </svg>\n",
              "    </button>\n",
              "\n",
              "  <style>\n",
              "    .colab-df-container {\n",
              "      display:flex;\n",
              "      gap: 12px;\n",
              "    }\n",
              "\n",
              "    .colab-df-convert {\n",
              "      background-color: #E8F0FE;\n",
              "      border: none;\n",
              "      border-radius: 50%;\n",
              "      cursor: pointer;\n",
              "      display: none;\n",
              "      fill: #1967D2;\n",
              "      height: 32px;\n",
              "      padding: 0 0 0 0;\n",
              "      width: 32px;\n",
              "    }\n",
              "\n",
              "    .colab-df-convert:hover {\n",
              "      background-color: #E2EBFA;\n",
              "      box-shadow: 0px 1px 2px rgba(60, 64, 67, 0.3), 0px 1px 3px 1px rgba(60, 64, 67, 0.15);\n",
              "      fill: #174EA6;\n",
              "    }\n",
              "\n",
              "    .colab-df-buttons div {\n",
              "      margin-bottom: 4px;\n",
              "    }\n",
              "\n",
              "    [theme=dark] .colab-df-convert {\n",
              "      background-color: #3B4455;\n",
              "      fill: #D2E3FC;\n",
              "    }\n",
              "\n",
              "    [theme=dark] .colab-df-convert:hover {\n",
              "      background-color: #434B5C;\n",
              "      box-shadow: 0px 1px 3px 1px rgba(0, 0, 0, 0.15);\n",
              "      filter: drop-shadow(0px 1px 2px rgba(0, 0, 0, 0.3));\n",
              "      fill: #FFFFFF;\n",
              "    }\n",
              "  </style>\n",
              "\n",
              "    <script>\n",
              "      const buttonEl =\n",
              "        document.querySelector('#df-c8b7e650-60c4-436f-9efe-a4953e3fbbc3 button.colab-df-convert');\n",
              "      buttonEl.style.display =\n",
              "        google.colab.kernel.accessAllowed ? 'block' : 'none';\n",
              "\n",
              "      async function convertToInteractive(key) {\n",
              "        const element = document.querySelector('#df-c8b7e650-60c4-436f-9efe-a4953e3fbbc3');\n",
              "        const dataTable =\n",
              "          await google.colab.kernel.invokeFunction('convertToInteractive',\n",
              "                                                    [key], {});\n",
              "        if (!dataTable) return;\n",
              "\n",
              "        const docLinkHtml = 'Like what you see? Visit the ' +\n",
              "          '<a target=\"_blank\" href=https://colab.research.google.com/notebooks/data_table.ipynb>data table notebook</a>'\n",
              "          + ' to learn more about interactive tables.';\n",
              "        element.innerHTML = '';\n",
              "        dataTable['output_type'] = 'display_data';\n",
              "        await google.colab.output.renderOutput(dataTable, element);\n",
              "        const docLink = document.createElement('div');\n",
              "        docLink.innerHTML = docLinkHtml;\n",
              "        element.appendChild(docLink);\n",
              "      }\n",
              "    </script>\n",
              "  </div>\n",
              "\n",
              "\n",
              "<div id=\"df-8ddc33c2-4d3a-4251-a306-3321c5d4c2d2\">\n",
              "  <button class=\"colab-df-quickchart\" onclick=\"quickchart('df-8ddc33c2-4d3a-4251-a306-3321c5d4c2d2')\"\n",
              "            title=\"Suggest charts\"\n",
              "            style=\"display:none;\">\n",
              "\n",
              "<svg xmlns=\"http://www.w3.org/2000/svg\" height=\"24px\"viewBox=\"0 0 24 24\"\n",
              "     width=\"24px\">\n",
              "    <g>\n",
              "        <path d=\"M19 3H5c-1.1 0-2 .9-2 2v14c0 1.1.9 2 2 2h14c1.1 0 2-.9 2-2V5c0-1.1-.9-2-2-2zM9 17H7v-7h2v7zm4 0h-2V7h2v10zm4 0h-2v-4h2v4z\"/>\n",
              "    </g>\n",
              "</svg>\n",
              "  </button>\n",
              "\n",
              "<style>\n",
              "  .colab-df-quickchart {\n",
              "      --bg-color: #E8F0FE;\n",
              "      --fill-color: #1967D2;\n",
              "      --hover-bg-color: #E2EBFA;\n",
              "      --hover-fill-color: #174EA6;\n",
              "      --disabled-fill-color: #AAA;\n",
              "      --disabled-bg-color: #DDD;\n",
              "  }\n",
              "\n",
              "  [theme=dark] .colab-df-quickchart {\n",
              "      --bg-color: #3B4455;\n",
              "      --fill-color: #D2E3FC;\n",
              "      --hover-bg-color: #434B5C;\n",
              "      --hover-fill-color: #FFFFFF;\n",
              "      --disabled-bg-color: #3B4455;\n",
              "      --disabled-fill-color: #666;\n",
              "  }\n",
              "\n",
              "  .colab-df-quickchart {\n",
              "    background-color: var(--bg-color);\n",
              "    border: none;\n",
              "    border-radius: 50%;\n",
              "    cursor: pointer;\n",
              "    display: none;\n",
              "    fill: var(--fill-color);\n",
              "    height: 32px;\n",
              "    padding: 0;\n",
              "    width: 32px;\n",
              "  }\n",
              "\n",
              "  .colab-df-quickchart:hover {\n",
              "    background-color: var(--hover-bg-color);\n",
              "    box-shadow: 0 1px 2px rgba(60, 64, 67, 0.3), 0 1px 3px 1px rgba(60, 64, 67, 0.15);\n",
              "    fill: var(--button-hover-fill-color);\n",
              "  }\n",
              "\n",
              "  .colab-df-quickchart-complete:disabled,\n",
              "  .colab-df-quickchart-complete:disabled:hover {\n",
              "    background-color: var(--disabled-bg-color);\n",
              "    fill: var(--disabled-fill-color);\n",
              "    box-shadow: none;\n",
              "  }\n",
              "\n",
              "  .colab-df-spinner {\n",
              "    border: 2px solid var(--fill-color);\n",
              "    border-color: transparent;\n",
              "    border-bottom-color: var(--fill-color);\n",
              "    animation:\n",
              "      spin 1s steps(1) infinite;\n",
              "  }\n",
              "\n",
              "  @keyframes spin {\n",
              "    0% {\n",
              "      border-color: transparent;\n",
              "      border-bottom-color: var(--fill-color);\n",
              "      border-left-color: var(--fill-color);\n",
              "    }\n",
              "    20% {\n",
              "      border-color: transparent;\n",
              "      border-left-color: var(--fill-color);\n",
              "      border-top-color: var(--fill-color);\n",
              "    }\n",
              "    30% {\n",
              "      border-color: transparent;\n",
              "      border-left-color: var(--fill-color);\n",
              "      border-top-color: var(--fill-color);\n",
              "      border-right-color: var(--fill-color);\n",
              "    }\n",
              "    40% {\n",
              "      border-color: transparent;\n",
              "      border-right-color: var(--fill-color);\n",
              "      border-top-color: var(--fill-color);\n",
              "    }\n",
              "    60% {\n",
              "      border-color: transparent;\n",
              "      border-right-color: var(--fill-color);\n",
              "    }\n",
              "    80% {\n",
              "      border-color: transparent;\n",
              "      border-right-color: var(--fill-color);\n",
              "      border-bottom-color: var(--fill-color);\n",
              "    }\n",
              "    90% {\n",
              "      border-color: transparent;\n",
              "      border-bottom-color: var(--fill-color);\n",
              "    }\n",
              "  }\n",
              "</style>\n",
              "\n",
              "  <script>\n",
              "    async function quickchart(key) {\n",
              "      const quickchartButtonEl =\n",
              "        document.querySelector('#' + key + ' button');\n",
              "      quickchartButtonEl.disabled = true;  // To prevent multiple clicks.\n",
              "      quickchartButtonEl.classList.add('colab-df-spinner');\n",
              "      try {\n",
              "        const charts = await google.colab.kernel.invokeFunction(\n",
              "            'suggestCharts', [key], {});\n",
              "      } catch (error) {\n",
              "        console.error('Error during call to suggestCharts:', error);\n",
              "      }\n",
              "      quickchartButtonEl.classList.remove('colab-df-spinner');\n",
              "      quickchartButtonEl.classList.add('colab-df-quickchart-complete');\n",
              "    }\n",
              "    (() => {\n",
              "      let quickchartButtonEl =\n",
              "        document.querySelector('#df-8ddc33c2-4d3a-4251-a306-3321c5d4c2d2 button');\n",
              "      quickchartButtonEl.style.display =\n",
              "        google.colab.kernel.accessAllowed ? 'block' : 'none';\n",
              "    })();\n",
              "  </script>\n",
              "</div>\n",
              "    </div>\n",
              "  </div>\n"
            ],
            "application/vnd.google.colaboratory.intrinsic+json": {
              "type": "dataframe",
              "variable_name": "dataset",
              "summary": "{\n  \"name\": \"dataset\",\n  \"rows\": 16678,\n  \"fields\": [\n    {\n      \"column\": \"title\",\n      \"properties\": {\n        \"dtype\": \"string\",\n        \"num_unique_values\": 16648,\n        \"samples\": [\n          \"A soil microbial community structural-functional index: The microscopy-based total/active/active fungal/bacterial (TA/AFB) biovolumes ratio\",\n          \"Effect of drying and rewetting on mineralization and distribution of bacterial constituents in soil fractions\",\n          \"Sewage sludge stabilisation and fertiliser value in a silvopastoral system developed with Eucalyptus nitens Maiden in Lugo (Spain)\"\n        ],\n        \"semantic_type\": \"\",\n        \"description\": \"\"\n      }\n    },\n    {\n      \"column\": \"alternate_title1\",\n      \"properties\": {\n        \"dtype\": \"category\",\n        \"num_unique_values\": 1470,\n        \"samples\": [\n          \"WIT Trans. Ecol. Environ.\",\n          \"Sensors\",\n          \"Int. J. Mol. Sci.\"\n        ],\n        \"semantic_type\": \"\",\n        \"description\": \"\"\n      }\n    },\n    {\n      \"column\": \"year\",\n      \"properties\": {\n        \"dtype\": \"number\",\n        \"std\": 7,\n        \"min\": 1967,\n        \"max\": 2020,\n        \"num_unique_values\": 50,\n        \"samples\": [\n          1975,\n          2012,\n          1997\n        ],\n        \"semantic_type\": \"\",\n        \"description\": \"\"\n      }\n    },\n    {\n      \"column\": \"authors\",\n      \"properties\": {\n        \"dtype\": \"string\",\n        \"num_unique_values\": 16040,\n        \"samples\": [\n          \"['Ekwue, E.I.', 'Ohu, J.O.', 'Wakawa, I.H.']\",\n          \"['Garbout, A.', 'Munkholm, L.J.', 'Hansen, S.B.']\",\n          \"['Loss, A.', 'Pereira, M.G.', 'Perin, A.', 'Beutler, S.J.', 'Anjos, L.H.C.']\"\n        ],\n        \"semantic_type\": \"\",\n        \"description\": \"\"\n      }\n    },\n    {\n      \"column\": \"abstract\",\n      \"properties\": {\n        \"dtype\": \"string\",\n        \"num_unique_values\": 16672,\n        \"samples\": [\n          \"In Pakistan, per acre yield of wheat (Triticum aestivum L.) suffers greatly due to low organic matter and immobilized form of nutrients in soils. Various strategies have been adopted by agronomists to cope these issues. In order to investigate the effect of an integrated strategy of application of biochar (Green waste), microbes (Pseudomonas, Agrobacterium, Azospirillum, Enterobacter) and herbicides on the growth and yield of wheat, an experiment was conducted at the farm area of the Islamia University of Bahawalpur, Pakistan during 2012-13. The experiment was laid out in randomized complete block design with split plot arrangements containing three replications. The main plots were with and without the application of herbicide, while subplots carried four treatments viz. microbial inoculation, biochar application, microbial inoculation in combination with biochar, and an untreated control. Maximum grain yield (5.04 t ha-1) and yield components were recorded in herbicide treated plants with the combined application of biochar and microbes, while minimum (2.14 t ha-1) was measured in untreated control where herbicide was not applied. Biological yield and leaf area showed that both biochar and microbes in combination with herbicide application were most effective than all other treatments. It is concluded that biochar and plant growth promoting rhizobacteria (PGPR) along with herbicides was considered to be a best combination that enhanced the productivity of wheat.\",\n          \"The objective of this study was to evaluate plant-available N pools and the role of N management index (NMI) in the surface (0-20 cm) of a fluvo-aquic soil after 18 years of fertilization treatments under a wheat-maize cropping system in the North China Plain. The experiment included seven treatments: (1) NPK, balanced application of chemical fertilizer NPK; (2) OM, application of organic manure; (3) 1/2OMN, application of half organic manure plus chemical fertilizer NPK; (4) NP, application of chemical fertilizer NP; (5) PK, application of chemical fertilizer PK; (6) NK, application of chemical fertilizer NK; and (7) CK, unfertilized control. Total organic N (TON), microbial biomass N (MBN), labile N (LN), inorganic N (ION, including ammonium (NH4+)-N and nitrate (NO3--N) contents, net ammonification rate (NAR), net nitrification rate (NNR), net N mineralization rate (NNMR), and NMI in the fertilized treatments were higher than in the unfertilized treatment. Application of chemical fertilizer N (NPK, NP, and NK) increased ION in soils, compared with application of organic N or control. Nitrate N prevailed over exchangeable NH4+-N in all treatments. Nitrogen storage of the OM- and 1/2OMN-treated soils increased by 50. 0% and 24. 3%, respectively, over the NPK-treated soil, which had 5. 4-22. 5% more N than NP-, PK-, and NK-treated soils. The MBN, LN, and ION accounted for 1. 7-2. 4%, 25. 7-34. 2%, and 1. 4-2. 9% of TON, respectively, in different fertilization treatments. The surface soils (0-20-cm layer) in all treatments mineralized 43. 6-152. 9 kg N ha-1 year-1 for crop growth. Microbial biomass N was probably the better predictor of N mineralization, as it was correlated significantly (P &lt; 0. 01) with NNMR. The OM and 1/2OMN treatments were not an optimal option for farmers when the crop yield and labor cost were taken into consideration but an optimal option for increasing soil N supply capacity and N sequestration in soil. The NPK treatment showed the highest crop yields and increased soil N fractions through crop residues and exudates input, and thus, it may be considered as a sustainable system in the North China Plain. \\u00a9 2011 Springer-Verlag.\",\n          \"Raman spectra of charcoal fragments in cumulative soils in central Japan, where grasslands have been sustained using intentional burning for ~\\u00a01000\\u00a0years, were obtained and compared to those of fresh charcoal fragments after modern grass burning to clarify their disappearance and alteration process in the soils. Although the values of each Raman-spectrum parameter of the soil charcoal and fresh charcoal fragments are partially similar, certain differences indicating their alteration or disappearance were observed. Charcoal fragments with lower graphitization in soils altered chemically with age at decadal to century scale, suggested by changes in distance between defects or defect type of their chemical structures. Charcoal fragments with higher graphitization were found in fresh charcoal samples, whereas very few charcoal fragments were found in both young and old soils, indicating that these charcoal fragments disappeared instantly after they were formed. This fact implies that charcoal fragments with higher graphitization tend to not remain in soils, possibly owing to their physical properties such as fragility, density, and hydrodynamic behavior. Our findings suggest that charcoal's physical properties have a vital influence on charcoal residues in soils, as do charcoal's chemical properties. \\u00a9 2016 The Authors\"\n        ],\n        \"semantic_type\": \"\",\n        \"description\": \"\"\n      }\n    },\n    {\n      \"column\": \"keywords\",\n      \"properties\": {\n        \"dtype\": \"string\",\n        \"num_unique_values\": 16641,\n        \"samples\": [\n          \"['soil', 'np', 'degradation', 'anoxic', 'fate']\",\n          \"['soc', 'nt', 'high', 'pt', 'pasture']\",\n          \"['soil', 'ha', 'om', 'amendment', 'organic']\"\n        ],\n        \"semantic_type\": \"\",\n        \"description\": \"\"\n      }\n    },\n    {\n      \"column\": \"secondary_title\",\n      \"properties\": {\n        \"dtype\": \"category\",\n        \"num_unique_values\": 1414,\n        \"samples\": [\n          \"Mathematical Problems in Engineering\",\n          \"Ozone: Science & Engineering\",\n          \"Japan Agricultural Research Quarterly\"\n        ],\n        \"semantic_type\": \"\",\n        \"description\": \"\"\n      }\n    },\n    {\n      \"column\": \"notes\",\n      \"properties\": {\n        \"dtype\": \"string\",\n        \"num_unique_values\": 16103,\n        \"samples\": [\n          \"['Cited By :12', 'Export Date: 30 April 2020', 'CODEN: PLSOA', 'Correspondence Address: Mbau, S.K.; World Agroforestry Centre (ICRAF), United Nations Avenue, P.O. Box 30677-00100, Kenya']\",\n          \"['Export Date: 30 April 2020', \\\"Correspondence Address: Alletto, L.; UMR 1248 AGIR INRA-INP, Universit\\u00e9 de Toulouse, \\u00c9cole d'Ing\\u00e9nieurs de Purpan, 75 voie du TOEC, 31076 Toulouse cedex 3, France; email: lionel.alletto@purpan.fr\\\"]\",\n          \"['Cited By :15', 'Export Date: 30 April 2020', 'CODEN: CJSSA', 'Correspondence Address: Srinivasarao, C.; Central Research Institute for Dryland Agriculture, Santoshnagar, Saidabad (P.O), Hyderabad, 500 059, Andhra Pradesh, India; email: cherukumalli2011@gmail.com']\"\n        ],\n        \"semantic_type\": \"\",\n        \"description\": \"\"\n      }\n    },\n    {\n      \"column\": \"type_of_work\",\n      \"properties\": {\n        \"dtype\": \"category\",\n        \"num_unique_values\": 4,\n        \"samples\": [\n          \"Conference Paper\",\n          \"Letter\",\n          \"Article\"\n        ],\n        \"semantic_type\": \"\",\n        \"description\": \"\"\n      }\n    },\n    {\n      \"column\": \"processed\",\n      \"properties\": {\n        \"dtype\": \"string\",\n        \"num_unique_values\": 16664,\n        \"samples\": [\n          \"assess biochar potenti cadmium cd contamin soil pot experi conduct sampl typic farmland soil shenyang area north china contamin cadmium due sewag irrig two maiz straw deriv biochar concentr kg hm test result show biochar prepar dri distil carbon technolog oxygen defici condit low temperatur c appropri structur featur physic chemic properti use biochar reduc avail cd ion contamin soil passiv inhibitori effect display variabl time depend respons biochar led soil ph chang rice growth increas follow decreas furthermor biochar significantli improv soil organ matter avail nutrient n p k inde cumul effect time observ importantli biochar significantli reduc cadmium content rice grain averag compar control ck treatment higher biochar concentr effect indic decreas bio avail cadmium result suggest maiz straw deriv biochar effect remedi materi cd contamin soil good applic potenti environ parlar scientif public right reserv\",\n          \"loss soil organ carbon soc agricultur soil key indic soil degrad associ reduct net primari product crop product system worldwid technic simpl local appropri solut requir farmer increas soc improv cropland manag last year straw incorpor si gradual implement across china context agricultur intensif rural livelihood improv meta analysi data publish end undertaken investig effect si crop product soc sequestr result experiment studi throughout china differ edaph condit climat region farm regim analyz compar straw remov sr si significantli sequest soc cm depth rate ci mg c ha yr increas crop grain yield convers effici incorpor straw c across china combin si rate mg c ha yr miner fertil kg nha yr demonstr best farm practic crop yield increas soc sequestr rate mg cha yr si achiev higher soc sequestr rate crop yield increment appli clay soil high crop intens area northeast china soil degrad soc respons highest initi start phase si subsequ declin final becam neglig year howev crop yield respons initi low increas reach highest level year si overal studi confirm si creat posit feedback loop soc enhanc togeth increas crop product great practic import straw manag agricultur intensifi china region differ climat condit author\",\n          \"miner fertil organ amend pesticid input commonli use convent farm practic aim studi evalu effect singl combin applic spent grape marc vermicompost urea diuron soil enzym activ persist herbicid soil low organ carbon content applic vermicompost enhanc dehydrogenas dhase enzym activ time alter soil ureas activ limit extent reduct diuron concentr increas dhase activ indic soil microorgan capabl degrad ureic herbicid treatment vermicompost diuron stimulatori effect soil microbi activ whole applic diuron urea vermicompost amend soil rais dhase ureas activ maximum level gt g intf g h gt g nh g h respect applic urea unamend vermicompost amend soil decreas diuron persist respect find show although vermicompost addit reduc diuron avail boost diuron degrad combin urea addit differ soil manag condit minim bioavail persist diuron consequ risk leach seepag aquif compar untreat soil type treat soil could also improv agricultur sustain qualiti environ elsevi b v right reserv\"\n        ],\n        \"semantic_type\": \"\",\n        \"description\": \"\"\n      }\n    },\n    {\n      \"column\": \"lemmatized_text\",\n      \"properties\": {\n        \"dtype\": \"string\",\n        \"num_unique_values\": 16671,\n        \"samples\": [\n          \"Phosphorus ( p ) k - edge XANES and Fe k - edge exafs spectroscopy along with sequential p chemical fractionation and desorption kinetic experiment , be employ to provide micro- and macro - scale information on the long - term fate of manure application on the solid - state speciation , kinetic and distribution of p in highly weather agricultural soil of southern Brazil . soil test p value range from 7.3 up to 16.5 time as much high than the reference soil . a sharp increase in amorphous Fe and Al amount be observe as an effect of the consecutive application of manure . whereas our result show that the p sorption capacity of some manure soil be not significantly affected , p risk assessment index indicate that p loss should be expect , likely due to the excessive manure rate apply to the soil . the much high content of amorphous Fe and Al ( hydr)oxides ( 55 % and 80 % increase with respect to the reference soil , respectively ) in manure soil seem to have counterbalance the inhibit effect of soil organic matter on p sorption by create additional p sorption site . accordingly , the newly create p sorbing surface be important to prevent an even large p loss potential . Phosphorus k - edge XANES lend complimentary hint on the loss of crystallinity and transformation of originally present fe - p mineral into poorly crystalline one as an effect of manure , whereas Fe k - edge exafs provide insight into the structural change undergo in the soil upon manure application and soil management . \\u00a9 2014 Elsevier Ltd.\",\n          \"competition for soil resource be a drive force in plant community ecology . therefore , amendment that alter soil resource should affect vegetation dynamic and be potential tool for control exotic specie . we test the effect of two type of carbon addition , sugar and activate carbon ( AC ) , on an exotic - dominate grassland plant community . sugar stimulate the microbial community and temporarily reduce plant available nitrogen ( N ) , while AC adsorb plant available N. six experimental plot and three carbon treatment be use : sugar ( 1000 g m-2 ; 42 % c ) , AC ( 420 g m-2 ; 100 % c ) , and control . treatment be apply in a split - plot design in spring 2008 . aboveground biomass , plant cover , specie richness , and plant basal area be track for two grow season . although total biomass be not affect by C addition , the distribution of biomass among life form be affect : carbon addition reduce forb biomass but have no effect on grass or legume . total cover be low in sugar - treat plot , and sugar also alter the proportional composition of that cover by reduce the abundance of forb , especially in the first year . five specie be particularly sensitive to sugar addition : Myosotis discolor , Sonchus asper , Taraxacum officinale , Valerianella locusta , and Vulpia bromoide . sugar also reduce plant basal area in the first year . these result suggest that sugar and , to a less extent , AC could be useful management tool . sugar could be apply to area where herbicide use be undesirable , reduce the abundance of exotic forb and provide a window of opportunity for native specie establishment . \\u00a9 2011 by the Northwest Scientific Association .\",\n          \"Soil carbonate ( sic ) exceed organic carbon ( SOC ) greatly in arid land , thus may be important for carbon sequestration . however , field datum for quantify carbonate accumulation have be lack . this study aim to improve our understanding of sic dynamic and its role in carbon sequestration . we analyze two dataset of SOC and SIC and their 13 C composition , one with over 100 soil sample collect recently from various land use in the Yanqi Basin , Xinjiang , and the other with 18 archive soil sample from a long - term experiment ( LTE ) in Pingliang , Gansu . the datum from the Yanqi Basin show that SOC have a significant relationship with SIC and pedogenic carbonate ( PIC ) ; convert shrub land to cropland increase PIC stock by 5.2 kg C m-2 , which be 3.6 time of that in SOC stock . the datum from the LTE show great accumulation of PIC ( 21 - 49 g C m-2 year-1 ) than SOC ( 10 - 39 g C m-2 year-1 ) over 0 - 20 cm . our study point out that intensive cropping in the arid and semi - arid region lead to an increase in both SOC and PIC . increase SOC through straw organic amendment enhance PIC accumulation in the arid cropland of northwestern China .\"\n        ],\n        \"semantic_type\": \"\",\n        \"description\": \"\"\n      }\n    },\n    {\n      \"column\": \"processed_lemmatized\",\n      \"properties\": {\n        \"dtype\": \"string\",\n        \"num_unique_values\": 16664,\n        \"samples\": [\n          \"assess biochar potential cadmium cd contaminate soil pot experiment conduct sample typical farmland soil shenyang area north china contaminate cadmium due sewage irrigation two maize straw derive biochar concentrations kg hm test result show biochar prepare dry distillation carbonization technology oxygen deficient condition low temperature c appropriate structural feature physical chemical property use biochar reduce available cd ion contaminated soil passivation inhibitory effect display variable time dependent response biochar lead soil ph change rice growth increase follow decrease furthermore biochar significantly improve soil organic matter available nutrients n p k indeed cumulative effect time observe importantly biochar significantly reduce cadmium content rice grain average compare control ck treatment high biochar concentration effective indicate decrease bio availability cadmium result suggest maize straw derive biochar effective remediation material cd contaminate soil good application potential environment parlar scientific publications right reserve\",\n          \"loss soil organic carbon soc agricultural soil key indicator soil degradation associate reduction net primary productivity crop production system worldwide technically simple locally appropriate solution require farmer increase soc improve cropland management last year straw incorporation si gradually implement across china context agricultural intensification rural livelihood improvement meta analysis datum publish end undertake investigate effect si crop production soc sequestration result experimental study throughout china different edaphic condition climate region farming regime analyze compare straw removal sr si significantly sequester soc cm depth rate ci mg c ha yr increase crop grain yield conversion efficiency incorporated straw c across china combined si rate mg c ha yr mineral fertilizer kg nha yr demonstrate good farming practice crop yield increase soc sequestrate rate mg cha yr si achieve high soc sequestration rate crop yield increment apply clay soil high cropping intensity area northeast china soil degrade soc response high initial starting phase si subsequently decline finally become negligible year however crop yield response initially low increase reach high level year si overall study confirm si create positive feedback loop soc enhancement together increase crop production great practical importance straw management agriculture intensifie china region different climate condition author\",\n          \"mineral fertilizer organic amendment pesticide input commonly use conventional farming practice aim study evaluate effect single combine application spend grape marc vermicompost urea diuron soil enzyme activity persistence herbicide soil low organic carbon content application vermicompost enhance dehydrogenase dhase enzyme activity time alter soil urease activity limited extent reduction diuron concentration increase dhase activity indicate soil microorganism capable degrade ureic herbicide treatment vermicompost diuron stimulatory effect soil microbial activity whole application diuron urea vermicompost amend soil raise dhase urease activity maximum level gt g intf g h gt g nh g h respectively application urea unamended vermicompost amend soil decrease diuron persistence respectively finding show although vermicompost addition reduce diuron availability boost diuron degradation combine urea addition different soil management condition minimize bioavailability persistence diuron consequently risk leaching seepage aquifer compare untreated soil type treat soil could also improve agricultural sustainability quality environment elsevi b v right reserve\"\n        ],\n        \"semantic_type\": \"\",\n        \"description\": \"\"\n      }\n    },\n    {\n      \"column\": \"abstract_tokens_lemmatized\",\n      \"properties\": {\n        \"dtype\": \"string\",\n        \"num_unique_values\": 16664,\n        \"samples\": [\n          \"['assess', 'biochar', 'potential', 'cadmium', 'cd', 'contaminate', 'soil', 'pot', 'experiment', 'conduct', 'sample', 'typical', 'farmland', 'soil', 'shenyang', 'area', 'north', 'china', 'contaminate', 'cadmium', 'due', 'sewage', 'irrigation', 'two', 'maize', 'straw', 'derive', 'biochar', 'concentrations', 'kg', 'hm', 'test', 'result', 'show', 'biochar', 'prepare', 'dry', 'distillation', 'carbonization', 'technology', 'oxygen', 'deficient', 'condition', 'low', 'temperature', 'c', 'appropriate', 'structural', 'feature', 'physical', 'chemical', 'property', 'use', 'biochar', 'reduce', 'available', 'cd', 'ion', 'contaminated', 'soil', 'passivation', 'inhibitory', 'effect', 'display', 'variable', 'time', 'dependent', 'response', 'biochar', 'lead', 'soil', 'ph', 'change', 'rice', 'growth', 'increase', 'follow', 'decrease', 'furthermore', 'biochar', 'significantly', 'improve', 'soil', 'organic', 'matter', 'available', 'nutrients', 'n', 'p', 'k', 'indeed', 'cumulative', 'effect', 'time', 'observe', 'importantly', 'biochar', 'significantly', 'reduce', 'cadmium', 'content', 'rice', 'grain', 'average', 'compare', 'control', 'ck', 'treatment', 'high', 'biochar', 'concentration', 'effective', 'indicate', 'decrease', 'bio', 'availability', 'cadmium', 'result', 'suggest', 'maize', 'straw', 'derive', 'biochar', 'effective', 'remediation', 'material', 'cd', 'contaminate', 'soil', 'good', 'application', 'potential', 'environment', 'parlar', 'scientific', 'publications', 'right', 'reserve']\",\n          \"['loss', 'soil', 'organic', 'carbon', 'soc', 'agricultural', 'soil', 'key', 'indicator', 'soil', 'degradation', 'associate', 'reduction', 'net', 'primary', 'productivity', 'crop', 'production', 'system', 'worldwide', 'technically', 'simple', 'locally', 'appropriate', 'solution', 'require', 'farmer', 'increase', 'soc', 'improve', 'cropland', 'management', 'last', 'year', 'straw', 'incorporation', 'si', 'gradually', 'implement', 'across', 'china', 'context', 'agricultural', 'intensification', 'rural', 'livelihood', 'improvement', 'meta', 'analysis', 'datum', 'publish', 'end', 'undertake', 'investigate', 'effect', 'si', 'crop', 'production', 'soc', 'sequestration', 'result', 'experimental', 'study', 'throughout', 'china', 'different', 'edaphic', 'condition', 'climate', 'region', 'farming', 'regime', 'analyze', 'compare', 'straw', 'removal', 'sr', 'si', 'significantly', 'sequester', 'soc', 'cm', 'depth', 'rate', 'ci', 'mg', 'c', 'ha', 'yr', 'increase', 'crop', 'grain', 'yield', 'conversion', 'efficiency', 'incorporated', 'straw', 'c', 'across', 'china', 'combined', 'si', 'rate', 'mg', 'c', 'ha', 'yr', 'mineral', 'fertilizer', 'kg', 'nha', 'yr', 'demonstrate', 'good', 'farming', 'practice', 'crop', 'yield', 'increase', 'soc', 'sequestrate', 'rate', 'mg', 'cha', 'yr', 'si', 'achieve', 'high', 'soc', 'sequestration', 'rate', 'crop', 'yield', 'increment', 'apply', 'clay', 'soil', 'high', 'cropping', 'intensity', 'area', 'northeast', 'china', 'soil', 'degrade', 'soc', 'response', 'high', 'initial', 'starting', 'phase', 'si', 'subsequently', 'decline', 'finally', 'become', 'negligible', 'year', 'however', 'crop', 'yield', 'response', 'initially', 'low', 'increase', 'reach', 'high', 'level', 'year', 'si', 'overall', 'study', 'confirm', 'si', 'create', 'positive', 'feedback', 'loop', 'soc', 'enhancement', 'together', 'increase', 'crop', 'production', 'great', 'practical', 'importance', 'straw', 'management', 'agriculture', 'intensifie', 'china', 'region', 'different', 'climate', 'condition', 'author']\",\n          \"['mineral', 'fertilizer', 'organic', 'amendment', 'pesticide', 'input', 'commonly', 'use', 'conventional', 'farming', 'practice', 'aim', 'study', 'evaluate', 'effect', 'single', 'combine', 'application', 'spend', 'grape', 'marc', 'vermicompost', 'urea', 'diuron', 'soil', 'enzyme', 'activity', 'persistence', 'herbicide', 'soil', 'low', 'organic', 'carbon', 'content', 'application', 'vermicompost', 'enhance', 'dehydrogenase', 'dhase', 'enzyme', 'activity', 'time', 'alter', 'soil', 'urease', 'activity', 'limited', 'extent', 'reduction', 'diuron', 'concentration', 'increase', 'dhase', 'activity', 'indicate', 'soil', 'microorganism', 'capable', 'degrade', 'ureic', 'herbicide', 'treatment', 'vermicompost', 'diuron', 'stimulatory', 'effect', 'soil', 'microbial', 'activity', 'whole', 'application', 'diuron', 'urea', 'vermicompost', 'amend', 'soil', 'raise', 'dhase', 'urease', 'activity', 'maximum', 'level', 'gt', 'g', 'intf', 'g', 'h', 'gt', 'g', 'nh', 'g', 'h', 'respectively', 'application', 'urea', 'unamended', 'vermicompost', 'amend', 'soil', 'decrease', 'diuron', 'persistence', 'respectively', 'finding', 'show', 'although', 'vermicompost', 'addition', 'reduce', 'diuron', 'availability', 'boost', 'diuron', 'degradation', 'combine', 'urea', 'addition', 'different', 'soil', 'management', 'condition', 'minimize', 'bioavailability', 'persistence', 'diuron', 'consequently', 'risk', 'leaching', 'seepage', 'aquifer', 'compare', 'untreated', 'soil', 'type', 'treat', 'soil', 'could', 'also', 'improve', 'agricultural', 'sustainability', 'quality', 'environment', 'elsevi', 'b', 'v', 'right', 'reserve']\"\n        ],\n        \"semantic_type\": \"\",\n        \"description\": \"\"\n      }\n    },\n    {\n      \"column\": \"dominant_topic\",\n      \"properties\": {\n        \"dtype\": \"number\",\n        \"std\": 3,\n        \"min\": 0,\n        \"max\": 14,\n        \"num_unique_values\": 15,\n        \"samples\": [\n          11,\n          5,\n          7\n        ],\n        \"semantic_type\": \"\",\n        \"description\": \"\"\n      }\n    },\n    {\n      \"column\": \"ents\",\n      \"properties\": {\n        \"dtype\": \"string\",\n        \"num_unique_values\": 16666,\n        \"samples\": [\n          \"[('biochar', 'ORGANIC FERTILISATION'), ('Shenyang', 'GPE'), ('China', 'GPE'), ('two', 'CARDINAL'), ('biochar', 'ORGANIC FERTILISATION'), ('22500 kg', 'QUANTITY'), ('hm-2', 'NORP'), ('biochar', 'ORGANIC FERTILISATION'), ('temperature(400 - 450', 'CARDINAL'), ('biochar', 'ORGANIC FERTILISATION'), ('reduce', 'DECREASE'), ('biochar', 'ORGANIC FERTILISATION'), ('growth(increase', 'INCREASE'), ('decrease', 'DECREASE'), ('biochar', 'ORGANIC FERTILISATION'), ('soil organic matter', 'SOC'), ('biochar', 'ORGANIC FERTILISATION'), ('reduce', 'DECREASE'), ('33.01 %', 'PERCENT'), ('biochar', 'ORGANIC FERTILISATION'), ('decrease', 'DECREASE'), ('biochar', 'ORGANIC FERTILISATION'), ('2016', 'DATE'), ('Parlar Scientific Publications', 'ORG')]\",\n          \"[('manure', 'ORGANIC FERTILISATION'), ('15 year', 'DATE'), ('conventional tillage', 'CONVENTIONAL TILLAGE'), ('CT', 'CONVENTIONAL TILLAGE'), ('NT', 'NO TILLAGE'), ('three', 'CARDINAL'), ('winter', 'DATE'), ('Triticum', 'LOC'), ('cover crop', 'COVER CROP'), ('Zea', 'PERSON'), ('millet', 'PERSON'), ('Panicum', 'NORP'), ('1:1', 'CARDINAL'), ('soil organic carbon', 'SOC'), ('SOC', 'ORG'), ('LBC', 'ORG'), ('four', 'CARDINAL'), ('CTCF', 'ORG'), ('CTPL', 'ORG'), ('NTCF', 'ORG'), ('NTPL', 'ORG'), ('CTPL', 'ORG'), ('0.6', 'CARDINAL'), ('increase', 'INCREASE'), ('15 cm', 'QUANTITY'), ('LBC', 'ORG'), ('increase', 'INCREASE'), ('unchanged', 'NEUTRAL'), ('decrease', 'DECREASE'), ('27', 'CARDINAL'), ('43 kg', 'QUANTITY'), ('ha\\u22121', 'ORG'), ('pH', 'SOIL CHEMICAL PROPERTIES'), ('manure', 'ORGANIC FERTILISATION'), ('2019', 'DATE'), ('B.V.', 'ORG')]\",\n          \"[('mineral fertilizer', 'INORGANIC FERTILISATION'), ('amendment', 'ORGANIC FERTILISATION'), ('vermicompost', 'ORGANIC FERTILISATION'), ('urea', 'INORGANIC FERTILISATION'), ('enzyme activity', 'SOIL BIOLOGICAL PROPERTIES'), ('vermicompost', 'ORGANIC FERTILISATION'), ('enhance', 'INCREASE'), ('DHase', 'ORG'), ('enzyme activity', 'SOIL BIOLOGICAL PROPERTIES'), ('increase', 'INCREASE'), ('DHase', 'ORG'), ('vermicompost', 'ORGANIC FERTILISATION'), ('urea', 'INORGANIC FERTILISATION'), ('vermicompost', 'ORGANIC FERTILISATION'), ('raise', 'INCREASE'), ('DHase', 'ORG'), ('g-1 h-1', 'PERSON'), ('urea', 'INORGANIC FERTILISATION'), ('vermicompost', 'ORGANIC FERTILISATION'), ('decrease', 'DECREASE'), ('18.8', 'CARDINAL'), ('33', 'DATE'), ('12.5', 'CARDINAL'), ('vermicompost', 'ORGANIC FERTILISATION'), ('reduce', 'DECREASE'), ('boost', 'INCREASE'), ('urea', 'INORGANIC FERTILISATION'), ('2009', 'DATE'), ('B.V.', 'ORG')]\"\n        ],\n        \"semantic_type\": \"\",\n        \"description\": \"\"\n      }\n    },\n    {\n      \"column\": \"Increase_RegEx\",\n      \"properties\": {\n        \"dtype\": \"category\",\n        \"num_unique_values\": 313,\n        \"samples\": [\n          \"enhance; increase; enhance; increase\",\n          \"enhance; enhance; enhance; enhance; increase; increase\",\n          \"increase; increase; increase; increase; enhance; increase; increase\"\n        ],\n        \"semantic_type\": \"\",\n        \"description\": \"\"\n      }\n    },\n    {\n      \"column\": \"Decrease_RegEx\",\n      \"properties\": {\n        \"dtype\": \"category\",\n        \"num_unique_values\": 314,\n        \"samples\": [\n          \"decrease; lower; reduce; reduce\",\n          \"reduce; reduce; reduce\",\n          \"lower; lower; decrease\"\n        ],\n        \"semantic_type\": \"\",\n        \"description\": \"\"\n      }\n    }\n  ]\n}"
            }
          },
          "metadata": {},
          "execution_count": 85
        }
      ]
    },
    {
      "cell_type": "code",
      "source": [
        "selected = ['abstract','lemmatized_text', 'ents' ]\n",
        "dataset_view = dataset[selected]\n",
        "\n",
        "dataset_view.head()"
      ],
      "metadata": {
        "id": "BzxmixWxh_c6",
        "colab": {
          "base_uri": "https://localhost:8080/",
          "height": 206
        },
        "outputId": "d5c178e7-8751-4cc5-dd7d-617e37a740de"
      },
      "execution_count": null,
      "outputs": [
        {
          "output_type": "execute_result",
          "data": {
            "text/plain": [
              "                                            abstract  \\\n",
              "0  Effects of soil pH on weak acid and weak base ...   \n",
              "1  Growth responses of mesquite (Prosopis juliflo...   \n",
              "2  Field experiments with rice-wheat rotation wer...   \n",
              "3  Application of higher levels (60 and 90 kg N h...   \n",
              "4  A study relating N uptake by wheat to several ...   \n",
              "\n",
              "                                     lemmatized_text  \\\n",
              "0  effect of soil ph on weak acid and weak base h...   \n",
              "1  growth response of mesquite ( Prosopis juliflo...   \n",
              "2  field experiment with rice - wheat rotation be...   \n",
              "3  application of high level ( 60 and 90 kg N ha-...   \n",
              "4  a study relate N uptake by wheat to several n ...   \n",
              "\n",
              "                                                ents  \n",
              "0  [('amendment', 'ORGANIC FERTILISATION'), ('HC1...  \n",
              "1  [('SW', 'GPE'), ('amendment', 'ORGANIC FERTILI...  \n",
              "2  [('five consecutive year', 'DATE'), ('12', 'CA...  \n",
              "3  [('60 and 90 kg', 'QUANTITY'), ('Azolla', 'ORG...  \n",
              "4  [('North and South Dakota', 'GPE'), ('sixty ni...  "
            ],
            "text/html": [
              "\n",
              "  <div id=\"df-51b0a400-ee16-4ebe-bba1-4053f5ad94b5\" class=\"colab-df-container\">\n",
              "    <div>\n",
              "<style scoped>\n",
              "    .dataframe tbody tr th:only-of-type {\n",
              "        vertical-align: middle;\n",
              "    }\n",
              "\n",
              "    .dataframe tbody tr th {\n",
              "        vertical-align: top;\n",
              "    }\n",
              "\n",
              "    .dataframe thead th {\n",
              "        text-align: right;\n",
              "    }\n",
              "</style>\n",
              "<table border=\"1\" class=\"dataframe\">\n",
              "  <thead>\n",
              "    <tr style=\"text-align: right;\">\n",
              "      <th></th>\n",
              "      <th>abstract</th>\n",
              "      <th>lemmatized_text</th>\n",
              "      <th>ents</th>\n",
              "    </tr>\n",
              "  </thead>\n",
              "  <tbody>\n",
              "    <tr>\n",
              "      <th>0</th>\n",
              "      <td>Effects of soil pH on weak acid and weak base ...</td>\n",
              "      <td>effect of soil ph on weak acid and weak base h...</td>\n",
              "      <td>[('amendment', 'ORGANIC FERTILISATION'), ('HC1...</td>\n",
              "    </tr>\n",
              "    <tr>\n",
              "      <th>1</th>\n",
              "      <td>Growth responses of mesquite (Prosopis juliflo...</td>\n",
              "      <td>growth response of mesquite ( Prosopis juliflo...</td>\n",
              "      <td>[('SW', 'GPE'), ('amendment', 'ORGANIC FERTILI...</td>\n",
              "    </tr>\n",
              "    <tr>\n",
              "      <th>2</th>\n",
              "      <td>Field experiments with rice-wheat rotation wer...</td>\n",
              "      <td>field experiment with rice - wheat rotation be...</td>\n",
              "      <td>[('five consecutive year', 'DATE'), ('12', 'CA...</td>\n",
              "    </tr>\n",
              "    <tr>\n",
              "      <th>3</th>\n",
              "      <td>Application of higher levels (60 and 90 kg N h...</td>\n",
              "      <td>application of high level ( 60 and 90 kg N ha-...</td>\n",
              "      <td>[('60 and 90 kg', 'QUANTITY'), ('Azolla', 'ORG...</td>\n",
              "    </tr>\n",
              "    <tr>\n",
              "      <th>4</th>\n",
              "      <td>A study relating N uptake by wheat to several ...</td>\n",
              "      <td>a study relate N uptake by wheat to several n ...</td>\n",
              "      <td>[('North and South Dakota', 'GPE'), ('sixty ni...</td>\n",
              "    </tr>\n",
              "  </tbody>\n",
              "</table>\n",
              "</div>\n",
              "    <div class=\"colab-df-buttons\">\n",
              "\n",
              "  <div class=\"colab-df-container\">\n",
              "    <button class=\"colab-df-convert\" onclick=\"convertToInteractive('df-51b0a400-ee16-4ebe-bba1-4053f5ad94b5')\"\n",
              "            title=\"Convert this dataframe to an interactive table.\"\n",
              "            style=\"display:none;\">\n",
              "\n",
              "  <svg xmlns=\"http://www.w3.org/2000/svg\" height=\"24px\" viewBox=\"0 -960 960 960\">\n",
              "    <path d=\"M120-120v-720h720v720H120Zm60-500h600v-160H180v160Zm220 220h160v-160H400v160Zm0 220h160v-160H400v160ZM180-400h160v-160H180v160Zm440 0h160v-160H620v160ZM180-180h160v-160H180v160Zm440 0h160v-160H620v160Z\"/>\n",
              "  </svg>\n",
              "    </button>\n",
              "\n",
              "  <style>\n",
              "    .colab-df-container {\n",
              "      display:flex;\n",
              "      gap: 12px;\n",
              "    }\n",
              "\n",
              "    .colab-df-convert {\n",
              "      background-color: #E8F0FE;\n",
              "      border: none;\n",
              "      border-radius: 50%;\n",
              "      cursor: pointer;\n",
              "      display: none;\n",
              "      fill: #1967D2;\n",
              "      height: 32px;\n",
              "      padding: 0 0 0 0;\n",
              "      width: 32px;\n",
              "    }\n",
              "\n",
              "    .colab-df-convert:hover {\n",
              "      background-color: #E2EBFA;\n",
              "      box-shadow: 0px 1px 2px rgba(60, 64, 67, 0.3), 0px 1px 3px 1px rgba(60, 64, 67, 0.15);\n",
              "      fill: #174EA6;\n",
              "    }\n",
              "\n",
              "    .colab-df-buttons div {\n",
              "      margin-bottom: 4px;\n",
              "    }\n",
              "\n",
              "    [theme=dark] .colab-df-convert {\n",
              "      background-color: #3B4455;\n",
              "      fill: #D2E3FC;\n",
              "    }\n",
              "\n",
              "    [theme=dark] .colab-df-convert:hover {\n",
              "      background-color: #434B5C;\n",
              "      box-shadow: 0px 1px 3px 1px rgba(0, 0, 0, 0.15);\n",
              "      filter: drop-shadow(0px 1px 2px rgba(0, 0, 0, 0.3));\n",
              "      fill: #FFFFFF;\n",
              "    }\n",
              "  </style>\n",
              "\n",
              "    <script>\n",
              "      const buttonEl =\n",
              "        document.querySelector('#df-51b0a400-ee16-4ebe-bba1-4053f5ad94b5 button.colab-df-convert');\n",
              "      buttonEl.style.display =\n",
              "        google.colab.kernel.accessAllowed ? 'block' : 'none';\n",
              "\n",
              "      async function convertToInteractive(key) {\n",
              "        const element = document.querySelector('#df-51b0a400-ee16-4ebe-bba1-4053f5ad94b5');\n",
              "        const dataTable =\n",
              "          await google.colab.kernel.invokeFunction('convertToInteractive',\n",
              "                                                    [key], {});\n",
              "        if (!dataTable) return;\n",
              "\n",
              "        const docLinkHtml = 'Like what you see? Visit the ' +\n",
              "          '<a target=\"_blank\" href=https://colab.research.google.com/notebooks/data_table.ipynb>data table notebook</a>'\n",
              "          + ' to learn more about interactive tables.';\n",
              "        element.innerHTML = '';\n",
              "        dataTable['output_type'] = 'display_data';\n",
              "        await google.colab.output.renderOutput(dataTable, element);\n",
              "        const docLink = document.createElement('div');\n",
              "        docLink.innerHTML = docLinkHtml;\n",
              "        element.appendChild(docLink);\n",
              "      }\n",
              "    </script>\n",
              "  </div>\n",
              "\n",
              "\n",
              "<div id=\"df-465dbc24-3802-41ae-a2ba-62be8edc5ac3\">\n",
              "  <button class=\"colab-df-quickchart\" onclick=\"quickchart('df-465dbc24-3802-41ae-a2ba-62be8edc5ac3')\"\n",
              "            title=\"Suggest charts\"\n",
              "            style=\"display:none;\">\n",
              "\n",
              "<svg xmlns=\"http://www.w3.org/2000/svg\" height=\"24px\"viewBox=\"0 0 24 24\"\n",
              "     width=\"24px\">\n",
              "    <g>\n",
              "        <path d=\"M19 3H5c-1.1 0-2 .9-2 2v14c0 1.1.9 2 2 2h14c1.1 0 2-.9 2-2V5c0-1.1-.9-2-2-2zM9 17H7v-7h2v7zm4 0h-2V7h2v10zm4 0h-2v-4h2v4z\"/>\n",
              "    </g>\n",
              "</svg>\n",
              "  </button>\n",
              "\n",
              "<style>\n",
              "  .colab-df-quickchart {\n",
              "      --bg-color: #E8F0FE;\n",
              "      --fill-color: #1967D2;\n",
              "      --hover-bg-color: #E2EBFA;\n",
              "      --hover-fill-color: #174EA6;\n",
              "      --disabled-fill-color: #AAA;\n",
              "      --disabled-bg-color: #DDD;\n",
              "  }\n",
              "\n",
              "  [theme=dark] .colab-df-quickchart {\n",
              "      --bg-color: #3B4455;\n",
              "      --fill-color: #D2E3FC;\n",
              "      --hover-bg-color: #434B5C;\n",
              "      --hover-fill-color: #FFFFFF;\n",
              "      --disabled-bg-color: #3B4455;\n",
              "      --disabled-fill-color: #666;\n",
              "  }\n",
              "\n",
              "  .colab-df-quickchart {\n",
              "    background-color: var(--bg-color);\n",
              "    border: none;\n",
              "    border-radius: 50%;\n",
              "    cursor: pointer;\n",
              "    display: none;\n",
              "    fill: var(--fill-color);\n",
              "    height: 32px;\n",
              "    padding: 0;\n",
              "    width: 32px;\n",
              "  }\n",
              "\n",
              "  .colab-df-quickchart:hover {\n",
              "    background-color: var(--hover-bg-color);\n",
              "    box-shadow: 0 1px 2px rgba(60, 64, 67, 0.3), 0 1px 3px 1px rgba(60, 64, 67, 0.15);\n",
              "    fill: var(--button-hover-fill-color);\n",
              "  }\n",
              "\n",
              "  .colab-df-quickchart-complete:disabled,\n",
              "  .colab-df-quickchart-complete:disabled:hover {\n",
              "    background-color: var(--disabled-bg-color);\n",
              "    fill: var(--disabled-fill-color);\n",
              "    box-shadow: none;\n",
              "  }\n",
              "\n",
              "  .colab-df-spinner {\n",
              "    border: 2px solid var(--fill-color);\n",
              "    border-color: transparent;\n",
              "    border-bottom-color: var(--fill-color);\n",
              "    animation:\n",
              "      spin 1s steps(1) infinite;\n",
              "  }\n",
              "\n",
              "  @keyframes spin {\n",
              "    0% {\n",
              "      border-color: transparent;\n",
              "      border-bottom-color: var(--fill-color);\n",
              "      border-left-color: var(--fill-color);\n",
              "    }\n",
              "    20% {\n",
              "      border-color: transparent;\n",
              "      border-left-color: var(--fill-color);\n",
              "      border-top-color: var(--fill-color);\n",
              "    }\n",
              "    30% {\n",
              "      border-color: transparent;\n",
              "      border-left-color: var(--fill-color);\n",
              "      border-top-color: var(--fill-color);\n",
              "      border-right-color: var(--fill-color);\n",
              "    }\n",
              "    40% {\n",
              "      border-color: transparent;\n",
              "      border-right-color: var(--fill-color);\n",
              "      border-top-color: var(--fill-color);\n",
              "    }\n",
              "    60% {\n",
              "      border-color: transparent;\n",
              "      border-right-color: var(--fill-color);\n",
              "    }\n",
              "    80% {\n",
              "      border-color: transparent;\n",
              "      border-right-color: var(--fill-color);\n",
              "      border-bottom-color: var(--fill-color);\n",
              "    }\n",
              "    90% {\n",
              "      border-color: transparent;\n",
              "      border-bottom-color: var(--fill-color);\n",
              "    }\n",
              "  }\n",
              "</style>\n",
              "\n",
              "  <script>\n",
              "    async function quickchart(key) {\n",
              "      const quickchartButtonEl =\n",
              "        document.querySelector('#' + key + ' button');\n",
              "      quickchartButtonEl.disabled = true;  // To prevent multiple clicks.\n",
              "      quickchartButtonEl.classList.add('colab-df-spinner');\n",
              "      try {\n",
              "        const charts = await google.colab.kernel.invokeFunction(\n",
              "            'suggestCharts', [key], {});\n",
              "      } catch (error) {\n",
              "        console.error('Error during call to suggestCharts:', error);\n",
              "      }\n",
              "      quickchartButtonEl.classList.remove('colab-df-spinner');\n",
              "      quickchartButtonEl.classList.add('colab-df-quickchart-complete');\n",
              "    }\n",
              "    (() => {\n",
              "      let quickchartButtonEl =\n",
              "        document.querySelector('#df-465dbc24-3802-41ae-a2ba-62be8edc5ac3 button');\n",
              "      quickchartButtonEl.style.display =\n",
              "        google.colab.kernel.accessAllowed ? 'block' : 'none';\n",
              "    })();\n",
              "  </script>\n",
              "</div>\n",
              "    </div>\n",
              "  </div>\n"
            ],
            "application/vnd.google.colaboratory.intrinsic+json": {
              "type": "dataframe",
              "variable_name": "dataset_view",
              "summary": "{\n  \"name\": \"dataset_view\",\n  \"rows\": 16678,\n  \"fields\": [\n    {\n      \"column\": \"abstract\",\n      \"properties\": {\n        \"dtype\": \"string\",\n        \"num_unique_values\": 16672,\n        \"samples\": [\n          \"In Pakistan, per acre yield of wheat (Triticum aestivum L.) suffers greatly due to low organic matter and immobilized form of nutrients in soils. Various strategies have been adopted by agronomists to cope these issues. In order to investigate the effect of an integrated strategy of application of biochar (Green waste), microbes (Pseudomonas, Agrobacterium, Azospirillum, Enterobacter) and herbicides on the growth and yield of wheat, an experiment was conducted at the farm area of the Islamia University of Bahawalpur, Pakistan during 2012-13. The experiment was laid out in randomized complete block design with split plot arrangements containing three replications. The main plots were with and without the application of herbicide, while subplots carried four treatments viz. microbial inoculation, biochar application, microbial inoculation in combination with biochar, and an untreated control. Maximum grain yield (5.04 t ha-1) and yield components were recorded in herbicide treated plants with the combined application of biochar and microbes, while minimum (2.14 t ha-1) was measured in untreated control where herbicide was not applied. Biological yield and leaf area showed that both biochar and microbes in combination with herbicide application were most effective than all other treatments. It is concluded that biochar and plant growth promoting rhizobacteria (PGPR) along with herbicides was considered to be a best combination that enhanced the productivity of wheat.\",\n          \"The objective of this study was to evaluate plant-available N pools and the role of N management index (NMI) in the surface (0-20 cm) of a fluvo-aquic soil after 18 years of fertilization treatments under a wheat-maize cropping system in the North China Plain. The experiment included seven treatments: (1) NPK, balanced application of chemical fertilizer NPK; (2) OM, application of organic manure; (3) 1/2OMN, application of half organic manure plus chemical fertilizer NPK; (4) NP, application of chemical fertilizer NP; (5) PK, application of chemical fertilizer PK; (6) NK, application of chemical fertilizer NK; and (7) CK, unfertilized control. Total organic N (TON), microbial biomass N (MBN), labile N (LN), inorganic N (ION, including ammonium (NH4+)-N and nitrate (NO3--N) contents, net ammonification rate (NAR), net nitrification rate (NNR), net N mineralization rate (NNMR), and NMI in the fertilized treatments were higher than in the unfertilized treatment. Application of chemical fertilizer N (NPK, NP, and NK) increased ION in soils, compared with application of organic N or control. Nitrate N prevailed over exchangeable NH4+-N in all treatments. Nitrogen storage of the OM- and 1/2OMN-treated soils increased by 50. 0% and 24. 3%, respectively, over the NPK-treated soil, which had 5. 4-22. 5% more N than NP-, PK-, and NK-treated soils. The MBN, LN, and ION accounted for 1. 7-2. 4%, 25. 7-34. 2%, and 1. 4-2. 9% of TON, respectively, in different fertilization treatments. The surface soils (0-20-cm layer) in all treatments mineralized 43. 6-152. 9 kg N ha-1 year-1 for crop growth. Microbial biomass N was probably the better predictor of N mineralization, as it was correlated significantly (P &lt; 0. 01) with NNMR. The OM and 1/2OMN treatments were not an optimal option for farmers when the crop yield and labor cost were taken into consideration but an optimal option for increasing soil N supply capacity and N sequestration in soil. The NPK treatment showed the highest crop yields and increased soil N fractions through crop residues and exudates input, and thus, it may be considered as a sustainable system in the North China Plain. \\u00a9 2011 Springer-Verlag.\",\n          \"Raman spectra of charcoal fragments in cumulative soils in central Japan, where grasslands have been sustained using intentional burning for ~\\u00a01000\\u00a0years, were obtained and compared to those of fresh charcoal fragments after modern grass burning to clarify their disappearance and alteration process in the soils. Although the values of each Raman-spectrum parameter of the soil charcoal and fresh charcoal fragments are partially similar, certain differences indicating their alteration or disappearance were observed. Charcoal fragments with lower graphitization in soils altered chemically with age at decadal to century scale, suggested by changes in distance between defects or defect type of their chemical structures. Charcoal fragments with higher graphitization were found in fresh charcoal samples, whereas very few charcoal fragments were found in both young and old soils, indicating that these charcoal fragments disappeared instantly after they were formed. This fact implies that charcoal fragments with higher graphitization tend to not remain in soils, possibly owing to their physical properties such as fragility, density, and hydrodynamic behavior. Our findings suggest that charcoal's physical properties have a vital influence on charcoal residues in soils, as do charcoal's chemical properties. \\u00a9 2016 The Authors\"\n        ],\n        \"semantic_type\": \"\",\n        \"description\": \"\"\n      }\n    },\n    {\n      \"column\": \"lemmatized_text\",\n      \"properties\": {\n        \"dtype\": \"string\",\n        \"num_unique_values\": 16671,\n        \"samples\": [\n          \"Phosphorus ( p ) k - edge XANES and Fe k - edge exafs spectroscopy along with sequential p chemical fractionation and desorption kinetic experiment , be employ to provide micro- and macro - scale information on the long - term fate of manure application on the solid - state speciation , kinetic and distribution of p in highly weather agricultural soil of southern Brazil . soil test p value range from 7.3 up to 16.5 time as much high than the reference soil . a sharp increase in amorphous Fe and Al amount be observe as an effect of the consecutive application of manure . whereas our result show that the p sorption capacity of some manure soil be not significantly affected , p risk assessment index indicate that p loss should be expect , likely due to the excessive manure rate apply to the soil . the much high content of amorphous Fe and Al ( hydr)oxides ( 55 % and 80 % increase with respect to the reference soil , respectively ) in manure soil seem to have counterbalance the inhibit effect of soil organic matter on p sorption by create additional p sorption site . accordingly , the newly create p sorbing surface be important to prevent an even large p loss potential . Phosphorus k - edge XANES lend complimentary hint on the loss of crystallinity and transformation of originally present fe - p mineral into poorly crystalline one as an effect of manure , whereas Fe k - edge exafs provide insight into the structural change undergo in the soil upon manure application and soil management . \\u00a9 2014 Elsevier Ltd.\",\n          \"competition for soil resource be a drive force in plant community ecology . therefore , amendment that alter soil resource should affect vegetation dynamic and be potential tool for control exotic specie . we test the effect of two type of carbon addition , sugar and activate carbon ( AC ) , on an exotic - dominate grassland plant community . sugar stimulate the microbial community and temporarily reduce plant available nitrogen ( N ) , while AC adsorb plant available N. six experimental plot and three carbon treatment be use : sugar ( 1000 g m-2 ; 42 % c ) , AC ( 420 g m-2 ; 100 % c ) , and control . treatment be apply in a split - plot design in spring 2008 . aboveground biomass , plant cover , specie richness , and plant basal area be track for two grow season . although total biomass be not affect by C addition , the distribution of biomass among life form be affect : carbon addition reduce forb biomass but have no effect on grass or legume . total cover be low in sugar - treat plot , and sugar also alter the proportional composition of that cover by reduce the abundance of forb , especially in the first year . five specie be particularly sensitive to sugar addition : Myosotis discolor , Sonchus asper , Taraxacum officinale , Valerianella locusta , and Vulpia bromoide . sugar also reduce plant basal area in the first year . these result suggest that sugar and , to a less extent , AC could be useful management tool . sugar could be apply to area where herbicide use be undesirable , reduce the abundance of exotic forb and provide a window of opportunity for native specie establishment . \\u00a9 2011 by the Northwest Scientific Association .\",\n          \"Soil carbonate ( sic ) exceed organic carbon ( SOC ) greatly in arid land , thus may be important for carbon sequestration . however , field datum for quantify carbonate accumulation have be lack . this study aim to improve our understanding of sic dynamic and its role in carbon sequestration . we analyze two dataset of SOC and SIC and their 13 C composition , one with over 100 soil sample collect recently from various land use in the Yanqi Basin , Xinjiang , and the other with 18 archive soil sample from a long - term experiment ( LTE ) in Pingliang , Gansu . the datum from the Yanqi Basin show that SOC have a significant relationship with SIC and pedogenic carbonate ( PIC ) ; convert shrub land to cropland increase PIC stock by 5.2 kg C m-2 , which be 3.6 time of that in SOC stock . the datum from the LTE show great accumulation of PIC ( 21 - 49 g C m-2 year-1 ) than SOC ( 10 - 39 g C m-2 year-1 ) over 0 - 20 cm . our study point out that intensive cropping in the arid and semi - arid region lead to an increase in both SOC and PIC . increase SOC through straw organic amendment enhance PIC accumulation in the arid cropland of northwestern China .\"\n        ],\n        \"semantic_type\": \"\",\n        \"description\": \"\"\n      }\n    },\n    {\n      \"column\": \"ents\",\n      \"properties\": {\n        \"dtype\": \"string\",\n        \"num_unique_values\": 16666,\n        \"samples\": [\n          \"[('biochar', 'ORGANIC FERTILISATION'), ('Shenyang', 'GPE'), ('China', 'GPE'), ('two', 'CARDINAL'), ('biochar', 'ORGANIC FERTILISATION'), ('22500 kg', 'QUANTITY'), ('hm-2', 'NORP'), ('biochar', 'ORGANIC FERTILISATION'), ('temperature(400 - 450', 'CARDINAL'), ('biochar', 'ORGANIC FERTILISATION'), ('reduce', 'DECREASE'), ('biochar', 'ORGANIC FERTILISATION'), ('growth(increase', 'INCREASE'), ('decrease', 'DECREASE'), ('biochar', 'ORGANIC FERTILISATION'), ('soil organic matter', 'SOC'), ('biochar', 'ORGANIC FERTILISATION'), ('reduce', 'DECREASE'), ('33.01 %', 'PERCENT'), ('biochar', 'ORGANIC FERTILISATION'), ('decrease', 'DECREASE'), ('biochar', 'ORGANIC FERTILISATION'), ('2016', 'DATE'), ('Parlar Scientific Publications', 'ORG')]\",\n          \"[('manure', 'ORGANIC FERTILISATION'), ('15 year', 'DATE'), ('conventional tillage', 'CONVENTIONAL TILLAGE'), ('CT', 'CONVENTIONAL TILLAGE'), ('NT', 'NO TILLAGE'), ('three', 'CARDINAL'), ('winter', 'DATE'), ('Triticum', 'LOC'), ('cover crop', 'COVER CROP'), ('Zea', 'PERSON'), ('millet', 'PERSON'), ('Panicum', 'NORP'), ('1:1', 'CARDINAL'), ('soil organic carbon', 'SOC'), ('SOC', 'ORG'), ('LBC', 'ORG'), ('four', 'CARDINAL'), ('CTCF', 'ORG'), ('CTPL', 'ORG'), ('NTCF', 'ORG'), ('NTPL', 'ORG'), ('CTPL', 'ORG'), ('0.6', 'CARDINAL'), ('increase', 'INCREASE'), ('15 cm', 'QUANTITY'), ('LBC', 'ORG'), ('increase', 'INCREASE'), ('unchanged', 'NEUTRAL'), ('decrease', 'DECREASE'), ('27', 'CARDINAL'), ('43 kg', 'QUANTITY'), ('ha\\u22121', 'ORG'), ('pH', 'SOIL CHEMICAL PROPERTIES'), ('manure', 'ORGANIC FERTILISATION'), ('2019', 'DATE'), ('B.V.', 'ORG')]\",\n          \"[('mineral fertilizer', 'INORGANIC FERTILISATION'), ('amendment', 'ORGANIC FERTILISATION'), ('vermicompost', 'ORGANIC FERTILISATION'), ('urea', 'INORGANIC FERTILISATION'), ('enzyme activity', 'SOIL BIOLOGICAL PROPERTIES'), ('vermicompost', 'ORGANIC FERTILISATION'), ('enhance', 'INCREASE'), ('DHase', 'ORG'), ('enzyme activity', 'SOIL BIOLOGICAL PROPERTIES'), ('increase', 'INCREASE'), ('DHase', 'ORG'), ('vermicompost', 'ORGANIC FERTILISATION'), ('urea', 'INORGANIC FERTILISATION'), ('vermicompost', 'ORGANIC FERTILISATION'), ('raise', 'INCREASE'), ('DHase', 'ORG'), ('g-1 h-1', 'PERSON'), ('urea', 'INORGANIC FERTILISATION'), ('vermicompost', 'ORGANIC FERTILISATION'), ('decrease', 'DECREASE'), ('18.8', 'CARDINAL'), ('33', 'DATE'), ('12.5', 'CARDINAL'), ('vermicompost', 'ORGANIC FERTILISATION'), ('reduce', 'DECREASE'), ('boost', 'INCREASE'), ('urea', 'INORGANIC FERTILISATION'), ('2009', 'DATE'), ('B.V.', 'ORG')]\"\n        ],\n        \"semantic_type\": \"\",\n        \"description\": \"\"\n      }\n    }\n  ]\n}"
            }
          },
          "metadata": {},
          "execution_count": 87
        }
      ]
    },
    {
      "cell_type": "markdown",
      "source": [
        "Adding Increase/decrease patterns as entities to the pattern"
      ],
      "metadata": {
        "id": "WoLwPP28h1gq"
      }
    },
    {
      "cell_type": "code",
      "source": [
        "pattern_change = [\n",
        "    {\"label\": \"INCREASE\", \"pattern\": [{\"TEXT\": {\"REGEX\": \"increase|raise|enhance|boost\"}}]},\n",
        "    {\"label\": \"DECREASE\", \"pattern\": [{\"TEXT\": {\"REGEX\": \"decrease|drop|reduce|lower|diminish\"}}]},\n",
        "    {\"label\": \"NEUTRAL\", \"pattern\": [{\"TEXT\": {\"REGEX\": \"no effect|unchange|remain the same|no significant (change|difference|impact)\"}}]}\n",
        "]\n",
        "ruler.add_patterns(pattern_change)"
      ],
      "metadata": {
        "id": "znf1QPZXeeVY"
      },
      "execution_count": null,
      "outputs": []
    },
    {
      "cell_type": "code",
      "source": [
        "dataset[\"ents\"] = dataset[\"lemmatized_text\"].apply(lambda abstract: [(ent.text, ent.label_) for ent in nlp(abstract).ents])"
      ],
      "metadata": {
        "id": "20LZ5fpYeeNL"
      },
      "execution_count": null,
      "outputs": []
    },
    {
      "cell_type": "code",
      "source": [
        "dataset.to_csv('/content/drive/MyDrive/Studia DSE/abstract_with_entity_rules.csv', index=False)"
      ],
      "metadata": {
        "id": "M0kZgXOallv6"
      },
      "execution_count": null,
      "outputs": []
    },
    {
      "cell_type": "code",
      "source": [
        "dataset.head()"
      ],
      "metadata": {
        "id": "uAf8S4lVncNj"
      },
      "execution_count": null,
      "outputs": []
    },
    {
      "cell_type": "markdown",
      "metadata": {
        "id": "BaLZQ0mT7x9Z"
      },
      "source": [
        "###Setting up Pyspark\n"
      ]
    },
    {
      "cell_type": "code",
      "execution_count": null,
      "metadata": {
        "colab": {
          "base_uri": "https://localhost:8080/"
        },
        "id": "cyx4vHFL-LdR",
        "outputId": "e2c06c0b-7cc0-4844-9ee9-8547e84b22bd"
      },
      "outputs": [
        {
          "name": "stdout",
          "output_type": "stream",
          "text": [
            "Collecting pyspark\n",
            "  Downloading pyspark-3.4.1.tar.gz (310.8 MB)\n",
            "\u001b[2K     \u001b[90m━━━━━━━━━━━━━━━━━━━━━━━━━━━━━━━━━━━━━━━\u001b[0m \u001b[32m310.8/310.8 MB\u001b[0m \u001b[31m4.6 MB/s\u001b[0m eta \u001b[36m0:00:00\u001b[0m\n",
            "\u001b[?25h  Preparing metadata (setup.py) ... \u001b[?25l\u001b[?25hdone\n",
            "Requirement already satisfied: py4j==0.10.9.7 in /usr/local/lib/python3.10/dist-packages (from pyspark) (0.10.9.7)\n",
            "Building wheels for collected packages: pyspark\n",
            "  Building wheel for pyspark (setup.py) ... \u001b[?25l\u001b[?25hdone\n",
            "  Created wheel for pyspark: filename=pyspark-3.4.1-py2.py3-none-any.whl size=311285387 sha256=1ee3ae5915c921d3909c00cd3a0b24b3466c94daf655c638b9fa7851b9c7c14d\n",
            "  Stored in directory: /root/.cache/pip/wheels/0d/77/a3/ff2f74cc9ab41f8f594dabf0579c2a7c6de920d584206e0834\n",
            "Successfully built pyspark\n",
            "Installing collected packages: pyspark\n",
            "Successfully installed pyspark-3.4.1\n",
            "Requirement already satisfied: findspark in /usr/local/lib/python3.10/dist-packages (2.0.1)\n"
          ]
        }
      ],
      "source": [
        "!pip install pyspark\n",
        "!pip install findspark"
      ]
    },
    {
      "cell_type": "code",
      "execution_count": null,
      "metadata": {
        "id": "CdpQuWJY85J0"
      },
      "outputs": [],
      "source": [
        "!apt-get install openjdk-8-jdk-headless -qq > /dev/null"
      ]
    },
    {
      "cell_type": "code",
      "execution_count": null,
      "metadata": {
        "id": "u20KyQssAhYd"
      },
      "outputs": [],
      "source": [
        "!wget -q https://downloads.apache.org/spark/spark-3.3.3/spark-3.3.3-bin-hadoop3.tgz\n"
      ]
    },
    {
      "cell_type": "code",
      "execution_count": null,
      "metadata": {
        "id": "AM-AVpyIAs8Z"
      },
      "outputs": [],
      "source": [
        "!tar -xf '/content/spark-3.3.3-bin-hadoop3.tgz'"
      ]
    },
    {
      "cell_type": "code",
      "execution_count": null,
      "metadata": {
        "id": "xdNolWR19ymb"
      },
      "outputs": [],
      "source": [
        "# Set up the enviornment\n",
        "import os\n",
        "os.environ[\"JAVA_HOME\"] = '/usr/lib/jvm/java-8-openjdk-amd64'\n",
        "os.environ[\"SPARK_HOME\"] = '/content/spark-3.3.3-bin-hadoop3'\n"
      ]
    },
    {
      "cell_type": "code",
      "execution_count": null,
      "metadata": {
        "id": "2WSaOVpYA6es"
      },
      "outputs": [],
      "source": [
        "findspark.init()"
      ]
    },
    {
      "cell_type": "code",
      "execution_count": null,
      "metadata": {
        "colab": {
          "base_uri": "https://localhost:8080/",
          "height": 221
        },
        "id": "CN4R1-UX7ulZ",
        "outputId": "79289fff-90d4-4663-d90f-b03f537bb65f"
      },
      "outputs": [
        {
          "data": {
            "text/html": [
              "\n",
              "            <div>\n",
              "                <p><b>SparkSession - in-memory</b></p>\n",
              "                \n",
              "        <div>\n",
              "            <p><b>SparkContext</b></p>\n",
              "\n",
              "            <p><a href=\"http://69bbded487ee:4040\">Spark UI</a></p>\n",
              "\n",
              "            <dl>\n",
              "              <dt>Version</dt>\n",
              "                <dd><code>v3.3.3</code></dd>\n",
              "              <dt>Master</dt>\n",
              "                <dd><code>local[*]</code></dd>\n",
              "              <dt>AppName</dt>\n",
              "                <dd><code>pyspark-shell</code></dd>\n",
              "            </dl>\n",
              "        </div>\n",
              "        \n",
              "            </div>\n",
              "        "
            ],
            "text/plain": [
              "<pyspark.sql.session.SparkSession at 0x788d49c356f0>"
            ]
          },
          "execution_count": 40,
          "metadata": {},
          "output_type": "execute_result"
        }
      ],
      "source": [
        "# Import SparkSession\n",
        "from pyspark.sql import SparkSession\n",
        "# Create a Spark Session\n",
        "spark = SparkSession.builder.master(\"local[*]\").getOrCreate()\n",
        "# Check Spark Session Information\n",
        "spark"
      ]
    },
    {
      "cell_type": "code",
      "execution_count": null,
      "metadata": {
        "id": "tb-w4o-b7ui7"
      },
      "outputs": [],
      "source": [
        "spark = SparkSession.builder.appName('First Session').getOrCreate()"
      ]
    },
    {
      "cell_type": "code",
      "execution_count": null,
      "metadata": {
        "colab": {
          "base_uri": "https://localhost:8080/"
        },
        "id": "UTP1NQtF7ubr",
        "outputId": "9a4e8da1-eb28-42d3-ee5d-4929f788115d"
      },
      "outputs": [
        {
          "name": "stdout",
          "output_type": "stream",
          "text": [
            "Collecting transformers\n",
            "  Downloading transformers-4.33.1-py3-none-any.whl (7.6 MB)\n",
            "\u001b[2K     \u001b[90m━━━━━━━━━━━━━━━━━━━━━━━━━━━━━━━━━━━━━━━━\u001b[0m \u001b[32m7.6/7.6 MB\u001b[0m \u001b[31m14.0 MB/s\u001b[0m eta \u001b[36m0:00:00\u001b[0m\n",
            "\u001b[?25hRequirement already satisfied: filelock in /usr/local/lib/python3.10/dist-packages (from transformers) (3.12.2)\n",
            "Collecting huggingface-hub<1.0,>=0.15.1 (from transformers)\n",
            "  Downloading huggingface_hub-0.17.1-py3-none-any.whl (294 kB)\n",
            "\u001b[2K     \u001b[90m━━━━━━━━━━━━━━━━━━━━━━━━━━━━━━━━━━━━━━\u001b[0m \u001b[32m294.8/294.8 kB\u001b[0m \u001b[31m30.7 MB/s\u001b[0m eta \u001b[36m0:00:00\u001b[0m\n",
            "\u001b[?25hRequirement already satisfied: numpy>=1.17 in /usr/local/lib/python3.10/dist-packages (from transformers) (1.23.5)\n",
            "Requirement already satisfied: packaging>=20.0 in /usr/local/lib/python3.10/dist-packages (from transformers) (23.1)\n",
            "Requirement already satisfied: pyyaml>=5.1 in /usr/local/lib/python3.10/dist-packages (from transformers) (6.0.1)\n",
            "Requirement already satisfied: regex!=2019.12.17 in /usr/local/lib/python3.10/dist-packages (from transformers) (2023.6.3)\n",
            "Requirement already satisfied: requests in /usr/local/lib/python3.10/dist-packages (from transformers) (2.31.0)\n",
            "Collecting tokenizers!=0.11.3,<0.14,>=0.11.1 (from transformers)\n",
            "  Downloading tokenizers-0.13.3-cp310-cp310-manylinux_2_17_x86_64.manylinux2014_x86_64.whl (7.8 MB)\n",
            "\u001b[2K     \u001b[90m━━━━━━━━━━━━━━━━━━━━━━━━━━━━━━━━━━━━━━━━\u001b[0m \u001b[32m7.8/7.8 MB\u001b[0m \u001b[31m40.3 MB/s\u001b[0m eta \u001b[36m0:00:00\u001b[0m\n",
            "\u001b[?25hCollecting safetensors>=0.3.1 (from transformers)\n",
            "  Downloading safetensors-0.3.3-cp310-cp310-manylinux_2_17_x86_64.manylinux2014_x86_64.whl (1.3 MB)\n",
            "\u001b[2K     \u001b[90m━━━━━━━━━━━━━━━━━━━━━━━━━━━━━━━━━━━━━━━━\u001b[0m \u001b[32m1.3/1.3 MB\u001b[0m \u001b[31m42.9 MB/s\u001b[0m eta \u001b[36m0:00:00\u001b[0m\n",
            "\u001b[?25hRequirement already satisfied: tqdm>=4.27 in /usr/local/lib/python3.10/dist-packages (from transformers) (4.66.1)\n",
            "Requirement already satisfied: fsspec in /usr/local/lib/python3.10/dist-packages (from huggingface-hub<1.0,>=0.15.1->transformers) (2023.6.0)\n",
            "Requirement already satisfied: typing-extensions>=3.7.4.3 in /usr/local/lib/python3.10/dist-packages (from huggingface-hub<1.0,>=0.15.1->transformers) (4.5.0)\n",
            "Requirement already satisfied: charset-normalizer<4,>=2 in /usr/local/lib/python3.10/dist-packages (from requests->transformers) (3.2.0)\n",
            "Requirement already satisfied: idna<4,>=2.5 in /usr/local/lib/python3.10/dist-packages (from requests->transformers) (3.4)\n",
            "Requirement already satisfied: urllib3<3,>=1.21.1 in /usr/local/lib/python3.10/dist-packages (from requests->transformers) (2.0.4)\n",
            "Requirement already satisfied: certifi>=2017.4.17 in /usr/local/lib/python3.10/dist-packages (from requests->transformers) (2023.7.22)\n",
            "Installing collected packages: tokenizers, safetensors, huggingface-hub, transformers\n",
            "Successfully installed huggingface-hub-0.17.1 safetensors-0.3.3 tokenizers-0.13.3 transformers-4.33.1\n"
          ]
        }
      ],
      "source": [
        "!pip install transformers"
      ]
    },
    {
      "cell_type": "code",
      "execution_count": null,
      "metadata": {
        "id": "hsZE4BWKEazS"
      },
      "outputs": [],
      "source": []
    },
    {
      "cell_type": "markdown",
      "metadata": {
        "id": "7QkyAc6uEbi9"
      },
      "source": [
        "### Setting up BERT"
      ]
    },
    {
      "cell_type": "code",
      "execution_count": null,
      "metadata": {
        "id": "YbsVidb-7uR1"
      },
      "outputs": [],
      "source": [
        "from transformers import BertTokenizer, BertModel\n",
        "import torch\n",
        "from pyspark.sql.functions import udf\n",
        "from pyspark.sql.types import ArrayType, FloatType\n",
        "\n",
        "\n",
        "model_name = \"bert-base-uncased\"\n",
        "model = BertModel.from_pretrained(model_name)\n",
        "tokenizer = BertTokenizer.from_pretrained(model_name)\n",
        "\n",
        "def get_bert_embedding(text):\n",
        "\n",
        "    global model, tokenizerr\n",
        "    inputs = tokenizer(text, return_tensors=\"pt\", padding=\"max_length\", truncation=True, max_length=512)\n",
        "    with torch.no_grad():\n",
        "        outputs = model(**inputs)\n",
        "    return outputs.last_hidden_state[:, 0, :].numpy().tolist()\n",
        "\n",
        "bert_udf = udf(get_bert_embedding, ArrayType(FloatType()))\n"
      ]
    },
    {
      "cell_type": "code",
      "execution_count": null,
      "metadata": {
        "colab": {
          "base_uri": "https://localhost:8080/"
        },
        "id": "oTwDTjQ2Bk6J",
        "outputId": "87e2d3da-b27b-4545-8614-fb28b8f16587"
      },
      "outputs": [
        {
          "name": "stderr",
          "output_type": "stream",
          "text": [
            "/content/spark-3.3.3-bin-hadoop3/python/pyspark/sql/pandas/conversion.py:474: FutureWarning: iteritems is deprecated and will be removed in a future version. Use .items instead.\n",
            "  for column, series in pdf.iteritems():\n",
            "/content/spark-3.3.3-bin-hadoop3/python/pyspark/sql/pandas/conversion.py:486: FutureWarning: iteritems is deprecated and will be removed in a future version. Use .items instead.\n",
            "  for column, series in pdf.iteritems():\n"
          ]
        }
      ],
      "source": [
        "df = spark.createDataFrame(dataset,['processed'])\n",
        "\n"
      ]
    },
    {
      "cell_type": "code",
      "execution_count": null,
      "metadata": {
        "colab": {
          "base_uri": "https://localhost:8080/"
        },
        "id": "4S4ryx6MBkr_",
        "outputId": "065eea7f-4e3f-41a1-b9e8-9b8c68e09a60"
      },
      "outputs": [
        {
          "name": "stdout",
          "output_type": "stream",
          "text": [
            "+------------------------------------------------------------------------------------------------------------------------------------------------------------------------------------------------------+---------------------------------------------------+----+--------------------------------------------------------------------------------------------------------------------------------+----------------------------------------------------------------------------------------------------------------------------------------------------------------------------------------------------------------------------------------------------------------------------------------------------------------------------------------------------------------------------------------------------------------------------------------------------------------------------------------------------------------------------------------------------------------------------------------------------------------------------------------------------------------------------------------------------------------------------------------------------------------------------------------------------------------------------------------------------------------------------------------------------------------------------------------------------------------------------------------------------------------------------------------------------------------------------------------------------------------------------------------------------------------------------------------------------------------------------------------------------------------------------------------------------------------------------------------------------------------------------------------------------------------------------------------------------------------------------------------------------------------------------------------------------------------------------------------------------------------------------------------------------------------------------------------------------------------------------------------------------------------------------------------------------------------------------------------------------------------------------------------------------------------------------------------------------------------------------------------------------------------------------------------------------------------------------------------------------------------------------------------------------------------------------------------------------------------------------------------------------------------------------------------------------------+--------------------------------------------------------------------------------------------------------------------------------------------------------------------------------------------------------------------------------------------------------------------------------------------------------------------------------------------------------------------------------------------------------------------------------------------------------------------------------------------------------------------------------------------------------------------------------------------------------------------------------------------------------------------------------------------------------------------------------------------------------------------------------------------------------------------------------------------------------------------------------------------------------------------------------------------------------------------------------------------------------------------------------------------------------------------------------------------------------------------------------------------------------------------------------------------------------------------------------------------------------------------------------------------------------------------------------------------------------------------------------------------------------------------------------------------------------------------------------------------------------------------------------------------------------------------------------------------------------------------------------------------------------------------------------------------------------------------------+-----------------------------------------------------------------------------------------------------------------------------------------------------------------------------------------------------------------------------------------------------------------------------------------------------------------------------+------------+-------+-------------------------------------------------------------------------------------------------------------------------------------------------------+--------------------------------------------------------------------------------------------------------------------------------------------------------------------------------------------------------------------------------------------------------------------------------------------------------------------------------------------------------------------------------------------------------------------------------------------------------------------------------------------------------------------------------------------------------------------------------------------------------------------------------------------------------------------------------------------------------------------------------------------------------------------------------------------------------------------------------------------------------------------------------------------------------------------------------------------------------------------------------------------------------------------------------------------------------------------------------------------------------------------------------------------------------------------------------------------------------------------------------------------------------------------------------------------------------------------------------------------------------------------------------------------------------------------------------------------------------+--------------+\n",
            "|processed                                                                                                                                                                                             |_2                                                 |_3  |_4                                                                                                                              |_5                                                                                                                                                                                                                                                                                                                                                                                                                                                                                                                                                                                                                                                                                                                                                                                                                                                                                                                                                                                                                                                                                                                                                                                                                                                                                                                                                                                                                                                                                                                                                                                                                                                                                                                                                                                                                                                                                                                                                                                                                                                                                                                                                                                                                                                                                                        |_6                                                                                                                                                                                                                                                                                                                                                                                                                                                                                                                                                                                                                                                                                                                                                                                                                                                                                                                                                                                                                                                                                                                                                                                                                                                                                                                                                                                                                                                                                                                                                                                                                                                                                                                        |_7                                                                                                                                                                                                                                                                                                                           |_8          |_9     |_10                                                                                                                                                    |_11                                                                                                                                                                                                                                                                                                                                                                                                                                                                                                                                                                                                                                                                                                                                                                                                                                                                                                                                                                                                                                                                                                                                                                                                                                                                                                                                                                                                                                                     |bert_embedding|\n",
            "+------------------------------------------------------------------------------------------------------------------------------------------------------------------------------------------------------+---------------------------------------------------+----+--------------------------------------------------------------------------------------------------------------------------------+----------------------------------------------------------------------------------------------------------------------------------------------------------------------------------------------------------------------------------------------------------------------------------------------------------------------------------------------------------------------------------------------------------------------------------------------------------------------------------------------------------------------------------------------------------------------------------------------------------------------------------------------------------------------------------------------------------------------------------------------------------------------------------------------------------------------------------------------------------------------------------------------------------------------------------------------------------------------------------------------------------------------------------------------------------------------------------------------------------------------------------------------------------------------------------------------------------------------------------------------------------------------------------------------------------------------------------------------------------------------------------------------------------------------------------------------------------------------------------------------------------------------------------------------------------------------------------------------------------------------------------------------------------------------------------------------------------------------------------------------------------------------------------------------------------------------------------------------------------------------------------------------------------------------------------------------------------------------------------------------------------------------------------------------------------------------------------------------------------------------------------------------------------------------------------------------------------------------------------------------------------------------------------------------------------+--------------------------------------------------------------------------------------------------------------------------------------------------------------------------------------------------------------------------------------------------------------------------------------------------------------------------------------------------------------------------------------------------------------------------------------------------------------------------------------------------------------------------------------------------------------------------------------------------------------------------------------------------------------------------------------------------------------------------------------------------------------------------------------------------------------------------------------------------------------------------------------------------------------------------------------------------------------------------------------------------------------------------------------------------------------------------------------------------------------------------------------------------------------------------------------------------------------------------------------------------------------------------------------------------------------------------------------------------------------------------------------------------------------------------------------------------------------------------------------------------------------------------------------------------------------------------------------------------------------------------------------------------------------------------------------------------------------------------+-----------------------------------------------------------------------------------------------------------------------------------------------------------------------------------------------------------------------------------------------------------------------------------------------------------------------------+------------+-------+-------------------------------------------------------------------------------------------------------------------------------------------------------+--------------------------------------------------------------------------------------------------------------------------------------------------------------------------------------------------------------------------------------------------------------------------------------------------------------------------------------------------------------------------------------------------------------------------------------------------------------------------------------------------------------------------------------------------------------------------------------------------------------------------------------------------------------------------------------------------------------------------------------------------------------------------------------------------------------------------------------------------------------------------------------------------------------------------------------------------------------------------------------------------------------------------------------------------------------------------------------------------------------------------------------------------------------------------------------------------------------------------------------------------------------------------------------------------------------------------------------------------------------------------------------------------------------------------------------------------------+--------------+\n",
            "|Long-term impact of manuring and fertilization on enrichment, stability and quality of organic carbon in Inceptisol under two potato-based cropping systems                                           |Science of the Total Environment                   |2017|['Yadav, R.K.', 'Purakayastha, T.J.', 'Khan, M.A.', 'Kaushik, S.C.']                                                            |Soil organic matter (SOM) stability is a prerequisite for long-term C sequestration. The long-term effect of manuring and fertilization on stability of SOM in rice–potato–wheat (R-P-W) and maize–potato–onion (M-P-O) cropping systems was studied in an Inceptisol of semi-arid subtropical India. Soil samples were collected (0–15 and 15–30 cm soil depths) from the following treatments: control, 100% NPK–Fertilizer, 100% N–Vermicompost (VC), 50% NPK − Fertilizer + 50%N − Vermicompost (VC), 100%NPK − Fertilizer + crop residue (CR), 100% N − VC + CR. The stability of SOM was studied by correlating the ammonium oxalate extractable Fe, Al and Si with stable soil organic C (SOC). Application of 100% N–VC and 100% N–VC + CR increased the SOC stock by 66% and 32%, respectively over 100% NPK in R-P-W cropping system, while in M-P-O system, the above treatments increased the SOC stock by 28% and 12%. As compared to 100%NPK, the integrated use of 50%NPK + 50%N–VC increased the SOC stock by 58% and 35% in R-P-W and M-P-O system, respectively. The extractable Fe, Al and Si significantly correlated with stable OC and the multiple regression model developed between these parameters could well predict the stable OC in soil. Complete or partial substitution of chemical fertilizer N with VC could be a promising nutrient management strategy for enhancing the SOC stock in Inceptisol under potato-based cropping systems of semi-arid sub-tropical India. However, the integrated use of 50%NPK + 50%N–VC could be promising due to lowest yield reductions and moderate SOC sequestration potential. The enrichment (47%), as well as quality (81%) of SOC was higher in R-P-W system than in M-P-O system. The organic treatments like 100%NPK + CR and 100%N–VC + CR showed higher stability of SOC in R-P-W (31% and 26%) than in M-P-O cropping system. The stability of SOC could well be predicted by extractable amorphous and poorly crystalline Fe, Al and Si and SOC in both the cropping systems. © 2017 Elsevier B.V.                                                                                                                                                                                                                       |['Al and Si', 'Amorphous Fe', 'Soil organic C', 'Stable organic C', 'Agricultural wastes', 'Aluminum', 'Amorphous silicon', 'Carbon', 'Fertilizers', 'Organic carbon', 'Regression analysis', 'Silicon', 'Soils', 'Stability', 'Chemical fertilizers', 'Long-term C sequestrations', 'Long-term effects', 'Multiple regression model', 'Nutrient management', 'Partial substitution', 'Soil organic C', 'Soil organic matters', 'System stability', 'organic carbon', 'soil organic matter', 'aluminum', 'cropping practice', 'fertilizer', 'Inceptisol', 'iron', 'manure', 'organic carbon', 'potato', 'silicon', 'soil organic matter', 'analysis of variance', 'Article', 'biochemistry', 'chemical analysis', 'combustion', 'correlation analysis', 'crop management', 'cropping system', 'environmental enrichment', 'environmental management', 'fertilization', 'manure', 'physical chemistry', 'priority journal', 'soil analysis', 'vermicompost', 'India', 'Allium cepa', 'Solanum tuberosum', 'Triticum aestivum']                                                                                                                                                                                                                                                                                                                                                                                                                                                                                                                                                                                                                                                                                             |['Cited By :7', 'Export Date: 30 April 2020', 'CODEN: STEVA', 'Correspondence Address: Purakayastha, T.J.; Division of Soil Science & Agricultural Chemistry, ICAR-Indian Agricultural Research InstituteIndia; email: tapanjp@iari.res.in']                                                                                 |Article     |English|https://www.scopus.com/inward/record.uri?eid=2-s2.0-85026845372&doi=10.1016%2fj.scitotenv.2017.07.128&partnerID=40&md5=406e5c22dc3c458b368b3f91321cdfed|soil organ matter som stabil prerequisit long term c sequestr long term effect manur fertil stabil som rice potato wheat r p w maiz potato onion p crop system studi inceptisol semi arid subtrop india soil sampl collect cm soil depth follow treatment control npk fertil n vermicompost vc npk fertil n vermicompost vc npk fertil crop residu cr n vc cr stabil som studi correl ammonium oxal extract fe al si stabl soil organ c soc applic n vc n vc cr increas soc stock respect npk r p w crop system p system treatment increas soc stock compar npk integr use npk n vc increas soc stock r p w p system respect extract fe al si significantli correl stabl oc multipl regress model develop paramet could well predict stabl oc soil complet partial substitut chemic fertil n vc could promis nutrient manag strategi enhanc soc stock inceptisol potato base crop system semi arid sub tropic india howev integr use npk n vc could promis due lowest yield reduct moder soc sequestr potenti enrich well qualiti soc higher r p w system p system organ treatment like npk cr n vc cr show higher stabil soc r p w p crop system stabil soc could well predict extract amorph poorli crystallin fe al si soc crop system elsevi b v                                                                                                                                                                                                    |[null]        |\n",
            "|Coupling life-cycle assessment and the RothC model to estimate the carbon footprint of green manure-based wheat production in China                                                                   |Science of the Total Environment                   |2017|['Yao, Z.', 'Zhang, D.', 'Yao, P.', 'Zhao, N.', 'Liu, N.', 'Zhai, B.', 'Zhang, S.', 'Li, Y.', 'Huang, D.', 'Cao, W.', 'Gao, Y.']|Reducing the carbon footprint (CF) of crop production is an efficient way to mitigate climate change. Growing legume green manure (LGM) instead of summer fallow may achieve this goal by lowering synthetic nitrogen (N) fertilizer needs and replenishing the depleted soil carbon (C) pool. The Rothamsted Carbon (RothC) model was incorporated into the Life-Cycle Assessment (LCA) to evaluate the present and projected CFs of green manure-based wheat production systems in dryland agriculture on the Loess Plateau of China. The field study included four main treatments (Huai bean, soybean and mung bean grown as green manure in summer and fallow as control) and four synthetic N rates (0, 108, 135 and 162 kg N ha− 1) applied at wheat sowing. Soybean as LGM increased averaged wheat yield over 4 synthetic N rates by 8% compared with fallow (P &lt; 0.05), and synthetic N requirement was reduced by 33% without compromising the wheat yield for all the main treatments. Although LGM treatments had higher greenhouse gas (GHG) emissions from agricultural inputs, the greater amount of C inputs elevated the corresponding SOC stocks (SOCS) by 14–24% after 8 years, thus significantly reducing the CF by 25–51% compared with fallow. The modelled SOCS equilibrium indicates that the CF for cropping systems with LGM will be 53–62% lower than fallow and 23–37% lower compared with their current level. In conclusion, introducing legume green manure instead of summer fallow is a highly efficient measure for persistent CF reduction, and coupling the RothC model and LCA is an alternative method to predict the long-term impact of different cropping systems on GHG emissions. © 2017 Elsevier B.V.                                                                                                                                                                                                                                                                                                                                                                                                                                                                                                                                                    |['Carbon sequestration', 'GHG profile', 'Greenhouse gas emissions', 'Leguminous green manure', 'Process-oriented model', 'Wheat yield', 'Carbon footprint', 'Climate change', 'Cultivation', 'Gas emissions', 'Greenhouse gases', 'Manures', 'Nitrogen fertilizers', 'Carbon sequestration', 'GHG profile', 'Green manures', 'Process oriented models', 'Wheat yield', 'Life cycle', 'green manure', 'nitrogen', 'carbon footprint', 'carbon sequestration', 'climate change', 'crop production', 'crop yield', 'cropping practice', 'dryland farming', 'green manuring', 'greenhouse gas', 'life cycle analysis', 'numerical model', 'wheat', 'Article', 'carbon footprint', 'China', 'climate change', 'controlled study', 'crop production', 'cropping system', 'environmental impact assessment', 'environmental monitoring', 'fallow', 'greenhouse gas', 'legume', 'life cycle assessment', 'mung bean', 'nonhuman', 'plant yield', 'priority journal', 'soybean', 'summer', 'wheat', 'China', 'Loess Plateau', 'Glycine max', 'Triticum aestivum', 'Vigna radiata var. radiata']                                                                                                                                                                                                                                                                                                                                                                                                                                                                                                                                                                                                                                    |['Cited By :12', 'Export Date: 30 April 2020', 'CODEN: STEVA', 'Correspondence Address: Gao, Y.; College of Natural Resources and Environment, Northwest A&F UniversityChina; email: yajungao@nwsuaf.edu.cn']                                                                                                                |Article     |English|https://www.scopus.com/inward/record.uri?eid=2-s2.0-85021963916&doi=10.1016%2fj.scitotenv.2017.07.028&partnerID=40&md5=a22acab74f34a43d15be929d5efcd78c|reduc carbon footprint cf crop product effici way mitig climat chang grow legum green manur lgm instead summer fallow may achiev goal lower synthet nitrogen n fertil need replenish deplet soil carbon c pool rothamst carbon rothc model incorpor life cycl assess lca evalu present project cf green manur base wheat product system dryland agricultur loess plateau china field studi includ four main treatment huai bean soybean mung bean grown green manur summer fallow control four synthet n rate kg n ha appli wheat sow soybean lgm increas averag wheat yield synthet n rate compar fallow p lt synthet n requir reduc without compromis wheat yield main treatment although lgm treatment higher greenhous ga ghg emiss agricultur input greater amount c input elev correspond soc stock soc year thu significantli reduc cf compar fallow model soc equilibrium indic cf crop system lgm lower fallow lower compar current level conclus introduc legum green manur instead summer fallow highli effici measur persist cf reduct coupl rothc model lca altern method predict long term impact differ crop system ghg emiss elsevi b v                                                                                                                                                                                                                                                                                                 |[null]        |\n",
            "|Cropping systems affect paddy soil organic carbon and total nitrogen stocks (in rice-garlic and rice-fava systems) in temperate region of southern China                                              |Science of the Total Environment                   |2017|['Zhang, T.', 'Chen, A.', 'Liu, J.', 'Liu, H.', 'Lei, B.', 'Zhai, L.', 'Zhang, D.', 'Wang, H.']                                 |The accumulation of soil organic carbon (SOC) in agricultural soils is critical to food security and climate change. However, there is still limited information on the dynamic trend of SOC sequestration following changes in cropping systems. Paddy soils, typical of temperate region of southern China, have a large potential for carbon (C) sequestration and nitrogen (N) fixation. It is of great importance to study the impacts of changes in cropping systems on stocks of SOC and total nitrogen (TN) in paddy soils. A six-year field experiment was conducted to clarify the dynamics of SOC and TN stocks in the paddy topsoil (0–20 cm) when crop rotation of rice (Oryza sativa L.) -garlic (Allium sativum) (RG) was changed to rice-fava (Vicia faba L.) (RF), and to examine how the dynamics were affected by two N management strategies. The results showed that SOC stocks increased by 24.9% in the no N (control) treatment and by 18.9% in the treatment applied with conventional rate of N (CON), when RG was changed to RF. Correspondingly, TN stocks increased by 8.5% in the control but decreased by 2.6% in the CON. Compared with RG, RF was more conducive to increase the contents of soil microbial biomass C and N. Moreover, changing the cropping system from RG to RF increased the year-round N use efficiency from 21.6% to 34.4% and reduced soil N surplus in the CON treatment from 547 kg/ha to 93 kg/ha. In conclusion, changes in the cropping system from RG to RF could markedly increase SOC stocks, improve N utilization, reduce soil N surplus, and thus reduce the risk of N loss in the paddy soil. Overall, this study showed the potential of paddy agro-ecological systems to store C and maintain N stocks in the temperate regions. © 2017 Elsevier B.V.                                                                                                                                                                                                                                                                                                                                                                                                                                                                                |['Nitrogen balance', 'Paddy soil', 'Rice-fava system', 'Rice-garlic system', 'Soil organic carbon stock', 'Total nitrogen stock', 'Agriculture', 'Climate change', 'Food supply', 'Nitrogen', 'Organic carbon', 'Soils', 'Nitrogen balance', 'Paddy soils', 'Rice-fava system', 'Rice-garlic system', 'Soil organic Carbon stocks', 'Total nitrogen', 'Nitrogen fixation', 'nitrogen', 'organic carbon', 'soil organic carbon', 'unclassified drug', 'agricultural soil', 'carbon sequestration', 'cropping practice', 'nitrogen fixation', 'paddy farming', 'soil carbon', 'soil nitrogen', 'Article', 'carbon storage', 'chemical composition', 'China', 'climate', 'controlled study', 'cropping system', 'dynamics', 'garlic', 'microbial biomass', 'nitrogen utilization', 'nonhuman', 'priority journal', 'rice', 'risk reduction', 'soil chemistry', 'soil management', 'soil property', 'soil treatment', 'Vicia faba', 'China', 'Allium sativum', 'Oryza sativa', 'Vicia faba']                                                                                                                                                                                                                                                                                                                                                                                                                                                                                                                                                                                                                                                                                                                                  |['Cited By :7', 'Export Date: 30 April 2020', 'CODEN: STEVA', 'Correspondence Address: Wang, H.; Key Laboratory of Nonpoint Source Pollution Control, Ministry of Agriculture, Institute of Agricultural Resources and Regional Planning, Chinese Academy of Agricultural Sciences (CAAS)China; email: wanghongyuan@caas.cn']|Article     |English|https://www.scopus.com/inward/record.uri?eid=2-s2.0-85027708515&doi=10.1016%2fj.scitotenv.2017.06.226&partnerID=40&md5=d1eedd9439a718c3bdcf9e8897344874|accumul soil organ carbon soc agricultur soil critic food secur climat chang howev still limit inform dynam trend soc sequestr follow chang crop system paddi soil typic temper region southern china larg potenti carbon c sequestr nitrogen n fixat great import studi impact chang crop system stock soc total nitrogen tn paddi soil six year field experi conduct clarifi dynam soc tn stock paddi topsoil cm crop rotat rice oryza sativa l garlic allium sativum rg chang rice fava vicia faba l rf examin dynam affect two n manag strategi result show soc stock increas n control treatment treatment appli convent rate n con rg chang rf correspondingli tn stock increas control decreas con compar rg rf conduc increas content soil microbi biomass c n moreov chang crop system rg rf increas year round n use effici reduc soil n surplu con treatment kg ha kg ha conclus chang crop system rg rf could markedli increas soc stock improv n util reduc soil n surplu thu reduc risk n loss paddi soil overal studi show potenti paddi agro ecolog system store c maintain n stock temper region elsevi b v                                                                                                                                                                                                                                                                                                                            |[null]        |\n",
            "|Microbial association with the dynamics of particulate organic carbon in response to the amendment of elevated CO2-derived wheat residue into a Mollisol                                              |Science of the Total Environment                   |2017|['Wang, Y.', 'Yu, Z.', 'Li, Y.', 'Wang, G.', 'Liu, J.', 'Liu, J.', 'Liu, X.', 'Jin, J.']                                        |As the chemical quality of crop residue is likely to be affected by elevated CO2 (eCO2), residue amendments may influence soil organic carbon (SOC) sequestration. However, in Mollisols, the dynamics of the SOC fractions in response to amendment with wheat residue produced under eCO2 and the corresponding microbial community composition remain unknown. Such investigation is essential to residue management, which affects the soil quality and productivity of future farming systems. To narrow this knowledge gap, 13C–labeled shoot and root residue derived from ambient CO2 (aCO2) or eCO2 were amended into Mollisols and incubated for 200 days. The soil was sampled during the incubation period to determine the residue-C retained in the three SOC fractions, i.e., coarse intra-aggregate particulate organic C (coarse iPOC), fine iPOC and mineral-associated organic C (MOC). The soil bacterial community was assessed using a MiSeq sequencing instrument. The results showed that the increase in SOC concentrations attributable to the application of the wheat residue primarily occurred in the coarse iPOC fraction. Compared with the aCO2-derived shoot residue, the amendment of eCO2-derived shoot residue resulted in greater SOC concentrations, whereas no significant differences (P &gt; 0.05) were observed between the aCO2- and eCO2-derived roots. Principal coordinates analysis (PCoA) showed that the residue amendment significantly (P ≤ 0.05) altered the bacterial community composition compared with the non-residue amendment. Additionally, the bacterial community in the aCO2-derived shoot treatment differed from those in the other residue treatments until day 200 of the incubation period. The eCO2-derived shoot treatment significantly increased (P ≤ 0.05) the relative abundances of the genera Acidobacteriaceae_(Subgroup_1)_uncultured, Bryobacter, Candidatus_Solibacter, Gemmatimonas and Nitrosomonadaceae_uncultured, whereas the opposite trend was observed in Nonomuraea, Actinomadura, Streptomyces and Arthrobacter (P ≤ 0.05). These results imply that the response of the microbial community to the eCO2-derived shoot treatment is associated with its contribution to the POC fractions. © 2017 Elsevier B.V.|['Chemical quality', 'Elevated CO2', 'Illumina MiSeq sequencing', 'SOC fractionation', 'Wheat residue', 'Agricultural wastes', 'Bacteria', 'Carbon dioxide', 'Soils', 'Bacterial community composition', 'Chemical quality', 'Elevated CO2', 'Illumina', 'Microbial community composition', 'Particulate organic carbon', 'Principal coordinates analysis', 'Wheat residue', 'Organic carbon', 'carbon dioxide', 'organic carbon', 'soil organic matter', 'carbon dioxide', 'crop residue', 'fractionation', 'microbial community', 'Mollisol', 'organic carbon', 'particulate organic carbon', 'soil amendment', 'soil carbon', 'soil organic matter', 'wheat', 'Article', 'bioaccumulation', 'carbon sequestration', 'controlled study', 'ecosystem restoration', 'farming system', 'incubation time', 'microbial community', 'nonhuman', 'plant root', 'population abundance', 'priority journal', 'residue analysis', 'shoot', 'soil moisture', 'soil quality', 'wheat', 'Acidobacteriaceae', 'Actinomadura', 'Arthrobacter', 'Bacteria (microorganisms)', 'Gemmatimonas', 'Nitrosomonadaceae', 'Nonomuraea', 'Solibacter', 'Streptomyces', 'Triticum aestivum']                                                                                                                                                                                                                                                                                                                                                                                                                                                                                                                                                      |['Cited By :7', 'Export Date: 30 April 2020', 'CODEN: STEVA', 'Correspondence Address: Jin, J.138 Haping Road, China; email: jinjian29@hotmail.com']                                                                                                                                                                         |Article     |English|https://www.scopus.com/inward/record.uri?eid=2-s2.0-85023623238&doi=10.1016%2fj.scitotenv.2017.07.087&partnerID=40&md5=926c114c2811ef0b32f7ad6a8b8f1688|chemic qualiti crop residu like affect elev co eco residu amend may influenc soil organ carbon soc sequestr howev mollisol dynam soc fraction respons amend wheat residu produc eco correspond microbi commun composit remain unknown investig essenti residu manag affect soil qualiti product futur farm system narrow knowledg gap c label shoot root residu deriv ambient co aco eco amend mollisol incub day soil sampl incub period determin residu c retain three soc fraction e coars intra aggreg particul organ c coars ipoc fine ipoc miner associ organ c moc soil bacteri commun assess use miseq sequenc instrument result show increas soc concentr attribut applic wheat residu primarili occur coars ipoc fraction compar aco deriv shoot residu amend eco deriv shoot residu result greater soc concentr wherea signific differ p gt observ aco eco deriv root princip coordin analysi pcoa show residu amend significantli p alter bacteri commun composit compar non residu amend addit bacteri commun aco deriv shoot treatment differ residu treatment day incub period eco deriv shoot treatment significantli increas p rel abund genera acidobacteriacea subgroup uncultur bryobact candidatu solibact gemmatimona nitrosomonadacea uncultur wherea opposit trend observ nonomuraea actinomadura streptomyc arthrobact p result impli respons microbi commun eco deriv shoot treatment associ contribut poc fraction elsevi b v|[null]        |\n",
            "|Effects of apple branch biochar on soil C mineralization and nutrient cycling under two levels of N                                                                                                   |Science of the Total Environment                   |2017|['Li, S.', 'Liang, C.', 'Shangguan, Z.']                                                                                        |The incorporation of biochar into soil has been proposed as a strategy for enhancing soil fertility and crop productivity. However, there is limited information regarding the responses of soil respiration and the C, N and P cycles to the addition of apple branch biochar at different rates to soil with different levels of N. A 108-day incubation experiment was conducted to investigate the effects of the rate of biochar addition (0, 1, 2 and 4% by mass) on soil respiration and nutrients and the activities of enzymes involved in C, N and P cycling under two levels of N. Our results showed that the application of apple branch biochar at rates of 2% and 4% increased the C-mineralization rate, while biochar amendment at 1% decreased the C-mineralization rate, regardless of the N level. The soil organic C and microbial biomass C and P contents increased as the rate of biochar addition was increased to 2%. The biochar had negative effects on β-glucosidase, N-acetyl-β-glucosaminidase and urease activity in N-poor soil but exerted a positive effect on all of these factors in N-rich soil. Alkaline phosphatase activity increased with an increase in the rate of biochar addition, but the available P contents after all biochar addition treatments were lower than those obtained in the treatments without biochar. Biochar application at rates of 2% and 4% reduced the soil nitrate content, particularly in N-rich soil. Thus, apple branch biochar has the potential to sequester C and improve soil fertility, but the responses of soil C mineralization and nutrient cycling depend on the rate of addition and soil N levels. © 2017 Elsevier B.V.                                                                                                                                                                                                                                                                                                                                                                                                                                                                                                                                                                                             |['Biochar', 'Enzyme activity', 'Nitrogen', 'Phosphorus', 'Soil carbon', 'Carbon', 'Enzyme activity', 'Enzymes', 'Fruits', 'Mineralogy', 'Nitrogen', 'Nutrients', 'Phosphatases', 'Phosphorus', 'Alkaline phosphatase activity', 'Bio chars', 'Biochar amendments', 'Crop productivity', 'Limited information', 'Microbial biomass c', 'Nutrient cycling', 'Soil carbon', 'Soils', 'alkaline phosphatase', 'beta glucosidase', 'biochar', 'charcoal', 'n acetyl beta glucosaminidase', 'unclassified drug', 'urease', 'carbon sequestration', 'enzyme activity', 'mineralization', 'nitrogen', 'nutrient cycling', 'phosphorus', 'soil carbon', 'soil respiration', 'Article', 'biomass', 'carbon cycle', 'carbon mineralization', 'crop production', 'environmental temperature', 'enzyme activity', 'incubation time', 'nitrogen cycle', 'nonhuman', 'phosphorus cycle', 'plant structures', 'priority journal', 'scanning electron microscopy', 'soil fertility', 'soil property', 'soil respiration', 'Malus x domestica']                                                                                                                                                                                                                                                                                                                                                                                                                                                                                                                                                                                                                                                                                             |['Cited By :23', 'Export Date: 30 April 2020', 'CODEN: STEVA', 'Correspondence Address: Shangguan, Z.; Institute of Soil and Water Conservation, Xinong Rd. 26, China; email: shangguan@ms.iswc.ac.cn']                                                                                                                      |Article     |English|https://www.scopus.com/inward/record.uri?eid=2-s2.0-85021766531&doi=10.1016%2fj.scitotenv.2017.06.275&partnerID=40&md5=b37c4c2758ce5b7ae85184a62136caa7|incorpor biochar soil propos strategi enhanc soil fertil crop product howev limit inform regard respons soil respir c n p cycl addit appl branch biochar differ rate soil differ level n day incub experi conduct investig effect rate biochar addit mass soil respir nutrient activ enzym involv c n p cycl two level n result show applic appl branch biochar rate increas c miner rate biochar amend decreas c miner rate regardless n level soil organ c microbi biomass c p content increas rate biochar addit increas biochar neg effect glucosidas n acetyl glucosaminidas ureas activ n poor soil exert posit effect factor n rich soil alkalin phosphatas activ increas increas rate biochar addit avail p content biochar addit treatment lower obtain treatment without biochar biochar applic rate reduc soil nitrat content particularli n rich soil thu appl branch biochar potenti sequest c improv soil fertil respons soil c miner nutrient cycl depend rate addit soil n level elsevi b v                                                                                                                                                                                                                                                                                                                                                                                                                                             |[null]        |\n",
            "|Development of a soft extraction method for sulfamethoxazole and transformation products from agricultural soils: Effects of organic matter co-extraction on the environmental availability assessment|Science of the Total Environment                   |2017|['Goulas, A.', 'Bourdat-Deschamps, M.', 'Nélieu, S.', 'Jimenez, J.', 'Patureau, D.', 'Haudin, C.-S.', 'Benoit, P.']             |The recycling of biosolids and livestock manure in agriculture may lead to the introduction of antibiotic residues, i.e., parent molecule and transformation products, into amended soils. Their fate in soils can be approached through the assessment of their environmental availability. In this work, the environmental availability of sulfamethoxazole (SMX) and three transformation products (N4-acetyl-SMX, 3-amino-5-methylisoxazole, aniline) was assessed in soils amended with sludge compost or cow manure throughout a three-month incubation, using soft extractions with CaCl2, EDTA or cyclodextrin solutions. First, the freeze-storage of soil samples was shown to decrease the SMX extractability. The SMX extractability depended on the initial concentration, the amendment type and the extracting solution at day 0. From 1.9% up to 63% of the SMX total content was initially extractable. The lowest fractions were quantified in EDTA extracts in which the dissolved organic matter was the most complex and responsible for high matrix effects in mass spectrometry compared to CaCl2 extracts. The purification of cyclodextrin extracts highly reduced the matrix effects, but CaCl2 was considered as the most suitable extractant. SMX extractability strongly decreased after the first 8 days of incubation to finally reach 0.4–0.8% after 84 days, whatever the initial conditions. This high decrease could be related to humification observed through the increasing complexity of extracted dissolved organic matter. Very low levels of transformation products were quantified throughout the incubation period. The low environmental availability of SMX was mainly due to its sorption on soil organic matter and resulted in its low biotransformation in these amended soils. © 2017 Elsevier B.V.                                                                                                                                                                                                                                                                                                                                                                                                                                                  |['Adsorption', 'Fluorescence spectrometry', 'Freely-dissolved fraction', 'Organic waste product', 'Sulfonamide', 'Adsorption', 'Agriculture', 'Biogeochemistry', 'Biological materials', 'Chlorine compounds', 'Composting', 'Cyclodextrins', 'Dissolution', 'Extraction', 'Fertilizers', 'Fluorescence spectroscopy', 'Manures', 'Mass spectrometry', 'Organic compounds', 'Soils', 'Sulfur compounds', 'Availability assessment', 'Dissolved fraction', 'Dissolved organic matters', 'Fluorescence spectrometry', 'Organic wastes', 'Sulfamethoxazole (SMX)', 'Sulfonamide', 'Transformation products', 'Soil pollution', 'organic matter', 'sulfamethoxazole', 'sulfamethoxazole', 'adsorption', 'agricultural soil', 'biotransformation', 'dissolved organic matter', 'environmental fate', 'extraction method', 'fluorescence spectroscopy', 'soil amendment', 'soil organic matter', 'soil pollution', 'agriculture', 'Article', 'biotransformation', 'centrifugation', 'drug transformation', 'environmental impact assessment', 'environmental management', 'fluorescence spectroscopy', 'high performance liquid chromatography', 'hydroxylation', 'incubation time', 'limit of detection', 'limit of quantitation', 'mass spectrometry', 'priority journal', 'soil analysis', 'solid phase extraction', 'agriculture', 'animal', 'bovine', 'chemical analysis', 'chemistry', 'isolation and purification', 'manure', 'procedures', 'sewage', 'soil', 'soil pollutant', 'Agriculture', 'Animals', 'Cattle', 'Chemistry Techniques, Analytical', 'Manure', 'Sewage', 'Soil', 'Soil Pollutants', 'Sulfamethoxazole']                                                                                               |['Cited By :8', 'Export Date: 30 April 2020', 'CODEN: STEVA', 'Correspondence Address: Bourdat-Deschamps, M.; UMR ECOSYS, INRA, AgroParisTech, Université Paris-SaclayFrance; email: marjolaine.deschamps@inra.fr']                                                                                                          |Article     |English|https://www.scopus.com/inward/record.uri?eid=2-s2.0-85023626429&doi=10.1016%2fj.scitotenv.2017.06.192&partnerID=40&md5=a28c3b659c5b72598a8aed90bdac56bf|recycl biosolid livestock manur agricultur may lead introduct antibiot residu e parent molecul transform product amend soil fate soil approach assess environment avail work environment avail sulfamethoxazol smx three transform product n acetyl smx amino methylisoxazol anilin assess soil amend sludg compost cow manur throughout three month incub use soft extract cacl edta cyclodextrin solut first freez storag soil sampl shown decreas smx extract smx extract depend initi concentr amend type extract solut day smx total content initi extract lowest fraction quantifi edta extract dissolv organ matter complex respons high matrix effect mass spectrometri compar cacl extract purif cyclodextrin extract highli reduc matrix effect cacl consid suitabl extract smx extract strongli decreas first day incub final reach day whatev initi condit high decreas could relat humif observ increas complex extract dissolv organ matter low level transform product quantifi throughout incub period low environment avail smx mainli due sorption soil organ matter result low biotransform amend soil elsevi b v                                                                                                                                                                                                                                                                                                                    |[null]        |\n",
            "|Excessive application of pig manure increases the risk of P loss in calcic cinnamon soil in China                                                                                                     |Science of the Total Environment                   |2017|['Yang, Y.', 'Zhang, H.', 'Qian, X.', 'Duan, J.', 'Wang, G.']                                                                   |Soil phosphorus (P) is a critical factor affecting crop yields and water environmental quality. To investigate the degree of loss risk and forms of soil P in calcic cinnamon soil, the P fraction activities in soils were analysed using chemical methods, combined with an in situ field experiment. Seven treatments were set in this study, including control (unfertilized), no P fertilizer (No-P), mineral P fertilizer (Min-P), low (L-Man) and high (H-Man) quantities of pig manure, Min-P + L-Man, and Min-P + H-Man. The results showed that manure fertilizer could not only significantly increase maize yield but could also enhance the accumulation of soil P in organic and inorganic forms. After 23 years of repeated fertilization, the soil Olsen-P contents respectively showed 64.7-, 43.7- and 31.9-fold increases in the Min-P + H-Man, Min-P + L-Man and H-Man treatments, while the soil Olsen-P in Min-P treatment only increased 23.7-fold. The soil Olsen-P thresholds ranged from 22.59 to 32.48 mg kg− 1 in calcic cinnamon soil to maintain a higher maize yield as well as a lower risk of P loss. Therefore, long-term excessive manure application could obviously raise the content of soil Olsen-P and increase the risk of P loss in calcic cinnamon soil. © 2017                                                                                                                                                                                                                                                                                                                                                                                                                                                                                                                                                                                                                                                                                                                                                                                                                                                                                                                                                                                                |['Olsen-P', 'Organic phosphorus', 'Phosphorus loss', 'Phosphorus threshold range', 'Soil phosphorus forms', 'Manures', 'Phosphorus', 'Soils', 'Critical factors', 'Environmental quality', 'Field experiment', 'Manure applications', 'Olsen-p', 'Organic phosphorus', 'Phosphorus loss', 'Soil phosphorus', 'Fertilizers', 'phosphorus', 'soil organic matter', 'chemical method', 'crop yield', 'fertilizer', 'manure', 'phosphorus', 'soil chemistry', 'Article', 'calcic cinnamon soil', 'China', 'controlled study', 'fertilizer application', 'field experiment', 'fractionation', 'harvest', 'maize', 'manure', 'priority journal', 'soil', 'soil analysis', 'soil fertilization', 'soil management', 'China', 'Cinnamomum verum', 'Suidae', 'Zea mays']                                                                                                                                                                                                                                                                                                                                                                                                                                                                                                                                                                                                                                                                                                                                                                                                                                                                                                                                                           |['Cited By :7', 'Export Date: 30 April 2020', 'CODEN: STEVA', 'Correspondence Address: Yang, Y.; School of Agricultural Resources and Environment, Hunan Agriculture UniversityChina; email: yangyanju@yzu.edu.cn']                                                                                                          |Article     |English|https://www.scopus.com/inward/record.uri?eid=2-s2.0-85024851417&doi=10.1016%2fj.scitotenv.2017.07.149&partnerID=40&md5=8c2ddc58c64d232270ff92736d5b2fe7|soil phosphoru p critic factor affect crop yield water environment qualiti investig degre loss risk form soil p calcic cinnamon soil p fraction activ soil analys use chemic method combin situ field experi seven treatment set studi includ control unfertil p fertil p miner p fertil min p low l man high h man quantiti pig manur min p l man min p h man result show manur fertil could not significantli increas maiz yield could also enhanc accumul soil p organ inorgan form year repeat fertil soil olsen p content respect show fold increas min p h man min p l man h man treatment soil olsen p min p treatment increas fold soil olsen p threshold rang mg kg calcic cinnamon soil maintain higher maiz yield well lower risk p loss therefor long term excess manur applic could obvious rais content soil olsen p increas risk p loss calcic cinnamon soil                                                                                                                                                                                                                                                                                                                                                                                                                                                                                                                                                                             |[null]        |\n",
            "|Co-digestion of rice straw and cow dung to supply cooking fuel and fertilizers in rural India: Impact on human health, resource flows and climate change                                              |Science of the Total Environment                   |2017|['Sfez, S.', 'De Meester, S.', 'Dewulf, J.']                                                                                    |Anaerobic digestion of cow dung with new feedstock such as crop residues to increase the biogas potential is an option to help overcoming several issues faced by India. Anaerobic digestion provides biogas that can replace biomass cooking fuels and reduce indoor air pollution. It also provides digestate, a fertilizer that can contribute to compensate nutrient shortage on agricultural land. Moreover, it avoids the burning of rice straw in the fields which contributes to air pollution in India and climate change globally. Not only the technical and economical feasibility but also the environmental sustainability of such systems needs to be assessed. The potential effects of implementing community digesters co-digesting cow dung and rice straw on carbon and nutrients flows, human health, resource efficiency and climate change are analyzed by conducting a Substance Flow Analysis and a Life Cycle Assessment. The implementation of the technology is considered at the level of the state of Chhattisgarh. Implementing this scenario reduces the dependency of the rural community to nitrogen and phosphorus from synthetic fertilizers only by 0.1 and 1.6%, respectively, but the dependency of farmers to potassium from synthetic fertilizers by 31%. The prospective scenario returns more organic carbon to agricultural land and thus has a potential positive effect on soil quality. The implementation of the prospective scenario can reduce the health impact of the local population by 48%, increase the resource efficiency of the system by 60% and lower the impact on climate change by 13%. This study highlights the large potential of anaerobic digestion to overcome the aforementioned issues faced by India. It demonstrates the need to couple local and global assessments and to conduct analyses at the substance level to assess the sustainability of such systems. © 2017 Elsevier B.V.                                                                                                                                                                                                                                                                                                                                          |['Agricultural waste', 'Biogas', 'Life Cycle Assessment', 'Nutrients', 'Substance Flow Analysis', 'Agricultural wastes', 'Agriculture', 'Air pollution', 'Anaerobic digestion', 'Biogas', 'Efficiency', 'Fertilizers', 'Health', 'Indoor air pollution', 'Life cycle', 'Nitrogen fertilizers', 'Nutrients', 'Organic carbon', 'Pollution', 'Rural areas', 'Sustainable development', 'Economical feasibility', 'Environmental sustainability', 'Life Cycle Assessment (LCA)', 'Nitrogen and phosphorus', 'Potential effects', 'Resource efficiencies', 'Substance flow analysis', 'Synthetic fertilizers', 'Climate change', 'biofuel', 'biogas', 'fertilizer', 'nitrogen', 'organic carbon', 'phosphorus', 'potassium', 'fertilizer', 'nitrogen', 'atmospheric pollution', 'biogas', 'climate change', 'fertilizer', 'health impact', 'life cycle analysis', 'nutrient', 'pollution effect', 'public health', 'rural area', 'agricultural land', 'anaerobic digestion', 'Article', 'biomass', 'climate change', 'controlled study', 'cow dung', 'environmental sustainability', 'health status', 'human', 'incineration', 'India', 'indoor air pollution', 'life cycle assessment', 'manure', 'plant residue', 'priority journal', 'rice straw', 'rural area', 'rural population', 'soil quality', 'waste-to-energy', 'air pollution', 'animal', 'bovine', 'chemistry', 'cooking', 'environment', 'Oryza', 'prevention and control', 'prospective study', 'soil', 'statistics and numerical data', 'Chhattisgarh', 'India', 'Air Pollution', 'Animals', 'Biofuels', 'Cattle', 'Climate Change', 'Cooking', 'Environment', 'Fertilizers', 'Humans', 'India', 'Manure', 'Nitrogen', 'Oryza', 'Prospective Studies', 'Soil']|['Cited By :12', 'Export Date: 30 April 2020', 'CODEN: STEVA', 'Correspondence Address: Sfez, S.; Department of Sustainable Organic Chemistry and Technology (EnVOC), Faculty of Bioscience Engineering, Ghent University – Campus Coupure, Coupure Links 653, Belgium; email: sophie.sfez@ugent.be']                        |Article     |English|https://www.scopus.com/inward/record.uri?eid=2-s2.0-85026890176&doi=10.1016%2fj.scitotenv.2017.07.150&partnerID=40&md5=c9a7372f414acfde413512567d97012e|anaerob digest cow dung new feedstock crop residu increas bioga potenti option help overcom sever issu face india anaerob digest provid bioga replac biomass cook fuel reduc indoor air pollut also provid digest fertil contribut compens nutrient shortag agricultur land moreov avoid burn rice straw field contribut air pollut india climat chang global not technic econom feasibl also environment sustain system need assess potenti effect implement commun digest co digest cow dung rice straw carbon nutrient flow human health resourc effici climat chang analyz conduct substanc flow analysi life cycl assess implement technolog consid level state chhattisgarh implement scenario reduc depend rural commun nitrogen phosphoru synthet fertil respect depend farmer potassium synthet fertil prospect scenario return organ carbon agricultur land thu potenti posit effect soil qualiti implement prospect scenario reduc health impact local popul increas resourc effici system lower impact climat chang studi highlight larg potenti anaerob digest overcom aforement issu face india demonstr need coupl local global assess conduct analys substanc level assess sustain system elsevi b v                                                                                                                                                                                                                                    |[null]        |\n",
            "|Land use change effects on ecosystem carbon budget in the Sichuan Basin of Southwest China: Conversion of cropland to forest ecosystem                                                                |Science of the Total Environment                   |2017|['Wang, X.', 'Zhou, M.', 'Li, T.', 'Ke, Y.', 'Zhu, B.']                                                                         |In the humid subtropics, conversion of cropland to forest has been recognized to influence carbon cycling (e.g., soil CO2 emissions) and the associated ecosystem carbon balance. A three-year field study was conducted in situ to quantitatively evaluate effects of land use change on carbon budget in a cropland (under winter wheat-summer maize rotation) comparison with the adjacent forest ecosystem. During the three-year experimental period, on average, soil heterotrophic respirations were 35.19 mg C·m− 2·h− 1 for the cropland and 40.02 mg C·m− 2·h− 1 for the adjacent forest ecosystem. The quantified net primary production (NPP) were 8724.78 kg C·ha− 1·year− 1 for the cropland (3218.14 kg C·ha− 1 for winter wheat season and 5506.64 kg C·ha− 1 for summer maize season) and 6478.99 kg C·ha− 1·year− 1 for the adjacent forest ecosystem. Thus, the average positive net ecosystem production (NEP) of 5139.33 kg C·ha− 1·year− 1 and 2790.43 kg C·ha− 1·year− 1 were gained in the cropland and the adjacent forest ecosystem, respectively. Nonetheless, if take into consideration of crop grain harvest (i.e., removal), the mean NEP was only 976.69 kg C·ha− 1·year− 1 for cropland which were over three-fold lower than for the adjacent forest ecosystem. The practice of conversion of cropland (maize-wheat rotation system) to forest consequently resulted in an average annual net carbon sequestration of 1813.74 kg C·ha− 1·year− 1 in the study. Therefore, our findings highlight that practices of conversion of subtropical cropland to forest commonly conducted in the last decades act as sinks of atmospheric CO2 in southwest China. © 2017 Elsevier B.V.                                                                                                                                                                                                                                                                                                                                                                                                                                                                                                                                                                                         |['Carbon balance', 'Land use change', 'Net primary productivity', 'Soil organic carbon', 'Atmospheric chemistry', 'Budget control', 'Carbon dioxide', 'Crops', 'Forestry', 'Land use', 'Organic carbon', 'Soils', 'Carbon balance', 'Carbon sequestration', 'Heterotrophic respiration', 'Land-use change', 'Net ecosystem production', 'Net primary production', 'Net primary productivity', 'Soil organic carbon', 'Ecosystems', 'agricultural land', 'carbon balance', 'carbon budget', 'forest ecosystem', 'humid tropics', 'land use change', 'net primary production', 'organic carbon', 'soil organic matter', 'Article', 'carbon budget', 'carbon cycling', 'carbon sink', 'China', 'controlled study', 'crop rotation', 'cropland', 'environmental parameters', 'field study', 'forest', 'land use', 'maize', 'net ecosystem production', 'net primary production', 'priority journal', 'quantitative analysis', 'soil analysis', 'soil property', 'soil respiration', 'winter wheat', 'carbon sequestration', 'chemistry', 'crop', 'ecosystem', 'growth, development and aging', 'soil', 'China', 'Sichuan Basin', 'Triticum aestivum', 'Zea mays', 'carbon', 'carbon dioxide', 'Carbon', 'Carbon Dioxide', 'Carbon Sequestration', 'China', 'Crops, Agricultural', 'Ecosystem', 'Forests', 'Soil']                                                                                                                                                                                                                                                                                                                                                                                                             |['Cited By :3', 'Export Date: 30 April 2020', 'CODEN: STEVA', 'Correspondence Address: Zhou, M.; Key Laboratory of Mountain Surface Processes and Ecological Regulation, Institute of Mountain Hazards and Environment Research, Chinese Academy of SciencesChina; email: mhuazhou@imde.ac.cn']                              |Article     |English|https://www.scopus.com/inward/record.uri?eid=2-s2.0-85026234721&doi=10.1016%2fj.scitotenv.2017.07.167&partnerID=40&md5=70ca5d5bc119bd57860f8db2a515a1fa|humid subtrop convers cropland forest recogn influenc carbon cycl e g soil co emiss associ ecosystem carbon balanc three year field studi conduct situ quantit evalu effect land use chang carbon budget cropland winter wheat summer maiz rotat comparison adjac forest ecosystem three year experiment period averag soil heterotroph respir mg c h cropland mg c h adjac forest ecosystem quantifi net primari product npp kg c ha year cropland kg c ha winter wheat season kg c ha summer maiz season kg c ha year adjac forest ecosystem thu averag posit net ecosystem product nep kg c ha year kg c ha year gain cropland adjac forest ecosystem respect nonetheless take consider crop grain harvest e remov mean nep kg c ha year cropland three fold lower adjac forest ecosystem practic convers cropland maiz wheat rotat system forest consequ result averag annual net carbon sequestr kg c ha year studi therefor find highlight practic convers subtrop cropland forest commonli conduct last decad act sink atmospher co southwest china elsevi b v                                                                                                                                                                                                                                                                                                                                                                                   |[null]        |\n",
            "|Soil aggregate stability and size-selective sediment transport with surface runoff as affected by organic residue amendment                                                                           |Science of the Total Environment                   |2017|['Shi, P.', 'Arter, C.', 'Liu, X.', 'Keller, M.', 'Schulin, R.']                                                                |Aggregate breakdown influences the availability of soil particles for size-selective sediment transport with surface runoff during erosive rainfall events. Organic matter management is known to affect aggregate stability against breakdown, but little is known about how this translates into rainfall-induced aggregate fragmentation and sediment transport under field conditions. In this study, we performed field experiments in which artificial rainfall was applied after pre-wetting on three pairs of arable soil plots (1.5 × 0.75 m) six weeks after incorporating a mixture of grass and wheat straw into the topsoil of one plot in each pair (OI treatment) but not on the other plot (NI treatment). Artificial rainfall was applied for approximately 2 h on each pair at an intensity of 49.1 mm h− 1. In both treatments, discharge and sediment concentration in the discharge were correlated and followed a similar temporal pattern after the onset of surface runoff: After a sharp increase at the beginning both approached a steady state. But the onset of runoff was more delayed on the OI plots, and the discharge and sediment concentration were in average only roughly half as high on the OI as on the NI plots. With increasing discharge the fraction of coarse sediment increased. This relationship did not differ between the two treatments. Thus, due to the lower discharge, the fraction of fine particles in the exported sediment was larger in the runoff from the OI plots than from the NI plots. The later runoff onset and lower discharge rate was related to a higher initial aggregate stability on the OI plots. Terrestrial laser scanning proved to be a very valuable method to map changes in the micro-topography of the soil surfaces. It revealed a much less profound decrease in surface roughness on the OI than on the NI plots. © 2016                                                                                                                                                                                                                                                                                                                                                                                          |['Aggregate breakdown', 'Artificial rainfall', 'Soil erosion', 'Surface roughness', 'Terrestrial laser scanning', 'Aggregates', 'Laser applications', 'Rain', 'Runoff', 'Sediment transport', 'Sedimentation', 'Soils', 'Steel beams and girders', 'Surface analysis', 'Wetting', 'Aggregate stability', 'Artificial rainfall', 'Organic residues', 'Sediment concentration', 'Similar temporal patterns', 'Soil aggregate stability', 'Soil erosion', 'Terrestrial laser scanning', 'Surface roughness', 'organic matter', 'rain', 'laser method', 'runoff', 'sediment transport', 'soil aggregate', 'soil amendment', 'soil erosion', 'soil management', 'soil organic matter', 'soil surface', 'surface roughness', 'Article', 'grass', 'particle size', 'priority journal', 'runoff', 'sediment transport', 'soil aggregation', 'soil amendment', 'soil erosion', 'straw', 'surface property', 'topography', 'wheat', 'Triticum aestivum']                                                                                                                                                                                                                                                                                                                                                                                                                                                                                                                                                                                                                                                                                                                                                                            |['Cited By :17', 'Export Date: 30 April 2020', 'CODEN: STEVA', 'Correspondence Address: Shi, P.; Institute of Terrestrial Ecosystems, ETH Zürich, CHN F28.2, Universitätstrasse 16, Switzerland; email: pu.shi@usys.ethz.ch']                                                                                                |Article     |English|https://www.scopus.com/inward/record.uri?eid=2-s2.0-85021762264&doi=10.1016%2fj.scitotenv.2017.07.008&partnerID=40&md5=77d9052d5bb515c04789cc00d1aba9d5|aggreg breakdown influenc avail soil particl size select sediment transport surfac runoff eros rainfal event organ matter manag known affect aggreg stabil breakdown littl known translat rainfal induc aggreg fragment sediment transport field condit studi perform field experi artifici rainfal appli pre wet three pair arabl soil plot six week incorpor mixtur grass wheat straw topsoil one plot pair oi treatment not plot ni treatment artifici rainfal appli approxim h pair intens mm h treatment discharg sediment concentr discharg correl follow similar tempor pattern onset surfac runoff sharp increas begin approach steadi state onset runoff delay oi plot discharg sediment concentr averag roughli half high oi ni plot increas discharg fraction coars sediment increas relationship not differ two treatment thu due lower discharg fraction fine particl export sediment larger runoff oi plot ni plot later runoff onset lower discharg rate relat higher initi aggreg stabil oi plot terrestri laser scan prove valuabl method map chang micro topographi soil surfac reveal much less profound decreas surfac rough oi ni plot                                                                                                                                                                                                                                                                                             |[null]        |\n",
            "|Biochar mitigates salinity stress in plants                                                                                                                                                           |Plant Adaptation Strategies in Changing Environment|2017|['Patel, A.', 'Khare, P.', 'Patra, D.D.']                                                                                       |Salinity is a major problem in India. It not only hampers the growth of plant and productivity but also decreases the soil productivity. Some plants develop several mechanisms to cope up Salinity stress like ion regulation by Na/H antiporter; synthesis of amino acids like valine, aspartic acid, and proline; etc. Various antioxidants play crucial role in combating salinity stress. Biochar (product obtained after pyrolysis of any organic compound) enhances the fertility of soil as it improves the soil cation exchange capacity and water holding capacity. That in turn improves the nutrient capacity of the soil. A biochar property is also dependent on the type of material and pyrolysis temperature. After biochar amendment to the saline soil, its physicochemical parameters improve like organic carbon, CEC, available phosphorous, etc. Thus, biochar not only enhances the crop productivity but also improves soil enzymatic activity. © Springer Nature Singapore Pte Ltd. 2017.                                                                                                                                                                                                                                                                                                                                                                                                                                                                                                                                                                                                                                                                                                                                                                                                                                                                                                                                                                                                                                                                                                                                                                                                                                                                                       |['Antioxidants', 'Biochar', 'Salinity', 'Soil enzymes']                                                                                                                                                                                                                                                                                                                                                                                                                                                                                                                                                                                                                                                                                                                                                                                                                                                                                                                                                                                                                                                                                                                                                                                                                                                                                                                                                                                                                                                                                                                                                                                                                                                                   |['Cited By :1', 'Export Date: 30 April 2020', 'Correspondence Address: Patel, A.; School of Earth Sciences, Banasthali VidyapithIndia; email: patel7anju@gmail.com']                                                                                                                                                         |Book Chapter|English|https://www.scopus.com/inward/record.uri?eid=2-s2.0-85042636825&doi=10.1007%2f978-981-10-6744-0_6&partnerID=40&md5=2be0ef55ee9d001cd70481882d0afa22    |salin major problem india not hamper growth plant product also decreas soil product plant develop sever mechan cope salin stress like ion regul na h antiport synthesi amino acid like valin aspart acid prolin etc variou antioxid play crucial role combat salin stress biochar product obtain pyrolysi organ compound enhanc fertil soil improv soil cation exchang capac water hold capac turn improv nutrient capac soil biochar properti also depend type materi pyrolysi temperatur biochar amend salin soil physicochem paramet improv like organ carbon cec avail phosphor etc thu biochar not enhanc crop product also improv soil enzymat activ springer natur singapor pte ltd                                                                                                                                                                                                                                                                                                                                                                                                                                                                                                                                                                                                                                                                                                                                                              |[null]        |\n",
            "|Rationally managed pastures stock more carbon than no-tillage fields                                                                                                                                  |Frontiers in Environmental Science                 |2017|['Seó, H.L.S.', 'Filho, L.C.P.M.', 'Brugnara, D.']                                                                              |A significant share of Greenhouse Gases (GHG) produced from agriculture comes from cattle farming. The reduction in GHG emissions from ruminants fed with grains has led some researchers to recommend such a diet as a means of mitigating emissions in the sector. A more accurate balance of emissions, however, must include the carbon (C) stocked by feed crops. Within the grain production system, no-tillage (NT) cultivation systems have a greater capacity to increase and store soil organic carbon (SOC). Within grazing management systems, the rotation used in Voisin's Rational Grazing (VRG) allows the accumulation of SOC through root growth. The objective of this study was to assess the C stock of pasture under VRG and compare soil C stock between VRG pasture and fields under no-tillage management, in two seasons over a period of 1 year. The study included five dairy farms in Santa Catarina State, Brazil. In each property, we collected soil to quantify SOC from VRG pasture and NT fields, in summer and winter. In the pasture, to determine the total stock, we also collected samples from the aerial parts of plants and the roots. Further, we estimated how efficient would be producing milk from those pastures or from those crops. The VRG pasture showed a greater capacity to stock C in the soil than the no-tillage fields (VRG = 115.0 Mg C ha-1; NT = 92.5 Mg C ha-1; p &lt; 0.00009), with the greatest difference at a depth of 0-10 cm (VRG = 41 Mg C ha-1; NT = 32 Mg C ha-1; p &lt; 0.00008). In VRG, 95% of C was in the soil, 1% in the aerial part of plants, and 4% in the roots. On pasture was produced 0.15 kg of milk.kg-1 of C stored, and on NT system 0.13 kg of milk.kg-1 of C stored. In this study, we conclude that independent of season, the soil in well managed pastures had a greater stock of C, produced more milk and produced more milk.kg-1 of stored C than fields under NT management. Therefore, when comparing GHG emissions of ruminants with different diets, we must also quantify the SOC resulting from distinct feed production systems. © 2017 Seó, Machado Filho and Brugnara.                                                                                                                        |['Feed production system', 'No-till', 'Pasture', 'Roots', 'Soil organic carbon', \"Voisin's grazing management\"]                                                                                                                                                                                                                                                                                                                                                                                                                                                                                                                                                                                                                                                                                                                                                                                                                                                                                                                                                                                                                                                                                                                                                                                                                                                                                                                                                                                                                                                                                                                                                                                                           |['Cited By :2', 'Export Date: 30 April 2020', 'Correspondence Address: Seó, H.L.S.; LETA-Laboratory of Applied Ethology, Department of Zootechny and Rural Development, Federal University of Santa CatarinaBrazil; email: hizumi@hotmail.com']                                                                              |Article     |English|https://www.scopus.com/inward/record.uri?eid=2-s2.0-85043688212&doi=10.3389%2ffenvs.2017.00087&partnerID=40&md5=9e4fa66517c92b2a707cd5386d77d8c7       |signific share greenhous gase ghg produc agricultur come cattl farm reduct ghg emiss rumin fed grain led research recommend diet mean mitig emiss sector accur balanc emiss howev must includ carbon c stock feed crop within grain product system tillag nt cultiv system greater capac increas store soil organ carbon soc within graze manag system rotat use voisin ration graze vrg allow accumul soc root growth object studi assess c stock pastur vrg compar soil c stock vrg pastur field tillag manag two season period year studi includ five dairi farm santa catarina state brazil properti collect soil quantifi soc vrg pastur nt field summer winter pastur determin total stock also collect sampl aerial part plant root estim effici would produc milk pastur crop vrg pastur show greater capac stock c soil tillag field vrg mg c ha nt mg c ha p lt greatest differ depth cm vrg mg c ha nt mg c ha p lt vrg c soil aerial part plant root pastur produc kg milk kg c store nt system kg milk kg c store studi conclud independ season soil well manag pastur greater stock c produc milk produc milk kg store c field nt manag therefor compar ghg emiss rumin differ diet must also quantifi soc result distinct feed product system se machado filho brugnara                                                                                                                                                                  |[null]        |\n",
            "|Effect of Different Organic Wastes on Soil Propertie s and Plant Growth and Yield: A Review                                                                                                           |Scientia Agriculturae Bohemica                     |2017|['Hossain, M.Z.', 'Fragstein, P.V.', 'Niemsdorff, P.V.', 'Heß, J.']                                                             |The use of organic wastes in agriculture plays a great role in recycling essential plant nutrients, sustaining soil security as well as protecting the environment from unwanted hazards. This review article deals with the effect of different kinds of organic wastes on soil properties and plant growth and yield. Municipal solid waste is mainly used as a source of nitrogen and organic matter, improving soil properties and microbial activity that are closely related to soil fertility. Biowaste and food waste increase pH, nitrogen content, cation exchange capacity, water holding capacity, and microbial biomass in soil. Sewage sludge contains various amounts of organic matter and huge amounts of plant nutrients. Manure is a common waste which improves soil properties by adding nutrients and increases microbial and enzyme activity in soil. It also reduces toxicity of some heavy metals. These organic wastes have a great positive impact on soil physical, chemical, and biological properties as well as stimulate plant growth and thus increase the yield of crops. © 2017 2017.                                                                                                                                                                                                                                                                                                                                                                                                                                                                                                                                                                                                                                                                                                                                                                                                                                                                                                                                                                                                                                                                                                                                                                                  |['food waste', 'manure', 'municipal solid waste', 'sewage sludge', 'soil nutrients']                                                                                                                                                                                                                                                                                                                                                                                                                                                                                                                                                                                                                                                                                                                                                                                                                                                                                                                                                                                                                                                                                                                                                                                                                                                                                                                                                                                                                                                                                                                                                                                                                                      |['Cited By :11', 'Export Date: 30 April 2020', 'Correspondence Address: Hossain, M.Z.; Khulna University, Agrotechnology DisciplineBangladesh; email: zahangirku@gmail.com']                                                                                                                                                 |Article     |English|https://www.scopus.com/inward/record.uri?eid=2-s2.0-85040168124&doi=10.1515%2fsab-2017-0030&partnerID=40&md5=18cca85e1b1cabdd0310fe065ca5ae2e          |use organ wast agricultur play great role recycl essenti plant nutrient sustain soil secur well protect environ unwant hazard review articl deal effect differ kind organ wast soil properti plant growth yield municip solid wast mainli use sourc nitrogen organ matter improv soil properti microbi activ close relat soil fertil biowast food wast increas ph nitrogen content cation exchang capac water hold capac microbi biomass soil sewag sludg contain variou amount organ matter huge amount plant nutrient manur common wast improv soil properti ad nutrient increas microbi enzym activ soil also reduc toxic heavi metal organ wast great posit impact soil physic chemic biolog properti well stimul plant growth thu increas yield crop                                                                                                                                                                                                                                                                                                                                                                                                                                                                                                                                                                                                                                                                                               |[null]        |\n",
            "|Optimization of organic and bio-organic fertilizers on soil properties and growth of pigeon pea                                                                                                       |Scientia Horticulturae                             |2017|['Ansari, R.A.', 'Mahmood, I.']                                                                                                 |Present study was undertaken in order to discover the best organic management system under field conditions. Consortium of various applied organics and bio-organics exhibited notable improvement in growth and yield of pigeon pea over untreated control (Uc). Rhizobium sp. (Rh) + Municipal waste (Mw) applied field produced more crop growth and yield than Uc. Likewise, Rh + Mw applied plots also enhanced the Peroxidase Activity (PA), Nitrate Reductase Activity (NRA) and Chlorophyll (Chl) contents over Uc. Moreover, application of Rh + Mw also enhanced the plant nutrients (N, P and K) status over Uc. The physico-chemical properties of soil such as pH, Electrical Conductivity (EC), Porosity, Organic Carbon (OC), Bulk Density (BD) and Water Holding Capacity (WHC) were recorded in treated and untreated plots. The EC and BD were drastically reduced while porosity, OC and WHC were significantly higher in Rh + Mw treated plots. There was no considerable record of pH at significance level. Besides, Rh + Mw applied plots registered higher agronomic (N, P and K) variables in soil. Moreover, Soil Microbial Biomass Carbon (SMBC) and microbial population of fungi, bacteria and actinomycetes were significantly higher in Rh + Mw treated plots as compared to Uc. β-glucosidase (β-glu) were estimated and found significantly influenced in organically sound plots. β-glu exhibited maximum activities in Rh + Mw treated plots suggesting to be a good soil indicator. In addition, Rh + Goat manure (Gm) and Rh + Poultry manure (Pm) were also found statistically significant over Uc, however, significance quantum was lesser than Rh + Mw. The fertilization regime of the Rh + Mw was determined as optimal as it offered the higher growth, yields and ameliorated soil physico-chemical properties ensuring sustainability. This finding has suggested that Rh + Mw should be further disseminated among the growers in order to maximise crop yield. Thus, our study is expected to provide a technology in making sustainable crop production a more profitable income generating and successful industry. © 2017 Elsevier B.V.                                                                                                               |['Bio-organics', 'Fertilization', 'Microbial load', 'Organics', 'Pigeon pea', 'Soil enzyme', 'Actinobacteria (class)', 'Cajanus cajan', 'Capra hircus', 'Fungi', 'Rhizobium sp.']                                                                                                                                                                                                                                                                                                                                                                                                                                                                                                                                                                                                                                                                                                                                                                                                                                                                                                                                                                                                                                                                                                                                                                                                                                                                                                                                                                                                                                                                                                                                         |['Cited By :21', 'Export Date: 30 April 2020', 'CODEN: SHRTA', 'Correspondence Address: Ansari, R.A.; Section of Plant Pathology and Nematology, Department of Botany, Aligarh Muslim UniversityIndia; email: rizwans.ansari@gmail.com']                                                                                     |Article     |English|https://www.scopus.com/inward/record.uri?eid=2-s2.0-85027977001&doi=10.1016%2fj.scienta.2017.07.033&partnerID=40&md5=5d4b50a834dda46e782f70e2a340461e  |present studi undertaken order discov best organ manag system field condit consortium variou appli organ bio organ exhibit notabl improv growth yield pigeon pea untreat control uc rhizobium sp rh municip wast mw appli field produc crop growth yield uc likewis rh mw appli plot also enhanc peroxidas activ pa nitrat reductas activ nra chlorophyl chl content uc moreov applic rh mw also enhanc plant nutrient n p k statu uc physico chemic properti soil ph electr conduct ec poros organ carbon oc bulk densiti bd water hold capac whc record treat untreat plot ec bd drastic reduc poros oc whc significantli higher rh mw treat plot consider record ph signific level besid rh mw appli plot regist higher agronom n p k variabl soil moreov soil microbi biomass carbon smbc microbi popul fungi bacteria actinomycet significantli higher rh mw treat plot compar uc glucosidas glu estim found significantli influenc organ sound plot glu exhibit maximum activ rh mw treat plot suggest good soil indic addit rh goat manur gm rh poultri manur pm also found statist signific uc howev signific quantum lesser rh mw fertil regim rh mw determin optim offer higher growth yield amelior soil physico chemic properti ensur sustain find suggest rh mw dissemin among grower order maximis crop yield thu studi expect provid technolog make sustain crop product profit incom gener success industri elsevi b v                  |[null]        |\n",
            "|Implications of Rock Fragments for Soil Quality Evaluation: Assessing Changes in a Gravelly Irrigated Soil Following No Till Adoption                                                                 |Communications in Soil Science and Plant Analysis  |2017|['Arias, N.', 'Orcaray, L.', 'Bescansa, P.', 'Enrique, A.', 'Virto, I.']                                                        |Stony soils are increasingly being converted to intensive agricultural use, including irrigation. Conservation tillage can be adopted in these soils for soil protection and quality enhancement, but its assessment can be troublesome. Crop yields and the implications of rock fragments for soil quality indicators and for calculating C and N stocks were monitored under conventional and no-tillage in an experimental field recently converted to irrigation, on a soil with 40% rock fragments. Gains of up to 10 Mg C ha−1 were observed in the tilled layer (0–30 cm) only with two years of irrigation, with no differences between treatments, although the vertical distribution of carbon (C) and nitrogen (N) was affected by the correction of the rock fragment content. The labile organic fraction stood as a sensitive indicator to management changes, even after rock fragment correction. Different methodologies used for rock fragment correction led to overestimations of 20% of organic C stocks. © 2017 Taylor & Francis.                                                                                                                                                                                                                                                                                                                                                                                                                                                                                                                                                                                                                                                                                                                                                                                                                                                                                                                                                                                                                                                                                                                                                                                                                                                  |['Carbon sequestration', 'rock fragments', 'soil organic carbon', 'assessment method', 'carbon sequestration', 'conservation tillage', 'crop yield', 'gravel', 'lithic fragment', 'soil carbon', 'soil nitrogen', 'soil organic matter', 'soil quality', 'vertical distribution', 'zero tillage']                                                                                                                                                                                                                                                                                                                                                                                                                                                                                                                                                                                                                                                                                                                                                                                                                                                                                                                                                                                                                                                                                                                                                                                                                                                                                                                                                                                                                         |['Cited By :1', 'Export Date: 30 April 2020', 'CODEN: CSOSA', 'Correspondence Address: Virto, I.; Edificio Los Olivos, Escuela Técnica Superior de Ingenieros Agrónomos, Campus Arrosadía, Spain; email: inigo.virto@unavarra.es']                                                                                           |Article     |English|https://www.scopus.com/inward/record.uri?eid=2-s2.0-85038349289&doi=10.1080%2f00103624.2017.1416140&partnerID=40&md5=caefa4139f8bd76114505869f9bf8e31  |stoni soil increasingli convert intens agricultur use includ irrig conserv tillag adopt soil soil protect qualiti enhanc assess troublesom crop yield implic rock fragment soil qualiti indic calcul c n stock monitor convent tillag experiment field recent convert irrig soil rock fragment gain mg c ha observ till layer cm two year irrig differ treatment although vertic distribut carbon c nitrogen n affect correct rock fragment content labil organ fraction stood sensit indic manag chang even rock fragment correct differ methodolog use rock fragment correct led overestim organ c stock taylor franci                                                                                                                                                                                                                                                                                                                                                                                                                                                                                                                                                                                                                                                                                                                                                                                                                                |[null]        |\n",
            "|Sustainable Agricultural Practices for Improving Soil Carbon and Nitrogen Content in Relation to Water Availability–An Adapted Approach to Mediterranean Olive Groves                                 |Communications in Soil Science and Plant Analysis  |2017|['Koubouris, G.C.', 'Kourgialas, N.N.', 'Kavvadias, V.', 'Digalaki, N.', 'Psarras, G.']                                         |A field experiment was conducted in an irrigated olive orchard to determine the effects of an orchard management system consisting of increased carbon input management on spatial distribution (tree inter-row/in-row, soil depth 0–10/10–20 cm) of nitrogen and carbon in the soil as well as on some microbial properties in relation to water availability. The experiment consisted of 12 blocks (each with 4 trees covering 200 m2 of land), uniform olive tree canopy size and natural vegetation, used as replications (three per treatment) in a split plot design for the following four treatments: a) spreading of olive mill compost on the soil without soil tillage, b) spreading of chopped pruning residue on the soil without soil tillage, c) combination of b + c, and d) control which received no organic materials and soil was kept free of weeds with frequent tillage and herbicide sprays. Increased soil organic matter content (SOM) (up to +80%), NO3 N (up to +194%), and NH4 N (up to +37%) by carbon inputs were observed in soil layer 0–10 cm. Irrigation enhanced SOM, NH4 N, and electrical conductivity (EC) while it favored NO3 N increase by carbon inputs. All microbial properties (Soil Basal Microbial Respiration, Soil Microbial Biomass Carbon, and Metabolic quotient) were significantly higher at 0–10 cm in comparison to 10–20 cm depth. This study suggests good agricultural management practices for optimized soil organic carbon (SOC) storage adapted to the typical Mediterranean agroecosystems. © 2017 Taylor & Francis.                                                                                                                                                                                                                                                                                                                                                                                                                                                                                                                                                                                                                                                                                                                    |['Carbon sequestration', 'climate change', 'Mediterranean', 'microbial activity', 'Olea europaea', 'soil organic matter', 'tillage', 'adaptive management', 'agricultural ecosystem', 'agricultural practice', 'alternative agriculture', 'carbon sequestration', 'climate change', 'evergreen tree', 'experimental study', 'irrigation system', 'Mediterranean environment', 'microbial activity', 'orchard', 'soil carbon', 'soil nitrogen', 'soil organic matter', 'tillage', 'water availability', 'Olea europaea']                                                                                                                                                                                                                                                                                                                                                                                                                                                                                                                                                                                                                                                                                                                                                                                                                                                                                                                                                                                                                                                                                                                                                                                                   |['Cited By :7', 'Export Date: 30 April 2020', 'CODEN: CSOSA', 'Correspondence Address: Koubouris, G.C.; Hellenic Agricultural Organization DEMETER, Institute for Olive Tree, Subtropical Crops & Viticulture, AgrokipionGreece; email: koubouris@nagref-cha.gr']                                                            |Article     |English|https://www.scopus.com/inward/record.uri?eid=2-s2.0-85038634583&doi=10.1080%2f00103624.2017.1416395&partnerID=40&md5=a46c943f2f775c1f3a004acc4690cc3b  |field experi conduct irrig oliv orchard determin effect orchard manag system consist increas carbon input manag spatial distribut tree inter row row soil depth cm nitrogen carbon soil well microbi properti relat water avail experi consist block tree cover land uniform oliv tree canopi size natur veget use replic three per treatment split plot design follow four treatment spread oliv mill compost soil without soil tillag b spread chop prune residu soil without soil tillag c combin b c control receiv organ materi soil kept free weed frequent tillag herbicid spray increas soil organ matter content som n nh n carbon input observ soil layer cm irrig enhanc som nh n electr conduct ec favor n increas carbon input microbi properti soil basal microbi respir soil microbi biomass carbon metabol quotient significantli higher cm comparison cm depth studi suggest good agricultur manag practic optim soil organ carbon soc storag adapt typic mediterranean agroecosystem taylor franci                                                                                                                                                                                                                                                                                                                                                                                                                                    |[null]        |\n",
            "|Effect of Different Organic Fertilizers Application on Soil Organic Matter Properties                                                                                                                 |Compost Science and Utilization                    |2017|['Li, S.', 'Li, J.', 'Li, G.', 'Li, Y.', 'Yuan, J.', 'Li, D.']                                                                  |The aim of this study was to investigate the effect of application of different organic fertilizers (general organic fertilizer, GOF; biogas residue, BR; refined organic fertilizer, ROF) as compared to no fertilizer on the composition of the soil organic matter. Different scales of experiment (sand filtration tube, pot, and field plot experiment) were conducted to study the effect of organic fertilizers. The results showed that application of organic fertilizer can significantly increase soil organic matter and improve its quality. The content of soil organic carbon and humus increased with the growing of fertilization within a certain range (0∼38 t ha−1). In sand filtration tube experiment, ROF can significantly increase the quality of humic acid (HA)/ fulvic acid (FA), while it had little effect on the quality of HA/FA in the pot and plot experiment. In the field plot experiment, application with mid-dosage (38 t ha−1) of ROF can improve total organic carbon (TOC), HA and FA (by 70%, 89%, and 74%, respectively) compared with the control, and it had the best effect of all. BR for its incomplete fermented, had the worst effect of all. Therefore, ROF with 38 t·ha−1 could be used as the optimal fertilization scheme for the purpose of improving soil organic carbon. © 2017 Taylor & Francis.                                                                                                                                                                                                                                                                                                                                                                                                                                                                                                                                                                                                                                                                                                                                                                                                                                                                                                                                               |['Biogeochemistry', 'Biological materials', 'Carbon', 'Fertilizers', 'Organic acids', 'Organic compounds', 'Soils', 'Biogas residues', 'Fulvic acids', 'Humic acid', 'Organic fertilizers', 'Sand filtration', 'Soil organic carbon', 'Soil organic matters', 'Total Organic Carbon', 'Organic carbon', 'chemical composition', 'fermentation', 'fertilizer', 'fertilizer application', 'field method', 'fulvic acid', 'humic acid', 'organic carbon', 'organic matter', 'soil organic matter', 'soil property', 'soil quality']                                                                                                                                                                                                                                                                                                                                                                                                                                                                                                                                                                                                                                                                                                                                                                                                                                                                                                                                                                                                                                                                                                                                                                                          |['Export Date: 30 April 2020', 'CODEN: CSUTE', 'Correspondence Address: Li, G.; Beijing Key Laboratory of Farmland Soil Pollution Prevention and Remediation, College of Resources and Environmental Science, China Agricultural UniversityChina; email: ligx@cau.edu.cn']                                                   |Article     |English|https://www.scopus.com/inward/record.uri?eid=2-s2.0-85035784210&doi=10.1080%2f1065657X.2017.1344160&partnerID=40&md5=ca9f8688d6960674b4a60db01d719b16  |aim studi investig effect applic differ organ fertil gener organ fertil gof bioga residu br refin organ fertil rof compar fertil composit soil organ matter differ scale experi sand filtrat tube pot field plot experi conduct studi effect organ fertil result show applic organ fertil significantli increas soil organ matter improv qualiti content soil organ carbon humu increas grow fertil within certain rang ha sand filtrat tube experi rof significantli increas qualiti humic acid ha fulvic acid fa littl effect qualiti ha fa pot plot experi field plot experi applic mid dosag ha rof improv total organ carbon toc ha fa respect compar control best effect br incomplet ferment worst effect therefor rof ha could use optim fertil scheme purpos improv soil organ carbon taylor franci                                                                                                                                                                                                                                                                                                                                                                                                                                                                                                                                                                                                                                            |[null]        |\n",
            "|Improving soil nutrient availability increases carbon rhizodeposition under maize and soybean in Mollisols                                                                                            |Science of the Total Environment                   |2017|['Qiao, Y.', 'Miao, S.', 'Han, X.', 'Yue, S.', 'Tang, C.']                                                                      |Rhizodeposited carbon (C) is an important source of soil organic C, and plays an important role in the C cycle in the soil-plant-atmosphere continuum. However, interactive effects of plant species and soil nutrient availability on C rhizodeposition remain unclear. This experiment examined the effect of soil nutrient availability on C rhizodeposition of C4 maize and C3 soybean with contrasting photosynthetic capacity. The soils (Mollisols) were collected from three treatments of no fertilizer (Control), inorganic fertilizer only (NPK), and NPK plus organic manure (NPKM) in a 24-year fertilization field trial. The plants were labelled with 13C at the vegetative and reproductive stages. The 13C abundance of shoots, roots and soil were quantified at 0, 7 days after 13C labelling, and at maturity. Increasing soil nutrient availability enhanced the C rhizodeposition due to the greater C fixation in shoots and distribution to roots and soil. The higher amount of averaged below-ground C allocated to soil resulted in greater specific rhizodeposited C from soybean than maize. Additional organic amendment further enhanced them. As a result, higher soil nutrient availability increased total soil organic C under both maize and soybean systems though there was no significant difference between the two crop systems. All these suggested that higher soil nutrient availability favors C rhizodeposition. Mean 80, 260 and 300 kg fixed C ha− 1 were estimated to transfer into soil in the Control, NPK and NPKM treatments, respectively, during one growing season. © 2017 Elsevier B.V.                                                                                                                                                                                                                                                                                                                                                                                                                                                                                                                                                                                                                                                         |['13C labelling', 'Assimilates', 'C allocation', 'Long-term fertilization', 'Organic amendment', 'Soil organic carbon', 'Fertilizers', 'Nutrients', 'Organic carbon', 'Assimilates', 'Inorganic fertilizers', 'Interactive effect', 'Long-term fertilization', 'Organic amendments', 'Photosynthetic capacity', 'Reproductive stage', 'Soil organic carbon', 'Soils', 'fertilizer', 'organic carbon', 'carbon', 'nitrogen', 'phosphorus', 'potassium', 'carbon isotope', 'experimental study', 'maize', 'Mollisol', 'organic carbon', 'soil amendment', 'soil carbon', 'soil nutrient', 'soybean', 'Article', 'carbon fixation', 'carbon metabolism', 'controlled study', 'fertilization', 'maize', 'manure', 'maturity', 'nutrient availability', 'photosynthesis', 'plant reproduction', 'plant root', 'population abundance', 'priority journal', 'rhizodeposition', 'shoot', 'soil analysis', 'soil property', 'soybean', 'vegetative stage', 'agriculture', 'carbon cycle', 'chemistry', 'rhizosphere', 'soil', 'Glycine max', 'Zea mays', 'Agriculture', 'Carbon', 'Carbon Cycle', 'Fertilizers', 'Manure', 'Nitrogen', 'Phosphorus', 'Potassium', 'Rhizosphere', 'Soil', 'Soybeans', 'Zea mays']                                                                                                                                                                                                                                                                                                                                                                                                                                                                                                                   |['Cited By :9', 'Export Date: 30 April 2020', 'CODEN: STEVA', 'Correspondence Address: Han, X.; National Observation Station of Hailun Agro-ecology System, Northeast Institute of Geography and Agroecology, Chinese Academy of SciencesChina; email: xzhan@iga.ac.cn']                                                     |Article     |English|https://www.scopus.com/inward/record.uri?eid=2-s2.0-85020862165&doi=10.1016%2fj.scitotenv.2017.06.090&partnerID=40&md5=fd6ef786c8cf7dd5678b31fad7c60c39|rhizodeposit carbon c import sourc soil organ c play import role c cycl soil plant atmospher continuum howev interact effect plant speci soil nutrient avail c rhizodeposit remain unclear experi examin effect soil nutrient avail c rhizodeposit c maiz c soybean contrast photosynthet capac soil mollisol collect three treatment fertil control inorgan fertil npk npk plu organ manur npkm year fertil field trial plant label c veget reproduct stage c abund shoot root soil quantifi day c label matur increas soil nutrient avail enhanc c rhizodeposit due greater c fixat shoot distribut root soil higher amount averag ground c alloc soil result greater specif rhizodeposit c soybean maiz addit organ amend enhanc result higher soil nutrient avail increas total soil organ c maiz soybean system though signific differ two crop system suggest higher soil nutrient avail favor c rhizodeposit mean kg fix c ha estim transfer soil control npk npkm treatment respect one grow season elsevi b v                                                                                                                                                                                                                                                                                                                                                                                                                                  |[null]        |\n",
            "|Changes in soil surface chemistry after fifty years of tillage and nitrogen fertilization                                                                                                             |Geoderma                                           |2017|['Obour, A.K.', 'Mikha, M.M.', 'Holman, J.D.', 'Stahlman, P.W.']                                                                |Knowledge gained on the long-term effects of crop management practices on soil fertility is critical in developing nutrient management strategies to optimize crop yields. This study examined the long-term effects of nitrogen (N) fertilizer application rates (0, 22, 45 and 67 kg N ha− 1) and tillage intensity [conventional tillage (CT), reduced tillage (RT) and no-tillage (NT)] on soil phosphorus (P), micronutrients and soil acidity in a dryland winter wheat (Triticum aestivum L.) – sorghum (Sorghum bicolor L.) – fallow cropping system. Results showed soil organic matter (SOM), iron (Fe) and manganese (Mn) concentrations were greater under NT compared to CT or RT. Similarly, NT (32 mg kg− 1) increased P accumulation in the upper 7.5 cm soil depth compared to CT (21 mg kg− 1) or RT (26 mg kg− 1). After 50-yr of tillage and N fertilizer application, pH at the soil surface (0 to 7.5 cm) declined markedly with increasing N application, ranging from 6.4 with the unfertilized control to 5.7 when 67 kg N ha− 1 was applied. Averaged across N rates, Δ pH in the soil surface over the 50-yr was greater with NT compared to CT or RT treatments. Iron and Mn concentrations increased with increasing N application rates, possibly due to the decrease in pH associated with N application. Based on our findings, growers adopting NT need to monitor changes in soil surface chemistry and take necessary corrective measures such as liming to maintain satisfactory pH and nutrients levels to optimize crop yields. © 2017 Elsevier B.V.                                                                                                                                                                                                                                                                                                                                                                                                                                                                                                                                                                                                                                                                                                                |['Acidification', 'No-tillage', 'Nutrient stratification', 'pH', 'Soil organic matter', 'Acidification', 'Agricultural machinery', 'Agriculture', 'Biogeochemistry', 'Biological materials', 'Crops', 'Cultivation', 'Fertilizers', 'Manganese', 'Nitrogen', 'Nitrogen fertilizers', 'Nutrients', 'Organic compounds', 'pH', 'Soils', 'Surface chemistry', 'Conventional tillage', 'Corrective measures', 'Crop management practices', 'Fertilizer applications', 'Nitrogen fertilization', 'No tillage', 'Soil organic matters', 'Winter wheat (Triticum aestivum L.)', 'Soil pollution', 'Sorghum bicolor', 'Triticum aestivum']                                                                                                                                                                                                                                                                                                                                                                                                                                                                                                                                                                                                                                                                                                                                                                                                                                                                                                                                                                                                                                                                                        |['Cited By :19', 'Export Date: 30 April 2020', 'CODEN: GEDMA', 'Correspondence Address: Obour, A.K.; Kansas State University, Agricultural Research CenterUnited States; email: aobour@ksu.edu']                                                                                                                             |Article     |English|https://www.scopus.com/inward/record.uri?eid=2-s2.0-85028430785&doi=10.1016%2fj.geoderma.2017.08.020&partnerID=40&md5=bf93e22e0991f0020ae96c31591ba7ea |knowledg gain long term effect crop manag practic soil fertil critic develop nutrient manag strategi optim crop yield studi examin long term effect nitrogen n fertil applic rate kg n ha tillag intens convent tillag ct reduc tillag rt tillag nt soil phosphoru p micronutri soil acid dryland winter wheat triticum aestivum l sorghum sorghum bicolor l fallow crop system result show soil organ matter som iron fe manganes mn concentr greater nt compar ct rt similarli nt mg kg increas p accumul upper cm soil depth compar ct mg kg rt mg kg yr tillag n fertil applic ph soil surfac cm declin markedli increas n applic rang unfertil control kg n ha appli averag across n rate ph soil surfac yr greater nt compar ct rt treatment iron mn concentr increas increas n applic rate possibl due decreas ph associ n applic base find grower adopt nt need monitor chang soil surfac chemistri take necessari correct measur lime maintain satisfactori ph nutrient level optim crop yield elsevi b v                                                                                                                                                                                                                                                                                                                                                                                                                                      |[null]        |\n",
            "|Effects of Long-Term Use of Compost on N2O and CO2 Fluxes in Greenhouse Vegetable Systems                                                                                                             |Compost Science and Utilization                    |2017|['Han, H.', 'Teng, Y.', 'Yang, H.', 'Li, J.']                                                                                   |This study was based on a long-term field trial of three different greenhouse vegetable growing systems which were started in March 2002. Fertilizer nitrogen and organic carbon inputs in three treatments in the spring of 2015 were as follows: (1) conventional system (CON): cow manure and dry chicken manure composts (about 146 kg N ha−1 and 1483 kg C ha−1) and urea (about 525 kg N ha−1); (2) low-input system (LOW): cow manure and dry chicken manure composts (about 325 kg N ha−1 and 3160 kg C ha−1) and urea (about 263 kg N ha−1); and (3) organic system (ORG): cow manure and dry chicken manure composts (about 651 kg N ha−1 and 5456 kg C ha−1). N2O and CO2 fluxes were monitored in the growing season of 2015 (from March to August) using static chamber and gas chromatography techniques. Results showed that: (1) The N2O and CO2 fluxes in three treatments all reached their peaks within 4 days and 8 days after irrigation, respectively. N2O emissions were positively correlated with soil temperature, soil water-filled pore space (WFPS), and NO3 −-N contents, while strong association between CO2 emissions and soil temperature was observed. (2) Lower cumulative N2O emission and direct emission factor (p &lt; 0.05) were observed in ORG than that from LOW and CON. (3) No significant differences of cumulative CO2 emissions were observed in three treatments, but CO2 emissions proportion of fertilizer carbon inputs and soil organic carbon stock in ORG was significantly lower (p &lt; 0.05). © 2017 Taylor & Francis.                                                                                                                                                                                                                                                                                                                                                                                                                                                                                                                                                                                                                                                                                                                         |['Animals', 'Carbon dioxide', 'Composting', 'Gas chromatography', 'Greenhouses', 'Manures', 'Metabolism', 'Nitrogen fertilizers', 'Organic carbon', 'Soil moisture', 'Soils', 'Temperature', 'Urea', 'Vegetables', 'Chicken manure compost', 'Conventional systems', 'Direct emissions', 'Greenhouse vegetables', 'Organic systems', 'Soil organic Carbon stocks', 'Soil temperature', 'Static chambers', 'Fertilizers', 'agricultural emission', 'carbon dioxide', 'compost', 'farming system', 'fertilizer application', 'flux measurement', 'greenhouse ecosystem', 'long-term change', 'nitrous oxide', 'soil management', 'vegetable']                                                                                                                                                                                                                                                                                                                                                                                                                                                                                                                                                                                                                                                                                                                                                                                                                                                                                                                                                                                                                                                                               |['Cited By :8', 'Export Date: 30 April 2020', 'CODEN: CSUTE', 'Correspondence Address: Li, J.; Department of Ecology and Ecological Engineering, College of Resources and Environmental Science, China Agricultural UniversityChina; email: liji@cau.edu.cn']                                                                |Article     |English|https://www.scopus.com/inward/record.uri?eid=2-s2.0-85002194756&doi=10.1080%2f1065657X.2016.1238786&partnerID=40&md5=bb851a0f48943cabcba59f0bfde28246  |studi base long term field trial three differ greenhous veget grow system start march fertil nitrogen organ carbon input three treatment spring follow convent system con cow manur dri chicken manur compost kg n ha kg c ha urea kg n ha low input system low cow manur dri chicken manur compost kg n ha kg c ha urea kg n ha organ system org cow manur dri chicken manur compost kg n ha kg c ha n co flux monitor grow season march august use static chamber ga chromatographi techniqu result show n co flux three treatment reach peak within day day irrig respect n emiss posit correl soil temperatur soil water fill pore space wfp n content strong associ co emiss soil temperatur observ lower cumul n emiss direct emiss factor p lt observ org low con signific differ cumul co emiss observ three treatment co emiss proport fertil carbon input soil organ carbon stock org significantli lower p lt taylor franci                                                                                                                                                                                                                                                                                                                                                                                                                                                                                                                  |[null]        |\n",
            "+------------------------------------------------------------------------------------------------------------------------------------------------------------------------------------------------------+---------------------------------------------------+----+--------------------------------------------------------------------------------------------------------------------------------+----------------------------------------------------------------------------------------------------------------------------------------------------------------------------------------------------------------------------------------------------------------------------------------------------------------------------------------------------------------------------------------------------------------------------------------------------------------------------------------------------------------------------------------------------------------------------------------------------------------------------------------------------------------------------------------------------------------------------------------------------------------------------------------------------------------------------------------------------------------------------------------------------------------------------------------------------------------------------------------------------------------------------------------------------------------------------------------------------------------------------------------------------------------------------------------------------------------------------------------------------------------------------------------------------------------------------------------------------------------------------------------------------------------------------------------------------------------------------------------------------------------------------------------------------------------------------------------------------------------------------------------------------------------------------------------------------------------------------------------------------------------------------------------------------------------------------------------------------------------------------------------------------------------------------------------------------------------------------------------------------------------------------------------------------------------------------------------------------------------------------------------------------------------------------------------------------------------------------------------------------------------------------------------------------------+--------------------------------------------------------------------------------------------------------------------------------------------------------------------------------------------------------------------------------------------------------------------------------------------------------------------------------------------------------------------------------------------------------------------------------------------------------------------------------------------------------------------------------------------------------------------------------------------------------------------------------------------------------------------------------------------------------------------------------------------------------------------------------------------------------------------------------------------------------------------------------------------------------------------------------------------------------------------------------------------------------------------------------------------------------------------------------------------------------------------------------------------------------------------------------------------------------------------------------------------------------------------------------------------------------------------------------------------------------------------------------------------------------------------------------------------------------------------------------------------------------------------------------------------------------------------------------------------------------------------------------------------------------------------------------------------------------------------------+-----------------------------------------------------------------------------------------------------------------------------------------------------------------------------------------------------------------------------------------------------------------------------------------------------------------------------+------------+-------+-------------------------------------------------------------------------------------------------------------------------------------------------------+--------------------------------------------------------------------------------------------------------------------------------------------------------------------------------------------------------------------------------------------------------------------------------------------------------------------------------------------------------------------------------------------------------------------------------------------------------------------------------------------------------------------------------------------------------------------------------------------------------------------------------------------------------------------------------------------------------------------------------------------------------------------------------------------------------------------------------------------------------------------------------------------------------------------------------------------------------------------------------------------------------------------------------------------------------------------------------------------------------------------------------------------------------------------------------------------------------------------------------------------------------------------------------------------------------------------------------------------------------------------------------------------------------------------------------------------------------+--------------+\n",
            "only showing top 20 rows\n",
            "\n"
          ]
        }
      ],
      "source": [
        "df_with_embeddings = df.withColumn(\"bert_embedding\", bert_udf(df['processed']))\n",
        "df_with_embeddings.show(truncate=False)"
      ]
    },
    {
      "cell_type": "code",
      "execution_count": null,
      "metadata": {
        "colab": {
          "base_uri": "https://localhost:8080/"
        },
        "id": "X1GZfZ3pFsCQ",
        "outputId": "ed48722c-30b3-434f-866c-8c9eee6e957d"
      },
      "outputs": [
        {
          "name": "stdout",
          "output_type": "stream",
          "text": [
            "+--------------------+--------------------+----+--------------------+--------------------+--------------------+--------------------+------------+-------+--------------------+--------------------+\n",
            "|           processed|                  _2|  _3|                  _4|                  _5|                  _6|                  _7|          _8|     _9|                 _10|                 _11|\n",
            "+--------------------+--------------------+----+--------------------+--------------------+--------------------+--------------------+------------+-------+--------------------+--------------------+\n",
            "|Long-term impact ...|Science of the To...|2017|['Yadav, R.K.', '...|Soil organic matt...|['Al and Si', 'Am...|['Cited By :7', '...|     Article|English|https://www.scopu...|soil organ matter...|\n",
            "|Coupling life-cyc...|Science of the To...|2017|['Yao, Z.', 'Zhan...|Reducing the carb...|['Carbon sequestr...|['Cited By :12', ...|     Article|English|https://www.scopu...|reduc carbon foot...|\n",
            "|Cropping systems ...|Science of the To...|2017|['Zhang, T.', 'Ch...|The accumulation ...|['Nitrogen balanc...|['Cited By :7', '...|     Article|English|https://www.scopu...|accumul soil orga...|\n",
            "|Microbial associa...|Science of the To...|2017|['Wang, Y.', 'Yu,...|As the chemical q...|['Chemical qualit...|['Cited By :7', '...|     Article|English|https://www.scopu...|chemic qualiti cr...|\n",
            "|Effects of apple ...|Science of the To...|2017|['Li, S.', 'Liang...|The incorporation...|['Biochar', 'Enzy...|['Cited By :23', ...|     Article|English|https://www.scopu...|incorpor biochar ...|\n",
            "|Development of a ...|Science of the To...|2017|['Goulas, A.', 'B...|The recycling of ...|['Adsorption', 'F...|['Cited By :8', '...|     Article|English|https://www.scopu...|recycl biosolid l...|\n",
            "|Excessive applica...|Science of the To...|2017|['Yang, Y.', 'Zha...|Soil phosphorus (...|['Olsen-P', 'Orga...|['Cited By :7', '...|     Article|English|https://www.scopu...|soil phosphoru p ...|\n",
            "|Co-digestion of r...|Science of the To...|2017|['Sfez, S.', 'De ...|Anaerobic digesti...|['Agricultural wa...|['Cited By :12', ...|     Article|English|https://www.scopu...|anaerob digest co...|\n",
            "|Land use change e...|Science of the To...|2017|['Wang, X.', 'Zho...|In the humid subt...|['Carbon balance'...|['Cited By :3', '...|     Article|English|https://www.scopu...|humid subtrop con...|\n",
            "|Soil aggregate st...|Science of the To...|2017|['Shi, P.', 'Arte...|Aggregate breakdo...|['Aggregate break...|['Cited By :17', ...|     Article|English|https://www.scopu...|aggreg breakdown ...|\n",
            "|Biochar mitigates...|Plant Adaptation ...|2017|['Patel, A.', 'Kh...|Salinity is a maj...|['Antioxidants', ...|['Cited By :1', '...|Book Chapter|English|https://www.scopu...|salin major probl...|\n",
            "|Rationally manage...|Frontiers in Envi...|2017|['Seó, H.L.S.', '...|A significant sha...|['Feed production...|['Cited By :2', '...|     Article|English|https://www.scopu...|signific share gr...|\n",
            "|Effect of Differe...|Scientia Agricult...|2017|['Hossain, M.Z.',...|The use of organi...|['food waste', 'm...|['Cited By :11', ...|     Article|English|https://www.scopu...|use organ wast ag...|\n",
            "|Optimization of o...|Scientia Horticul...|2017|['Ansari, R.A.', ...|Present study was...|['Bio-organics', ...|['Cited By :21', ...|     Article|English|https://www.scopu...|present studi und...|\n",
            "|Implications of R...|Communications in...|2017|['Arias, N.', 'Or...|Stony soils are i...|['Carbon sequestr...|['Cited By :1', '...|     Article|English|https://www.scopu...|stoni soil increa...|\n",
            "|Sustainable Agric...|Communications in...|2017|['Koubouris, G.C....|A field experimen...|['Carbon sequestr...|['Cited By :7', '...|     Article|English|https://www.scopu...|field experi cond...|\n",
            "|Effect of Differe...|Compost Science a...|2017|['Li, S.', 'Li, J...|The aim of this s...|['Biogeochemistry...|['Export Date: 30...|     Article|English|https://www.scopu...|aim studi investi...|\n",
            "|Improving soil nu...|Science of the To...|2017|['Qiao, Y.', 'Mia...|Rhizodeposited ca...|['13C labelling',...|['Cited By :9', '...|     Article|English|https://www.scopu...|rhizodeposit carb...|\n",
            "|Changes in soil s...|            Geoderma|2017|['Obour, A.K.', '...|Knowledge gained ...|['Acidification',...|['Cited By :19', ...|     Article|English|https://www.scopu...|knowledg gain lon...|\n",
            "|Effects of Long-T...|Compost Science a...|2017|['Han, H.', 'Teng...|This study was ba...|['Animals', 'Carb...|['Cited By :8', '...|     Article|English|https://www.scopu...|studi base long t...|\n",
            "+--------------------+--------------------+----+--------------------+--------------------+--------------------+--------------------+------------+-------+--------------------+--------------------+\n",
            "only showing top 20 rows\n",
            "\n"
          ]
        }
      ],
      "source": [
        "df.show()"
      ]
    },
    {
      "cell_type": "code",
      "execution_count": null,
      "metadata": {
        "id": "vU1mIuGhE36Q"
      },
      "outputs": [],
      "source": [
        "df.write.csv(\"/content/drive/MyDrive/Studia DSE/Agro Text Mining/processedBERT_2017_2009.csv\", header=True)"
      ]
    },
    {
      "cell_type": "markdown",
      "metadata": {
        "id": "j_CrHIfsBkON"
      },
      "source": [
        "### BERT without Pyspark"
      ]
    },
    {
      "cell_type": "code",
      "execution_count": null,
      "metadata": {
        "id": "-j1kdB0m-0ik"
      },
      "outputs": [],
      "source": [
        "!pip install transformers torch pandas"
      ]
    },
    {
      "cell_type": "code",
      "execution_count": null,
      "metadata": {
        "colab": {
          "base_uri": "https://localhost:8080/",
          "height": 272,
          "referenced_widgets": [
            "081c439749e04cd3bc80d9606f535e6f",
            "2bdf4c57e2ec4cc78fe2027851b6b410",
            "1f4d391f04fc47a897c8ba00a282f406",
            "f1e46dfd5b92411b959301b72d72cea4",
            "06f658fe9b2b472c8326a4d59238fbeb",
            "7425c2db291d457f84fcc7e38651ed87",
            "a8b04ad55bbc456987823b579134c8fc",
            "0d9f7c9850ef444da07bce2edc3a28fb",
            "54fe7b406fe84b00b1e18dbbfd62f190",
            "acbb64ac50484770ab54dc4eceacc795",
            "93d97cc810fb4ee9abcefd164aacf8a0",
            "6a51bbf3e2784b7a84680c9b76004ecd",
            "3590178d2e8c402c8a3b138cd637b9b4",
            "2f02cc8bebc6434089055e3e648bd841",
            "54ed68e2cb1a41e997cbdaf3c1b0a98e",
            "cc5ab12427114ee98bdd7042fc1f8668",
            "6b79d1bd2149448cab84d8dcd12d2fcc",
            "032cdd87007d4d918c2b1283c560719d",
            "4044a73e69174a90b41ee14da0b32117",
            "d30d1a9fbc804c3cbb6e8a37630fef3d",
            "6a0a48acebfb411ea0d7d5ff23902cc6",
            "1664d4372fb1492db33a430827e15744",
            "42791a161aa5448baa2e998bed7ef88e",
            "667bfd0877c0414bad72f54556536b4f",
            "1aea9c77a2414cc5b53abc4fc278c876",
            "0e752b74301341eea0fc116de7b7889a",
            "baedf6ada8204da1842b504a1f5b4f98",
            "a01b1ca762c34ad7b8ac744ba2af3a3a",
            "21789aa83a36455397be56a368178a25",
            "91636475f9a1431fa009c388b316e702",
            "52304ac4d0114014a9b9d5813e74cef8",
            "3db9974bb71f40628fb969b29372fba1",
            "2fea166bf84142319f59dc3392f64c6b",
            "3c678349c48349d29ba5aff3938a8b7d",
            "0efcd4a2ff014818a0e5b6343511456b",
            "d0ac8c0dff9a43578dc3a1a2decc8251",
            "d317b64b5a1e47159932238dd96d91a1",
            "b6f43c1ee9c146c9ab134ae3974579f4",
            "f6266051da8d4fa9a549769da8590cdb",
            "d7af2ad75612484d823c26443a5baa20",
            "461a2a48a9c64ec08c3bd621ce3b3622",
            "6340d7cae2574b0fb5f8774a5a104075",
            "a3eb9458b69c4aac9b0885a2dd0875bb",
            "df3bd944314d456695661a1012245c1e"
          ]
        },
        "id": "i4K2xpws_mwo",
        "outputId": "9d0be449-bde7-428c-8b52-e43c7383628b"
      },
      "outputs": [
        {
          "data": {
            "application/vnd.jupyter.widget-view+json": {
              "model_id": "081c439749e04cd3bc80d9606f535e6f",
              "version_major": 2,
              "version_minor": 0
            },
            "text/plain": [
              "Downloading (…)lve/main/config.json:   0%|          | 0.00/483 [00:00<?, ?B/s]"
            ]
          },
          "metadata": {},
          "output_type": "display_data"
        },
        {
          "name": "stderr",
          "output_type": "stream",
          "text": [
            "You are using a model of type distilbert to instantiate a model of type bert. This is not supported for all configurations of models and can yield errors.\n"
          ]
        },
        {
          "data": {
            "application/vnd.jupyter.widget-view+json": {
              "model_id": "6a51bbf3e2784b7a84680c9b76004ecd",
              "version_major": 2,
              "version_minor": 0
            },
            "text/plain": [
              "Downloading model.safetensors:   0%|          | 0.00/268M [00:00<?, ?B/s]"
            ]
          },
          "metadata": {},
          "output_type": "display_data"
        },
        {
          "name": "stderr",
          "output_type": "stream",
          "text": [
            "Some weights of BertModel were not initialized from the model checkpoint at distilbert-base-uncased and are newly initialized: ['encoder.layer.3.attention.self.query.bias', 'encoder.layer.11.attention.output.LayerNorm.bias', 'encoder.layer.8.output.LayerNorm.weight', 'encoder.layer.9.attention.output.LayerNorm.bias', 'encoder.layer.6.output.dense.weight', 'encoder.layer.4.output.dense.weight', 'encoder.layer.5.attention.self.query.bias', 'encoder.layer.1.output.LayerNorm.weight', 'encoder.layer.7.output.dense.bias', 'encoder.layer.6.attention.output.dense.weight', 'encoder.layer.9.attention.self.query.bias', 'encoder.layer.8.attention.output.LayerNorm.weight', 'encoder.layer.2.intermediate.dense.weight', 'encoder.layer.3.attention.self.key.weight', 'encoder.layer.2.attention.self.value.weight', 'encoder.layer.2.attention.self.query.weight', 'encoder.layer.9.attention.self.value.weight', 'encoder.layer.11.attention.self.value.bias', 'encoder.layer.2.attention.self.key.weight', 'encoder.layer.1.output.LayerNorm.bias', 'encoder.layer.5.attention.output.LayerNorm.bias', 'encoder.layer.10.attention.self.query.weight', 'encoder.layer.0.attention.output.LayerNorm.weight', 'encoder.layer.0.attention.output.dense.bias', 'embeddings.token_type_embeddings.weight', 'encoder.layer.0.output.dense.bias', 'encoder.layer.3.attention.output.dense.bias', 'encoder.layer.2.attention.output.dense.bias', 'encoder.layer.5.output.dense.bias', 'encoder.layer.11.attention.self.key.weight', 'encoder.layer.5.attention.output.dense.weight', 'encoder.layer.0.output.LayerNorm.weight', 'encoder.layer.4.attention.output.dense.bias', 'encoder.layer.11.attention.self.key.bias', 'encoder.layer.11.attention.self.query.weight', 'encoder.layer.3.attention.self.value.weight', 'encoder.layer.5.output.LayerNorm.bias', 'encoder.layer.1.intermediate.dense.weight', 'encoder.layer.3.attention.output.LayerNorm.bias', 'encoder.layer.7.attention.self.query.weight', 'encoder.layer.4.output.LayerNorm.bias', 'encoder.layer.6.attention.self.value.bias', 'encoder.layer.1.attention.self.value.bias', 'encoder.layer.8.intermediate.dense.bias', 'encoder.layer.2.attention.output.dense.weight', 'encoder.layer.9.attention.self.query.weight', 'encoder.layer.10.intermediate.dense.weight', 'encoder.layer.0.attention.output.LayerNorm.bias', 'encoder.layer.4.attention.self.key.bias', 'encoder.layer.1.attention.self.value.weight', 'encoder.layer.9.output.LayerNorm.weight', 'encoder.layer.0.attention.self.key.bias', 'encoder.layer.4.attention.self.key.weight', 'encoder.layer.11.intermediate.dense.weight', 'encoder.layer.10.output.dense.weight', 'encoder.layer.11.output.LayerNorm.weight', 'encoder.layer.6.output.LayerNorm.bias', 'encoder.layer.8.attention.output.dense.bias', 'encoder.layer.6.output.dense.bias', 'encoder.layer.5.output.LayerNorm.weight', 'encoder.layer.8.intermediate.dense.weight', 'encoder.layer.11.attention.self.value.weight', 'encoder.layer.4.attention.output.LayerNorm.weight', 'encoder.layer.5.attention.self.key.bias', 'encoder.layer.0.attention.output.dense.weight', 'encoder.layer.1.attention.output.dense.weight', 'encoder.layer.7.attention.output.LayerNorm.bias', 'encoder.layer.9.intermediate.dense.bias', 'encoder.layer.9.attention.output.dense.bias', 'encoder.layer.1.attention.output.LayerNorm.weight', 'encoder.layer.5.output.dense.weight', 'encoder.layer.9.attention.self.key.weight', 'encoder.layer.11.attention.output.dense.weight', 'encoder.layer.3.output.dense.bias', 'encoder.layer.8.attention.self.value.bias', 'encoder.layer.8.attention.output.LayerNorm.bias', 'encoder.layer.11.attention.output.dense.bias', 'encoder.layer.3.output.dense.weight', 'encoder.layer.1.attention.self.query.bias', 'encoder.layer.5.attention.self.key.weight', 'encoder.layer.6.attention.self.value.weight', 'encoder.layer.3.attention.self.value.bias', 'encoder.layer.10.attention.self.value.weight', 'encoder.layer.7.attention.output.dense.bias', 'encoder.layer.10.attention.output.LayerNorm.bias', 'encoder.layer.10.output.LayerNorm.bias', 'encoder.layer.2.attention.output.LayerNorm.bias', 'encoder.layer.9.intermediate.dense.weight', 'encoder.layer.10.attention.self.query.bias', 'encoder.layer.0.attention.self.query.bias', 'encoder.layer.1.attention.self.key.bias', 'encoder.layer.1.intermediate.dense.bias', 'encoder.layer.10.attention.output.LayerNorm.weight', 'encoder.layer.11.intermediate.dense.bias', 'encoder.layer.7.output.dense.weight', 'encoder.layer.7.attention.self.key.bias', 'encoder.layer.10.intermediate.dense.bias', 'encoder.layer.11.attention.output.LayerNorm.weight', 'encoder.layer.11.output.dense.weight', 'encoder.layer.4.attention.output.dense.weight', 'encoder.layer.1.output.dense.weight', 'encoder.layer.5.attention.output.LayerNorm.weight', 'encoder.layer.9.output.LayerNorm.bias', 'encoder.layer.10.attention.self.value.bias', 'encoder.layer.10.output.dense.bias', 'encoder.layer.0.output.LayerNorm.bias', 'encoder.layer.6.attention.self.key.weight', 'encoder.layer.6.attention.self.query.weight', 'encoder.layer.10.attention.self.key.bias', 'encoder.layer.6.output.LayerNorm.weight', 'encoder.layer.2.output.dense.bias', 'encoder.layer.7.attention.output.dense.weight', 'encoder.layer.1.attention.self.key.weight', 'encoder.layer.5.attention.output.dense.bias', 'encoder.layer.3.output.LayerNorm.bias', 'encoder.layer.0.intermediate.dense.weight', 'encoder.layer.7.attention.self.query.bias', 'encoder.layer.3.output.LayerNorm.weight', 'encoder.layer.11.attention.self.query.bias', 'encoder.layer.4.intermediate.dense.weight', 'encoder.layer.7.intermediate.dense.bias', 'encoder.layer.6.attention.self.query.bias', 'encoder.layer.8.output.dense.bias', 'encoder.layer.8.attention.self.query.weight', 'encoder.layer.9.attention.self.key.bias', 'encoder.layer.0.attention.self.value.weight', 'embeddings.word_embeddings.weight', 'encoder.layer.6.attention.output.LayerNorm.weight', 'encoder.layer.2.attention.self.key.bias', 'encoder.layer.4.attention.self.value.weight', 'encoder.layer.5.attention.self.query.weight', 'encoder.layer.2.output.dense.weight', 'encoder.layer.3.attention.self.key.bias', 'encoder.layer.3.intermediate.dense.weight', 'encoder.layer.3.intermediate.dense.bias', 'embeddings.LayerNorm.weight', 'encoder.layer.2.attention.self.value.bias', 'encoder.layer.2.output.LayerNorm.weight', 'encoder.layer.6.attention.self.key.bias', 'encoder.layer.4.intermediate.dense.bias', 'encoder.layer.3.attention.self.query.weight', 'encoder.layer.7.intermediate.dense.weight', 'encoder.layer.1.attention.output.dense.bias', 'pooler.dense.weight', 'encoder.layer.8.attention.self.value.weight', 'encoder.layer.5.attention.self.value.bias', 'encoder.layer.6.attention.output.LayerNorm.bias', 'encoder.layer.8.attention.output.dense.weight', 'encoder.layer.6.intermediate.dense.weight', 'encoder.layer.3.attention.output.LayerNorm.weight', 'encoder.layer.2.attention.output.LayerNorm.weight', 'pooler.dense.bias', 'encoder.layer.4.attention.self.query.bias', 'encoder.layer.1.attention.self.query.weight', 'encoder.layer.4.attention.self.value.bias', 'encoder.layer.0.attention.self.value.bias', 'encoder.layer.2.output.LayerNorm.bias', 'encoder.layer.0.output.dense.weight', 'embeddings.LayerNorm.bias', 'encoder.layer.2.attention.self.query.bias', 'encoder.layer.5.intermediate.dense.bias', 'encoder.layer.8.attention.self.key.weight', 'encoder.layer.7.attention.self.key.weight', 'encoder.layer.7.attention.self.value.weight', 'encoder.layer.8.output.LayerNorm.bias', 'encoder.layer.11.output.LayerNorm.bias', 'encoder.layer.9.attention.self.value.bias', 'encoder.layer.9.attention.output.LayerNorm.weight', 'encoder.layer.10.attention.output.dense.weight', 'encoder.layer.8.attention.self.query.bias', 'encoder.layer.0.attention.self.key.weight', 'encoder.layer.5.attention.self.value.weight', 'encoder.layer.0.attention.self.query.weight', 'encoder.layer.0.intermediate.dense.bias', 'encoder.layer.4.output.LayerNorm.weight', 'encoder.layer.3.attention.output.dense.weight', 'encoder.layer.10.attention.self.key.weight', 'encoder.layer.1.output.dense.bias', 'encoder.layer.9.output.dense.weight', 'encoder.layer.9.attention.output.dense.weight', 'embeddings.position_embeddings.weight', 'encoder.layer.4.attention.output.LayerNorm.bias', 'encoder.layer.4.output.dense.bias', 'encoder.layer.10.attention.output.dense.bias', 'encoder.layer.2.intermediate.dense.bias', 'encoder.layer.7.attention.self.value.bias', 'encoder.layer.7.output.LayerNorm.weight', 'encoder.layer.6.intermediate.dense.bias', 'encoder.layer.4.attention.self.query.weight', 'encoder.layer.10.output.LayerNorm.weight', 'encoder.layer.7.attention.output.LayerNorm.weight', 'encoder.layer.8.attention.self.key.bias', 'encoder.layer.7.output.LayerNorm.bias', 'encoder.layer.9.output.dense.bias', 'encoder.layer.1.attention.output.LayerNorm.bias', 'encoder.layer.5.intermediate.dense.weight', 'encoder.layer.8.output.dense.weight', 'encoder.layer.11.output.dense.bias', 'encoder.layer.6.attention.output.dense.bias']\n",
            "You should probably TRAIN this model on a down-stream task to be able to use it for predictions and inference.\n"
          ]
        },
        {
          "data": {
            "application/vnd.jupyter.widget-view+json": {
              "model_id": "42791a161aa5448baa2e998bed7ef88e",
              "version_major": 2,
              "version_minor": 0
            },
            "text/plain": [
              "Downloading (…)solve/main/vocab.txt:   0%|          | 0.00/232k [00:00<?, ?B/s]"
            ]
          },
          "metadata": {},
          "output_type": "display_data"
        },
        {
          "data": {
            "application/vnd.jupyter.widget-view+json": {
              "model_id": "3c678349c48349d29ba5aff3938a8b7d",
              "version_major": 2,
              "version_minor": 0
            },
            "text/plain": [
              "Downloading (…)okenizer_config.json:   0%|          | 0.00/28.0 [00:00<?, ?B/s]"
            ]
          },
          "metadata": {},
          "output_type": "display_data"
        },
        {
          "name": "stderr",
          "output_type": "stream",
          "text": [
            "The tokenizer class you load from this checkpoint is not the same type as the class this function is called from. It may result in unexpected tokenization. \n",
            "The tokenizer class you load from this checkpoint is 'DistilBertTokenizer'. \n",
            "The class this function is called from is 'BertTokenizer'.\n"
          ]
        }
      ],
      "source": [
        "import torch\n",
        "from transformers import BertTokenizer, BertModel\n",
        "\n",
        "model_name = \"distilbert-base-uncased\"\n",
        "model = BertModel.from_pretrained(model_name)\n",
        "tokenizer = BertTokenizer.from_pretrained(model_name)"
      ]
    },
    {
      "cell_type": "code",
      "execution_count": null,
      "metadata": {
        "id": "2b7da24L_sUW"
      },
      "outputs": [],
      "source": [
        "def get_bert_embedding(abstract):\n",
        "    inputs = tokenizer(abstract, return_tensors=\"pt\", padding=\"max_length\", truncation=True, max_length=512)\n",
        "    with torch.no_grad():\n",
        "        outputs = model(**inputs)\n",
        "    return outputs.last_hidden_state[:, 0, :].numpy()\n",
        "\n",
        "df['bert_embedding'] = df[0].apply(get_bert_embedding)\n",
        "\n"
      ]
    },
    {
      "cell_type": "markdown",
      "metadata": {
        "id": "4lGu76FmGFn2"
      },
      "source": [
        "###  t-SNE"
      ]
    },
    {
      "cell_type": "code",
      "execution_count": null,
      "metadata": {
        "id": "lny13xwMGRhQ"
      },
      "outputs": [],
      "source": [
        "import matplotlib.pyplot as plt\n",
        "import seaborn as sns\n",
        "from sklearn.manifold import TSNE"
      ]
    },
    {
      "cell_type": "code",
      "execution_count": null,
      "metadata": {
        "id": "TZKflFrcJNGY"
      },
      "outputs": [],
      "source": [
        "df = df_with_embeddings.select('processed','_5')"
      ]
    },
    {
      "cell_type": "code",
      "execution_count": null,
      "metadata": {
        "id": "Q--p_N0mJofL"
      },
      "outputs": [],
      "source": [
        "from pyspark.sql.functions import monotonically_increasing_id\n",
        "\n",
        "df = df.select(\"*\").withColumn(\"id\", monotonically_increasing_id())"
      ]
    },
    {
      "cell_type": "code",
      "execution_count": null,
      "metadata": {
        "colab": {
          "base_uri": "https://localhost:8080/"
        },
        "id": "hOFHdsIeJel6",
        "outputId": "8e86a40a-30ba-4016-81f3-b23ab266c28c"
      },
      "outputs": [
        {
          "name": "stdout",
          "output_type": "stream",
          "text": [
            "root\n",
            " |-- processed: string (nullable = true)\n",
            " |-- _5: string (nullable = true)\n",
            " |-- id: long (nullable = false)\n",
            "\n"
          ]
        }
      ],
      "source": [
        "df = df.where(df.id < 100)\n",
        "df.printSchema()"
      ]
    },
    {
      "cell_type": "markdown",
      "metadata": {
        "id": "kLxHe9czJNz-"
      },
      "source": []
    },
    {
      "cell_type": "code",
      "execution_count": null,
      "metadata": {
        "colab": {
          "base_uri": "https://localhost:8080/",
          "height": 526
        },
        "id": "E7xlhTpxHVeb",
        "outputId": "a0766a56-7262-4b99-e5f6-1acb7b20e99e"
      },
      "outputs": [
        {
          "name": "stderr",
          "output_type": "stream",
          "text": [
            "ERROR:root:KeyboardInterrupt while sending command.\n",
            "Traceback (most recent call last):\n",
            "  File \"/content/spark-3.3.3-bin-hadoop3/python/lib/py4j-0.10.9.5-src.zip/py4j/java_gateway.py\", line 1038, in send_command\n",
            "    response = connection.send_command(command)\n",
            "  File \"/content/spark-3.3.3-bin-hadoop3/python/lib/py4j-0.10.9.5-src.zip/py4j/clientserver.py\", line 511, in send_command\n",
            "    answer = smart_decode(self.stream.readline()[:-1])\n",
            "  File \"/usr/lib/python3.10/socket.py\", line 705, in readinto\n",
            "    return self._sock.recv_into(b)\n",
            "KeyboardInterrupt\n"
          ]
        },
        {
          "ename": "KeyboardInterrupt",
          "evalue": "ignored",
          "output_type": "error",
          "traceback": [
            "\u001b[0;31m---------------------------------------------------------------------------\u001b[0m",
            "\u001b[0;31mKeyboardInterrupt\u001b[0m                         Traceback (most recent call last)",
            "\u001b[0;32m<ipython-input-85-fa3848bfeea8>\u001b[0m in \u001b[0;36m<cell line: 2>\u001b[0;34m()\u001b[0m\n\u001b[1;32m      1\u001b[0m \u001b[0;31m#Converting pyspark DF to pandas to support t-sne\u001b[0m\u001b[0;34m\u001b[0m\u001b[0;34m\u001b[0m\u001b[0m\n\u001b[0;32m----> 2\u001b[0;31m \u001b[0mdfPandas\u001b[0m \u001b[0;34m=\u001b[0m \u001b[0mdf\u001b[0m\u001b[0;34m.\u001b[0m\u001b[0mtoPandas\u001b[0m\u001b[0;34m(\u001b[0m\u001b[0;34m)\u001b[0m\u001b[0;34m\u001b[0m\u001b[0;34m\u001b[0m\u001b[0m\n\u001b[0m",
            "\u001b[0;32m/content/spark-3.3.3-bin-hadoop3/python/pyspark/sql/pandas/conversion.py\u001b[0m in \u001b[0;36mtoPandas\u001b[0;34m(self)\u001b[0m\n\u001b[1;32m    203\u001b[0m \u001b[0;34m\u001b[0m\u001b[0m\n\u001b[1;32m    204\u001b[0m         \u001b[0;31m# Below is toPandas without Arrow optimization.\u001b[0m\u001b[0;34m\u001b[0m\u001b[0;34m\u001b[0m\u001b[0m\n\u001b[0;32m--> 205\u001b[0;31m         \u001b[0mpdf\u001b[0m \u001b[0;34m=\u001b[0m \u001b[0mpd\u001b[0m\u001b[0;34m.\u001b[0m\u001b[0mDataFrame\u001b[0m\u001b[0;34m.\u001b[0m\u001b[0mfrom_records\u001b[0m\u001b[0;34m(\u001b[0m\u001b[0mself\u001b[0m\u001b[0;34m.\u001b[0m\u001b[0mcollect\u001b[0m\u001b[0;34m(\u001b[0m\u001b[0;34m)\u001b[0m\u001b[0;34m,\u001b[0m \u001b[0mcolumns\u001b[0m\u001b[0;34m=\u001b[0m\u001b[0mself\u001b[0m\u001b[0;34m.\u001b[0m\u001b[0mcolumns\u001b[0m\u001b[0;34m)\u001b[0m\u001b[0;34m\u001b[0m\u001b[0;34m\u001b[0m\u001b[0m\n\u001b[0m\u001b[1;32m    206\u001b[0m         \u001b[0mcolumn_counter\u001b[0m \u001b[0;34m=\u001b[0m \u001b[0mCounter\u001b[0m\u001b[0;34m(\u001b[0m\u001b[0mself\u001b[0m\u001b[0;34m.\u001b[0m\u001b[0mcolumns\u001b[0m\u001b[0;34m)\u001b[0m\u001b[0;34m\u001b[0m\u001b[0;34m\u001b[0m\u001b[0m\n\u001b[1;32m    207\u001b[0m \u001b[0;34m\u001b[0m\u001b[0m\n",
            "\u001b[0;32m/content/spark-3.3.3-bin-hadoop3/python/pyspark/sql/dataframe.py\u001b[0m in \u001b[0;36mcollect\u001b[0;34m(self)\u001b[0m\n\u001b[1;32m    815\u001b[0m         \"\"\"\n\u001b[1;32m    816\u001b[0m         \u001b[0;32mwith\u001b[0m \u001b[0mSCCallSiteSync\u001b[0m\u001b[0;34m(\u001b[0m\u001b[0mself\u001b[0m\u001b[0;34m.\u001b[0m\u001b[0m_sc\u001b[0m\u001b[0;34m)\u001b[0m\u001b[0;34m:\u001b[0m\u001b[0;34m\u001b[0m\u001b[0;34m\u001b[0m\u001b[0m\n\u001b[0;32m--> 817\u001b[0;31m             \u001b[0msock_info\u001b[0m \u001b[0;34m=\u001b[0m \u001b[0mself\u001b[0m\u001b[0;34m.\u001b[0m\u001b[0m_jdf\u001b[0m\u001b[0;34m.\u001b[0m\u001b[0mcollectToPython\u001b[0m\u001b[0;34m(\u001b[0m\u001b[0;34m)\u001b[0m\u001b[0;34m\u001b[0m\u001b[0;34m\u001b[0m\u001b[0m\n\u001b[0m\u001b[1;32m    818\u001b[0m         \u001b[0;32mreturn\u001b[0m \u001b[0mlist\u001b[0m\u001b[0;34m(\u001b[0m\u001b[0m_load_from_socket\u001b[0m\u001b[0;34m(\u001b[0m\u001b[0msock_info\u001b[0m\u001b[0;34m,\u001b[0m \u001b[0mBatchedSerializer\u001b[0m\u001b[0;34m(\u001b[0m\u001b[0mCPickleSerializer\u001b[0m\u001b[0;34m(\u001b[0m\u001b[0;34m)\u001b[0m\u001b[0;34m)\u001b[0m\u001b[0;34m)\u001b[0m\u001b[0;34m)\u001b[0m\u001b[0;34m\u001b[0m\u001b[0;34m\u001b[0m\u001b[0m\n\u001b[1;32m    819\u001b[0m \u001b[0;34m\u001b[0m\u001b[0m\n",
            "\u001b[0;32m/content/spark-3.3.3-bin-hadoop3/python/lib/py4j-0.10.9.5-src.zip/py4j/java_gateway.py\u001b[0m in \u001b[0;36m__call__\u001b[0;34m(self, *args)\u001b[0m\n\u001b[1;32m   1318\u001b[0m             \u001b[0mproto\u001b[0m\u001b[0;34m.\u001b[0m\u001b[0mEND_COMMAND_PART\u001b[0m\u001b[0;34m\u001b[0m\u001b[0;34m\u001b[0m\u001b[0m\n\u001b[1;32m   1319\u001b[0m \u001b[0;34m\u001b[0m\u001b[0m\n\u001b[0;32m-> 1320\u001b[0;31m         \u001b[0manswer\u001b[0m \u001b[0;34m=\u001b[0m \u001b[0mself\u001b[0m\u001b[0;34m.\u001b[0m\u001b[0mgateway_client\u001b[0m\u001b[0;34m.\u001b[0m\u001b[0msend_command\u001b[0m\u001b[0;34m(\u001b[0m\u001b[0mcommand\u001b[0m\u001b[0;34m)\u001b[0m\u001b[0;34m\u001b[0m\u001b[0;34m\u001b[0m\u001b[0m\n\u001b[0m\u001b[1;32m   1321\u001b[0m         return_value = get_return_value(\n\u001b[1;32m   1322\u001b[0m             answer, self.gateway_client, self.target_id, self.name)\n",
            "\u001b[0;32m/content/spark-3.3.3-bin-hadoop3/python/lib/py4j-0.10.9.5-src.zip/py4j/java_gateway.py\u001b[0m in \u001b[0;36msend_command\u001b[0;34m(self, command, retry, binary)\u001b[0m\n\u001b[1;32m   1036\u001b[0m         \u001b[0mconnection\u001b[0m \u001b[0;34m=\u001b[0m \u001b[0mself\u001b[0m\u001b[0;34m.\u001b[0m\u001b[0m_get_connection\u001b[0m\u001b[0;34m(\u001b[0m\u001b[0;34m)\u001b[0m\u001b[0;34m\u001b[0m\u001b[0;34m\u001b[0m\u001b[0m\n\u001b[1;32m   1037\u001b[0m         \u001b[0;32mtry\u001b[0m\u001b[0;34m:\u001b[0m\u001b[0;34m\u001b[0m\u001b[0;34m\u001b[0m\u001b[0m\n\u001b[0;32m-> 1038\u001b[0;31m             \u001b[0mresponse\u001b[0m \u001b[0;34m=\u001b[0m \u001b[0mconnection\u001b[0m\u001b[0;34m.\u001b[0m\u001b[0msend_command\u001b[0m\u001b[0;34m(\u001b[0m\u001b[0mcommand\u001b[0m\u001b[0;34m)\u001b[0m\u001b[0;34m\u001b[0m\u001b[0;34m\u001b[0m\u001b[0m\n\u001b[0m\u001b[1;32m   1039\u001b[0m             \u001b[0;32mif\u001b[0m \u001b[0mbinary\u001b[0m\u001b[0;34m:\u001b[0m\u001b[0;34m\u001b[0m\u001b[0;34m\u001b[0m\u001b[0m\n\u001b[1;32m   1040\u001b[0m                 \u001b[0;32mreturn\u001b[0m \u001b[0mresponse\u001b[0m\u001b[0;34m,\u001b[0m \u001b[0mself\u001b[0m\u001b[0;34m.\u001b[0m\u001b[0m_create_connection_guard\u001b[0m\u001b[0;34m(\u001b[0m\u001b[0mconnection\u001b[0m\u001b[0;34m)\u001b[0m\u001b[0;34m\u001b[0m\u001b[0;34m\u001b[0m\u001b[0m\n",
            "\u001b[0;32m/content/spark-3.3.3-bin-hadoop3/python/lib/py4j-0.10.9.5-src.zip/py4j/clientserver.py\u001b[0m in \u001b[0;36msend_command\u001b[0;34m(self, command)\u001b[0m\n\u001b[1;32m    509\u001b[0m         \u001b[0;32mtry\u001b[0m\u001b[0;34m:\u001b[0m\u001b[0;34m\u001b[0m\u001b[0;34m\u001b[0m\u001b[0m\n\u001b[1;32m    510\u001b[0m             \u001b[0;32mwhile\u001b[0m \u001b[0;32mTrue\u001b[0m\u001b[0;34m:\u001b[0m\u001b[0;34m\u001b[0m\u001b[0;34m\u001b[0m\u001b[0m\n\u001b[0;32m--> 511\u001b[0;31m                 \u001b[0manswer\u001b[0m \u001b[0;34m=\u001b[0m \u001b[0msmart_decode\u001b[0m\u001b[0;34m(\u001b[0m\u001b[0mself\u001b[0m\u001b[0;34m.\u001b[0m\u001b[0mstream\u001b[0m\u001b[0;34m.\u001b[0m\u001b[0mreadline\u001b[0m\u001b[0;34m(\u001b[0m\u001b[0;34m)\u001b[0m\u001b[0;34m[\u001b[0m\u001b[0;34m:\u001b[0m\u001b[0;34m-\u001b[0m\u001b[0;36m1\u001b[0m\u001b[0;34m]\u001b[0m\u001b[0;34m)\u001b[0m\u001b[0;34m\u001b[0m\u001b[0;34m\u001b[0m\u001b[0m\n\u001b[0m\u001b[1;32m    512\u001b[0m                 \u001b[0mlogger\u001b[0m\u001b[0;34m.\u001b[0m\u001b[0mdebug\u001b[0m\u001b[0;34m(\u001b[0m\u001b[0;34m\"Answer received: {0}\"\u001b[0m\u001b[0;34m.\u001b[0m\u001b[0mformat\u001b[0m\u001b[0;34m(\u001b[0m\u001b[0manswer\u001b[0m\u001b[0;34m)\u001b[0m\u001b[0;34m)\u001b[0m\u001b[0;34m\u001b[0m\u001b[0;34m\u001b[0m\u001b[0m\n\u001b[1;32m    513\u001b[0m                 \u001b[0;31m# Happens when a the other end is dead. There might be an empty\u001b[0m\u001b[0;34m\u001b[0m\u001b[0;34m\u001b[0m\u001b[0m\n",
            "\u001b[0;32m/usr/lib/python3.10/socket.py\u001b[0m in \u001b[0;36mreadinto\u001b[0;34m(self, b)\u001b[0m\n\u001b[1;32m    703\u001b[0m         \u001b[0;32mwhile\u001b[0m \u001b[0;32mTrue\u001b[0m\u001b[0;34m:\u001b[0m\u001b[0;34m\u001b[0m\u001b[0;34m\u001b[0m\u001b[0m\n\u001b[1;32m    704\u001b[0m             \u001b[0;32mtry\u001b[0m\u001b[0;34m:\u001b[0m\u001b[0;34m\u001b[0m\u001b[0;34m\u001b[0m\u001b[0m\n\u001b[0;32m--> 705\u001b[0;31m                 \u001b[0;32mreturn\u001b[0m \u001b[0mself\u001b[0m\u001b[0;34m.\u001b[0m\u001b[0m_sock\u001b[0m\u001b[0;34m.\u001b[0m\u001b[0mrecv_into\u001b[0m\u001b[0;34m(\u001b[0m\u001b[0mb\u001b[0m\u001b[0;34m)\u001b[0m\u001b[0;34m\u001b[0m\u001b[0;34m\u001b[0m\u001b[0m\n\u001b[0m\u001b[1;32m    706\u001b[0m             \u001b[0;32mexcept\u001b[0m \u001b[0mtimeout\u001b[0m\u001b[0;34m:\u001b[0m\u001b[0;34m\u001b[0m\u001b[0;34m\u001b[0m\u001b[0m\n\u001b[1;32m    707\u001b[0m                 \u001b[0mself\u001b[0m\u001b[0;34m.\u001b[0m\u001b[0m_timeout_occurred\u001b[0m \u001b[0;34m=\u001b[0m \u001b[0;32mTrue\u001b[0m\u001b[0;34m\u001b[0m\u001b[0;34m\u001b[0m\u001b[0m\n",
            "\u001b[0;31mKeyboardInterrupt\u001b[0m: "
          ]
        }
      ],
      "source": [
        "dfPandas = df.toPandas()"
      ]
    },
    {
      "cell_type": "code",
      "execution_count": null,
      "metadata": {
        "colab": {
          "base_uri": "https://localhost:8080/",
          "height": 580
        },
        "id": "hw1h03z7GU_J",
        "outputId": "3f8b3f0f-f905-4004-fb45-d5bc2cbfda45"
      },
      "outputs": [
        {
          "name": "stderr",
          "output_type": "stream",
          "text": [
            "ERROR:root:KeyboardInterrupt while sending command.\n",
            "Traceback (most recent call last):\n",
            "  File \"/content/spark-3.3.3-bin-hadoop3/python/lib/py4j-0.10.9.5-src.zip/py4j/java_gateway.py\", line 1038, in send_command\n",
            "    response = connection.send_command(command)\n",
            "  File \"/content/spark-3.3.3-bin-hadoop3/python/lib/py4j-0.10.9.5-src.zip/py4j/clientserver.py\", line 511, in send_command\n",
            "    answer = smart_decode(self.stream.readline()[:-1])\n",
            "  File \"/usr/lib/python3.10/socket.py\", line 705, in readinto\n",
            "    return self._sock.recv_into(b)\n",
            "KeyboardInterrupt\n"
          ]
        },
        {
          "ename": "KeyboardInterrupt",
          "evalue": "ignored",
          "output_type": "error",
          "traceback": [
            "\u001b[0;31m---------------------------------------------------------------------------\u001b[0m",
            "\u001b[0;31mKeyboardInterrupt\u001b[0m                         Traceback (most recent call last)",
            "\u001b[0;32m<ipython-input-73-090fbea7c2a7>\u001b[0m in \u001b[0;36m<cell line: 1>\u001b[0;34m()\u001b[0m\n\u001b[0;32m----> 1\u001b[0;31m \u001b[0mdf\u001b[0m \u001b[0;34m=\u001b[0m \u001b[0mdf_with_embeddings\u001b[0m\u001b[0;34m.\u001b[0m\u001b[0mtoPandas\u001b[0m\u001b[0;34m(\u001b[0m\u001b[0;34m)\u001b[0m\u001b[0;34m\u001b[0m\u001b[0;34m\u001b[0m\u001b[0m\n\u001b[0m\u001b[1;32m      2\u001b[0m \u001b[0;34m\u001b[0m\u001b[0m\n\u001b[1;32m      3\u001b[0m \u001b[0;31m# Assuming df['embedding'] is a series of lists or arrays\u001b[0m\u001b[0;34m\u001b[0m\u001b[0;34m\u001b[0m\u001b[0m\n\u001b[1;32m      4\u001b[0m \u001b[0membeddings\u001b[0m \u001b[0;34m=\u001b[0m \u001b[0mnp\u001b[0m\u001b[0;34m.\u001b[0m\u001b[0marray\u001b[0m\u001b[0;34m(\u001b[0m\u001b[0mdf_with_embeddings\u001b[0m\u001b[0;34m[\u001b[0m\u001b[0;34m'bert_embedding'\u001b[0m\u001b[0;34m]\u001b[0m\u001b[0;34m.\u001b[0m\u001b[0mtolist\u001b[0m\u001b[0;34m(\u001b[0m\u001b[0;34m)\u001b[0m\u001b[0;34m)\u001b[0m\u001b[0;34m\u001b[0m\u001b[0;34m\u001b[0m\u001b[0m\n\u001b[1;32m      5\u001b[0m \u001b[0;34m\u001b[0m\u001b[0m\n",
            "\u001b[0;32m/content/spark-3.3.3-bin-hadoop3/python/pyspark/sql/pandas/conversion.py\u001b[0m in \u001b[0;36mtoPandas\u001b[0;34m(self)\u001b[0m\n\u001b[1;32m    203\u001b[0m \u001b[0;34m\u001b[0m\u001b[0m\n\u001b[1;32m    204\u001b[0m         \u001b[0;31m# Below is toPandas without Arrow optimization.\u001b[0m\u001b[0;34m\u001b[0m\u001b[0;34m\u001b[0m\u001b[0m\n\u001b[0;32m--> 205\u001b[0;31m         \u001b[0mpdf\u001b[0m \u001b[0;34m=\u001b[0m \u001b[0mpd\u001b[0m\u001b[0;34m.\u001b[0m\u001b[0mDataFrame\u001b[0m\u001b[0;34m.\u001b[0m\u001b[0mfrom_records\u001b[0m\u001b[0;34m(\u001b[0m\u001b[0mself\u001b[0m\u001b[0;34m.\u001b[0m\u001b[0mcollect\u001b[0m\u001b[0;34m(\u001b[0m\u001b[0;34m)\u001b[0m\u001b[0;34m,\u001b[0m \u001b[0mcolumns\u001b[0m\u001b[0;34m=\u001b[0m\u001b[0mself\u001b[0m\u001b[0;34m.\u001b[0m\u001b[0mcolumns\u001b[0m\u001b[0;34m)\u001b[0m\u001b[0;34m\u001b[0m\u001b[0;34m\u001b[0m\u001b[0m\n\u001b[0m\u001b[1;32m    206\u001b[0m         \u001b[0mcolumn_counter\u001b[0m \u001b[0;34m=\u001b[0m \u001b[0mCounter\u001b[0m\u001b[0;34m(\u001b[0m\u001b[0mself\u001b[0m\u001b[0;34m.\u001b[0m\u001b[0mcolumns\u001b[0m\u001b[0;34m)\u001b[0m\u001b[0;34m\u001b[0m\u001b[0;34m\u001b[0m\u001b[0m\n\u001b[1;32m    207\u001b[0m \u001b[0;34m\u001b[0m\u001b[0m\n",
            "\u001b[0;32m/content/spark-3.3.3-bin-hadoop3/python/pyspark/sql/dataframe.py\u001b[0m in \u001b[0;36mcollect\u001b[0;34m(self)\u001b[0m\n\u001b[1;32m    815\u001b[0m         \"\"\"\n\u001b[1;32m    816\u001b[0m         \u001b[0;32mwith\u001b[0m \u001b[0mSCCallSiteSync\u001b[0m\u001b[0;34m(\u001b[0m\u001b[0mself\u001b[0m\u001b[0;34m.\u001b[0m\u001b[0m_sc\u001b[0m\u001b[0;34m)\u001b[0m\u001b[0;34m:\u001b[0m\u001b[0;34m\u001b[0m\u001b[0;34m\u001b[0m\u001b[0m\n\u001b[0;32m--> 817\u001b[0;31m             \u001b[0msock_info\u001b[0m \u001b[0;34m=\u001b[0m \u001b[0mself\u001b[0m\u001b[0;34m.\u001b[0m\u001b[0m_jdf\u001b[0m\u001b[0;34m.\u001b[0m\u001b[0mcollectToPython\u001b[0m\u001b[0;34m(\u001b[0m\u001b[0;34m)\u001b[0m\u001b[0;34m\u001b[0m\u001b[0;34m\u001b[0m\u001b[0m\n\u001b[0m\u001b[1;32m    818\u001b[0m         \u001b[0;32mreturn\u001b[0m \u001b[0mlist\u001b[0m\u001b[0;34m(\u001b[0m\u001b[0m_load_from_socket\u001b[0m\u001b[0;34m(\u001b[0m\u001b[0msock_info\u001b[0m\u001b[0;34m,\u001b[0m \u001b[0mBatchedSerializer\u001b[0m\u001b[0;34m(\u001b[0m\u001b[0mCPickleSerializer\u001b[0m\u001b[0;34m(\u001b[0m\u001b[0;34m)\u001b[0m\u001b[0;34m)\u001b[0m\u001b[0;34m)\u001b[0m\u001b[0;34m)\u001b[0m\u001b[0;34m\u001b[0m\u001b[0;34m\u001b[0m\u001b[0m\n\u001b[1;32m    819\u001b[0m \u001b[0;34m\u001b[0m\u001b[0m\n",
            "\u001b[0;32m/content/spark-3.3.3-bin-hadoop3/python/lib/py4j-0.10.9.5-src.zip/py4j/java_gateway.py\u001b[0m in \u001b[0;36m__call__\u001b[0;34m(self, *args)\u001b[0m\n\u001b[1;32m   1318\u001b[0m             \u001b[0mproto\u001b[0m\u001b[0;34m.\u001b[0m\u001b[0mEND_COMMAND_PART\u001b[0m\u001b[0;34m\u001b[0m\u001b[0;34m\u001b[0m\u001b[0m\n\u001b[1;32m   1319\u001b[0m \u001b[0;34m\u001b[0m\u001b[0m\n\u001b[0;32m-> 1320\u001b[0;31m         \u001b[0manswer\u001b[0m \u001b[0;34m=\u001b[0m \u001b[0mself\u001b[0m\u001b[0;34m.\u001b[0m\u001b[0mgateway_client\u001b[0m\u001b[0;34m.\u001b[0m\u001b[0msend_command\u001b[0m\u001b[0;34m(\u001b[0m\u001b[0mcommand\u001b[0m\u001b[0;34m)\u001b[0m\u001b[0;34m\u001b[0m\u001b[0;34m\u001b[0m\u001b[0m\n\u001b[0m\u001b[1;32m   1321\u001b[0m         return_value = get_return_value(\n\u001b[1;32m   1322\u001b[0m             answer, self.gateway_client, self.target_id, self.name)\n",
            "\u001b[0;32m/content/spark-3.3.3-bin-hadoop3/python/lib/py4j-0.10.9.5-src.zip/py4j/java_gateway.py\u001b[0m in \u001b[0;36msend_command\u001b[0;34m(self, command, retry, binary)\u001b[0m\n\u001b[1;32m   1036\u001b[0m         \u001b[0mconnection\u001b[0m \u001b[0;34m=\u001b[0m \u001b[0mself\u001b[0m\u001b[0;34m.\u001b[0m\u001b[0m_get_connection\u001b[0m\u001b[0;34m(\u001b[0m\u001b[0;34m)\u001b[0m\u001b[0;34m\u001b[0m\u001b[0;34m\u001b[0m\u001b[0m\n\u001b[1;32m   1037\u001b[0m         \u001b[0;32mtry\u001b[0m\u001b[0;34m:\u001b[0m\u001b[0;34m\u001b[0m\u001b[0;34m\u001b[0m\u001b[0m\n\u001b[0;32m-> 1038\u001b[0;31m             \u001b[0mresponse\u001b[0m \u001b[0;34m=\u001b[0m \u001b[0mconnection\u001b[0m\u001b[0;34m.\u001b[0m\u001b[0msend_command\u001b[0m\u001b[0;34m(\u001b[0m\u001b[0mcommand\u001b[0m\u001b[0;34m)\u001b[0m\u001b[0;34m\u001b[0m\u001b[0;34m\u001b[0m\u001b[0m\n\u001b[0m\u001b[1;32m   1039\u001b[0m             \u001b[0;32mif\u001b[0m \u001b[0mbinary\u001b[0m\u001b[0;34m:\u001b[0m\u001b[0;34m\u001b[0m\u001b[0;34m\u001b[0m\u001b[0m\n\u001b[1;32m   1040\u001b[0m                 \u001b[0;32mreturn\u001b[0m \u001b[0mresponse\u001b[0m\u001b[0;34m,\u001b[0m \u001b[0mself\u001b[0m\u001b[0;34m.\u001b[0m\u001b[0m_create_connection_guard\u001b[0m\u001b[0;34m(\u001b[0m\u001b[0mconnection\u001b[0m\u001b[0;34m)\u001b[0m\u001b[0;34m\u001b[0m\u001b[0;34m\u001b[0m\u001b[0m\n",
            "\u001b[0;32m/content/spark-3.3.3-bin-hadoop3/python/lib/py4j-0.10.9.5-src.zip/py4j/clientserver.py\u001b[0m in \u001b[0;36msend_command\u001b[0;34m(self, command)\u001b[0m\n\u001b[1;32m    509\u001b[0m         \u001b[0;32mtry\u001b[0m\u001b[0;34m:\u001b[0m\u001b[0;34m\u001b[0m\u001b[0;34m\u001b[0m\u001b[0m\n\u001b[1;32m    510\u001b[0m             \u001b[0;32mwhile\u001b[0m \u001b[0;32mTrue\u001b[0m\u001b[0;34m:\u001b[0m\u001b[0;34m\u001b[0m\u001b[0;34m\u001b[0m\u001b[0m\n\u001b[0;32m--> 511\u001b[0;31m                 \u001b[0manswer\u001b[0m \u001b[0;34m=\u001b[0m \u001b[0msmart_decode\u001b[0m\u001b[0;34m(\u001b[0m\u001b[0mself\u001b[0m\u001b[0;34m.\u001b[0m\u001b[0mstream\u001b[0m\u001b[0;34m.\u001b[0m\u001b[0mreadline\u001b[0m\u001b[0;34m(\u001b[0m\u001b[0;34m)\u001b[0m\u001b[0;34m[\u001b[0m\u001b[0;34m:\u001b[0m\u001b[0;34m-\u001b[0m\u001b[0;36m1\u001b[0m\u001b[0;34m]\u001b[0m\u001b[0;34m)\u001b[0m\u001b[0;34m\u001b[0m\u001b[0;34m\u001b[0m\u001b[0m\n\u001b[0m\u001b[1;32m    512\u001b[0m                 \u001b[0mlogger\u001b[0m\u001b[0;34m.\u001b[0m\u001b[0mdebug\u001b[0m\u001b[0;34m(\u001b[0m\u001b[0;34m\"Answer received: {0}\"\u001b[0m\u001b[0;34m.\u001b[0m\u001b[0mformat\u001b[0m\u001b[0;34m(\u001b[0m\u001b[0manswer\u001b[0m\u001b[0;34m)\u001b[0m\u001b[0;34m)\u001b[0m\u001b[0;34m\u001b[0m\u001b[0;34m\u001b[0m\u001b[0m\n\u001b[1;32m    513\u001b[0m                 \u001b[0;31m# Happens when a the other end is dead. There might be an empty\u001b[0m\u001b[0;34m\u001b[0m\u001b[0;34m\u001b[0m\u001b[0m\n",
            "\u001b[0;32m/usr/lib/python3.10/socket.py\u001b[0m in \u001b[0;36mreadinto\u001b[0;34m(self, b)\u001b[0m\n\u001b[1;32m    703\u001b[0m         \u001b[0;32mwhile\u001b[0m \u001b[0;32mTrue\u001b[0m\u001b[0;34m:\u001b[0m\u001b[0;34m\u001b[0m\u001b[0;34m\u001b[0m\u001b[0m\n\u001b[1;32m    704\u001b[0m             \u001b[0;32mtry\u001b[0m\u001b[0;34m:\u001b[0m\u001b[0;34m\u001b[0m\u001b[0;34m\u001b[0m\u001b[0m\n\u001b[0;32m--> 705\u001b[0;31m                 \u001b[0;32mreturn\u001b[0m \u001b[0mself\u001b[0m\u001b[0;34m.\u001b[0m\u001b[0m_sock\u001b[0m\u001b[0;34m.\u001b[0m\u001b[0mrecv_into\u001b[0m\u001b[0;34m(\u001b[0m\u001b[0mb\u001b[0m\u001b[0;34m)\u001b[0m\u001b[0;34m\u001b[0m\u001b[0;34m\u001b[0m\u001b[0m\n\u001b[0m\u001b[1;32m    706\u001b[0m             \u001b[0;32mexcept\u001b[0m \u001b[0mtimeout\u001b[0m\u001b[0;34m:\u001b[0m\u001b[0;34m\u001b[0m\u001b[0;34m\u001b[0m\u001b[0m\n\u001b[1;32m    707\u001b[0m                 \u001b[0mself\u001b[0m\u001b[0;34m.\u001b[0m\u001b[0m_timeout_occurred\u001b[0m \u001b[0;34m=\u001b[0m \u001b[0;32mTrue\u001b[0m\u001b[0;34m\u001b[0m\u001b[0;34m\u001b[0m\u001b[0m\n",
            "\u001b[0;31mKeyboardInterrupt\u001b[0m: "
          ]
        }
      ],
      "source": [
        "\n",
        "\n",
        "embeddings = np.array(df['bert_embedding'].tolist())\n",
        "\n",
        "tsne_embeddings = TSNE(n_components=2).fit_transform(embeddings)\n",
        "\n",
        "plt.figure(figsize=(10, 10))\n",
        "sns.scatterplot(tsne_embeddings[:, 0], tsne_embeddings[:, 1], alpha=0.7)\n",
        "plt.title('t-SNE Visualization')\n",
        "plt.show()\n"
      ]
    },
    {
      "cell_type": "markdown",
      "metadata": {
        "id": "iVlI8G_7eHUp"
      },
      "source": [
        "### Checking the distance between different ents and enties defined as increase and decrease"
      ]
    },
    {
      "cell_type": "code",
      "source": [
        "# Function to calculate distances\n",
        "def calculate_entity_distances(text, max_distance=2):\n",
        "    doc = nlp(text)\n",
        "    target_entities = [ent for ent in doc.ents if ent.label_ in [\"INCREASE\", \"DECREASE\"]]\n",
        "    other_entities = [ent for ent in doc.ents if ent.label_ not in [\"INCREASE\", \"DECREASE\"]]\n",
        "\n",
        "    summaries = []\n",
        "    for target_ent in target_entities:\n",
        "        for other_ent in other_entities:\n",
        "            distance = abs(target_ent.start - other_ent.start)\n",
        "            if distance <= max_distance:\n",
        "                summaries.append(f\"{target_ent.label_} near {other_ent.text}\")\n",
        "    return \"; \".join(summaries) if summaries else \"No close entities\"\n",
        "\n",
        "dataset['Entity_Distances'] = dataset['lemmatized_text'].apply(calculate_entity_distances)\n"
      ],
      "metadata": {
        "colab": {
          "base_uri": "https://localhost:8080/",
          "height": 321
        },
        "id": "mI0u8CHLneQc",
        "outputId": "4a68685f-08e0-4339-e2d2-0ca427e798da"
      },
      "execution_count": null,
      "outputs": [
        {
          "output_type": "error",
          "ename": "KeyboardInterrupt",
          "evalue": "",
          "traceback": [
            "\u001b[0;31m---------------------------------------------------------------------------\u001b[0m",
            "\u001b[0;31mKeyboardInterrupt\u001b[0m                         Traceback (most recent call last)",
            "\u001b[0;32m<ipython-input-88-334335a33280>\u001b[0m in \u001b[0;36m<cell line: 16>\u001b[0;34m()\u001b[0m\n\u001b[1;32m     14\u001b[0m \u001b[0;34m\u001b[0m\u001b[0m\n\u001b[1;32m     15\u001b[0m \u001b[0;31m# Apply the function to the 'abstracts' column and store results in a new column\u001b[0m\u001b[0;34m\u001b[0m\u001b[0;34m\u001b[0m\u001b[0m\n\u001b[0;32m---> 16\u001b[0;31m \u001b[0mdataset\u001b[0m\u001b[0;34m[\u001b[0m\u001b[0;34m'Entity_Distances'\u001b[0m\u001b[0;34m]\u001b[0m \u001b[0;34m=\u001b[0m \u001b[0mdataset\u001b[0m\u001b[0;34m[\u001b[0m\u001b[0;34m'lemmatized_text'\u001b[0m\u001b[0;34m]\u001b[0m\u001b[0;34m.\u001b[0m\u001b[0mapply\u001b[0m\u001b[0;34m(\u001b[0m\u001b[0mcalculate_entity_distances\u001b[0m\u001b[0;34m)\u001b[0m\u001b[0;34m\u001b[0m\u001b[0;34m\u001b[0m\u001b[0m\n\u001b[0m",
            "\u001b[0;32m/usr/local/lib/python3.10/dist-packages/pandas/core/series.py\u001b[0m in \u001b[0;36mapply\u001b[0;34m(self, func, convert_dtype, args, **kwargs)\u001b[0m\n\u001b[1;32m   4769\u001b[0m         \u001b[0mdtype\u001b[0m\u001b[0;34m:\u001b[0m \u001b[0mfloat64\u001b[0m\u001b[0;34m\u001b[0m\u001b[0;34m\u001b[0m\u001b[0m\n\u001b[1;32m   4770\u001b[0m         \"\"\"\n\u001b[0;32m-> 4771\u001b[0;31m         \u001b[0;32mreturn\u001b[0m \u001b[0mSeriesApply\u001b[0m\u001b[0;34m(\u001b[0m\u001b[0mself\u001b[0m\u001b[0;34m,\u001b[0m \u001b[0mfunc\u001b[0m\u001b[0;34m,\u001b[0m \u001b[0mconvert_dtype\u001b[0m\u001b[0;34m,\u001b[0m \u001b[0margs\u001b[0m\u001b[0;34m,\u001b[0m \u001b[0mkwargs\u001b[0m\u001b[0;34m)\u001b[0m\u001b[0;34m.\u001b[0m\u001b[0mapply\u001b[0m\u001b[0;34m(\u001b[0m\u001b[0;34m)\u001b[0m\u001b[0;34m\u001b[0m\u001b[0;34m\u001b[0m\u001b[0m\n\u001b[0m\u001b[1;32m   4772\u001b[0m \u001b[0;34m\u001b[0m\u001b[0m\n\u001b[1;32m   4773\u001b[0m     def _reduce(\n",
            "\u001b[0;32m/usr/local/lib/python3.10/dist-packages/pandas/core/apply.py\u001b[0m in \u001b[0;36mapply\u001b[0;34m(self)\u001b[0m\n\u001b[1;32m   1121\u001b[0m \u001b[0;34m\u001b[0m\u001b[0m\n\u001b[1;32m   1122\u001b[0m         \u001b[0;31m# self.f is Callable\u001b[0m\u001b[0;34m\u001b[0m\u001b[0;34m\u001b[0m\u001b[0m\n\u001b[0;32m-> 1123\u001b[0;31m         \u001b[0;32mreturn\u001b[0m \u001b[0mself\u001b[0m\u001b[0;34m.\u001b[0m\u001b[0mapply_standard\u001b[0m\u001b[0;34m(\u001b[0m\u001b[0;34m)\u001b[0m\u001b[0;34m\u001b[0m\u001b[0;34m\u001b[0m\u001b[0m\n\u001b[0m\u001b[1;32m   1124\u001b[0m \u001b[0;34m\u001b[0m\u001b[0m\n\u001b[1;32m   1125\u001b[0m     \u001b[0;32mdef\u001b[0m \u001b[0magg\u001b[0m\u001b[0;34m(\u001b[0m\u001b[0mself\u001b[0m\u001b[0;34m)\u001b[0m\u001b[0;34m:\u001b[0m\u001b[0;34m\u001b[0m\u001b[0;34m\u001b[0m\u001b[0m\n",
            "\u001b[0;32m/usr/local/lib/python3.10/dist-packages/pandas/core/apply.py\u001b[0m in \u001b[0;36mapply_standard\u001b[0;34m(self)\u001b[0m\n\u001b[1;32m   1172\u001b[0m             \u001b[0;32melse\u001b[0m\u001b[0;34m:\u001b[0m\u001b[0;34m\u001b[0m\u001b[0;34m\u001b[0m\u001b[0m\n\u001b[1;32m   1173\u001b[0m                 \u001b[0mvalues\u001b[0m \u001b[0;34m=\u001b[0m \u001b[0mobj\u001b[0m\u001b[0;34m.\u001b[0m\u001b[0mastype\u001b[0m\u001b[0;34m(\u001b[0m\u001b[0mobject\u001b[0m\u001b[0;34m)\u001b[0m\u001b[0;34m.\u001b[0m\u001b[0m_values\u001b[0m\u001b[0;34m\u001b[0m\u001b[0;34m\u001b[0m\u001b[0m\n\u001b[0;32m-> 1174\u001b[0;31m                 mapped = lib.map_infer(\n\u001b[0m\u001b[1;32m   1175\u001b[0m                     \u001b[0mvalues\u001b[0m\u001b[0;34m,\u001b[0m\u001b[0;34m\u001b[0m\u001b[0;34m\u001b[0m\u001b[0m\n\u001b[1;32m   1176\u001b[0m                     \u001b[0mf\u001b[0m\u001b[0;34m,\u001b[0m\u001b[0;34m\u001b[0m\u001b[0;34m\u001b[0m\u001b[0m\n",
            "\u001b[0;32m/usr/local/lib/python3.10/dist-packages/pandas/_libs/lib.pyx\u001b[0m in \u001b[0;36mpandas._libs.lib.map_infer\u001b[0;34m()\u001b[0m\n",
            "\u001b[0;32m<ipython-input-88-334335a33280>\u001b[0m in \u001b[0;36mcalculate_entity_distances\u001b[0;34m(text, max_distance)\u001b[0m\n\u001b[1;32m      1\u001b[0m \u001b[0;31m# Function to calculate distances\u001b[0m\u001b[0;34m\u001b[0m\u001b[0;34m\u001b[0m\u001b[0m\n\u001b[1;32m      2\u001b[0m \u001b[0;32mdef\u001b[0m \u001b[0mcalculate_entity_distances\u001b[0m\u001b[0;34m(\u001b[0m\u001b[0mtext\u001b[0m\u001b[0;34m,\u001b[0m \u001b[0mmax_distance\u001b[0m\u001b[0;34m=\u001b[0m\u001b[0;36m5\u001b[0m\u001b[0;34m)\u001b[0m\u001b[0;34m:\u001b[0m\u001b[0;34m\u001b[0m\u001b[0;34m\u001b[0m\u001b[0m\n\u001b[0;32m----> 3\u001b[0;31m     \u001b[0mdoc\u001b[0m \u001b[0;34m=\u001b[0m \u001b[0mnlp\u001b[0m\u001b[0;34m(\u001b[0m\u001b[0mtext\u001b[0m\u001b[0;34m)\u001b[0m\u001b[0;34m\u001b[0m\u001b[0;34m\u001b[0m\u001b[0m\n\u001b[0m\u001b[1;32m      4\u001b[0m     \u001b[0mtarget_entities\u001b[0m \u001b[0;34m=\u001b[0m \u001b[0;34m[\u001b[0m\u001b[0ment\u001b[0m \u001b[0;32mfor\u001b[0m \u001b[0ment\u001b[0m \u001b[0;32min\u001b[0m \u001b[0mdoc\u001b[0m\u001b[0;34m.\u001b[0m\u001b[0ments\u001b[0m \u001b[0;32mif\u001b[0m \u001b[0ment\u001b[0m\u001b[0;34m.\u001b[0m\u001b[0mlabel_\u001b[0m \u001b[0;32min\u001b[0m \u001b[0;34m[\u001b[0m\u001b[0;34m\"INCREASE\"\u001b[0m\u001b[0;34m,\u001b[0m \u001b[0;34m\"DECREASE\"\u001b[0m\u001b[0;34m]\u001b[0m\u001b[0;34m]\u001b[0m\u001b[0;34m\u001b[0m\u001b[0;34m\u001b[0m\u001b[0m\n\u001b[1;32m      5\u001b[0m     \u001b[0mother_entities\u001b[0m \u001b[0;34m=\u001b[0m \u001b[0;34m[\u001b[0m\u001b[0ment\u001b[0m \u001b[0;32mfor\u001b[0m \u001b[0ment\u001b[0m \u001b[0;32min\u001b[0m \u001b[0mdoc\u001b[0m\u001b[0;34m.\u001b[0m\u001b[0ments\u001b[0m \u001b[0;32mif\u001b[0m \u001b[0ment\u001b[0m\u001b[0;34m.\u001b[0m\u001b[0mlabel_\u001b[0m \u001b[0;32mnot\u001b[0m \u001b[0;32min\u001b[0m \u001b[0;34m[\u001b[0m\u001b[0;34m\"INCREASE\"\u001b[0m\u001b[0;34m,\u001b[0m \u001b[0;34m\"DECREASE\"\u001b[0m\u001b[0;34m]\u001b[0m\u001b[0;34m]\u001b[0m\u001b[0;34m\u001b[0m\u001b[0;34m\u001b[0m\u001b[0m\n",
            "\u001b[0;32m/usr/local/lib/python3.10/dist-packages/spacy/language.py\u001b[0m in \u001b[0;36m__call__\u001b[0;34m(self, text, disable, component_cfg)\u001b[0m\n\u001b[1;32m   1047\u001b[0m                 \u001b[0merror_handler\u001b[0m \u001b[0;34m=\u001b[0m \u001b[0mproc\u001b[0m\u001b[0;34m.\u001b[0m\u001b[0mget_error_handler\u001b[0m\u001b[0;34m(\u001b[0m\u001b[0;34m)\u001b[0m\u001b[0;34m\u001b[0m\u001b[0;34m\u001b[0m\u001b[0m\n\u001b[1;32m   1048\u001b[0m             \u001b[0;32mtry\u001b[0m\u001b[0;34m:\u001b[0m\u001b[0;34m\u001b[0m\u001b[0;34m\u001b[0m\u001b[0m\n\u001b[0;32m-> 1049\u001b[0;31m                 \u001b[0mdoc\u001b[0m \u001b[0;34m=\u001b[0m \u001b[0mproc\u001b[0m\u001b[0;34m(\u001b[0m\u001b[0mdoc\u001b[0m\u001b[0;34m,\u001b[0m \u001b[0;34m**\u001b[0m\u001b[0mcomponent_cfg\u001b[0m\u001b[0;34m.\u001b[0m\u001b[0mget\u001b[0m\u001b[0;34m(\u001b[0m\u001b[0mname\u001b[0m\u001b[0;34m,\u001b[0m \u001b[0;34m{\u001b[0m\u001b[0;34m}\u001b[0m\u001b[0;34m)\u001b[0m\u001b[0;34m)\u001b[0m  \u001b[0;31m# type: ignore[call-arg]\u001b[0m\u001b[0;34m\u001b[0m\u001b[0;34m\u001b[0m\u001b[0m\n\u001b[0m\u001b[1;32m   1050\u001b[0m             \u001b[0;32mexcept\u001b[0m \u001b[0mKeyError\u001b[0m \u001b[0;32mas\u001b[0m \u001b[0me\u001b[0m\u001b[0;34m:\u001b[0m\u001b[0;34m\u001b[0m\u001b[0;34m\u001b[0m\u001b[0m\n\u001b[1;32m   1051\u001b[0m                 \u001b[0;31m# This typically happens if a component is not initialized\u001b[0m\u001b[0;34m\u001b[0m\u001b[0;34m\u001b[0m\u001b[0m\n",
            "\u001b[0;32m/usr/local/lib/python3.10/dist-packages/spacy/pipeline/trainable_pipe.pyx\u001b[0m in \u001b[0;36mspacy.pipeline.trainable_pipe.TrainablePipe.__call__\u001b[0;34m()\u001b[0m\n",
            "\u001b[0;32m/usr/local/lib/python3.10/dist-packages/spacy/pipeline/transition_parser.pyx\u001b[0m in \u001b[0;36mspacy.pipeline.transition_parser.Parser.predict\u001b[0;34m()\u001b[0m\n",
            "\u001b[0;32m/usr/local/lib/python3.10/dist-packages/spacy/pipeline/transition_parser.pyx\u001b[0m in \u001b[0;36mspacy.pipeline.transition_parser.Parser.greedy_parse\u001b[0;34m()\u001b[0m\n",
            "\u001b[0;32m/usr/local/lib/python3.10/dist-packages/thinc/model.py\u001b[0m in \u001b[0;36mpredict\u001b[0;34m(self, X)\u001b[0m\n\u001b[1;32m    332\u001b[0m         \u001b[0monly\u001b[0m \u001b[0mthe\u001b[0m \u001b[0moutput\u001b[0m\u001b[0;34m,\u001b[0m \u001b[0minstead\u001b[0m \u001b[0mof\u001b[0m \u001b[0mthe\u001b[0m\u001b[0;31m \u001b[0m\u001b[0;31m`\u001b[0m\u001b[0;34m(\u001b[0m\u001b[0moutput\u001b[0m\u001b[0;34m,\u001b[0m \u001b[0mcallback\u001b[0m\u001b[0;34m)\u001b[0m\u001b[0;31m`\u001b[0m \u001b[0mtuple\u001b[0m\u001b[0;34m.\u001b[0m\u001b[0;34m\u001b[0m\u001b[0;34m\u001b[0m\u001b[0m\n\u001b[1;32m    333\u001b[0m         \"\"\"\n\u001b[0;32m--> 334\u001b[0;31m         \u001b[0;32mreturn\u001b[0m \u001b[0mself\u001b[0m\u001b[0;34m.\u001b[0m\u001b[0m_func\u001b[0m\u001b[0;34m(\u001b[0m\u001b[0mself\u001b[0m\u001b[0;34m,\u001b[0m \u001b[0mX\u001b[0m\u001b[0;34m,\u001b[0m \u001b[0mis_train\u001b[0m\u001b[0;34m=\u001b[0m\u001b[0;32mFalse\u001b[0m\u001b[0;34m)\u001b[0m\u001b[0;34m[\u001b[0m\u001b[0;36m0\u001b[0m\u001b[0;34m]\u001b[0m\u001b[0;34m\u001b[0m\u001b[0;34m\u001b[0m\u001b[0m\n\u001b[0m\u001b[1;32m    335\u001b[0m \u001b[0;34m\u001b[0m\u001b[0m\n\u001b[1;32m    336\u001b[0m     \u001b[0;32mdef\u001b[0m \u001b[0mfinish_update\u001b[0m\u001b[0;34m(\u001b[0m\u001b[0mself\u001b[0m\u001b[0;34m,\u001b[0m \u001b[0moptimizer\u001b[0m\u001b[0;34m:\u001b[0m \u001b[0mOptimizer\u001b[0m\u001b[0;34m)\u001b[0m \u001b[0;34m->\u001b[0m \u001b[0;32mNone\u001b[0m\u001b[0;34m:\u001b[0m\u001b[0;34m\u001b[0m\u001b[0;34m\u001b[0m\u001b[0m\n",
            "\u001b[0;32m/usr/local/lib/python3.10/dist-packages/spacy/ml/tb_framework.py\u001b[0m in \u001b[0;36mforward\u001b[0;34m(model, X, is_train)\u001b[0m\n\u001b[1;32m     32\u001b[0m \u001b[0;34m\u001b[0m\u001b[0m\n\u001b[1;32m     33\u001b[0m \u001b[0;32mdef\u001b[0m \u001b[0mforward\u001b[0m\u001b[0;34m(\u001b[0m\u001b[0mmodel\u001b[0m\u001b[0;34m,\u001b[0m \u001b[0mX\u001b[0m\u001b[0;34m,\u001b[0m \u001b[0mis_train\u001b[0m\u001b[0;34m)\u001b[0m\u001b[0;34m:\u001b[0m\u001b[0;34m\u001b[0m\u001b[0;34m\u001b[0m\u001b[0m\n\u001b[0;32m---> 34\u001b[0;31m     step_model = ParserStepModel(\n\u001b[0m\u001b[1;32m     35\u001b[0m         \u001b[0mX\u001b[0m\u001b[0;34m,\u001b[0m\u001b[0;34m\u001b[0m\u001b[0;34m\u001b[0m\u001b[0m\n\u001b[1;32m     36\u001b[0m         \u001b[0mmodel\u001b[0m\u001b[0;34m.\u001b[0m\u001b[0mlayers\u001b[0m\u001b[0;34m,\u001b[0m\u001b[0;34m\u001b[0m\u001b[0;34m\u001b[0m\u001b[0m\n",
            "\u001b[0;32m/usr/local/lib/python3.10/dist-packages/spacy/ml/parser_model.pyx\u001b[0m in \u001b[0;36mspacy.ml.parser_model.ParserStepModel.__init__\u001b[0;34m()\u001b[0m\n",
            "\u001b[0;32m/usr/local/lib/python3.10/dist-packages/thinc/model.py\u001b[0m in \u001b[0;36m__call__\u001b[0;34m(self, X, is_train)\u001b[0m\n\u001b[1;32m    308\u001b[0m         \"\"\"Call the model's `forward` function, returning the output and a\n\u001b[1;32m    309\u001b[0m         callback to compute the gradients via backpropagation.\"\"\"\n\u001b[0;32m--> 310\u001b[0;31m         \u001b[0;32mreturn\u001b[0m \u001b[0mself\u001b[0m\u001b[0;34m.\u001b[0m\u001b[0m_func\u001b[0m\u001b[0;34m(\u001b[0m\u001b[0mself\u001b[0m\u001b[0;34m,\u001b[0m \u001b[0mX\u001b[0m\u001b[0;34m,\u001b[0m \u001b[0mis_train\u001b[0m\u001b[0;34m=\u001b[0m\u001b[0mis_train\u001b[0m\u001b[0;34m)\u001b[0m\u001b[0;34m\u001b[0m\u001b[0;34m\u001b[0m\u001b[0m\n\u001b[0m\u001b[1;32m    311\u001b[0m \u001b[0;34m\u001b[0m\u001b[0m\n\u001b[1;32m    312\u001b[0m     \u001b[0;32mdef\u001b[0m \u001b[0minitialize\u001b[0m\u001b[0;34m(\u001b[0m\u001b[0mself\u001b[0m\u001b[0;34m,\u001b[0m \u001b[0mX\u001b[0m\u001b[0;34m:\u001b[0m \u001b[0mOptional\u001b[0m\u001b[0;34m[\u001b[0m\u001b[0mInT\u001b[0m\u001b[0;34m]\u001b[0m \u001b[0;34m=\u001b[0m \u001b[0;32mNone\u001b[0m\u001b[0;34m,\u001b[0m \u001b[0mY\u001b[0m\u001b[0;34m:\u001b[0m \u001b[0mOptional\u001b[0m\u001b[0;34m[\u001b[0m\u001b[0mOutT\u001b[0m\u001b[0;34m]\u001b[0m \u001b[0;34m=\u001b[0m \u001b[0;32mNone\u001b[0m\u001b[0;34m)\u001b[0m \u001b[0;34m->\u001b[0m \u001b[0;34m\"Model\"\u001b[0m\u001b[0;34m:\u001b[0m\u001b[0;34m\u001b[0m\u001b[0;34m\u001b[0m\u001b[0m\n",
            "\u001b[0;32m/usr/local/lib/python3.10/dist-packages/thinc/layers/chain.py\u001b[0m in \u001b[0;36mforward\u001b[0;34m(model, X, is_train)\u001b[0m\n\u001b[1;32m     52\u001b[0m     \u001b[0mcallbacks\u001b[0m \u001b[0;34m=\u001b[0m \u001b[0;34m[\u001b[0m\u001b[0;34m]\u001b[0m\u001b[0;34m\u001b[0m\u001b[0;34m\u001b[0m\u001b[0m\n\u001b[1;32m     53\u001b[0m     \u001b[0;32mfor\u001b[0m \u001b[0mlayer\u001b[0m \u001b[0;32min\u001b[0m \u001b[0mmodel\u001b[0m\u001b[0;34m.\u001b[0m\u001b[0mlayers\u001b[0m\u001b[0;34m:\u001b[0m\u001b[0;34m\u001b[0m\u001b[0;34m\u001b[0m\u001b[0m\n\u001b[0;32m---> 54\u001b[0;31m         \u001b[0mY\u001b[0m\u001b[0;34m,\u001b[0m \u001b[0minc_layer_grad\u001b[0m \u001b[0;34m=\u001b[0m \u001b[0mlayer\u001b[0m\u001b[0;34m(\u001b[0m\u001b[0mX\u001b[0m\u001b[0;34m,\u001b[0m \u001b[0mis_train\u001b[0m\u001b[0;34m=\u001b[0m\u001b[0mis_train\u001b[0m\u001b[0;34m)\u001b[0m\u001b[0;34m\u001b[0m\u001b[0;34m\u001b[0m\u001b[0m\n\u001b[0m\u001b[1;32m     55\u001b[0m         \u001b[0mcallbacks\u001b[0m\u001b[0;34m.\u001b[0m\u001b[0mappend\u001b[0m\u001b[0;34m(\u001b[0m\u001b[0minc_layer_grad\u001b[0m\u001b[0;34m)\u001b[0m\u001b[0;34m\u001b[0m\u001b[0;34m\u001b[0m\u001b[0m\n\u001b[1;32m     56\u001b[0m         \u001b[0mX\u001b[0m \u001b[0;34m=\u001b[0m \u001b[0mY\u001b[0m\u001b[0;34m\u001b[0m\u001b[0;34m\u001b[0m\u001b[0m\n",
            "\u001b[0;32m/usr/local/lib/python3.10/dist-packages/thinc/model.py\u001b[0m in \u001b[0;36m__call__\u001b[0;34m(self, X, is_train)\u001b[0m\n\u001b[1;32m    308\u001b[0m         \"\"\"Call the model's `forward` function, returning the output and a\n\u001b[1;32m    309\u001b[0m         callback to compute the gradients via backpropagation.\"\"\"\n\u001b[0;32m--> 310\u001b[0;31m         \u001b[0;32mreturn\u001b[0m \u001b[0mself\u001b[0m\u001b[0;34m.\u001b[0m\u001b[0m_func\u001b[0m\u001b[0;34m(\u001b[0m\u001b[0mself\u001b[0m\u001b[0;34m,\u001b[0m \u001b[0mX\u001b[0m\u001b[0;34m,\u001b[0m \u001b[0mis_train\u001b[0m\u001b[0;34m=\u001b[0m\u001b[0mis_train\u001b[0m\u001b[0;34m)\u001b[0m\u001b[0;34m\u001b[0m\u001b[0;34m\u001b[0m\u001b[0m\n\u001b[0m\u001b[1;32m    311\u001b[0m \u001b[0;34m\u001b[0m\u001b[0m\n\u001b[1;32m    312\u001b[0m     \u001b[0;32mdef\u001b[0m \u001b[0minitialize\u001b[0m\u001b[0;34m(\u001b[0m\u001b[0mself\u001b[0m\u001b[0;34m,\u001b[0m \u001b[0mX\u001b[0m\u001b[0;34m:\u001b[0m \u001b[0mOptional\u001b[0m\u001b[0;34m[\u001b[0m\u001b[0mInT\u001b[0m\u001b[0;34m]\u001b[0m \u001b[0;34m=\u001b[0m \u001b[0;32mNone\u001b[0m\u001b[0;34m,\u001b[0m \u001b[0mY\u001b[0m\u001b[0;34m:\u001b[0m \u001b[0mOptional\u001b[0m\u001b[0;34m[\u001b[0m\u001b[0mOutT\u001b[0m\u001b[0;34m]\u001b[0m \u001b[0;34m=\u001b[0m \u001b[0;32mNone\u001b[0m\u001b[0;34m)\u001b[0m \u001b[0;34m->\u001b[0m \u001b[0;34m\"Model\"\u001b[0m\u001b[0;34m:\u001b[0m\u001b[0;34m\u001b[0m\u001b[0;34m\u001b[0m\u001b[0m\n",
            "\u001b[0;32m/usr/local/lib/python3.10/dist-packages/thinc/layers/chain.py\u001b[0m in \u001b[0;36mforward\u001b[0;34m(model, X, is_train)\u001b[0m\n\u001b[1;32m     52\u001b[0m     \u001b[0mcallbacks\u001b[0m \u001b[0;34m=\u001b[0m \u001b[0;34m[\u001b[0m\u001b[0;34m]\u001b[0m\u001b[0;34m\u001b[0m\u001b[0;34m\u001b[0m\u001b[0m\n\u001b[1;32m     53\u001b[0m     \u001b[0;32mfor\u001b[0m \u001b[0mlayer\u001b[0m \u001b[0;32min\u001b[0m \u001b[0mmodel\u001b[0m\u001b[0;34m.\u001b[0m\u001b[0mlayers\u001b[0m\u001b[0;34m:\u001b[0m\u001b[0;34m\u001b[0m\u001b[0;34m\u001b[0m\u001b[0m\n\u001b[0;32m---> 54\u001b[0;31m         \u001b[0mY\u001b[0m\u001b[0;34m,\u001b[0m \u001b[0minc_layer_grad\u001b[0m \u001b[0;34m=\u001b[0m \u001b[0mlayer\u001b[0m\u001b[0;34m(\u001b[0m\u001b[0mX\u001b[0m\u001b[0;34m,\u001b[0m \u001b[0mis_train\u001b[0m\u001b[0;34m=\u001b[0m\u001b[0mis_train\u001b[0m\u001b[0;34m)\u001b[0m\u001b[0;34m\u001b[0m\u001b[0;34m\u001b[0m\u001b[0m\n\u001b[0m\u001b[1;32m     55\u001b[0m         \u001b[0mcallbacks\u001b[0m\u001b[0;34m.\u001b[0m\u001b[0mappend\u001b[0m\u001b[0;34m(\u001b[0m\u001b[0minc_layer_grad\u001b[0m\u001b[0;34m)\u001b[0m\u001b[0;34m\u001b[0m\u001b[0;34m\u001b[0m\u001b[0m\n\u001b[1;32m     56\u001b[0m         \u001b[0mX\u001b[0m \u001b[0;34m=\u001b[0m \u001b[0mY\u001b[0m\u001b[0;34m\u001b[0m\u001b[0;34m\u001b[0m\u001b[0m\n",
            "\u001b[0;32m/usr/local/lib/python3.10/dist-packages/thinc/model.py\u001b[0m in \u001b[0;36m__call__\u001b[0;34m(self, X, is_train)\u001b[0m\n\u001b[1;32m    308\u001b[0m         \"\"\"Call the model's `forward` function, returning the output and a\n\u001b[1;32m    309\u001b[0m         callback to compute the gradients via backpropagation.\"\"\"\n\u001b[0;32m--> 310\u001b[0;31m         \u001b[0;32mreturn\u001b[0m \u001b[0mself\u001b[0m\u001b[0;34m.\u001b[0m\u001b[0m_func\u001b[0m\u001b[0;34m(\u001b[0m\u001b[0mself\u001b[0m\u001b[0;34m,\u001b[0m \u001b[0mX\u001b[0m\u001b[0;34m,\u001b[0m \u001b[0mis_train\u001b[0m\u001b[0;34m=\u001b[0m\u001b[0mis_train\u001b[0m\u001b[0;34m)\u001b[0m\u001b[0;34m\u001b[0m\u001b[0;34m\u001b[0m\u001b[0m\n\u001b[0m\u001b[1;32m    311\u001b[0m \u001b[0;34m\u001b[0m\u001b[0m\n\u001b[1;32m    312\u001b[0m     \u001b[0;32mdef\u001b[0m \u001b[0minitialize\u001b[0m\u001b[0;34m(\u001b[0m\u001b[0mself\u001b[0m\u001b[0;34m,\u001b[0m \u001b[0mX\u001b[0m\u001b[0;34m:\u001b[0m \u001b[0mOptional\u001b[0m\u001b[0;34m[\u001b[0m\u001b[0mInT\u001b[0m\u001b[0;34m]\u001b[0m \u001b[0;34m=\u001b[0m \u001b[0;32mNone\u001b[0m\u001b[0;34m,\u001b[0m \u001b[0mY\u001b[0m\u001b[0;34m:\u001b[0m \u001b[0mOptional\u001b[0m\u001b[0;34m[\u001b[0m\u001b[0mOutT\u001b[0m\u001b[0;34m]\u001b[0m \u001b[0;34m=\u001b[0m \u001b[0;32mNone\u001b[0m\u001b[0;34m)\u001b[0m \u001b[0;34m->\u001b[0m \u001b[0;34m\"Model\"\u001b[0m\u001b[0;34m:\u001b[0m\u001b[0;34m\u001b[0m\u001b[0;34m\u001b[0m\u001b[0m\n",
            "\u001b[0;32m/usr/local/lib/python3.10/dist-packages/thinc/layers/chain.py\u001b[0m in \u001b[0;36mforward\u001b[0;34m(model, X, is_train)\u001b[0m\n\u001b[1;32m     52\u001b[0m     \u001b[0mcallbacks\u001b[0m \u001b[0;34m=\u001b[0m \u001b[0;34m[\u001b[0m\u001b[0;34m]\u001b[0m\u001b[0;34m\u001b[0m\u001b[0;34m\u001b[0m\u001b[0m\n\u001b[1;32m     53\u001b[0m     \u001b[0;32mfor\u001b[0m \u001b[0mlayer\u001b[0m \u001b[0;32min\u001b[0m \u001b[0mmodel\u001b[0m\u001b[0;34m.\u001b[0m\u001b[0mlayers\u001b[0m\u001b[0;34m:\u001b[0m\u001b[0;34m\u001b[0m\u001b[0;34m\u001b[0m\u001b[0m\n\u001b[0;32m---> 54\u001b[0;31m         \u001b[0mY\u001b[0m\u001b[0;34m,\u001b[0m \u001b[0minc_layer_grad\u001b[0m \u001b[0;34m=\u001b[0m \u001b[0mlayer\u001b[0m\u001b[0;34m(\u001b[0m\u001b[0mX\u001b[0m\u001b[0;34m,\u001b[0m \u001b[0mis_train\u001b[0m\u001b[0;34m=\u001b[0m\u001b[0mis_train\u001b[0m\u001b[0;34m)\u001b[0m\u001b[0;34m\u001b[0m\u001b[0;34m\u001b[0m\u001b[0m\n\u001b[0m\u001b[1;32m     55\u001b[0m         \u001b[0mcallbacks\u001b[0m\u001b[0;34m.\u001b[0m\u001b[0mappend\u001b[0m\u001b[0;34m(\u001b[0m\u001b[0minc_layer_grad\u001b[0m\u001b[0;34m)\u001b[0m\u001b[0;34m\u001b[0m\u001b[0;34m\u001b[0m\u001b[0m\n\u001b[1;32m     56\u001b[0m         \u001b[0mX\u001b[0m \u001b[0;34m=\u001b[0m \u001b[0mY\u001b[0m\u001b[0;34m\u001b[0m\u001b[0;34m\u001b[0m\u001b[0m\n",
            "\u001b[0;32m/usr/local/lib/python3.10/dist-packages/thinc/model.py\u001b[0m in \u001b[0;36m__call__\u001b[0;34m(self, X, is_train)\u001b[0m\n\u001b[1;32m    308\u001b[0m         \"\"\"Call the model's `forward` function, returning the output and a\n\u001b[1;32m    309\u001b[0m         callback to compute the gradients via backpropagation.\"\"\"\n\u001b[0;32m--> 310\u001b[0;31m         \u001b[0;32mreturn\u001b[0m \u001b[0mself\u001b[0m\u001b[0;34m.\u001b[0m\u001b[0m_func\u001b[0m\u001b[0;34m(\u001b[0m\u001b[0mself\u001b[0m\u001b[0;34m,\u001b[0m \u001b[0mX\u001b[0m\u001b[0;34m,\u001b[0m \u001b[0mis_train\u001b[0m\u001b[0;34m=\u001b[0m\u001b[0mis_train\u001b[0m\u001b[0;34m)\u001b[0m\u001b[0;34m\u001b[0m\u001b[0;34m\u001b[0m\u001b[0m\n\u001b[0m\u001b[1;32m    311\u001b[0m \u001b[0;34m\u001b[0m\u001b[0m\n\u001b[1;32m    312\u001b[0m     \u001b[0;32mdef\u001b[0m \u001b[0minitialize\u001b[0m\u001b[0;34m(\u001b[0m\u001b[0mself\u001b[0m\u001b[0;34m,\u001b[0m \u001b[0mX\u001b[0m\u001b[0;34m:\u001b[0m \u001b[0mOptional\u001b[0m\u001b[0;34m[\u001b[0m\u001b[0mInT\u001b[0m\u001b[0;34m]\u001b[0m \u001b[0;34m=\u001b[0m \u001b[0;32mNone\u001b[0m\u001b[0;34m,\u001b[0m \u001b[0mY\u001b[0m\u001b[0;34m:\u001b[0m \u001b[0mOptional\u001b[0m\u001b[0;34m[\u001b[0m\u001b[0mOutT\u001b[0m\u001b[0;34m]\u001b[0m \u001b[0;34m=\u001b[0m \u001b[0;32mNone\u001b[0m\u001b[0;34m)\u001b[0m \u001b[0;34m->\u001b[0m \u001b[0;34m\"Model\"\u001b[0m\u001b[0;34m:\u001b[0m\u001b[0;34m\u001b[0m\u001b[0;34m\u001b[0m\u001b[0m\n",
            "\u001b[0;32m/usr/local/lib/python3.10/dist-packages/thinc/layers/with_array.py\u001b[0m in \u001b[0;36mforward\u001b[0;34m(model, Xseq, is_train)\u001b[0m\n\u001b[1;32m     34\u001b[0m ) -> Tuple[SeqT, Callable]:\n\u001b[1;32m     35\u001b[0m     \u001b[0;32mif\u001b[0m \u001b[0misinstance\u001b[0m\u001b[0;34m(\u001b[0m\u001b[0mXseq\u001b[0m\u001b[0;34m,\u001b[0m \u001b[0mRagged\u001b[0m\u001b[0;34m)\u001b[0m\u001b[0;34m:\u001b[0m\u001b[0;34m\u001b[0m\u001b[0;34m\u001b[0m\u001b[0m\n\u001b[0;32m---> 36\u001b[0;31m         \u001b[0;32mreturn\u001b[0m \u001b[0mcast\u001b[0m\u001b[0;34m(\u001b[0m\u001b[0mTuple\u001b[0m\u001b[0;34m[\u001b[0m\u001b[0mSeqT\u001b[0m\u001b[0;34m,\u001b[0m \u001b[0mCallable\u001b[0m\u001b[0;34m]\u001b[0m\u001b[0;34m,\u001b[0m \u001b[0m_ragged_forward\u001b[0m\u001b[0;34m(\u001b[0m\u001b[0mmodel\u001b[0m\u001b[0;34m,\u001b[0m \u001b[0mXseq\u001b[0m\u001b[0;34m,\u001b[0m \u001b[0mis_train\u001b[0m\u001b[0;34m)\u001b[0m\u001b[0;34m)\u001b[0m\u001b[0;34m\u001b[0m\u001b[0;34m\u001b[0m\u001b[0m\n\u001b[0m\u001b[1;32m     37\u001b[0m     \u001b[0;32melif\u001b[0m \u001b[0misinstance\u001b[0m\u001b[0;34m(\u001b[0m\u001b[0mXseq\u001b[0m\u001b[0;34m,\u001b[0m \u001b[0mPadded\u001b[0m\u001b[0;34m)\u001b[0m\u001b[0;34m:\u001b[0m\u001b[0;34m\u001b[0m\u001b[0;34m\u001b[0m\u001b[0m\n\u001b[1;32m     38\u001b[0m         \u001b[0;32mreturn\u001b[0m \u001b[0mcast\u001b[0m\u001b[0;34m(\u001b[0m\u001b[0mTuple\u001b[0m\u001b[0;34m[\u001b[0m\u001b[0mSeqT\u001b[0m\u001b[0;34m,\u001b[0m \u001b[0mCallable\u001b[0m\u001b[0;34m]\u001b[0m\u001b[0;34m,\u001b[0m \u001b[0m_padded_forward\u001b[0m\u001b[0;34m(\u001b[0m\u001b[0mmodel\u001b[0m\u001b[0;34m,\u001b[0m \u001b[0mXseq\u001b[0m\u001b[0;34m,\u001b[0m \u001b[0mis_train\u001b[0m\u001b[0;34m)\u001b[0m\u001b[0;34m)\u001b[0m\u001b[0;34m\u001b[0m\u001b[0;34m\u001b[0m\u001b[0m\n",
            "\u001b[0;32m/usr/local/lib/python3.10/dist-packages/thinc/layers/with_array.py\u001b[0m in \u001b[0;36m_ragged_forward\u001b[0;34m(model, Xr, is_train)\u001b[0m\n\u001b[1;32m     89\u001b[0m ) -> Tuple[Ragged, Callable]:\n\u001b[1;32m     90\u001b[0m     \u001b[0mlayer\u001b[0m\u001b[0;34m:\u001b[0m \u001b[0mModel\u001b[0m\u001b[0;34m[\u001b[0m\u001b[0mArrayXd\u001b[0m\u001b[0;34m,\u001b[0m \u001b[0mArrayXd\u001b[0m\u001b[0;34m]\u001b[0m \u001b[0;34m=\u001b[0m \u001b[0mmodel\u001b[0m\u001b[0;34m.\u001b[0m\u001b[0mlayers\u001b[0m\u001b[0;34m[\u001b[0m\u001b[0;36m0\u001b[0m\u001b[0;34m]\u001b[0m\u001b[0;34m\u001b[0m\u001b[0;34m\u001b[0m\u001b[0m\n\u001b[0;32m---> 91\u001b[0;31m     \u001b[0mY\u001b[0m\u001b[0;34m,\u001b[0m \u001b[0mget_dX\u001b[0m \u001b[0;34m=\u001b[0m \u001b[0mlayer\u001b[0m\u001b[0;34m(\u001b[0m\u001b[0mXr\u001b[0m\u001b[0;34m.\u001b[0m\u001b[0mdataXd\u001b[0m\u001b[0;34m,\u001b[0m \u001b[0mis_train\u001b[0m\u001b[0;34m)\u001b[0m\u001b[0;34m\u001b[0m\u001b[0;34m\u001b[0m\u001b[0m\n\u001b[0m\u001b[1;32m     92\u001b[0m \u001b[0;34m\u001b[0m\u001b[0m\n\u001b[1;32m     93\u001b[0m     \u001b[0;32mdef\u001b[0m \u001b[0mbackprop\u001b[0m\u001b[0;34m(\u001b[0m\u001b[0mdYr\u001b[0m\u001b[0;34m:\u001b[0m \u001b[0mRagged\u001b[0m\u001b[0;34m)\u001b[0m \u001b[0;34m->\u001b[0m \u001b[0mRagged\u001b[0m\u001b[0;34m:\u001b[0m\u001b[0;34m\u001b[0m\u001b[0;34m\u001b[0m\u001b[0m\n",
            "\u001b[0;32m/usr/local/lib/python3.10/dist-packages/thinc/model.py\u001b[0m in \u001b[0;36m__call__\u001b[0;34m(self, X, is_train)\u001b[0m\n\u001b[1;32m    308\u001b[0m         \"\"\"Call the model's `forward` function, returning the output and a\n\u001b[1;32m    309\u001b[0m         callback to compute the gradients via backpropagation.\"\"\"\n\u001b[0;32m--> 310\u001b[0;31m         \u001b[0;32mreturn\u001b[0m \u001b[0mself\u001b[0m\u001b[0;34m.\u001b[0m\u001b[0m_func\u001b[0m\u001b[0;34m(\u001b[0m\u001b[0mself\u001b[0m\u001b[0;34m,\u001b[0m \u001b[0mX\u001b[0m\u001b[0;34m,\u001b[0m \u001b[0mis_train\u001b[0m\u001b[0;34m=\u001b[0m\u001b[0mis_train\u001b[0m\u001b[0;34m)\u001b[0m\u001b[0;34m\u001b[0m\u001b[0;34m\u001b[0m\u001b[0m\n\u001b[0m\u001b[1;32m    311\u001b[0m \u001b[0;34m\u001b[0m\u001b[0m\n\u001b[1;32m    312\u001b[0m     \u001b[0;32mdef\u001b[0m \u001b[0minitialize\u001b[0m\u001b[0;34m(\u001b[0m\u001b[0mself\u001b[0m\u001b[0;34m,\u001b[0m \u001b[0mX\u001b[0m\u001b[0;34m:\u001b[0m \u001b[0mOptional\u001b[0m\u001b[0;34m[\u001b[0m\u001b[0mInT\u001b[0m\u001b[0;34m]\u001b[0m \u001b[0;34m=\u001b[0m \u001b[0;32mNone\u001b[0m\u001b[0;34m,\u001b[0m \u001b[0mY\u001b[0m\u001b[0;34m:\u001b[0m \u001b[0mOptional\u001b[0m\u001b[0;34m[\u001b[0m\u001b[0mOutT\u001b[0m\u001b[0;34m]\u001b[0m \u001b[0;34m=\u001b[0m \u001b[0;32mNone\u001b[0m\u001b[0;34m)\u001b[0m \u001b[0;34m->\u001b[0m \u001b[0;34m\"Model\"\u001b[0m\u001b[0;34m:\u001b[0m\u001b[0;34m\u001b[0m\u001b[0;34m\u001b[0m\u001b[0m\n",
            "\u001b[0;32m/usr/local/lib/python3.10/dist-packages/thinc/layers/chain.py\u001b[0m in \u001b[0;36mforward\u001b[0;34m(model, X, is_train)\u001b[0m\n\u001b[1;32m     52\u001b[0m     \u001b[0mcallbacks\u001b[0m \u001b[0;34m=\u001b[0m \u001b[0;34m[\u001b[0m\u001b[0;34m]\u001b[0m\u001b[0;34m\u001b[0m\u001b[0;34m\u001b[0m\u001b[0m\n\u001b[1;32m     53\u001b[0m     \u001b[0;32mfor\u001b[0m \u001b[0mlayer\u001b[0m \u001b[0;32min\u001b[0m \u001b[0mmodel\u001b[0m\u001b[0;34m.\u001b[0m\u001b[0mlayers\u001b[0m\u001b[0;34m:\u001b[0m\u001b[0;34m\u001b[0m\u001b[0;34m\u001b[0m\u001b[0m\n\u001b[0;32m---> 54\u001b[0;31m         \u001b[0mY\u001b[0m\u001b[0;34m,\u001b[0m \u001b[0minc_layer_grad\u001b[0m \u001b[0;34m=\u001b[0m \u001b[0mlayer\u001b[0m\u001b[0;34m(\u001b[0m\u001b[0mX\u001b[0m\u001b[0;34m,\u001b[0m \u001b[0mis_train\u001b[0m\u001b[0;34m=\u001b[0m\u001b[0mis_train\u001b[0m\u001b[0;34m)\u001b[0m\u001b[0;34m\u001b[0m\u001b[0;34m\u001b[0m\u001b[0m\n\u001b[0m\u001b[1;32m     55\u001b[0m         \u001b[0mcallbacks\u001b[0m\u001b[0;34m.\u001b[0m\u001b[0mappend\u001b[0m\u001b[0;34m(\u001b[0m\u001b[0minc_layer_grad\u001b[0m\u001b[0;34m)\u001b[0m\u001b[0;34m\u001b[0m\u001b[0;34m\u001b[0m\u001b[0m\n\u001b[1;32m     56\u001b[0m         \u001b[0mX\u001b[0m \u001b[0;34m=\u001b[0m \u001b[0mY\u001b[0m\u001b[0;34m\u001b[0m\u001b[0;34m\u001b[0m\u001b[0m\n",
            "\u001b[0;32m/usr/local/lib/python3.10/dist-packages/thinc/model.py\u001b[0m in \u001b[0;36m__call__\u001b[0;34m(self, X, is_train)\u001b[0m\n\u001b[1;32m    308\u001b[0m         \"\"\"Call the model's `forward` function, returning the output and a\n\u001b[1;32m    309\u001b[0m         callback to compute the gradients via backpropagation.\"\"\"\n\u001b[0;32m--> 310\u001b[0;31m         \u001b[0;32mreturn\u001b[0m \u001b[0mself\u001b[0m\u001b[0;34m.\u001b[0m\u001b[0m_func\u001b[0m\u001b[0;34m(\u001b[0m\u001b[0mself\u001b[0m\u001b[0;34m,\u001b[0m \u001b[0mX\u001b[0m\u001b[0;34m,\u001b[0m \u001b[0mis_train\u001b[0m\u001b[0;34m=\u001b[0m\u001b[0mis_train\u001b[0m\u001b[0;34m)\u001b[0m\u001b[0;34m\u001b[0m\u001b[0;34m\u001b[0m\u001b[0m\n\u001b[0m\u001b[1;32m    311\u001b[0m \u001b[0;34m\u001b[0m\u001b[0m\n\u001b[1;32m    312\u001b[0m     \u001b[0;32mdef\u001b[0m \u001b[0minitialize\u001b[0m\u001b[0;34m(\u001b[0m\u001b[0mself\u001b[0m\u001b[0;34m,\u001b[0m \u001b[0mX\u001b[0m\u001b[0;34m:\u001b[0m \u001b[0mOptional\u001b[0m\u001b[0;34m[\u001b[0m\u001b[0mInT\u001b[0m\u001b[0;34m]\u001b[0m \u001b[0;34m=\u001b[0m \u001b[0;32mNone\u001b[0m\u001b[0;34m,\u001b[0m \u001b[0mY\u001b[0m\u001b[0;34m:\u001b[0m \u001b[0mOptional\u001b[0m\u001b[0;34m[\u001b[0m\u001b[0mOutT\u001b[0m\u001b[0;34m]\u001b[0m \u001b[0;34m=\u001b[0m \u001b[0;32mNone\u001b[0m\u001b[0;34m)\u001b[0m \u001b[0;34m->\u001b[0m \u001b[0;34m\"Model\"\u001b[0m\u001b[0;34m:\u001b[0m\u001b[0;34m\u001b[0m\u001b[0;34m\u001b[0m\u001b[0m\n",
            "\u001b[0;32m/usr/local/lib/python3.10/dist-packages/thinc/layers/chain.py\u001b[0m in \u001b[0;36mforward\u001b[0;34m(model, X, is_train)\u001b[0m\n\u001b[1;32m     52\u001b[0m     \u001b[0mcallbacks\u001b[0m \u001b[0;34m=\u001b[0m \u001b[0;34m[\u001b[0m\u001b[0;34m]\u001b[0m\u001b[0;34m\u001b[0m\u001b[0;34m\u001b[0m\u001b[0m\n\u001b[1;32m     53\u001b[0m     \u001b[0;32mfor\u001b[0m \u001b[0mlayer\u001b[0m \u001b[0;32min\u001b[0m \u001b[0mmodel\u001b[0m\u001b[0;34m.\u001b[0m\u001b[0mlayers\u001b[0m\u001b[0;34m:\u001b[0m\u001b[0;34m\u001b[0m\u001b[0;34m\u001b[0m\u001b[0m\n\u001b[0;32m---> 54\u001b[0;31m         \u001b[0mY\u001b[0m\u001b[0;34m,\u001b[0m \u001b[0minc_layer_grad\u001b[0m \u001b[0;34m=\u001b[0m \u001b[0mlayer\u001b[0m\u001b[0;34m(\u001b[0m\u001b[0mX\u001b[0m\u001b[0;34m,\u001b[0m \u001b[0mis_train\u001b[0m\u001b[0;34m=\u001b[0m\u001b[0mis_train\u001b[0m\u001b[0;34m)\u001b[0m\u001b[0;34m\u001b[0m\u001b[0;34m\u001b[0m\u001b[0m\n\u001b[0m\u001b[1;32m     55\u001b[0m         \u001b[0mcallbacks\u001b[0m\u001b[0;34m.\u001b[0m\u001b[0mappend\u001b[0m\u001b[0;34m(\u001b[0m\u001b[0minc_layer_grad\u001b[0m\u001b[0;34m)\u001b[0m\u001b[0;34m\u001b[0m\u001b[0;34m\u001b[0m\u001b[0m\n\u001b[1;32m     56\u001b[0m         \u001b[0mX\u001b[0m \u001b[0;34m=\u001b[0m \u001b[0mY\u001b[0m\u001b[0;34m\u001b[0m\u001b[0;34m\u001b[0m\u001b[0m\n",
            "\u001b[0;32m/usr/local/lib/python3.10/dist-packages/thinc/model.py\u001b[0m in \u001b[0;36m__call__\u001b[0;34m(self, X, is_train)\u001b[0m\n\u001b[1;32m    308\u001b[0m         \"\"\"Call the model's `forward` function, returning the output and a\n\u001b[1;32m    309\u001b[0m         callback to compute the gradients via backpropagation.\"\"\"\n\u001b[0;32m--> 310\u001b[0;31m         \u001b[0;32mreturn\u001b[0m \u001b[0mself\u001b[0m\u001b[0;34m.\u001b[0m\u001b[0m_func\u001b[0m\u001b[0;34m(\u001b[0m\u001b[0mself\u001b[0m\u001b[0;34m,\u001b[0m \u001b[0mX\u001b[0m\u001b[0;34m,\u001b[0m \u001b[0mis_train\u001b[0m\u001b[0;34m=\u001b[0m\u001b[0mis_train\u001b[0m\u001b[0;34m)\u001b[0m\u001b[0;34m\u001b[0m\u001b[0;34m\u001b[0m\u001b[0m\n\u001b[0m\u001b[1;32m    311\u001b[0m \u001b[0;34m\u001b[0m\u001b[0m\n\u001b[1;32m    312\u001b[0m     \u001b[0;32mdef\u001b[0m \u001b[0minitialize\u001b[0m\u001b[0;34m(\u001b[0m\u001b[0mself\u001b[0m\u001b[0;34m,\u001b[0m \u001b[0mX\u001b[0m\u001b[0;34m:\u001b[0m \u001b[0mOptional\u001b[0m\u001b[0;34m[\u001b[0m\u001b[0mInT\u001b[0m\u001b[0;34m]\u001b[0m \u001b[0;34m=\u001b[0m \u001b[0;32mNone\u001b[0m\u001b[0;34m,\u001b[0m \u001b[0mY\u001b[0m\u001b[0;34m:\u001b[0m \u001b[0mOptional\u001b[0m\u001b[0;34m[\u001b[0m\u001b[0mOutT\u001b[0m\u001b[0;34m]\u001b[0m \u001b[0;34m=\u001b[0m \u001b[0;32mNone\u001b[0m\u001b[0;34m)\u001b[0m \u001b[0;34m->\u001b[0m \u001b[0;34m\"Model\"\u001b[0m\u001b[0;34m:\u001b[0m\u001b[0;34m\u001b[0m\u001b[0;34m\u001b[0m\u001b[0m\n",
            "\u001b[0;32m/usr/local/lib/python3.10/dist-packages/thinc/layers/layernorm.py\u001b[0m in \u001b[0;36mforward\u001b[0;34m(model, X, is_train)\u001b[0m\n\u001b[1;32m     22\u001b[0m \u001b[0;34m\u001b[0m\u001b[0m\n\u001b[1;32m     23\u001b[0m \u001b[0;32mdef\u001b[0m \u001b[0mforward\u001b[0m\u001b[0;34m(\u001b[0m\u001b[0mmodel\u001b[0m\u001b[0;34m:\u001b[0m \u001b[0mModel\u001b[0m\u001b[0;34m[\u001b[0m\u001b[0mInT\u001b[0m\u001b[0;34m,\u001b[0m \u001b[0mInT\u001b[0m\u001b[0;34m]\u001b[0m\u001b[0;34m,\u001b[0m \u001b[0mX\u001b[0m\u001b[0;34m:\u001b[0m \u001b[0mInT\u001b[0m\u001b[0;34m,\u001b[0m \u001b[0mis_train\u001b[0m\u001b[0;34m:\u001b[0m \u001b[0mbool\u001b[0m\u001b[0;34m)\u001b[0m \u001b[0;34m->\u001b[0m \u001b[0mTuple\u001b[0m\u001b[0;34m[\u001b[0m\u001b[0mInT\u001b[0m\u001b[0;34m,\u001b[0m \u001b[0mCallable\u001b[0m\u001b[0;34m]\u001b[0m\u001b[0;34m:\u001b[0m\u001b[0;34m\u001b[0m\u001b[0;34m\u001b[0m\u001b[0m\n\u001b[0;32m---> 24\u001b[0;31m     \u001b[0mN\u001b[0m\u001b[0;34m,\u001b[0m \u001b[0mmu\u001b[0m\u001b[0;34m,\u001b[0m \u001b[0mvar\u001b[0m \u001b[0;34m=\u001b[0m \u001b[0m_get_moments\u001b[0m\u001b[0;34m(\u001b[0m\u001b[0mmodel\u001b[0m\u001b[0;34m.\u001b[0m\u001b[0mops\u001b[0m\u001b[0;34m,\u001b[0m \u001b[0mX\u001b[0m\u001b[0;34m)\u001b[0m\u001b[0;34m\u001b[0m\u001b[0;34m\u001b[0m\u001b[0m\n\u001b[0m\u001b[1;32m     25\u001b[0m     \u001b[0mXhat\u001b[0m \u001b[0;34m=\u001b[0m \u001b[0;34m(\u001b[0m\u001b[0mX\u001b[0m \u001b[0;34m-\u001b[0m \u001b[0mmu\u001b[0m\u001b[0;34m)\u001b[0m \u001b[0;34m*\u001b[0m \u001b[0mvar\u001b[0m \u001b[0;34m**\u001b[0m \u001b[0;34m(\u001b[0m\u001b[0;34m-\u001b[0m\u001b[0;36m1.0\u001b[0m \u001b[0;34m/\u001b[0m \u001b[0;36m2.0\u001b[0m\u001b[0;34m)\u001b[0m\u001b[0;34m\u001b[0m\u001b[0;34m\u001b[0m\u001b[0m\n\u001b[1;32m     26\u001b[0m     \u001b[0mY\u001b[0m\u001b[0;34m,\u001b[0m \u001b[0mbackprop_rescale\u001b[0m \u001b[0;34m=\u001b[0m \u001b[0m_begin_update_scale_shift\u001b[0m\u001b[0;34m(\u001b[0m\u001b[0mmodel\u001b[0m\u001b[0;34m,\u001b[0m \u001b[0mXhat\u001b[0m\u001b[0;34m)\u001b[0m\u001b[0;34m\u001b[0m\u001b[0;34m\u001b[0m\u001b[0m\n",
            "\u001b[0;32m/usr/local/lib/python3.10/dist-packages/thinc/layers/layernorm.py\u001b[0m in \u001b[0;36m_get_moments\u001b[0;34m(ops, X)\u001b[0m\n\u001b[1;32m     74\u001b[0m     \u001b[0mmu\u001b[0m\u001b[0;34m:\u001b[0m \u001b[0mFloats2d\u001b[0m \u001b[0;34m=\u001b[0m \u001b[0mX\u001b[0m\u001b[0;34m.\u001b[0m\u001b[0mmean\u001b[0m\u001b[0;34m(\u001b[0m\u001b[0maxis\u001b[0m\u001b[0;34m=\u001b[0m\u001b[0;36m1\u001b[0m\u001b[0;34m,\u001b[0m \u001b[0mkeepdims\u001b[0m\u001b[0;34m=\u001b[0m\u001b[0;32mTrue\u001b[0m\u001b[0;34m)\u001b[0m\u001b[0;34m\u001b[0m\u001b[0;34m\u001b[0m\u001b[0m\n\u001b[1;32m     75\u001b[0m     \u001b[0mvar\u001b[0m\u001b[0;34m:\u001b[0m \u001b[0mFloats2d\u001b[0m \u001b[0;34m=\u001b[0m \u001b[0mX\u001b[0m\u001b[0;34m.\u001b[0m\u001b[0mvar\u001b[0m\u001b[0;34m(\u001b[0m\u001b[0maxis\u001b[0m\u001b[0;34m=\u001b[0m\u001b[0;36m1\u001b[0m\u001b[0;34m,\u001b[0m \u001b[0mkeepdims\u001b[0m\u001b[0;34m=\u001b[0m\u001b[0;32mTrue\u001b[0m\u001b[0;34m)\u001b[0m \u001b[0;34m+\u001b[0m \u001b[0;36m1e-08\u001b[0m\u001b[0;34m\u001b[0m\u001b[0;34m\u001b[0m\u001b[0m\n\u001b[0;32m---> 76\u001b[0;31m     \u001b[0;32mreturn\u001b[0m \u001b[0mcast\u001b[0m\u001b[0;34m(\u001b[0m\u001b[0mFloats2d\u001b[0m\u001b[0;34m,\u001b[0m \u001b[0mops\u001b[0m\u001b[0;34m.\u001b[0m\u001b[0masarray_f\u001b[0m\u001b[0;34m(\u001b[0m\u001b[0;34m[\u001b[0m\u001b[0mX\u001b[0m\u001b[0;34m.\u001b[0m\u001b[0mshape\u001b[0m\u001b[0;34m[\u001b[0m\u001b[0;36m1\u001b[0m\u001b[0;34m]\u001b[0m\u001b[0;34m]\u001b[0m\u001b[0;34m)\u001b[0m\u001b[0;34m)\u001b[0m\u001b[0;34m,\u001b[0m \u001b[0mmu\u001b[0m\u001b[0;34m,\u001b[0m \u001b[0mvar\u001b[0m\u001b[0;34m\u001b[0m\u001b[0;34m\u001b[0m\u001b[0m\n\u001b[0m\u001b[1;32m     77\u001b[0m \u001b[0;34m\u001b[0m\u001b[0m\n\u001b[1;32m     78\u001b[0m \u001b[0;34m\u001b[0m\u001b[0m\n",
            "\u001b[0;32m/usr/local/lib/python3.10/dist-packages/thinc/backends/ops.py\u001b[0m in \u001b[0;36masarray_f\u001b[0;34m(self, data, dtype)\u001b[0m\n\u001b[1;32m    703\u001b[0m         \u001b[0mdtype\u001b[0m\u001b[0;34m:\u001b[0m \u001b[0mOptional\u001b[0m\u001b[0;34m[\u001b[0m\u001b[0mDTypes\u001b[0m\u001b[0;34m]\u001b[0m \u001b[0;34m=\u001b[0m \u001b[0;34m\"float32\"\u001b[0m\u001b[0;34m,\u001b[0m\u001b[0;34m\u001b[0m\u001b[0;34m\u001b[0m\u001b[0m\n\u001b[1;32m    704\u001b[0m     ) -> FloatsXd:\n\u001b[0;32m--> 705\u001b[0;31m         \u001b[0;32mreturn\u001b[0m \u001b[0mcast\u001b[0m\u001b[0;34m(\u001b[0m\u001b[0mFloatsXd\u001b[0m\u001b[0;34m,\u001b[0m \u001b[0mself\u001b[0m\u001b[0;34m.\u001b[0m\u001b[0masarray\u001b[0m\u001b[0;34m(\u001b[0m\u001b[0mdata\u001b[0m\u001b[0;34m,\u001b[0m \u001b[0mdtype\u001b[0m\u001b[0;34m=\u001b[0m\u001b[0mdtype\u001b[0m\u001b[0;34m)\u001b[0m\u001b[0;34m)\u001b[0m\u001b[0;34m\u001b[0m\u001b[0;34m\u001b[0m\u001b[0m\n\u001b[0m\u001b[1;32m    706\u001b[0m \u001b[0;34m\u001b[0m\u001b[0m\n\u001b[1;32m    707\u001b[0m     def asarray1i(\n",
            "\u001b[0;31mKeyboardInterrupt\u001b[0m: "
          ]
        }
      ]
    },
    {
      "cell_type": "code",
      "source": [
        "dataset.head(6)"
      ],
      "metadata": {
        "colab": {
          "base_uri": "https://localhost:8080/",
          "height": 813
        },
        "id": "mwUOfWW1se2y",
        "outputId": "f4d6de1c-99e6-4b25-9ed8-bcce11733c11"
      },
      "execution_count": null,
      "outputs": [
        {
          "output_type": "execute_result",
          "data": {
            "text/plain": [
              "                                               title  \\\n",
              "0  Differences in Herbicide Adsorption on Soil Us...   \n",
              "1  Agroforestry on alkali soil: effect of plantin...   \n",
              "2  Fertilizer requirement of rice-wheat and maize...   \n",
              "3  Effects of different levels of chemical Nitrog...   \n",
              "4    Correlation of several soil N indices for wheat   \n",
              "5  Carbon, nitrogen, and gaseous profiles in a hu...   \n",
              "\n",
              "                                    alternate_title1  year  \\\n",
              "0  J. Environ. Sci. Health Part B Pestic. Food Co...  1988   \n",
              "1                                    Agroforest Syst  1988   \n",
              "2                                Fertilizer Research  1988   \n",
              "3                                Fertilizer Research  1988   \n",
              "4                      Commun. Soil Sci. Plant Anal.  1988   \n",
              "5                      Commun. Soil Sci. Plant Anal.  1988   \n",
              "\n",
              "                                             authors  \\\n",
              "0  ['Clay, S.A.', 'Koskinen, W.C.', 'Allmaras, R....   \n",
              "1       ['Singh, G.', 'Abrol, I.P.', 'Cheema, S.S.']   \n",
              "2  ['Maskina, M.S.', 'Bijay-Singh', 'Yadvinder-Si...   \n",
              "3         ['Singh, A.L.', 'Singh, P.K.', 'Lata, P.']   \n",
              "4  ['Gelderman, R.H.', 'Dahnke, W.C.', 'Swenson, ...   \n",
              "5                                   ['Staley, T.E.']   \n",
              "\n",
              "                                            abstract  \\\n",
              "0  Effects of soil pH on weak acid and weak base ...   \n",
              "1  Growth responses of mesquite (Prosopis juliflo...   \n",
              "2  Field experiments with rice-wheat rotation wer...   \n",
              "3  Application of higher levels (60 and 90 kg N h...   \n",
              "4  A study relating N uptake by wheat to several ...   \n",
              "5  The effect of four consecutive years of tillag...   \n",
              "\n",
              "                                            keywords  \\\n",
              "0  ['soil', 'ph', 'adsorption', 'compare', 'solut...   \n",
              "1   ['plant', 'grass', 'soil', 'mesquite', 'gypsum']   \n",
              "2              ['soil', 'rice', 'ha', 'kg', 'yield']   \n",
              "3              ['bga', 'rice', 'azolla', 'kg', 'ha']   \n",
              "4                  ['n', 'r', 'soil', 'year', 'use']   \n",
              "5             ['n', 'soil', 'tillage', 'ct', 'rate']   \n",
              "\n",
              "                                     secondary_title  \\\n",
              "0  Journal of Environmental Science and Health, P...   \n",
              "1                               Agroforestry Systems   \n",
              "2                                Fertilizer Research   \n",
              "3                                Fertilizer Research   \n",
              "4  Communications in Soil Science and Plant Analysis   \n",
              "5  Communications in Soil Science and Plant Analysis   \n",
              "\n",
              "                                               notes type_of_work  \\\n",
              "0     ['Cited By :19', 'Export Date: 30 April 2020']      Article   \n",
              "1  ['Cited By :18', 'Export Date: 30 April 2020',...      Article   \n",
              "2  ['Cited By :24', 'Export Date: 30 April 2020',...      Article   \n",
              "3  ['Cited By :4', 'Export Date: 30 April 2020', ...      Article   \n",
              "4     ['Cited By :11', 'Export Date: 30 April 2020']      Article   \n",
              "5  ['Cited By :8', 'Export Date: 30 April 2020', ...      Article   \n",
              "\n",
              "                                           processed  \\\n",
              "0  effect soil ph weak acid weak base herbicid ad...   \n",
              "1  growth respons mesquit prosopi juliflora sw dc...   \n",
              "2  field experi rice wheat rotat conduct five con...   \n",
              "3  applic higher level kg n ha nitrogen fertil ur...   \n",
              "4  studi relat n uptak wheat sever n soil test co...   \n",
              "5  effect four consecut year tillag method conven...   \n",
              "\n",
              "                                     lemmatized_text  \\\n",
              "0  effect of soil ph on weak acid and weak base h...   \n",
              "1  growth response of mesquite ( Prosopis juliflo...   \n",
              "2  field experiment with rice - wheat rotation be...   \n",
              "3  application of high level ( 60 and 90 kg N ha-...   \n",
              "4  a study relate N uptake by wheat to several n ...   \n",
              "5  the effect of four consecutive year of tillage...   \n",
              "\n",
              "                                processed_lemmatized  \\\n",
              "0  effect soil ph weak acid weak base herbicide a...   \n",
              "1  growth response mesquite prosopis juliflora sw...   \n",
              "2  field experiment rice wheat rotation conduct f...   \n",
              "3  application high level kg n ha nitrogen fertil...   \n",
              "4  study relate n uptake wheat several n soil tes...   \n",
              "5  effect four consecutive year tillage method co...   \n",
              "\n",
              "                          abstract_tokens_lemmatized  dominant_topic  \\\n",
              "0  ['effect', 'soil', 'ph', 'weak', 'acid', 'weak...               7   \n",
              "1  ['growth', 'response', 'mesquite', 'prosopis',...               4   \n",
              "2  ['field', 'experiment', 'rice', 'wheat', 'rota...              12   \n",
              "3  ['application', 'high', 'level', 'kg', 'n', 'h...              12   \n",
              "4  ['study', 'relate', 'n', 'uptake', 'wheat', 's...               6   \n",
              "5  ['effect', 'four', 'consecutive', 'year', 'til...              10   \n",
              "\n",
              "                                                ents   Entity_Distances  \n",
              "0  [('amendment', 'ORGANIC FERTILISATION'), ('HC1...  No close entities  \n",
              "1  [('SW', 'GPE'), ('amendment', 'ORGANIC FERTILI...  No close entities  \n",
              "2  [('five consecutive year', 'DATE'), ('12', 'CA...  No close entities  \n",
              "3  [('60 and 90 kg', 'QUANTITY'), ('Azolla', 'ORG...  No close entities  \n",
              "4  [('North and South Dakota', 'GPE'), ('sixty ni...  No close entities  \n",
              "5  [('four consecutive year', 'DATE'), ('conventi...  No close entities  "
            ],
            "text/html": [
              "\n",
              "  <div id=\"df-28119c95-31f0-421d-b4ec-6d0407c7d18d\" class=\"colab-df-container\">\n",
              "    <div>\n",
              "<style scoped>\n",
              "    .dataframe tbody tr th:only-of-type {\n",
              "        vertical-align: middle;\n",
              "    }\n",
              "\n",
              "    .dataframe tbody tr th {\n",
              "        vertical-align: top;\n",
              "    }\n",
              "\n",
              "    .dataframe thead th {\n",
              "        text-align: right;\n",
              "    }\n",
              "</style>\n",
              "<table border=\"1\" class=\"dataframe\">\n",
              "  <thead>\n",
              "    <tr style=\"text-align: right;\">\n",
              "      <th></th>\n",
              "      <th>title</th>\n",
              "      <th>alternate_title1</th>\n",
              "      <th>year</th>\n",
              "      <th>authors</th>\n",
              "      <th>abstract</th>\n",
              "      <th>keywords</th>\n",
              "      <th>secondary_title</th>\n",
              "      <th>notes</th>\n",
              "      <th>type_of_work</th>\n",
              "      <th>processed</th>\n",
              "      <th>lemmatized_text</th>\n",
              "      <th>processed_lemmatized</th>\n",
              "      <th>abstract_tokens_lemmatized</th>\n",
              "      <th>dominant_topic</th>\n",
              "      <th>ents</th>\n",
              "      <th>Entity_Distances</th>\n",
              "    </tr>\n",
              "  </thead>\n",
              "  <tbody>\n",
              "    <tr>\n",
              "      <th>0</th>\n",
              "      <td>Differences in Herbicide Adsorption on Soil Us...</td>\n",
              "      <td>J. Environ. Sci. Health Part B Pestic. Food Co...</td>\n",
              "      <td>1988</td>\n",
              "      <td>['Clay, S.A.', 'Koskinen, W.C.', 'Allmaras, R....</td>\n",
              "      <td>Effects of soil pH on weak acid and weak base ...</td>\n",
              "      <td>['soil', 'ph', 'adsorption', 'compare', 'solut...</td>\n",
              "      <td>Journal of Environmental Science and Health, P...</td>\n",
              "      <td>['Cited By :19', 'Export Date: 30 April 2020']</td>\n",
              "      <td>Article</td>\n",
              "      <td>effect soil ph weak acid weak base herbicid ad...</td>\n",
              "      <td>effect of soil ph on weak acid and weak base h...</td>\n",
              "      <td>effect soil ph weak acid weak base herbicide a...</td>\n",
              "      <td>['effect', 'soil', 'ph', 'weak', 'acid', 'weak...</td>\n",
              "      <td>7</td>\n",
              "      <td>[('amendment', 'ORGANIC FERTILISATION'), ('HC1...</td>\n",
              "      <td>No close entities</td>\n",
              "    </tr>\n",
              "    <tr>\n",
              "      <th>1</th>\n",
              "      <td>Agroforestry on alkali soil: effect of plantin...</td>\n",
              "      <td>Agroforest Syst</td>\n",
              "      <td>1988</td>\n",
              "      <td>['Singh, G.', 'Abrol, I.P.', 'Cheema, S.S.']</td>\n",
              "      <td>Growth responses of mesquite (Prosopis juliflo...</td>\n",
              "      <td>['plant', 'grass', 'soil', 'mesquite', 'gypsum']</td>\n",
              "      <td>Agroforestry Systems</td>\n",
              "      <td>['Cited By :18', 'Export Date: 30 April 2020',...</td>\n",
              "      <td>Article</td>\n",
              "      <td>growth respons mesquit prosopi juliflora sw dc...</td>\n",
              "      <td>growth response of mesquite ( Prosopis juliflo...</td>\n",
              "      <td>growth response mesquite prosopis juliflora sw...</td>\n",
              "      <td>['growth', 'response', 'mesquite', 'prosopis',...</td>\n",
              "      <td>4</td>\n",
              "      <td>[('SW', 'GPE'), ('amendment', 'ORGANIC FERTILI...</td>\n",
              "      <td>No close entities</td>\n",
              "    </tr>\n",
              "    <tr>\n",
              "      <th>2</th>\n",
              "      <td>Fertilizer requirement of rice-wheat and maize...</td>\n",
              "      <td>Fertilizer Research</td>\n",
              "      <td>1988</td>\n",
              "      <td>['Maskina, M.S.', 'Bijay-Singh', 'Yadvinder-Si...</td>\n",
              "      <td>Field experiments with rice-wheat rotation wer...</td>\n",
              "      <td>['soil', 'rice', 'ha', 'kg', 'yield']</td>\n",
              "      <td>Fertilizer Research</td>\n",
              "      <td>['Cited By :24', 'Export Date: 30 April 2020',...</td>\n",
              "      <td>Article</td>\n",
              "      <td>field experi rice wheat rotat conduct five con...</td>\n",
              "      <td>field experiment with rice - wheat rotation be...</td>\n",
              "      <td>field experiment rice wheat rotation conduct f...</td>\n",
              "      <td>['field', 'experiment', 'rice', 'wheat', 'rota...</td>\n",
              "      <td>12</td>\n",
              "      <td>[('five consecutive year', 'DATE'), ('12', 'CA...</td>\n",
              "      <td>No close entities</td>\n",
              "    </tr>\n",
              "    <tr>\n",
              "      <th>3</th>\n",
              "      <td>Effects of different levels of chemical Nitrog...</td>\n",
              "      <td>Fertilizer Research</td>\n",
              "      <td>1988</td>\n",
              "      <td>['Singh, A.L.', 'Singh, P.K.', 'Lata, P.']</td>\n",
              "      <td>Application of higher levels (60 and 90 kg N h...</td>\n",
              "      <td>['bga', 'rice', 'azolla', 'kg', 'ha']</td>\n",
              "      <td>Fertilizer Research</td>\n",
              "      <td>['Cited By :4', 'Export Date: 30 April 2020', ...</td>\n",
              "      <td>Article</td>\n",
              "      <td>applic higher level kg n ha nitrogen fertil ur...</td>\n",
              "      <td>application of high level ( 60 and 90 kg N ha-...</td>\n",
              "      <td>application high level kg n ha nitrogen fertil...</td>\n",
              "      <td>['application', 'high', 'level', 'kg', 'n', 'h...</td>\n",
              "      <td>12</td>\n",
              "      <td>[('60 and 90 kg', 'QUANTITY'), ('Azolla', 'ORG...</td>\n",
              "      <td>No close entities</td>\n",
              "    </tr>\n",
              "    <tr>\n",
              "      <th>4</th>\n",
              "      <td>Correlation of several soil N indices for wheat</td>\n",
              "      <td>Commun. Soil Sci. Plant Anal.</td>\n",
              "      <td>1988</td>\n",
              "      <td>['Gelderman, R.H.', 'Dahnke, W.C.', 'Swenson, ...</td>\n",
              "      <td>A study relating N uptake by wheat to several ...</td>\n",
              "      <td>['n', 'r', 'soil', 'year', 'use']</td>\n",
              "      <td>Communications in Soil Science and Plant Analysis</td>\n",
              "      <td>['Cited By :11', 'Export Date: 30 April 2020']</td>\n",
              "      <td>Article</td>\n",
              "      <td>studi relat n uptak wheat sever n soil test co...</td>\n",
              "      <td>a study relate N uptake by wheat to several n ...</td>\n",
              "      <td>study relate n uptake wheat several n soil tes...</td>\n",
              "      <td>['study', 'relate', 'n', 'uptake', 'wheat', 's...</td>\n",
              "      <td>6</td>\n",
              "      <td>[('North and South Dakota', 'GPE'), ('sixty ni...</td>\n",
              "      <td>No close entities</td>\n",
              "    </tr>\n",
              "    <tr>\n",
              "      <th>5</th>\n",
              "      <td>Carbon, nitrogen, and gaseous profiles in a hu...</td>\n",
              "      <td>Commun. Soil Sci. Plant Anal.</td>\n",
              "      <td>1988</td>\n",
              "      <td>['Staley, T.E.']</td>\n",
              "      <td>The effect of four consecutive years of tillag...</td>\n",
              "      <td>['n', 'soil', 'tillage', 'ct', 'rate']</td>\n",
              "      <td>Communications in Soil Science and Plant Analysis</td>\n",
              "      <td>['Cited By :8', 'Export Date: 30 April 2020', ...</td>\n",
              "      <td>Article</td>\n",
              "      <td>effect four consecut year tillag method conven...</td>\n",
              "      <td>the effect of four consecutive year of tillage...</td>\n",
              "      <td>effect four consecutive year tillage method co...</td>\n",
              "      <td>['effect', 'four', 'consecutive', 'year', 'til...</td>\n",
              "      <td>10</td>\n",
              "      <td>[('four consecutive year', 'DATE'), ('conventi...</td>\n",
              "      <td>No close entities</td>\n",
              "    </tr>\n",
              "  </tbody>\n",
              "</table>\n",
              "</div>\n",
              "    <div class=\"colab-df-buttons\">\n",
              "\n",
              "  <div class=\"colab-df-container\">\n",
              "    <button class=\"colab-df-convert\" onclick=\"convertToInteractive('df-28119c95-31f0-421d-b4ec-6d0407c7d18d')\"\n",
              "            title=\"Convert this dataframe to an interactive table.\"\n",
              "            style=\"display:none;\">\n",
              "\n",
              "  <svg xmlns=\"http://www.w3.org/2000/svg\" height=\"24px\" viewBox=\"0 -960 960 960\">\n",
              "    <path d=\"M120-120v-720h720v720H120Zm60-500h600v-160H180v160Zm220 220h160v-160H400v160Zm0 220h160v-160H400v160ZM180-400h160v-160H180v160Zm440 0h160v-160H620v160ZM180-180h160v-160H180v160Zm440 0h160v-160H620v160Z\"/>\n",
              "  </svg>\n",
              "    </button>\n",
              "\n",
              "  <style>\n",
              "    .colab-df-container {\n",
              "      display:flex;\n",
              "      gap: 12px;\n",
              "    }\n",
              "\n",
              "    .colab-df-convert {\n",
              "      background-color: #E8F0FE;\n",
              "      border: none;\n",
              "      border-radius: 50%;\n",
              "      cursor: pointer;\n",
              "      display: none;\n",
              "      fill: #1967D2;\n",
              "      height: 32px;\n",
              "      padding: 0 0 0 0;\n",
              "      width: 32px;\n",
              "    }\n",
              "\n",
              "    .colab-df-convert:hover {\n",
              "      background-color: #E2EBFA;\n",
              "      box-shadow: 0px 1px 2px rgba(60, 64, 67, 0.3), 0px 1px 3px 1px rgba(60, 64, 67, 0.15);\n",
              "      fill: #174EA6;\n",
              "    }\n",
              "\n",
              "    .colab-df-buttons div {\n",
              "      margin-bottom: 4px;\n",
              "    }\n",
              "\n",
              "    [theme=dark] .colab-df-convert {\n",
              "      background-color: #3B4455;\n",
              "      fill: #D2E3FC;\n",
              "    }\n",
              "\n",
              "    [theme=dark] .colab-df-convert:hover {\n",
              "      background-color: #434B5C;\n",
              "      box-shadow: 0px 1px 3px 1px rgba(0, 0, 0, 0.15);\n",
              "      filter: drop-shadow(0px 1px 2px rgba(0, 0, 0, 0.3));\n",
              "      fill: #FFFFFF;\n",
              "    }\n",
              "  </style>\n",
              "\n",
              "    <script>\n",
              "      const buttonEl =\n",
              "        document.querySelector('#df-28119c95-31f0-421d-b4ec-6d0407c7d18d button.colab-df-convert');\n",
              "      buttonEl.style.display =\n",
              "        google.colab.kernel.accessAllowed ? 'block' : 'none';\n",
              "\n",
              "      async function convertToInteractive(key) {\n",
              "        const element = document.querySelector('#df-28119c95-31f0-421d-b4ec-6d0407c7d18d');\n",
              "        const dataTable =\n",
              "          await google.colab.kernel.invokeFunction('convertToInteractive',\n",
              "                                                    [key], {});\n",
              "        if (!dataTable) return;\n",
              "\n",
              "        const docLinkHtml = 'Like what you see? Visit the ' +\n",
              "          '<a target=\"_blank\" href=https://colab.research.google.com/notebooks/data_table.ipynb>data table notebook</a>'\n",
              "          + ' to learn more about interactive tables.';\n",
              "        element.innerHTML = '';\n",
              "        dataTable['output_type'] = 'display_data';\n",
              "        await google.colab.output.renderOutput(dataTable, element);\n",
              "        const docLink = document.createElement('div');\n",
              "        docLink.innerHTML = docLinkHtml;\n",
              "        element.appendChild(docLink);\n",
              "      }\n",
              "    </script>\n",
              "  </div>\n",
              "\n",
              "\n",
              "<div id=\"df-ce4d3075-e3b3-4d2b-836e-ce9b32fce9f3\">\n",
              "  <button class=\"colab-df-quickchart\" onclick=\"quickchart('df-ce4d3075-e3b3-4d2b-836e-ce9b32fce9f3')\"\n",
              "            title=\"Suggest charts\"\n",
              "            style=\"display:none;\">\n",
              "\n",
              "<svg xmlns=\"http://www.w3.org/2000/svg\" height=\"24px\"viewBox=\"0 0 24 24\"\n",
              "     width=\"24px\">\n",
              "    <g>\n",
              "        <path d=\"M19 3H5c-1.1 0-2 .9-2 2v14c0 1.1.9 2 2 2h14c1.1 0 2-.9 2-2V5c0-1.1-.9-2-2-2zM9 17H7v-7h2v7zm4 0h-2V7h2v10zm4 0h-2v-4h2v4z\"/>\n",
              "    </g>\n",
              "</svg>\n",
              "  </button>\n",
              "\n",
              "<style>\n",
              "  .colab-df-quickchart {\n",
              "      --bg-color: #E8F0FE;\n",
              "      --fill-color: #1967D2;\n",
              "      --hover-bg-color: #E2EBFA;\n",
              "      --hover-fill-color: #174EA6;\n",
              "      --disabled-fill-color: #AAA;\n",
              "      --disabled-bg-color: #DDD;\n",
              "  }\n",
              "\n",
              "  [theme=dark] .colab-df-quickchart {\n",
              "      --bg-color: #3B4455;\n",
              "      --fill-color: #D2E3FC;\n",
              "      --hover-bg-color: #434B5C;\n",
              "      --hover-fill-color: #FFFFFF;\n",
              "      --disabled-bg-color: #3B4455;\n",
              "      --disabled-fill-color: #666;\n",
              "  }\n",
              "\n",
              "  .colab-df-quickchart {\n",
              "    background-color: var(--bg-color);\n",
              "    border: none;\n",
              "    border-radius: 50%;\n",
              "    cursor: pointer;\n",
              "    display: none;\n",
              "    fill: var(--fill-color);\n",
              "    height: 32px;\n",
              "    padding: 0;\n",
              "    width: 32px;\n",
              "  }\n",
              "\n",
              "  .colab-df-quickchart:hover {\n",
              "    background-color: var(--hover-bg-color);\n",
              "    box-shadow: 0 1px 2px rgba(60, 64, 67, 0.3), 0 1px 3px 1px rgba(60, 64, 67, 0.15);\n",
              "    fill: var(--button-hover-fill-color);\n",
              "  }\n",
              "\n",
              "  .colab-df-quickchart-complete:disabled,\n",
              "  .colab-df-quickchart-complete:disabled:hover {\n",
              "    background-color: var(--disabled-bg-color);\n",
              "    fill: var(--disabled-fill-color);\n",
              "    box-shadow: none;\n",
              "  }\n",
              "\n",
              "  .colab-df-spinner {\n",
              "    border: 2px solid var(--fill-color);\n",
              "    border-color: transparent;\n",
              "    border-bottom-color: var(--fill-color);\n",
              "    animation:\n",
              "      spin 1s steps(1) infinite;\n",
              "  }\n",
              "\n",
              "  @keyframes spin {\n",
              "    0% {\n",
              "      border-color: transparent;\n",
              "      border-bottom-color: var(--fill-color);\n",
              "      border-left-color: var(--fill-color);\n",
              "    }\n",
              "    20% {\n",
              "      border-color: transparent;\n",
              "      border-left-color: var(--fill-color);\n",
              "      border-top-color: var(--fill-color);\n",
              "    }\n",
              "    30% {\n",
              "      border-color: transparent;\n",
              "      border-left-color: var(--fill-color);\n",
              "      border-top-color: var(--fill-color);\n",
              "      border-right-color: var(--fill-color);\n",
              "    }\n",
              "    40% {\n",
              "      border-color: transparent;\n",
              "      border-right-color: var(--fill-color);\n",
              "      border-top-color: var(--fill-color);\n",
              "    }\n",
              "    60% {\n",
              "      border-color: transparent;\n",
              "      border-right-color: var(--fill-color);\n",
              "    }\n",
              "    80% {\n",
              "      border-color: transparent;\n",
              "      border-right-color: var(--fill-color);\n",
              "      border-bottom-color: var(--fill-color);\n",
              "    }\n",
              "    90% {\n",
              "      border-color: transparent;\n",
              "      border-bottom-color: var(--fill-color);\n",
              "    }\n",
              "  }\n",
              "</style>\n",
              "\n",
              "  <script>\n",
              "    async function quickchart(key) {\n",
              "      const quickchartButtonEl =\n",
              "        document.querySelector('#' + key + ' button');\n",
              "      quickchartButtonEl.disabled = true;  // To prevent multiple clicks.\n",
              "      quickchartButtonEl.classList.add('colab-df-spinner');\n",
              "      try {\n",
              "        const charts = await google.colab.kernel.invokeFunction(\n",
              "            'suggestCharts', [key], {});\n",
              "      } catch (error) {\n",
              "        console.error('Error during call to suggestCharts:', error);\n",
              "      }\n",
              "      quickchartButtonEl.classList.remove('colab-df-spinner');\n",
              "      quickchartButtonEl.classList.add('colab-df-quickchart-complete');\n",
              "    }\n",
              "    (() => {\n",
              "      let quickchartButtonEl =\n",
              "        document.querySelector('#df-ce4d3075-e3b3-4d2b-836e-ce9b32fce9f3 button');\n",
              "      quickchartButtonEl.style.display =\n",
              "        google.colab.kernel.accessAllowed ? 'block' : 'none';\n",
              "    })();\n",
              "  </script>\n",
              "</div>\n",
              "    </div>\n",
              "  </div>\n"
            ],
            "application/vnd.google.colaboratory.intrinsic+json": {
              "type": "dataframe",
              "variable_name": "dataset",
              "summary": "{\n  \"name\": \"dataset\",\n  \"rows\": 16678,\n  \"fields\": [\n    {\n      \"column\": \"title\",\n      \"properties\": {\n        \"dtype\": \"string\",\n        \"num_unique_values\": 16648,\n        \"samples\": [\n          \"A soil microbial community structural-functional index: The microscopy-based total/active/active fungal/bacterial (TA/AFB) biovolumes ratio\",\n          \"Effect of drying and rewetting on mineralization and distribution of bacterial constituents in soil fractions\",\n          \"Sewage sludge stabilisation and fertiliser value in a silvopastoral system developed with Eucalyptus nitens Maiden in Lugo (Spain)\"\n        ],\n        \"semantic_type\": \"\",\n        \"description\": \"\"\n      }\n    },\n    {\n      \"column\": \"alternate_title1\",\n      \"properties\": {\n        \"dtype\": \"category\",\n        \"num_unique_values\": 1470,\n        \"samples\": [\n          \"WIT Trans. Ecol. Environ.\",\n          \"Sensors\",\n          \"Int. J. Mol. Sci.\"\n        ],\n        \"semantic_type\": \"\",\n        \"description\": \"\"\n      }\n    },\n    {\n      \"column\": \"year\",\n      \"properties\": {\n        \"dtype\": \"number\",\n        \"std\": 7,\n        \"min\": 1967,\n        \"max\": 2020,\n        \"num_unique_values\": 50,\n        \"samples\": [\n          1975,\n          2012,\n          1997\n        ],\n        \"semantic_type\": \"\",\n        \"description\": \"\"\n      }\n    },\n    {\n      \"column\": \"authors\",\n      \"properties\": {\n        \"dtype\": \"string\",\n        \"num_unique_values\": 16040,\n        \"samples\": [\n          \"['Ekwue, E.I.', 'Ohu, J.O.', 'Wakawa, I.H.']\",\n          \"['Garbout, A.', 'Munkholm, L.J.', 'Hansen, S.B.']\",\n          \"['Loss, A.', 'Pereira, M.G.', 'Perin, A.', 'Beutler, S.J.', 'Anjos, L.H.C.']\"\n        ],\n        \"semantic_type\": \"\",\n        \"description\": \"\"\n      }\n    },\n    {\n      \"column\": \"abstract\",\n      \"properties\": {\n        \"dtype\": \"string\",\n        \"num_unique_values\": 16672,\n        \"samples\": [\n          \"In Pakistan, per acre yield of wheat (Triticum aestivum L.) suffers greatly due to low organic matter and immobilized form of nutrients in soils. Various strategies have been adopted by agronomists to cope these issues. In order to investigate the effect of an integrated strategy of application of biochar (Green waste), microbes (Pseudomonas, Agrobacterium, Azospirillum, Enterobacter) and herbicides on the growth and yield of wheat, an experiment was conducted at the farm area of the Islamia University of Bahawalpur, Pakistan during 2012-13. The experiment was laid out in randomized complete block design with split plot arrangements containing three replications. The main plots were with and without the application of herbicide, while subplots carried four treatments viz. microbial inoculation, biochar application, microbial inoculation in combination with biochar, and an untreated control. Maximum grain yield (5.04 t ha-1) and yield components were recorded in herbicide treated plants with the combined application of biochar and microbes, while minimum (2.14 t ha-1) was measured in untreated control where herbicide was not applied. Biological yield and leaf area showed that both biochar and microbes in combination with herbicide application were most effective than all other treatments. It is concluded that biochar and plant growth promoting rhizobacteria (PGPR) along with herbicides was considered to be a best combination that enhanced the productivity of wheat.\",\n          \"The objective of this study was to evaluate plant-available N pools and the role of N management index (NMI) in the surface (0-20 cm) of a fluvo-aquic soil after 18 years of fertilization treatments under a wheat-maize cropping system in the North China Plain. The experiment included seven treatments: (1) NPK, balanced application of chemical fertilizer NPK; (2) OM, application of organic manure; (3) 1/2OMN, application of half organic manure plus chemical fertilizer NPK; (4) NP, application of chemical fertilizer NP; (5) PK, application of chemical fertilizer PK; (6) NK, application of chemical fertilizer NK; and (7) CK, unfertilized control. Total organic N (TON), microbial biomass N (MBN), labile N (LN), inorganic N (ION, including ammonium (NH4+)-N and nitrate (NO3--N) contents, net ammonification rate (NAR), net nitrification rate (NNR), net N mineralization rate (NNMR), and NMI in the fertilized treatments were higher than in the unfertilized treatment. Application of chemical fertilizer N (NPK, NP, and NK) increased ION in soils, compared with application of organic N or control. Nitrate N prevailed over exchangeable NH4+-N in all treatments. Nitrogen storage of the OM- and 1/2OMN-treated soils increased by 50. 0% and 24. 3%, respectively, over the NPK-treated soil, which had 5. 4-22. 5% more N than NP-, PK-, and NK-treated soils. The MBN, LN, and ION accounted for 1. 7-2. 4%, 25. 7-34. 2%, and 1. 4-2. 9% of TON, respectively, in different fertilization treatments. The surface soils (0-20-cm layer) in all treatments mineralized 43. 6-152. 9 kg N ha-1 year-1 for crop growth. Microbial biomass N was probably the better predictor of N mineralization, as it was correlated significantly (P &lt; 0. 01) with NNMR. The OM and 1/2OMN treatments were not an optimal option for farmers when the crop yield and labor cost were taken into consideration but an optimal option for increasing soil N supply capacity and N sequestration in soil. The NPK treatment showed the highest crop yields and increased soil N fractions through crop residues and exudates input, and thus, it may be considered as a sustainable system in the North China Plain. \\u00a9 2011 Springer-Verlag.\",\n          \"Raman spectra of charcoal fragments in cumulative soils in central Japan, where grasslands have been sustained using intentional burning for ~\\u00a01000\\u00a0years, were obtained and compared to those of fresh charcoal fragments after modern grass burning to clarify their disappearance and alteration process in the soils. Although the values of each Raman-spectrum parameter of the soil charcoal and fresh charcoal fragments are partially similar, certain differences indicating their alteration or disappearance were observed. Charcoal fragments with lower graphitization in soils altered chemically with age at decadal to century scale, suggested by changes in distance between defects or defect type of their chemical structures. Charcoal fragments with higher graphitization were found in fresh charcoal samples, whereas very few charcoal fragments were found in both young and old soils, indicating that these charcoal fragments disappeared instantly after they were formed. This fact implies that charcoal fragments with higher graphitization tend to not remain in soils, possibly owing to their physical properties such as fragility, density, and hydrodynamic behavior. Our findings suggest that charcoal's physical properties have a vital influence on charcoal residues in soils, as do charcoal's chemical properties. \\u00a9 2016 The Authors\"\n        ],\n        \"semantic_type\": \"\",\n        \"description\": \"\"\n      }\n    },\n    {\n      \"column\": \"keywords\",\n      \"properties\": {\n        \"dtype\": \"string\",\n        \"num_unique_values\": 16641,\n        \"samples\": [\n          \"['soil', 'np', 'degradation', 'anoxic', 'fate']\",\n          \"['soc', 'nt', 'high', 'pt', 'pasture']\",\n          \"['soil', 'ha', 'om', 'amendment', 'organic']\"\n        ],\n        \"semantic_type\": \"\",\n        \"description\": \"\"\n      }\n    },\n    {\n      \"column\": \"secondary_title\",\n      \"properties\": {\n        \"dtype\": \"category\",\n        \"num_unique_values\": 1414,\n        \"samples\": [\n          \"Mathematical Problems in Engineering\",\n          \"Ozone: Science & Engineering\",\n          \"Japan Agricultural Research Quarterly\"\n        ],\n        \"semantic_type\": \"\",\n        \"description\": \"\"\n      }\n    },\n    {\n      \"column\": \"notes\",\n      \"properties\": {\n        \"dtype\": \"string\",\n        \"num_unique_values\": 16103,\n        \"samples\": [\n          \"['Cited By :12', 'Export Date: 30 April 2020', 'CODEN: PLSOA', 'Correspondence Address: Mbau, S.K.; World Agroforestry Centre (ICRAF), United Nations Avenue, P.O. Box 30677-00100, Kenya']\",\n          \"['Export Date: 30 April 2020', \\\"Correspondence Address: Alletto, L.; UMR 1248 AGIR INRA-INP, Universit\\u00e9 de Toulouse, \\u00c9cole d'Ing\\u00e9nieurs de Purpan, 75 voie du TOEC, 31076 Toulouse cedex 3, France; email: lionel.alletto@purpan.fr\\\"]\",\n          \"['Cited By :15', 'Export Date: 30 April 2020', 'CODEN: CJSSA', 'Correspondence Address: Srinivasarao, C.; Central Research Institute for Dryland Agriculture, Santoshnagar, Saidabad (P.O), Hyderabad, 500 059, Andhra Pradesh, India; email: cherukumalli2011@gmail.com']\"\n        ],\n        \"semantic_type\": \"\",\n        \"description\": \"\"\n      }\n    },\n    {\n      \"column\": \"type_of_work\",\n      \"properties\": {\n        \"dtype\": \"category\",\n        \"num_unique_values\": 4,\n        \"samples\": [\n          \"Conference Paper\",\n          \"Letter\",\n          \"Article\"\n        ],\n        \"semantic_type\": \"\",\n        \"description\": \"\"\n      }\n    },\n    {\n      \"column\": \"processed\",\n      \"properties\": {\n        \"dtype\": \"string\",\n        \"num_unique_values\": 16664,\n        \"samples\": [\n          \"assess biochar potenti cadmium cd contamin soil pot experi conduct sampl typic farmland soil shenyang area north china contamin cadmium due sewag irrig two maiz straw deriv biochar concentr kg hm test result show biochar prepar dri distil carbon technolog oxygen defici condit low temperatur c appropri structur featur physic chemic properti use biochar reduc avail cd ion contamin soil passiv inhibitori effect display variabl time depend respons biochar led soil ph chang rice growth increas follow decreas furthermor biochar significantli improv soil organ matter avail nutrient n p k inde cumul effect time observ importantli biochar significantli reduc cadmium content rice grain averag compar control ck treatment higher biochar concentr effect indic decreas bio avail cadmium result suggest maiz straw deriv biochar effect remedi materi cd contamin soil good applic potenti environ parlar scientif public right reserv\",\n          \"loss soil organ carbon soc agricultur soil key indic soil degrad associ reduct net primari product crop product system worldwid technic simpl local appropri solut requir farmer increas soc improv cropland manag last year straw incorpor si gradual implement across china context agricultur intensif rural livelihood improv meta analysi data publish end undertaken investig effect si crop product soc sequestr result experiment studi throughout china differ edaph condit climat region farm regim analyz compar straw remov sr si significantli sequest soc cm depth rate ci mg c ha yr increas crop grain yield convers effici incorpor straw c across china combin si rate mg c ha yr miner fertil kg nha yr demonstr best farm practic crop yield increas soc sequestr rate mg cha yr si achiev higher soc sequestr rate crop yield increment appli clay soil high crop intens area northeast china soil degrad soc respons highest initi start phase si subsequ declin final becam neglig year howev crop yield respons initi low increas reach highest level year si overal studi confirm si creat posit feedback loop soc enhanc togeth increas crop product great practic import straw manag agricultur intensifi china region differ climat condit author\",\n          \"miner fertil organ amend pesticid input commonli use convent farm practic aim studi evalu effect singl combin applic spent grape marc vermicompost urea diuron soil enzym activ persist herbicid soil low organ carbon content applic vermicompost enhanc dehydrogenas dhase enzym activ time alter soil ureas activ limit extent reduct diuron concentr increas dhase activ indic soil microorgan capabl degrad ureic herbicid treatment vermicompost diuron stimulatori effect soil microbi activ whole applic diuron urea vermicompost amend soil rais dhase ureas activ maximum level gt g intf g h gt g nh g h respect applic urea unamend vermicompost amend soil decreas diuron persist respect find show although vermicompost addit reduc diuron avail boost diuron degrad combin urea addit differ soil manag condit minim bioavail persist diuron consequ risk leach seepag aquif compar untreat soil type treat soil could also improv agricultur sustain qualiti environ elsevi b v right reserv\"\n        ],\n        \"semantic_type\": \"\",\n        \"description\": \"\"\n      }\n    },\n    {\n      \"column\": \"lemmatized_text\",\n      \"properties\": {\n        \"dtype\": \"string\",\n        \"num_unique_values\": 16671,\n        \"samples\": [\n          \"Phosphorus ( p ) k - edge XANES and Fe k - edge exafs spectroscopy along with sequential p chemical fractionation and desorption kinetic experiment , be employ to provide micro- and macro - scale information on the long - term fate of manure application on the solid - state speciation , kinetic and distribution of p in highly weather agricultural soil of southern Brazil . soil test p value range from 7.3 up to 16.5 time as much high than the reference soil . a sharp increase in amorphous Fe and Al amount be observe as an effect of the consecutive application of manure . whereas our result show that the p sorption capacity of some manure soil be not significantly affected , p risk assessment index indicate that p loss should be expect , likely due to the excessive manure rate apply to the soil . the much high content of amorphous Fe and Al ( hydr)oxides ( 55 % and 80 % increase with respect to the reference soil , respectively ) in manure soil seem to have counterbalance the inhibit effect of soil organic matter on p sorption by create additional p sorption site . accordingly , the newly create p sorbing surface be important to prevent an even large p loss potential . Phosphorus k - edge XANES lend complimentary hint on the loss of crystallinity and transformation of originally present fe - p mineral into poorly crystalline one as an effect of manure , whereas Fe k - edge exafs provide insight into the structural change undergo in the soil upon manure application and soil management . \\u00a9 2014 Elsevier Ltd.\",\n          \"competition for soil resource be a drive force in plant community ecology . therefore , amendment that alter soil resource should affect vegetation dynamic and be potential tool for control exotic specie . we test the effect of two type of carbon addition , sugar and activate carbon ( AC ) , on an exotic - dominate grassland plant community . sugar stimulate the microbial community and temporarily reduce plant available nitrogen ( N ) , while AC adsorb plant available N. six experimental plot and three carbon treatment be use : sugar ( 1000 g m-2 ; 42 % c ) , AC ( 420 g m-2 ; 100 % c ) , and control . treatment be apply in a split - plot design in spring 2008 . aboveground biomass , plant cover , specie richness , and plant basal area be track for two grow season . although total biomass be not affect by C addition , the distribution of biomass among life form be affect : carbon addition reduce forb biomass but have no effect on grass or legume . total cover be low in sugar - treat plot , and sugar also alter the proportional composition of that cover by reduce the abundance of forb , especially in the first year . five specie be particularly sensitive to sugar addition : Myosotis discolor , Sonchus asper , Taraxacum officinale , Valerianella locusta , and Vulpia bromoide . sugar also reduce plant basal area in the first year . these result suggest that sugar and , to a less extent , AC could be useful management tool . sugar could be apply to area where herbicide use be undesirable , reduce the abundance of exotic forb and provide a window of opportunity for native specie establishment . \\u00a9 2011 by the Northwest Scientific Association .\",\n          \"Soil carbonate ( sic ) exceed organic carbon ( SOC ) greatly in arid land , thus may be important for carbon sequestration . however , field datum for quantify carbonate accumulation have be lack . this study aim to improve our understanding of sic dynamic and its role in carbon sequestration . we analyze two dataset of SOC and SIC and their 13 C composition , one with over 100 soil sample collect recently from various land use in the Yanqi Basin , Xinjiang , and the other with 18 archive soil sample from a long - term experiment ( LTE ) in Pingliang , Gansu . the datum from the Yanqi Basin show that SOC have a significant relationship with SIC and pedogenic carbonate ( PIC ) ; convert shrub land to cropland increase PIC stock by 5.2 kg C m-2 , which be 3.6 time of that in SOC stock . the datum from the LTE show great accumulation of PIC ( 21 - 49 g C m-2 year-1 ) than SOC ( 10 - 39 g C m-2 year-1 ) over 0 - 20 cm . our study point out that intensive cropping in the arid and semi - arid region lead to an increase in both SOC and PIC . increase SOC through straw organic amendment enhance PIC accumulation in the arid cropland of northwestern China .\"\n        ],\n        \"semantic_type\": \"\",\n        \"description\": \"\"\n      }\n    },\n    {\n      \"column\": \"processed_lemmatized\",\n      \"properties\": {\n        \"dtype\": \"string\",\n        \"num_unique_values\": 16664,\n        \"samples\": [\n          \"assess biochar potential cadmium cd contaminate soil pot experiment conduct sample typical farmland soil shenyang area north china contaminate cadmium due sewage irrigation two maize straw derive biochar concentrations kg hm test result show biochar prepare dry distillation carbonization technology oxygen deficient condition low temperature c appropriate structural feature physical chemical property use biochar reduce available cd ion contaminated soil passivation inhibitory effect display variable time dependent response biochar lead soil ph change rice growth increase follow decrease furthermore biochar significantly improve soil organic matter available nutrients n p k indeed cumulative effect time observe importantly biochar significantly reduce cadmium content rice grain average compare control ck treatment high biochar concentration effective indicate decrease bio availability cadmium result suggest maize straw derive biochar effective remediation material cd contaminate soil good application potential environment parlar scientific publications right reserve\",\n          \"loss soil organic carbon soc agricultural soil key indicator soil degradation associate reduction net primary productivity crop production system worldwide technically simple locally appropriate solution require farmer increase soc improve cropland management last year straw incorporation si gradually implement across china context agricultural intensification rural livelihood improvement meta analysis datum publish end undertake investigate effect si crop production soc sequestration result experimental study throughout china different edaphic condition climate region farming regime analyze compare straw removal sr si significantly sequester soc cm depth rate ci mg c ha yr increase crop grain yield conversion efficiency incorporated straw c across china combined si rate mg c ha yr mineral fertilizer kg nha yr demonstrate good farming practice crop yield increase soc sequestrate rate mg cha yr si achieve high soc sequestration rate crop yield increment apply clay soil high cropping intensity area northeast china soil degrade soc response high initial starting phase si subsequently decline finally become negligible year however crop yield response initially low increase reach high level year si overall study confirm si create positive feedback loop soc enhancement together increase crop production great practical importance straw management agriculture intensifie china region different climate condition author\",\n          \"mineral fertilizer organic amendment pesticide input commonly use conventional farming practice aim study evaluate effect single combine application spend grape marc vermicompost urea diuron soil enzyme activity persistence herbicide soil low organic carbon content application vermicompost enhance dehydrogenase dhase enzyme activity time alter soil urease activity limited extent reduction diuron concentration increase dhase activity indicate soil microorganism capable degrade ureic herbicide treatment vermicompost diuron stimulatory effect soil microbial activity whole application diuron urea vermicompost amend soil raise dhase urease activity maximum level gt g intf g h gt g nh g h respectively application urea unamended vermicompost amend soil decrease diuron persistence respectively finding show although vermicompost addition reduce diuron availability boost diuron degradation combine urea addition different soil management condition minimize bioavailability persistence diuron consequently risk leaching seepage aquifer compare untreated soil type treat soil could also improve agricultural sustainability quality environment elsevi b v right reserve\"\n        ],\n        \"semantic_type\": \"\",\n        \"description\": \"\"\n      }\n    },\n    {\n      \"column\": \"abstract_tokens_lemmatized\",\n      \"properties\": {\n        \"dtype\": \"string\",\n        \"num_unique_values\": 16664,\n        \"samples\": [\n          \"['assess', 'biochar', 'potential', 'cadmium', 'cd', 'contaminate', 'soil', 'pot', 'experiment', 'conduct', 'sample', 'typical', 'farmland', 'soil', 'shenyang', 'area', 'north', 'china', 'contaminate', 'cadmium', 'due', 'sewage', 'irrigation', 'two', 'maize', 'straw', 'derive', 'biochar', 'concentrations', 'kg', 'hm', 'test', 'result', 'show', 'biochar', 'prepare', 'dry', 'distillation', 'carbonization', 'technology', 'oxygen', 'deficient', 'condition', 'low', 'temperature', 'c', 'appropriate', 'structural', 'feature', 'physical', 'chemical', 'property', 'use', 'biochar', 'reduce', 'available', 'cd', 'ion', 'contaminated', 'soil', 'passivation', 'inhibitory', 'effect', 'display', 'variable', 'time', 'dependent', 'response', 'biochar', 'lead', 'soil', 'ph', 'change', 'rice', 'growth', 'increase', 'follow', 'decrease', 'furthermore', 'biochar', 'significantly', 'improve', 'soil', 'organic', 'matter', 'available', 'nutrients', 'n', 'p', 'k', 'indeed', 'cumulative', 'effect', 'time', 'observe', 'importantly', 'biochar', 'significantly', 'reduce', 'cadmium', 'content', 'rice', 'grain', 'average', 'compare', 'control', 'ck', 'treatment', 'high', 'biochar', 'concentration', 'effective', 'indicate', 'decrease', 'bio', 'availability', 'cadmium', 'result', 'suggest', 'maize', 'straw', 'derive', 'biochar', 'effective', 'remediation', 'material', 'cd', 'contaminate', 'soil', 'good', 'application', 'potential', 'environment', 'parlar', 'scientific', 'publications', 'right', 'reserve']\",\n          \"['loss', 'soil', 'organic', 'carbon', 'soc', 'agricultural', 'soil', 'key', 'indicator', 'soil', 'degradation', 'associate', 'reduction', 'net', 'primary', 'productivity', 'crop', 'production', 'system', 'worldwide', 'technically', 'simple', 'locally', 'appropriate', 'solution', 'require', 'farmer', 'increase', 'soc', 'improve', 'cropland', 'management', 'last', 'year', 'straw', 'incorporation', 'si', 'gradually', 'implement', 'across', 'china', 'context', 'agricultural', 'intensification', 'rural', 'livelihood', 'improvement', 'meta', 'analysis', 'datum', 'publish', 'end', 'undertake', 'investigate', 'effect', 'si', 'crop', 'production', 'soc', 'sequestration', 'result', 'experimental', 'study', 'throughout', 'china', 'different', 'edaphic', 'condition', 'climate', 'region', 'farming', 'regime', 'analyze', 'compare', 'straw', 'removal', 'sr', 'si', 'significantly', 'sequester', 'soc', 'cm', 'depth', 'rate', 'ci', 'mg', 'c', 'ha', 'yr', 'increase', 'crop', 'grain', 'yield', 'conversion', 'efficiency', 'incorporated', 'straw', 'c', 'across', 'china', 'combined', 'si', 'rate', 'mg', 'c', 'ha', 'yr', 'mineral', 'fertilizer', 'kg', 'nha', 'yr', 'demonstrate', 'good', 'farming', 'practice', 'crop', 'yield', 'increase', 'soc', 'sequestrate', 'rate', 'mg', 'cha', 'yr', 'si', 'achieve', 'high', 'soc', 'sequestration', 'rate', 'crop', 'yield', 'increment', 'apply', 'clay', 'soil', 'high', 'cropping', 'intensity', 'area', 'northeast', 'china', 'soil', 'degrade', 'soc', 'response', 'high', 'initial', 'starting', 'phase', 'si', 'subsequently', 'decline', 'finally', 'become', 'negligible', 'year', 'however', 'crop', 'yield', 'response', 'initially', 'low', 'increase', 'reach', 'high', 'level', 'year', 'si', 'overall', 'study', 'confirm', 'si', 'create', 'positive', 'feedback', 'loop', 'soc', 'enhancement', 'together', 'increase', 'crop', 'production', 'great', 'practical', 'importance', 'straw', 'management', 'agriculture', 'intensifie', 'china', 'region', 'different', 'climate', 'condition', 'author']\",\n          \"['mineral', 'fertilizer', 'organic', 'amendment', 'pesticide', 'input', 'commonly', 'use', 'conventional', 'farming', 'practice', 'aim', 'study', 'evaluate', 'effect', 'single', 'combine', 'application', 'spend', 'grape', 'marc', 'vermicompost', 'urea', 'diuron', 'soil', 'enzyme', 'activity', 'persistence', 'herbicide', 'soil', 'low', 'organic', 'carbon', 'content', 'application', 'vermicompost', 'enhance', 'dehydrogenase', 'dhase', 'enzyme', 'activity', 'time', 'alter', 'soil', 'urease', 'activity', 'limited', 'extent', 'reduction', 'diuron', 'concentration', 'increase', 'dhase', 'activity', 'indicate', 'soil', 'microorganism', 'capable', 'degrade', 'ureic', 'herbicide', 'treatment', 'vermicompost', 'diuron', 'stimulatory', 'effect', 'soil', 'microbial', 'activity', 'whole', 'application', 'diuron', 'urea', 'vermicompost', 'amend', 'soil', 'raise', 'dhase', 'urease', 'activity', 'maximum', 'level', 'gt', 'g', 'intf', 'g', 'h', 'gt', 'g', 'nh', 'g', 'h', 'respectively', 'application', 'urea', 'unamended', 'vermicompost', 'amend', 'soil', 'decrease', 'diuron', 'persistence', 'respectively', 'finding', 'show', 'although', 'vermicompost', 'addition', 'reduce', 'diuron', 'availability', 'boost', 'diuron', 'degradation', 'combine', 'urea', 'addition', 'different', 'soil', 'management', 'condition', 'minimize', 'bioavailability', 'persistence', 'diuron', 'consequently', 'risk', 'leaching', 'seepage', 'aquifer', 'compare', 'untreated', 'soil', 'type', 'treat', 'soil', 'could', 'also', 'improve', 'agricultural', 'sustainability', 'quality', 'environment', 'elsevi', 'b', 'v', 'right', 'reserve']\"\n        ],\n        \"semantic_type\": \"\",\n        \"description\": \"\"\n      }\n    },\n    {\n      \"column\": \"dominant_topic\",\n      \"properties\": {\n        \"dtype\": \"number\",\n        \"std\": 3,\n        \"min\": 0,\n        \"max\": 14,\n        \"num_unique_values\": 15,\n        \"samples\": [\n          11,\n          5,\n          7\n        ],\n        \"semantic_type\": \"\",\n        \"description\": \"\"\n      }\n    },\n    {\n      \"column\": \"ents\",\n      \"properties\": {\n        \"dtype\": \"string\",\n        \"num_unique_values\": 16666,\n        \"samples\": [\n          \"[('biochar', 'ORGANIC FERTILISATION'), ('Shenyang', 'GPE'), ('China', 'GPE'), ('two', 'CARDINAL'), ('biochar', 'ORGANIC FERTILISATION'), ('22500 kg', 'QUANTITY'), ('hm-2', 'NORP'), ('biochar', 'ORGANIC FERTILISATION'), ('temperature(400 - 450', 'CARDINAL'), ('biochar', 'ORGANIC FERTILISATION'), ('reduce', 'DECREASE'), ('biochar', 'ORGANIC FERTILISATION'), ('growth(increase', 'INCREASE'), ('decrease', 'DECREASE'), ('biochar', 'ORGANIC FERTILISATION'), ('soil organic matter', 'SOC'), ('biochar', 'ORGANIC FERTILISATION'), ('reduce', 'DECREASE'), ('33.01 %', 'PERCENT'), ('biochar', 'ORGANIC FERTILISATION'), ('decrease', 'DECREASE'), ('biochar', 'ORGANIC FERTILISATION'), ('2016', 'DATE'), ('Parlar Scientific Publications', 'ORG')]\",\n          \"[('manure', 'ORGANIC FERTILISATION'), ('15 year', 'DATE'), ('conventional tillage', 'CONVENTIONAL TILLAGE'), ('CT', 'CONVENTIONAL TILLAGE'), ('NT', 'NO TILLAGE'), ('three', 'CARDINAL'), ('winter', 'DATE'), ('Triticum', 'LOC'), ('cover crop', 'COVER CROP'), ('Zea', 'PERSON'), ('millet', 'PERSON'), ('Panicum', 'NORP'), ('1:1', 'CARDINAL'), ('soil organic carbon', 'SOC'), ('SOC', 'ORG'), ('LBC', 'ORG'), ('four', 'CARDINAL'), ('CTCF', 'ORG'), ('CTPL', 'ORG'), ('NTCF', 'ORG'), ('NTPL', 'ORG'), ('CTPL', 'ORG'), ('0.6', 'CARDINAL'), ('increase', 'INCREASE'), ('15 cm', 'QUANTITY'), ('LBC', 'ORG'), ('increase', 'INCREASE'), ('unchanged', 'NEUTRAL'), ('decrease', 'DECREASE'), ('27', 'CARDINAL'), ('43 kg', 'QUANTITY'), ('ha\\u22121', 'ORG'), ('pH', 'SOIL CHEMICAL PROPERTIES'), ('manure', 'ORGANIC FERTILISATION'), ('2019', 'DATE'), ('B.V.', 'ORG')]\",\n          \"[('mineral fertilizer', 'INORGANIC FERTILISATION'), ('amendment', 'ORGANIC FERTILISATION'), ('vermicompost', 'ORGANIC FERTILISATION'), ('urea', 'INORGANIC FERTILISATION'), ('enzyme activity', 'SOIL BIOLOGICAL PROPERTIES'), ('vermicompost', 'ORGANIC FERTILISATION'), ('enhance', 'INCREASE'), ('DHase', 'ORG'), ('enzyme activity', 'SOIL BIOLOGICAL PROPERTIES'), ('increase', 'INCREASE'), ('DHase', 'ORG'), ('vermicompost', 'ORGANIC FERTILISATION'), ('urea', 'INORGANIC FERTILISATION'), ('vermicompost', 'ORGANIC FERTILISATION'), ('raise', 'INCREASE'), ('DHase', 'ORG'), ('g-1 h-1', 'PERSON'), ('urea', 'INORGANIC FERTILISATION'), ('vermicompost', 'ORGANIC FERTILISATION'), ('decrease', 'DECREASE'), ('18.8', 'CARDINAL'), ('33', 'DATE'), ('12.5', 'CARDINAL'), ('vermicompost', 'ORGANIC FERTILISATION'), ('reduce', 'DECREASE'), ('boost', 'INCREASE'), ('urea', 'INORGANIC FERTILISATION'), ('2009', 'DATE'), ('B.V.', 'ORG')]\"\n        ],\n        \"semantic_type\": \"\",\n        \"description\": \"\"\n      }\n    },\n    {\n      \"column\": \"Entity_Distances\",\n      \"properties\": {\n        \"dtype\": \"category\",\n        \"num_unique_values\": 1,\n        \"samples\": [\n          \"No close entities\"\n        ],\n        \"semantic_type\": \"\",\n        \"description\": \"\"\n      }\n    }\n  ]\n}"
            }
          },
          "metadata": {},
          "execution_count": 18
        }
      ]
    },
    {
      "cell_type": "code",
      "source": [
        "filtered_df = dataset[dataset['Entity_Distances'] != \"No close entities\"]"
      ],
      "metadata": {
        "id": "Aty6Iajm6IYg"
      },
      "execution_count": null,
      "outputs": []
    },
    {
      "cell_type": "code",
      "source": [
        "filtered_df.head()"
      ],
      "metadata": {
        "colab": {
          "base_uri": "https://localhost:8080/",
          "height": 73
        },
        "id": "lTz1fCkU6IU8",
        "outputId": "24bfc43e-925a-4f73-b4da-82a8009522db"
      },
      "execution_count": null,
      "outputs": [
        {
          "output_type": "execute_result",
          "data": {
            "text/plain": [
              "Empty DataFrame\n",
              "Columns: [title, alternate_title1, year, authors, abstract, keywords, secondary_title, notes, type_of_work, processed, lemmatized_text, processed_lemmatized, abstract_tokens_lemmatized, dominant_topic, ents, Entity_Distances]\n",
              "Index: []"
            ],
            "text/html": [
              "\n",
              "  <div id=\"df-5af25901-966a-4f9b-9f1c-bcc61ba02c56\" class=\"colab-df-container\">\n",
              "    <div>\n",
              "<style scoped>\n",
              "    .dataframe tbody tr th:only-of-type {\n",
              "        vertical-align: middle;\n",
              "    }\n",
              "\n",
              "    .dataframe tbody tr th {\n",
              "        vertical-align: top;\n",
              "    }\n",
              "\n",
              "    .dataframe thead th {\n",
              "        text-align: right;\n",
              "    }\n",
              "</style>\n",
              "<table border=\"1\" class=\"dataframe\">\n",
              "  <thead>\n",
              "    <tr style=\"text-align: right;\">\n",
              "      <th></th>\n",
              "      <th>title</th>\n",
              "      <th>alternate_title1</th>\n",
              "      <th>year</th>\n",
              "      <th>authors</th>\n",
              "      <th>abstract</th>\n",
              "      <th>keywords</th>\n",
              "      <th>secondary_title</th>\n",
              "      <th>notes</th>\n",
              "      <th>type_of_work</th>\n",
              "      <th>processed</th>\n",
              "      <th>lemmatized_text</th>\n",
              "      <th>processed_lemmatized</th>\n",
              "      <th>abstract_tokens_lemmatized</th>\n",
              "      <th>dominant_topic</th>\n",
              "      <th>ents</th>\n",
              "      <th>Entity_Distances</th>\n",
              "    </tr>\n",
              "  </thead>\n",
              "  <tbody>\n",
              "  </tbody>\n",
              "</table>\n",
              "</div>\n",
              "    <div class=\"colab-df-buttons\">\n",
              "\n",
              "  <div class=\"colab-df-container\">\n",
              "    <button class=\"colab-df-convert\" onclick=\"convertToInteractive('df-5af25901-966a-4f9b-9f1c-bcc61ba02c56')\"\n",
              "            title=\"Convert this dataframe to an interactive table.\"\n",
              "            style=\"display:none;\">\n",
              "\n",
              "  <svg xmlns=\"http://www.w3.org/2000/svg\" height=\"24px\" viewBox=\"0 -960 960 960\">\n",
              "    <path d=\"M120-120v-720h720v720H120Zm60-500h600v-160H180v160Zm220 220h160v-160H400v160Zm0 220h160v-160H400v160ZM180-400h160v-160H180v160Zm440 0h160v-160H620v160ZM180-180h160v-160H180v160Zm440 0h160v-160H620v160Z\"/>\n",
              "  </svg>\n",
              "    </button>\n",
              "\n",
              "  <style>\n",
              "    .colab-df-container {\n",
              "      display:flex;\n",
              "      gap: 12px;\n",
              "    }\n",
              "\n",
              "    .colab-df-convert {\n",
              "      background-color: #E8F0FE;\n",
              "      border: none;\n",
              "      border-radius: 50%;\n",
              "      cursor: pointer;\n",
              "      display: none;\n",
              "      fill: #1967D2;\n",
              "      height: 32px;\n",
              "      padding: 0 0 0 0;\n",
              "      width: 32px;\n",
              "    }\n",
              "\n",
              "    .colab-df-convert:hover {\n",
              "      background-color: #E2EBFA;\n",
              "      box-shadow: 0px 1px 2px rgba(60, 64, 67, 0.3), 0px 1px 3px 1px rgba(60, 64, 67, 0.15);\n",
              "      fill: #174EA6;\n",
              "    }\n",
              "\n",
              "    .colab-df-buttons div {\n",
              "      margin-bottom: 4px;\n",
              "    }\n",
              "\n",
              "    [theme=dark] .colab-df-convert {\n",
              "      background-color: #3B4455;\n",
              "      fill: #D2E3FC;\n",
              "    }\n",
              "\n",
              "    [theme=dark] .colab-df-convert:hover {\n",
              "      background-color: #434B5C;\n",
              "      box-shadow: 0px 1px 3px 1px rgba(0, 0, 0, 0.15);\n",
              "      filter: drop-shadow(0px 1px 2px rgba(0, 0, 0, 0.3));\n",
              "      fill: #FFFFFF;\n",
              "    }\n",
              "  </style>\n",
              "\n",
              "    <script>\n",
              "      const buttonEl =\n",
              "        document.querySelector('#df-5af25901-966a-4f9b-9f1c-bcc61ba02c56 button.colab-df-convert');\n",
              "      buttonEl.style.display =\n",
              "        google.colab.kernel.accessAllowed ? 'block' : 'none';\n",
              "\n",
              "      async function convertToInteractive(key) {\n",
              "        const element = document.querySelector('#df-5af25901-966a-4f9b-9f1c-bcc61ba02c56');\n",
              "        const dataTable =\n",
              "          await google.colab.kernel.invokeFunction('convertToInteractive',\n",
              "                                                    [key], {});\n",
              "        if (!dataTable) return;\n",
              "\n",
              "        const docLinkHtml = 'Like what you see? Visit the ' +\n",
              "          '<a target=\"_blank\" href=https://colab.research.google.com/notebooks/data_table.ipynb>data table notebook</a>'\n",
              "          + ' to learn more about interactive tables.';\n",
              "        element.innerHTML = '';\n",
              "        dataTable['output_type'] = 'display_data';\n",
              "        await google.colab.output.renderOutput(dataTable, element);\n",
              "        const docLink = document.createElement('div');\n",
              "        docLink.innerHTML = docLinkHtml;\n",
              "        element.appendChild(docLink);\n",
              "      }\n",
              "    </script>\n",
              "  </div>\n",
              "\n",
              "    </div>\n",
              "  </div>\n"
            ],
            "application/vnd.google.colaboratory.intrinsic+json": {
              "type": "dataframe",
              "variable_name": "filtered_df",
              "repr_error": "'str' object has no attribute 'empty'"
            }
          },
          "metadata": {},
          "execution_count": 15
        }
      ]
    },
    {
      "cell_type": "code",
      "source": [],
      "metadata": {
        "id": "Hh2wKcUIwntf"
      },
      "execution_count": null,
      "outputs": []
    },
    {
      "cell_type": "code",
      "source": [],
      "metadata": {
        "id": "b25hK4RNT1yD"
      },
      "execution_count": null,
      "outputs": []
    },
    {
      "cell_type": "code",
      "source": [],
      "metadata": {
        "id": "fnjgDxXfdCSQ"
      },
      "execution_count": null,
      "outputs": []
    },
    {
      "cell_type": "markdown",
      "source": [
        "### Graphs Obsolete"
      ],
      "metadata": {
        "id": "BY-yWoICdDI1"
      }
    },
    {
      "cell_type": "code",
      "source": [
        "# List of properties you're interested in\n",
        "interested_properties = ['ORGANIC FERTILISATION']\n",
        "\n",
        "# Filter the DataFrame\n",
        "filtered_df = data[data['filtered_entities'].apply(lambda x: any(item in x for item in interested_properties))]\n",
        "\n",
        "article_counts = filtered_df.groupby('year').size().reset_index(name='article_count')\n",
        "fig = px.line(article_counts, x='year', y='article_count', markers=True,\n",
        "              title='Article Count Over Years for Selected Properties')\n",
        "fig.update_layout(xaxis_title='Year', yaxis_title='Article Count')\n",
        "fig.show()"
      ],
      "metadata": {
        "id": "M89KSbp4dKmr"
      },
      "execution_count": null,
      "outputs": []
    }
  ]
}