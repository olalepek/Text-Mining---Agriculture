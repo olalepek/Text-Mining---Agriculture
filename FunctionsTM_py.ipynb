{
  "nbformat": 4,
  "nbformat_minor": 0,
  "metadata": {
    "colab": {
      "provenance": [],
      "authorship_tag": "ABX9TyOZg+OwN+OY6Y/abJVg6+C2",
      "include_colab_link": true
    },
    "kernelspec": {
      "name": "python3",
      "display_name": "Python 3"
    },
    "language_info": {
      "name": "python"
    }
  },
  "cells": [
    {
      "cell_type": "markdown",
      "metadata": {
        "id": "view-in-github",
        "colab_type": "text"
      },
      "source": [
        "<a href=\"https://colab.research.google.com/github/olalepek/Text-Mining---Agriculture/blob/main/FunctionsTM_py.ipynb\" target=\"_parent\"><img src=\"https://colab.research.google.com/assets/colab-badge.svg\" alt=\"Open In Colab\"/></a>"
      ]
    },
    {
      "cell_type": "code",
      "execution_count": null,
      "metadata": {
        "id": "GP7E6jnqpAuH"
      },
      "outputs": [],
      "source": [
        "pattern_change = [\n",
        "    {\"label\": \"INCREASE\", \"pattern\": [{\"TEXT\": {\"REGEX\": \"increase|raise|enhance|boost|accelerate|aid|contribute|enable|enhance|facilitate|gain|greater|make more|positive effect|positively contribute|positively influence|promote|stimulate\"}}]},\n",
        "    {\"label\": \"DECREASE\", \"pattern\": [{\"TEXT\": {\"REGEX\": \"decrease|drop|reduce|lower|diminish|decline|negative effect|reduction|suppress\"}}]},\n",
        "    {\"label\": \"NEUTRAL\", \"pattern\": [{\"TEXT\": {\"REGEX\": \"no effect|unchange|remain the same|no significant (change|difference|impact)|be maintained|be similar|conserve|insignificant|lack of effect|maintain|no effect|non significant|not affect|not alter|not change|not contribute|not differ|not enable|not impact|not respond|not result|not show effect|not significantly affect|not significantly alter|not significantly change|not significantly contribute|not significantly differ|not significantly enable|not significantly impact|not significantly reduce|not significantly respond|not significantly result|similar|be stable\"}}]}\n",
        "]\n",
        "\n",
        "set_entity_ruler (excel_terms, 'category', pattern_change, data, 'processed_lemmatized','category_w_effect')"
      ]
    }
  ]
}