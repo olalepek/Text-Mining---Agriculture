{
  "nbformat": 4,
  "nbformat_minor": 0,
  "metadata": {
    "colab": {
      "provenance": [],
      "authorship_tag": "ABX9TyNAf6EmsL8ttonbLP7cjH5O",
      "include_colab_link": true
    },
    "kernelspec": {
      "name": "python3",
      "display_name": "Python 3"
    },
    "language_info": {
      "name": "python"
    }
  },
  "cells": [
    {
      "cell_type": "markdown",
      "metadata": {
        "id": "view-in-github",
        "colab_type": "text"
      },
      "source": [
        "<a href=\"https://colab.research.google.com/github/olalepek/Text-Mining---Agriculture/blob/main/%5BPreprocessing%5D_Agriculture_Text_Mining.ipynb\" target=\"_parent\"><img src=\"https://colab.research.google.com/assets/colab-badge.svg\" alt=\"Open In Colab\"/></a>"
      ]
    },
    {
      "cell_type": "code",
      "source": [
        "!pip install rispy pandas\n",
        "!pip install spacy\n",
        "import rispy\n",
        "import numpy as np\n",
        "import pandas as pd\n",
        "import re\n",
        "import nltk\n",
        "import spacy\n",
        "nltk.download('stopwords')\n",
        "from nltk.corpus import stopwords\n",
        "from nltk.stem.porter import PorterStemmer\n",
        "from nltk.tokenize import word_tokenize\n",
        "nltk.download('punkt')\n"
      ],
      "metadata": {
        "id": "GFZU2K7E5mcG"
      },
      "execution_count": null,
      "outputs": []
    },
    {
      "cell_type": "code",
      "execution_count": null,
      "metadata": {
        "id": "lWw_8NUA5bbN"
      },
      "outputs": [],
      "source": [
        "ris_file_path ='/content/drive/MyDrive/Studia DSE/combined_file.ris'\n",
        "\n",
        "with open(ris_file_path, 'r') as bibliography_file:\n",
        "    entries = rispy.load(bibliography_file)\n",
        "\n",
        "df = pd.DataFrame(entries)\n",
        "df.iloc[1]"
      ]
    },
    {
      "cell_type": "markdown",
      "source": [
        "Selecting only specific columns from dataset, dropping columns with NAN values, transforming the cell values into strings for easier analysis"
      ],
      "metadata": {
        "id": "lEH8RiLz50Xf"
      }
    },
    {
      "cell_type": "code",
      "source": [
        "selected = ['title','alternate_title1','year','authors','abstract','keywords','secondary_title','notes','type_of_work']\n",
        "dataset = df[selected]\n",
        "dataset = dataset.dropna(axis=0, how=\"any\")\n",
        "dataset = dataset.astype(str)"
      ],
      "metadata": {
        "id": "lopsxjCw56Mb"
      },
      "execution_count": null,
      "outputs": []
    },
    {
      "cell_type": "markdown",
      "source": [
        "Porter Stemmer"
      ],
      "metadata": {
        "id": "hcB_VC1K6cKI"
      }
    },
    {
      "cell_type": "code",
      "source": [
        "processed=[]\n",
        "\n",
        "for abstract in dataset['abstract']:\n",
        "\n",
        "    abstract = re.sub('[^a-zA-Z]', ' ', abstract) #replacing any punctuation or anything that is not ^ a-z and A-Zletter with the space\n",
        "    abstract = abstract.lower() #lowercase all the words\n",
        "    abstract = abstract.split()# splitting the abstract into words\n",
        "\n",
        "      # Stemming the words to keep only the roots using Porter Stemmer\n",
        "    ps = PorterStemmer()\n",
        "    all_stopwords = stopwords.words('english')\n",
        "    all_stopwords.remove('not')\n",
        "    abstract = [ps.stem(word) for word in abstract if not word in set(all_stopwords)]\n",
        "    abstract = ' '.join(abstract)\n",
        "    processed.append(abstract)\n",
        "\n",
        "dataset['processed_porter_stemmer'] = processed"
      ],
      "metadata": {
        "id": "FpYSGt_i6WRj"
      },
      "execution_count": null,
      "outputs": []
    },
    {
      "cell_type": "markdown",
      "source": [
        "Lemmitizing the text"
      ],
      "metadata": {
        "id": "3cKHDGFQ6qCr"
      }
    },
    {
      "cell_type": "code",
      "source": [
        "nlp = spacy.load(\"en_core_web_sm\")\n",
        "def lemmatize_text(text):\n",
        "    doc = nlp(text)\n",
        "    return \" \".join([token.lemma_ for token in doc])\n",
        "\n",
        "dataset['lemmatized_text'] = dataset['abstract'].apply(lemmatize_text)"
      ],
      "metadata": {
        "id": "YpCU5SBu6uMB"
      },
      "execution_count": null,
      "outputs": []
    },
    {
      "cell_type": "code",
      "source": [
        "processed2=[]\n",
        "\n",
        "for abstract in dataset['lemmatized_text']:\n",
        "  abstract = re.sub('[^a-zA-Z]', ' ', abstract) #replacing any punctuation or anything that is not ^ a-z and A-Zletter with the space\n",
        "  abstract = abstract.lower() #lowercase all the words\n",
        "  all_stopwords = stopwords.words('english')\n",
        "  words = word_tokenize(abstract)\n",
        "  filtered_abstract = \" \".join(word for word in words if word not in all_stopwords)\n",
        "  processed2.append(filtered_abstract)\n",
        "dataset['processed_lemmatized'] = processed2\n"
      ],
      "metadata": {
        "id": "xsbzpn-w6-ip"
      },
      "execution_count": null,
      "outputs": []
    },
    {
      "cell_type": "markdown",
      "source": [
        "Comparing the Porter Stemmer with Lemma"
      ],
      "metadata": {
        "id": "4lm4_gLD7YaH"
      }
    },
    {
      "cell_type": "code",
      "execution_count": null,
      "metadata": {
        "colab": {
          "base_uri": "https://localhost:8080/",
          "height": 2014
        },
        "id": "yOAbg6Ip_q8p",
        "outputId": "f7d0af9c-e624-4567-836a-c2d9d8e26020"
      },
      "outputs": [
        {
          "output_type": "execute_result",
          "data": {
            "text/plain": [
              "                                            abstract  \\\n",
              "1  Effects of soil pH on weak acid and weak base ...   \n",
              "2  Growth responses of mesquite (Prosopis juliflo...   \n",
              "3  Field experiments with rice-wheat rotation wer...   \n",
              "4  Application of higher levels (60 and 90 kg N h...   \n",
              "5  A study relating N uptake by wheat to several ...   \n",
              "\n",
              "                            processed_porter_stemmer  \\\n",
              "1  effect soil ph weak acid weak base herbicid ad...   \n",
              "2  growth respons mesquit prosopi juliflora sw dc...   \n",
              "3  field experi rice wheat rotat conduct five con...   \n",
              "4  applic higher level kg n ha nitrogen fertil ur...   \n",
              "5  studi relat n uptak wheat sever n soil test co...   \n",
              "\n",
              "                                processed_lemmatized  \n",
              "1  effect soil ph weak acid weak base herbicide a...  \n",
              "2  growth response mesquite prosopis juliflora sw...  \n",
              "3  field experiment rice wheat rotation conduct f...  \n",
              "4  application high level kg n ha nitrogen fertil...  \n",
              "5  study relate n uptake wheat several n soil tes...  "
            ],
            "text/html": [
              "\n",
              "  <div id=\"df-454f23fc-e6a1-4316-b695-fc64779c2298\" class=\"colab-df-container\">\n",
              "    <div>\n",
              "<style scoped>\n",
              "    .dataframe tbody tr th:only-of-type {\n",
              "        vertical-align: middle;\n",
              "    }\n",
              "\n",
              "    .dataframe tbody tr th {\n",
              "        vertical-align: top;\n",
              "    }\n",
              "\n",
              "    .dataframe thead th {\n",
              "        text-align: right;\n",
              "    }\n",
              "</style>\n",
              "<table border=\"1\" class=\"dataframe\">\n",
              "  <thead>\n",
              "    <tr style=\"text-align: right;\">\n",
              "      <th></th>\n",
              "      <th>abstract</th>\n",
              "      <th>processed_porter_stemmer</th>\n",
              "      <th>processed_lemmatized</th>\n",
              "    </tr>\n",
              "  </thead>\n",
              "  <tbody>\n",
              "    <tr>\n",
              "      <th>1</th>\n",
              "      <td>Effects of soil pH on weak acid and weak base ...</td>\n",
              "      <td>effect soil ph weak acid weak base herbicid ad...</td>\n",
              "      <td>effect soil ph weak acid weak base herbicide a...</td>\n",
              "    </tr>\n",
              "    <tr>\n",
              "      <th>2</th>\n",
              "      <td>Growth responses of mesquite (Prosopis juliflo...</td>\n",
              "      <td>growth respons mesquit prosopi juliflora sw dc...</td>\n",
              "      <td>growth response mesquite prosopis juliflora sw...</td>\n",
              "    </tr>\n",
              "    <tr>\n",
              "      <th>3</th>\n",
              "      <td>Field experiments with rice-wheat rotation wer...</td>\n",
              "      <td>field experi rice wheat rotat conduct five con...</td>\n",
              "      <td>field experiment rice wheat rotation conduct f...</td>\n",
              "    </tr>\n",
              "    <tr>\n",
              "      <th>4</th>\n",
              "      <td>Application of higher levels (60 and 90 kg N h...</td>\n",
              "      <td>applic higher level kg n ha nitrogen fertil ur...</td>\n",
              "      <td>application high level kg n ha nitrogen fertil...</td>\n",
              "    </tr>\n",
              "    <tr>\n",
              "      <th>5</th>\n",
              "      <td>A study relating N uptake by wheat to several ...</td>\n",
              "      <td>studi relat n uptak wheat sever n soil test co...</td>\n",
              "      <td>study relate n uptake wheat several n soil tes...</td>\n",
              "    </tr>\n",
              "  </tbody>\n",
              "</table>\n",
              "</div>\n",
              "    <div class=\"colab-df-buttons\">\n",
              "\n",
              "  <div class=\"colab-df-container\">\n",
              "    <button class=\"colab-df-convert\" onclick=\"convertToInteractive('df-454f23fc-e6a1-4316-b695-fc64779c2298')\"\n",
              "            title=\"Convert this dataframe to an interactive table.\"\n",
              "            style=\"display:none;\">\n",
              "\n",
              "  <svg xmlns=\"http://www.w3.org/2000/svg\" height=\"24px\" viewBox=\"0 -960 960 960\">\n",
              "    <path d=\"M120-120v-720h720v720H120Zm60-500h600v-160H180v160Zm220 220h160v-160H400v160Zm0 220h160v-160H400v160ZM180-400h160v-160H180v160Zm440 0h160v-160H620v160ZM180-180h160v-160H180v160Zm440 0h160v-160H620v160Z\"/>\n",
              "  </svg>\n",
              "    </button>\n",
              "\n",
              "  <style>\n",
              "    .colab-df-container {\n",
              "      display:flex;\n",
              "      gap: 12px;\n",
              "    }\n",
              "\n",
              "    .colab-df-convert {\n",
              "      background-color: #E8F0FE;\n",
              "      border: none;\n",
              "      border-radius: 50%;\n",
              "      cursor: pointer;\n",
              "      display: none;\n",
              "      fill: #1967D2;\n",
              "      height: 32px;\n",
              "      padding: 0 0 0 0;\n",
              "      width: 32px;\n",
              "    }\n",
              "\n",
              "    .colab-df-convert:hover {\n",
              "      background-color: #E2EBFA;\n",
              "      box-shadow: 0px 1px 2px rgba(60, 64, 67, 0.3), 0px 1px 3px 1px rgba(60, 64, 67, 0.15);\n",
              "      fill: #174EA6;\n",
              "    }\n",
              "\n",
              "    .colab-df-buttons div {\n",
              "      margin-bottom: 4px;\n",
              "    }\n",
              "\n",
              "    [theme=dark] .colab-df-convert {\n",
              "      background-color: #3B4455;\n",
              "      fill: #D2E3FC;\n",
              "    }\n",
              "\n",
              "    [theme=dark] .colab-df-convert:hover {\n",
              "      background-color: #434B5C;\n",
              "      box-shadow: 0px 1px 3px 1px rgba(0, 0, 0, 0.15);\n",
              "      filter: drop-shadow(0px 1px 2px rgba(0, 0, 0, 0.3));\n",
              "      fill: #FFFFFF;\n",
              "    }\n",
              "  </style>\n",
              "\n",
              "    <script>\n",
              "      const buttonEl =\n",
              "        document.querySelector('#df-454f23fc-e6a1-4316-b695-fc64779c2298 button.colab-df-convert');\n",
              "      buttonEl.style.display =\n",
              "        google.colab.kernel.accessAllowed ? 'block' : 'none';\n",
              "\n",
              "      async function convertToInteractive(key) {\n",
              "        const element = document.querySelector('#df-454f23fc-e6a1-4316-b695-fc64779c2298');\n",
              "        const dataTable =\n",
              "          await google.colab.kernel.invokeFunction('convertToInteractive',\n",
              "                                                    [key], {});\n",
              "        if (!dataTable) return;\n",
              "\n",
              "        const docLinkHtml = 'Like what you see? Visit the ' +\n",
              "          '<a target=\"_blank\" href=https://colab.research.google.com/notebooks/data_table.ipynb>data table notebook</a>'\n",
              "          + ' to learn more about interactive tables.';\n",
              "        element.innerHTML = '';\n",
              "        dataTable['output_type'] = 'display_data';\n",
              "        await google.colab.output.renderOutput(dataTable, element);\n",
              "        const docLink = document.createElement('div');\n",
              "        docLink.innerHTML = docLinkHtml;\n",
              "        element.appendChild(docLink);\n",
              "      }\n",
              "    </script>\n",
              "  </div>\n",
              "\n",
              "\n",
              "<div id=\"df-c4797277-f9fd-4c8a-af0e-4014eaad1fa7\">\n",
              "  <button class=\"colab-df-quickchart\" onclick=\"quickchart('df-c4797277-f9fd-4c8a-af0e-4014eaad1fa7')\"\n",
              "            title=\"Suggest charts\"\n",
              "            style=\"display:none;\">\n",
              "\n",
              "<svg xmlns=\"http://www.w3.org/2000/svg\" height=\"24px\"viewBox=\"0 0 24 24\"\n",
              "     width=\"24px\">\n",
              "    <g>\n",
              "        <path d=\"M19 3H5c-1.1 0-2 .9-2 2v14c0 1.1.9 2 2 2h14c1.1 0 2-.9 2-2V5c0-1.1-.9-2-2-2zM9 17H7v-7h2v7zm4 0h-2V7h2v10zm4 0h-2v-4h2v4z\"/>\n",
              "    </g>\n",
              "</svg>\n",
              "  </button>\n",
              "\n",
              "<style>\n",
              "  .colab-df-quickchart {\n",
              "      --bg-color: #E8F0FE;\n",
              "      --fill-color: #1967D2;\n",
              "      --hover-bg-color: #E2EBFA;\n",
              "      --hover-fill-color: #174EA6;\n",
              "      --disabled-fill-color: #AAA;\n",
              "      --disabled-bg-color: #DDD;\n",
              "  }\n",
              "\n",
              "  [theme=dark] .colab-df-quickchart {\n",
              "      --bg-color: #3B4455;\n",
              "      --fill-color: #D2E3FC;\n",
              "      --hover-bg-color: #434B5C;\n",
              "      --hover-fill-color: #FFFFFF;\n",
              "      --disabled-bg-color: #3B4455;\n",
              "      --disabled-fill-color: #666;\n",
              "  }\n",
              "\n",
              "  .colab-df-quickchart {\n",
              "    background-color: var(--bg-color);\n",
              "    border: none;\n",
              "    border-radius: 50%;\n",
              "    cursor: pointer;\n",
              "    display: none;\n",
              "    fill: var(--fill-color);\n",
              "    height: 32px;\n",
              "    padding: 0;\n",
              "    width: 32px;\n",
              "  }\n",
              "\n",
              "  .colab-df-quickchart:hover {\n",
              "    background-color: var(--hover-bg-color);\n",
              "    box-shadow: 0 1px 2px rgba(60, 64, 67, 0.3), 0 1px 3px 1px rgba(60, 64, 67, 0.15);\n",
              "    fill: var(--button-hover-fill-color);\n",
              "  }\n",
              "\n",
              "  .colab-df-quickchart-complete:disabled,\n",
              "  .colab-df-quickchart-complete:disabled:hover {\n",
              "    background-color: var(--disabled-bg-color);\n",
              "    fill: var(--disabled-fill-color);\n",
              "    box-shadow: none;\n",
              "  }\n",
              "\n",
              "  .colab-df-spinner {\n",
              "    border: 2px solid var(--fill-color);\n",
              "    border-color: transparent;\n",
              "    border-bottom-color: var(--fill-color);\n",
              "    animation:\n",
              "      spin 1s steps(1) infinite;\n",
              "  }\n",
              "\n",
              "  @keyframes spin {\n",
              "    0% {\n",
              "      border-color: transparent;\n",
              "      border-bottom-color: var(--fill-color);\n",
              "      border-left-color: var(--fill-color);\n",
              "    }\n",
              "    20% {\n",
              "      border-color: transparent;\n",
              "      border-left-color: var(--fill-color);\n",
              "      border-top-color: var(--fill-color);\n",
              "    }\n",
              "    30% {\n",
              "      border-color: transparent;\n",
              "      border-left-color: var(--fill-color);\n",
              "      border-top-color: var(--fill-color);\n",
              "      border-right-color: var(--fill-color);\n",
              "    }\n",
              "    40% {\n",
              "      border-color: transparent;\n",
              "      border-right-color: var(--fill-color);\n",
              "      border-top-color: var(--fill-color);\n",
              "    }\n",
              "    60% {\n",
              "      border-color: transparent;\n",
              "      border-right-color: var(--fill-color);\n",
              "    }\n",
              "    80% {\n",
              "      border-color: transparent;\n",
              "      border-right-color: var(--fill-color);\n",
              "      border-bottom-color: var(--fill-color);\n",
              "    }\n",
              "    90% {\n",
              "      border-color: transparent;\n",
              "      border-bottom-color: var(--fill-color);\n",
              "    }\n",
              "  }\n",
              "</style>\n",
              "\n",
              "  <script>\n",
              "    async function quickchart(key) {\n",
              "      const quickchartButtonEl =\n",
              "        document.querySelector('#' + key + ' button');\n",
              "      quickchartButtonEl.disabled = true;  // To prevent multiple clicks.\n",
              "      quickchartButtonEl.classList.add('colab-df-spinner');\n",
              "      try {\n",
              "        const charts = await google.colab.kernel.invokeFunction(\n",
              "            'suggestCharts', [key], {});\n",
              "      } catch (error) {\n",
              "        console.error('Error during call to suggestCharts:', error);\n",
              "      }\n",
              "      quickchartButtonEl.classList.remove('colab-df-spinner');\n",
              "      quickchartButtonEl.classList.add('colab-df-quickchart-complete');\n",
              "    }\n",
              "    (() => {\n",
              "      let quickchartButtonEl =\n",
              "        document.querySelector('#df-c4797277-f9fd-4c8a-af0e-4014eaad1fa7 button');\n",
              "      quickchartButtonEl.style.display =\n",
              "        google.colab.kernel.accessAllowed ? 'block' : 'none';\n",
              "    })();\n",
              "  </script>\n",
              "</div>\n",
              "    </div>\n",
              "  </div>\n"
            ],
            "application/vnd.google.colaboratory.intrinsic+json": {
              "type": "dataframe",
              "variable_name": "dataset_view",
              "summary": "{\n  \"name\": \"dataset_view\",\n  \"rows\": 16678,\n  \"fields\": [\n    {\n      \"column\": \"abstract\",\n      \"properties\": {\n        \"dtype\": \"string\",\n        \"num_unique_values\": 16672,\n        \"samples\": [\n          \"In Pakistan, per acre yield of wheat (Triticum aestivum L.) suffers greatly due to low organic matter and immobilized form of nutrients in soils. Various strategies have been adopted by agronomists to cope these issues. In order to investigate the effect of an integrated strategy of application of biochar (Green waste), microbes (Pseudomonas, Agrobacterium, Azospirillum, Enterobacter) and herbicides on the growth and yield of wheat, an experiment was conducted at the farm area of the Islamia University of Bahawalpur, Pakistan during 2012-13. The experiment was laid out in randomized complete block design with split plot arrangements containing three replications. The main plots were with and without the application of herbicide, while subplots carried four treatments viz. microbial inoculation, biochar application, microbial inoculation in combination with biochar, and an untreated control. Maximum grain yield (5.04 t ha-1) and yield components were recorded in herbicide treated plants with the combined application of biochar and microbes, while minimum (2.14 t ha-1) was measured in untreated control where herbicide was not applied. Biological yield and leaf area showed that both biochar and microbes in combination with herbicide application were most effective than all other treatments. It is concluded that biochar and plant growth promoting rhizobacteria (PGPR) along with herbicides was considered to be a best combination that enhanced the productivity of wheat.\",\n          \"The objective of this study was to evaluate plant-available N pools and the role of N management index (NMI) in the surface (0-20 cm) of a fluvo-aquic soil after 18 years of fertilization treatments under a wheat-maize cropping system in the North China Plain. The experiment included seven treatments: (1) NPK, balanced application of chemical fertilizer NPK; (2) OM, application of organic manure; (3) 1/2OMN, application of half organic manure plus chemical fertilizer NPK; (4) NP, application of chemical fertilizer NP; (5) PK, application of chemical fertilizer PK; (6) NK, application of chemical fertilizer NK; and (7) CK, unfertilized control. Total organic N (TON), microbial biomass N (MBN), labile N (LN), inorganic N (ION, including ammonium (NH4+)-N and nitrate (NO3--N) contents, net ammonification rate (NAR), net nitrification rate (NNR), net N mineralization rate (NNMR), and NMI in the fertilized treatments were higher than in the unfertilized treatment. Application of chemical fertilizer N (NPK, NP, and NK) increased ION in soils, compared with application of organic N or control. Nitrate N prevailed over exchangeable NH4+-N in all treatments. Nitrogen storage of the OM- and 1/2OMN-treated soils increased by 50. 0% and 24. 3%, respectively, over the NPK-treated soil, which had 5. 4-22. 5% more N than NP-, PK-, and NK-treated soils. The MBN, LN, and ION accounted for 1. 7-2. 4%, 25. 7-34. 2%, and 1. 4-2. 9% of TON, respectively, in different fertilization treatments. The surface soils (0-20-cm layer) in all treatments mineralized 43. 6-152. 9 kg N ha-1 year-1 for crop growth. Microbial biomass N was probably the better predictor of N mineralization, as it was correlated significantly (P &lt; 0. 01) with NNMR. The OM and 1/2OMN treatments were not an optimal option for farmers when the crop yield and labor cost were taken into consideration but an optimal option for increasing soil N supply capacity and N sequestration in soil. The NPK treatment showed the highest crop yields and increased soil N fractions through crop residues and exudates input, and thus, it may be considered as a sustainable system in the North China Plain. \\u00a9 2011 Springer-Verlag.\",\n          \"Raman spectra of charcoal fragments in cumulative soils in central Japan, where grasslands have been sustained using intentional burning for ~\\u00a01000\\u00a0years, were obtained and compared to those of fresh charcoal fragments after modern grass burning to clarify their disappearance and alteration process in the soils. Although the values of each Raman-spectrum parameter of the soil charcoal and fresh charcoal fragments are partially similar, certain differences indicating their alteration or disappearance were observed. Charcoal fragments with lower graphitization in soils altered chemically with age at decadal to century scale, suggested by changes in distance between defects or defect type of their chemical structures. Charcoal fragments with higher graphitization were found in fresh charcoal samples, whereas very few charcoal fragments were found in both young and old soils, indicating that these charcoal fragments disappeared instantly after they were formed. This fact implies that charcoal fragments with higher graphitization tend to not remain in soils, possibly owing to their physical properties such as fragility, density, and hydrodynamic behavior. Our findings suggest that charcoal's physical properties have a vital influence on charcoal residues in soils, as do charcoal's chemical properties. \\u00a9 2016 The Authors\"\n        ],\n        \"semantic_type\": \"\",\n        \"description\": \"\"\n      }\n    },\n    {\n      \"column\": \"processed_porter_stemmer\",\n      \"properties\": {\n        \"dtype\": \"string\",\n        \"num_unique_values\": 16664,\n        \"samples\": [\n          \"assess biochar potenti cadmium cd contamin soil pot experi conduct sampl typic farmland soil shenyang area north china contamin cadmium due sewag irrig two maiz straw deriv biochar concentr kg hm test result show biochar prepar dri distil carbon technolog oxygen defici condit low temperatur c appropri structur featur physic chemic properti use biochar reduc avail cd ion contamin soil passiv inhibitori effect display variabl time depend respons biochar led soil ph chang rice growth increas follow decreas furthermor biochar significantli improv soil organ matter avail nutrient n p k inde cumul effect time observ importantli biochar significantli reduc cadmium content rice grain averag compar control ck treatment higher biochar concentr effect indic decreas bio avail cadmium result suggest maiz straw deriv biochar effect remedi materi cd contamin soil good applic potenti environ parlar scientif public right reserv\",\n          \"loss soil organ carbon soc agricultur soil key indic soil degrad associ reduct net primari product crop product system worldwid technic simpl local appropri solut requir farmer increas soc improv cropland manag last year straw incorpor si gradual implement across china context agricultur intensif rural livelihood improv meta analysi data publish end undertaken investig effect si crop product soc sequestr result experiment studi throughout china differ edaph condit climat region farm regim analyz compar straw remov sr si significantli sequest soc cm depth rate ci mg c ha yr increas crop grain yield convers effici incorpor straw c across china combin si rate mg c ha yr miner fertil kg nha yr demonstr best farm practic crop yield increas soc sequestr rate mg cha yr si achiev higher soc sequestr rate crop yield increment appli clay soil high crop intens area northeast china soil degrad soc respons highest initi start phase si subsequ declin final becam neglig year howev crop yield respons initi low increas reach highest level year si overal studi confirm si creat posit feedback loop soc enhanc togeth increas crop product great practic import straw manag agricultur intensifi china region differ climat condit author\",\n          \"miner fertil organ amend pesticid input commonli use convent farm practic aim studi evalu effect singl combin applic spent grape marc vermicompost urea diuron soil enzym activ persist herbicid soil low organ carbon content applic vermicompost enhanc dehydrogenas dhase enzym activ time alter soil ureas activ limit extent reduct diuron concentr increas dhase activ indic soil microorgan capabl degrad ureic herbicid treatment vermicompost diuron stimulatori effect soil microbi activ whole applic diuron urea vermicompost amend soil rais dhase ureas activ maximum level gt g intf g h gt g nh g h respect applic urea unamend vermicompost amend soil decreas diuron persist respect find show although vermicompost addit reduc diuron avail boost diuron degrad combin urea addit differ soil manag condit minim bioavail persist diuron consequ risk leach seepag aquif compar untreat soil type treat soil could also improv agricultur sustain qualiti environ elsevi b v right reserv\"\n        ],\n        \"semantic_type\": \"\",\n        \"description\": \"\"\n      }\n    },\n    {\n      \"column\": \"processed_lemmatized\",\n      \"properties\": {\n        \"dtype\": \"string\",\n        \"num_unique_values\": 16664,\n        \"samples\": [\n          \"assess biochar potential cadmium cd contaminate soil pot experiment conduct sample typical farmland soil shenyang area north china contaminate cadmium due sewage irrigation two maize straw derive biochar concentrations kg hm test result show biochar prepare dry distillation carbonization technology oxygen deficient condition low temperature c appropriate structural feature physical chemical property use biochar reduce available cd ion contaminated soil passivation inhibitory effect display variable time dependent response biochar lead soil ph change rice growth increase follow decrease furthermore biochar significantly improve soil organic matter available nutrients n p k indeed cumulative effect time observe importantly biochar significantly reduce cadmium content rice grain average compare control ck treatment high biochar concentration effective indicate decrease bio availability cadmium result suggest maize straw derive biochar effective remediation material cd contaminate soil good application potential environment parlar scientific publications right reserve\",\n          \"loss soil organic carbon soc agricultural soil key indicator soil degradation associate reduction net primary productivity crop production system worldwide technically simple locally appropriate solution require farmer increase soc improve cropland management last year straw incorporation si gradually implement across china context agricultural intensification rural livelihood improvement meta analysis datum publish end undertake investigate effect si crop production soc sequestration result experimental study throughout china different edaphic condition climate region farming regime analyze compare straw removal sr si significantly sequester soc cm depth rate ci mg c ha yr increase crop grain yield conversion efficiency incorporated straw c across china combined si rate mg c ha yr mineral fertilizer kg nha yr demonstrate good farming practice crop yield increase soc sequestrate rate mg cha yr si achieve high soc sequestration rate crop yield increment apply clay soil high cropping intensity area northeast china soil degrade soc response high initial starting phase si subsequently decline finally become negligible year however crop yield response initially low increase reach high level year si overall study confirm si create positive feedback loop soc enhancement together increase crop production great practical importance straw management agriculture intensifie china region different climate condition author\",\n          \"mineral fertilizer organic amendment pesticide input commonly use conventional farming practice aim study evaluate effect single combine application spend grape marc vermicompost urea diuron soil enzyme activity persistence herbicide soil low organic carbon content application vermicompost enhance dehydrogenase dhase enzyme activity time alter soil urease activity limited extent reduction diuron concentration increase dhase activity indicate soil microorganism capable degrade ureic herbicide treatment vermicompost diuron stimulatory effect soil microbial activity whole application diuron urea vermicompost amend soil raise dhase urease activity maximum level gt g intf g h gt g nh g h respectively application urea unamended vermicompost amend soil decrease diuron persistence respectively finding show although vermicompost addition reduce diuron availability boost diuron degradation combine urea addition different soil management condition minimize bioavailability persistence diuron consequently risk leaching seepage aquifer compare untreated soil type treat soil could also improve agricultural sustainability quality environment elsevi b v right reserve\"\n        ],\n        \"semantic_type\": \"\",\n        \"description\": \"\"\n      }\n    }\n  ]\n}"
            }
          },
          "metadata": {},
          "execution_count": 36
        }
      ],
      "source": [
        "selected = ['abstract','processed_porter_stemmer','processed_lemmatized' ]\n",
        "dataset_view = dataset[selected]\n",
        "\n",
        "dataset_view.head()"
      ]
    },
    {
      "cell_type": "markdown",
      "source": [
        "**Findings**\n",
        "\n",
        "The Porter Stemmer reduces the word to its root, however this root is not always a good representation of the meaning. For the purpose of the further analysis the lemmitized and processed text will be used."
      ],
      "metadata": {
        "id": "OyzDStyK7ghI"
      }
    }
  ]
}